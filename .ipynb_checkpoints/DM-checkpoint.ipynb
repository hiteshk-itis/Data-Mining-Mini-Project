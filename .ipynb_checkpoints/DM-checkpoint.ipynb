{
 "cells": [
  {
   "cell_type": "code",
   "execution_count": 1,
   "metadata": {
    "colab": {
     "base_uri": "https://localhost:8080/"
    },
    "executionInfo": {
     "elapsed": 43917,
     "status": "ok",
     "timestamp": 1702914312070,
     "user": {
      "displayName": "Hitesh Kayastha",
      "userId": "08602966089512209356"
     },
     "user_tz": -345
    },
    "id": "tqT2TmNAlwQ3",
    "outputId": "364fd7da-8b90-4772-ed94-bfc3a34cf38d"
   },
   "outputs": [
    {
     "name": "stdout",
     "output_type": "stream",
     "text": [
      "Mounted at /content/drive\n"
     ]
    }
   ],
   "source": [
    "from google.colab import drive\n",
    "drive.mount('/content/drive')"
   ]
  },
  {
   "cell_type": "markdown",
   "metadata": {
    "colab_type": "toc",
    "id": "eP0ld3Bal0Cd"
   },
   "source": [
    ">[Imports](#scrollTo=vIPHE_H8l5Gk)\n",
    "\n",
    ">>[Library Imports](#scrollTo=-rUIjRYRl1n7)\n",
    "\n",
    ">>[Data Imports](#scrollTo=c-z0XY5Bl9bY)\n",
    "\n",
    ">[Car Dataset](#scrollTo=UyaGfEzuhpXs)\n",
    "\n",
    ">>[Cars Data Extraction](#scrollTo=0yoTL_rBmtaP)\n",
    "\n",
    ">[Data Exploration of Cars](#scrollTo=-EtZIRaSmyCt)\n",
    "\n",
    ">[Preprocessing](#scrollTo=VnJQOWBAs_Tw)\n",
    "\n",
    ">>[Data Cleaning](#scrollTo=5tgWkKh1uPy6)\n",
    "\n",
    ">[Data Cleaning](#scrollTo=bFgPDoLhqJTs)\n",
    "\n",
    ">[Data Transformation](#scrollTo=dXKtF3GB41x4)\n",
    "\n",
    ">[Dataset Split](#scrollTo=Arv0qtXo59YG)\n",
    "\n",
    ">[Classification](#scrollTo=cNTI3PugRMQT)\n",
    "\n",
    ">>[Decision Tree](#scrollTo=CXwa1Uj08xVP)\n",
    "\n",
    ">>>[Using Information Gain as attribute selection measure](#scrollTo=aVpK6hdHCuEc)\n",
    "\n",
    ">>>>[Evaluation](#scrollTo=zy-y1ACfG96c)\n",
    "\n",
    ">>>[Using Gini Index as Attribute Selection Measure](#scrollTo=TE0LA5jPC07I)\n",
    "\n",
    ">>>>[Evaluation](#scrollTo=L6FjNz7GRUX6)\n",
    "\n",
    ">>[Naive Bayes](#scrollTo=87s1P66hDMMn)\n",
    "\n",
    ">>>[using k-fold cross validation](#scrollTo=NV2d62poFUAv)\n",
    "\n",
    ">>[ANN](#scrollTo=a5kaVwigIQ61)\n",
    "\n",
    ">>[Evaluation](#scrollTo=m9ZJ2M3jRnEa)\n",
    "\n"
   ]
  },
  {
   "cell_type": "markdown",
   "metadata": {
    "id": "vIPHE_H8l5Gk"
   },
   "source": [
    "# Imports"
   ]
  },
  {
   "cell_type": "markdown",
   "metadata": {
    "id": "-rUIjRYRl1n7"
   },
   "source": [
    "## Library Imports"
   ]
  },
  {
   "cell_type": "code",
   "execution_count": 1,
   "metadata": {
    "executionInfo": {
     "elapsed": 1708,
     "status": "ok",
     "timestamp": 1702914378469,
     "user": {
      "displayName": "Hitesh Kayastha",
      "userId": "08602966089512209356"
     },
     "user_tz": -345
    },
    "id": "6VqqmPCpgIXa"
   },
   "outputs": [],
   "source": [
    "import os\n",
    "from pathlib import Path\n",
    "# Preprocessing\n",
    "import numpy as np\n",
    "import pandas as pd\n",
    "\n",
    "# Data Viz\n",
    "import plotly.express as px\n",
    "import plotly.graph_objects as go"
   ]
  },
  {
   "cell_type": "markdown",
   "metadata": {
    "id": "c-z0XY5Bl9bY"
   },
   "source": [
    "## Data Imports"
   ]
  },
  {
   "cell_type": "code",
   "execution_count": 11,
   "metadata": {
    "executionInfo": {
     "elapsed": 7,
     "status": "ok",
     "timestamp": 1702914378470,
     "user": {
      "displayName": "Hitesh Kayastha",
      "userId": "08602966089512209356"
     },
     "user_tz": -345
    },
    "id": "jNiv2mSumFGr"
   },
   "outputs": [],
   "source": [
    "DM_PROJECT_FOLDER = Path().cwd() \n",
    "\n",
    "DATASET_FOLDER = DM_PROJECT_FOLDER / \"DATASETS\"\n",
    "CAR_EVAL = Path(\"car+evaluation/\")"
   ]
  },
  {
   "cell_type": "markdown",
   "metadata": {
    "id": "UyaGfEzuhpXs"
   },
   "source": [
    "# Car Dataset"
   ]
  },
  {
   "cell_type": "markdown",
   "metadata": {
    "id": "0yoTL_rBmtaP"
   },
   "source": [
    "## Cars Data Extraction"
   ]
  },
  {
   "cell_type": "markdown",
   "metadata": {
    "id": "i6f204SskviR"
   },
   "source": [
    "Attribute Values:\n",
    "\n",
    "\n",
    "\n",
    "   buying       v-high, high, med, low\n",
    "\n",
    "   maint        v-high, high, med, low\n",
    "\n",
    "   doors        2, 3, 4, 5-more\n",
    "\n",
    "   persons      2, 4, more\n",
    "\n",
    "   lug_boot     small, med, big\n",
    "\n",
    "   safety       low, med, high"
   ]
  },
  {
   "cell_type": "code",
   "execution_count": 41,
   "metadata": {
    "colab": {
     "base_uri": "https://localhost:8080/"
    },
    "executionInfo": {
     "elapsed": 1254,
     "status": "ok",
     "timestamp": 1702914379718,
     "user": {
      "displayName": "Hitesh Kayastha",
      "userId": "08602966089512209356"
     },
     "user_tz": -345
    },
    "id": "Clsx9PSmhsbR",
    "outputId": "9748612a-c5ad-4bd5-fc25-b93f24171046"
   },
   "outputs": [
    {
     "name": "stdout",
     "output_type": "stream",
     "text": [
      "vhigh,vhigh,2,2,small,low,unacc\n",
      "\n",
      "vhigh,vhigh,2,2,small,med,unacc\n",
      "\n",
      "vhigh,vhigh,2,2,small,high,unacc\n",
      "\n",
      "vhigh,vhigh,2,2,med,low,unacc\n",
      "\n",
      "vhigh,vhigh,2,2,med,med,unacc\n",
      "\n",
      "vhigh,vhigh,2,2,med,high,unacc\n",
      "\n",
      "vhigh,vhigh,2,2,big,low,unacc\n",
      "\n",
      "vhigh,vhigh,2,2,big,med,unacc\n",
      "\n",
      "vhigh,vhigh,2,2,big,high,unacc\n",
      "\n",
      "vhigh,vhigh,2,4,small,low,unacc\n",
      "\n",
      "vhigh,vhigh,2,4,small,med,unacc\n",
      "\n",
      "vhigh,vhigh,2,4,small,high,unacc\n",
      "\n",
      "vhigh,vhigh,2,4,med,low,unacc\n",
      "\n",
      "vhigh,vhigh,2,4,med,med,unacc\n",
      "\n",
      "vhigh,vhigh,2,4,med,high,unacc\n",
      "\n",
      "vhigh,vhigh,2,4,big,low,unacc\n",
      "\n",
      "vhigh,vhigh,2,4,big,med,unacc\n",
      "\n",
      "vhigh,vhigh,2,4,big,high,unacc\n",
      "\n",
      "vhigh,vhigh,2,more,small,low,unacc\n",
      "\n",
      "vhigh,vhigh,2,more,small,med,unacc\n",
      "\n",
      "vhigh,vhigh,2,more,small,high,unacc\n",
      "\n",
      "vhigh,vhigh,2,more,med,low,unacc\n",
      "\n",
      "vhigh,vhigh,2,more,med,med,unacc\n",
      "\n",
      "vhigh,vhigh,2,more,med,high,unacc\n",
      "\n",
      "vhigh,vhigh,2,more,big,low,unacc\n",
      "\n",
      "vhigh,vhigh,2,more,big,med,unacc\n",
      "\n",
      "vhigh,vhigh,2,more,big,high,unacc\n",
      "\n",
      "vhigh,vhigh,3,2,small,low,unacc\n",
      "\n",
      "vhigh,vhigh,3,2,small,med,unacc\n",
      "\n",
      "vhigh,vhigh,3,2,small,high,unacc\n",
      "\n",
      "vhigh,vhigh,3,2,med,low,unacc\n",
      "\n",
      "vhigh,vhigh,3,2,med,med,unacc\n",
      "\n",
      "vhigh,vhigh,3,2,med,high,unacc\n",
      "\n",
      "vhigh,vhigh,3,2,big,low,unacc\n",
      "\n",
      "vhigh,vhigh,3,2,big,med,unacc\n",
      "\n",
      "vhigh,vhigh,3,2,big,high,unacc\n",
      "\n",
      "vhigh,vhigh,3,4,small,low,unacc\n",
      "\n",
      "vhigh,vhigh,3,4,small,med,unacc\n",
      "\n",
      "vhigh,vhigh,3,4,small,high,unacc\n",
      "\n",
      "vhigh,vhigh,3,4,med,low,unacc\n",
      "\n",
      "vhigh,vhigh,3,4,med,med,unacc\n",
      "\n",
      "vhigh,vhigh,3,4,med,high,unacc\n",
      "\n",
      "vhigh,vhigh,3,4,big,low,unacc\n",
      "\n",
      "vhigh,vhigh,3,4,big,med,unacc\n",
      "\n",
      "vhigh,vhigh,3,4,big,high,unacc\n",
      "\n",
      "vhigh,vhigh,3,more,small,low,unacc\n",
      "\n",
      "vhigh,vhigh,3,more,small,med,unacc\n",
      "\n",
      "vhigh,vhigh,3,more,small,high,unacc\n",
      "\n",
      "vhigh,vhigh,3,more,med,low,unacc\n",
      "\n",
      "vhigh,vhigh,3,more,med,med,unacc\n",
      "\n",
      "vhigh,vhigh,3,more,med,high,unacc\n",
      "\n",
      "vhigh,vhigh,3,more,big,low,unacc\n",
      "\n",
      "vhigh,vhigh,3,more,big,med,unacc\n",
      "\n",
      "vhigh,vhigh,3,more,big,high,unacc\n",
      "\n",
      "vhigh,vhigh,4,2,small,low,unacc\n",
      "\n",
      "vhigh,vhigh,4,2,small,med,unacc\n",
      "\n",
      "vhigh,vhigh,4,2,small,high,unacc\n",
      "\n",
      "vhigh,vhigh,4,2,med,low,unacc\n",
      "\n",
      "vhigh,vhigh,4,2,med,med,unacc\n",
      "\n",
      "vhigh,vhigh,4,2,med,high,unacc\n",
      "\n",
      "vhigh,vhigh,4,2,big,low,unacc\n",
      "\n",
      "vhigh,vhigh,4,2,big,med,unacc\n",
      "\n",
      "vhigh,vhigh,4,2,big,high,unacc\n",
      "\n",
      "vhigh,vhigh,4,4,small,low,unacc\n",
      "\n",
      "vhigh,vhigh,4,4,small,med,unacc\n",
      "\n",
      "vhigh,vhigh,4,4,small,high,unacc\n",
      "\n",
      "vhigh,vhigh,4,4,med,low,unacc\n",
      "\n",
      "vhigh,vhigh,4,4,med,med,unacc\n",
      "\n",
      "vhigh,vhigh,4,4,med,high,unacc\n",
      "\n",
      "vhigh,vhigh,4,4,big,low,unacc\n",
      "\n",
      "vhigh,vhigh,4,4,big,med,unacc\n",
      "\n",
      "vhigh,vhigh,4,4,big,high,unacc\n",
      "\n",
      "vhigh,vhigh,4,more,small,low,unacc\n",
      "\n",
      "vhigh,vhigh,4,more,small,med,unacc\n",
      "\n",
      "vhigh,vhigh,4,more,small,high,unacc\n",
      "\n",
      "vhigh,vhigh,4,more,med,low,unacc\n",
      "\n",
      "vhigh,vhigh,4,more,med,med,unacc\n",
      "\n",
      "vhigh,vhigh,4,more,med,high,unacc\n",
      "\n",
      "vhigh,vhigh,4,more,big,low,unacc\n",
      "\n",
      "vhigh,vhigh,4,more,big,med,unacc\n",
      "\n",
      "vhigh,vhigh,4,more,big,high,unacc\n",
      "\n",
      "vhigh,vhigh,5more,2,small,low,unacc\n",
      "\n",
      "vhigh,vhigh,5more,2,small,med,unacc\n",
      "\n",
      "vhigh,vhigh,5more,2,small,high,unacc\n",
      "\n",
      "vhigh,vhigh,5more,2,med,low,unacc\n",
      "\n",
      "vhigh,vhigh,5more,2,med,med,unacc\n",
      "\n",
      "vhigh,vhigh,5more,2,med,high,unacc\n",
      "\n",
      "vhigh,vhigh,5more,2,big,low,unacc\n",
      "\n",
      "vhigh,vhigh,5more,2,big,med,unacc\n",
      "\n",
      "vhigh,vhigh,5more,2,big,high,unacc\n",
      "\n",
      "vhigh,vhigh,5more,4,small,low,unacc\n",
      "\n",
      "vhigh,vhigh,5more,4,small,med,unacc\n",
      "\n",
      "vhigh,vhigh,5more,4,small,high,unacc\n",
      "\n",
      "vhigh,vhigh,5more,4,med,low,unacc\n",
      "\n",
      "vhigh,vhigh,5more,4,med,med,unacc\n",
      "\n",
      "vhigh,vhigh,5more,4,med,high,unacc\n",
      "\n",
      "vhigh,vhigh,5more,4,big,low,unacc\n",
      "\n",
      "vhigh,vhigh,5more,4,big,med,unacc\n",
      "\n",
      "vhigh,vhigh,5more,4,big,high,unacc\n",
      "\n",
      "vhigh,vhigh,5more,more,small,low,unacc\n",
      "\n",
      "vhigh,vhigh,5more,more,small,med,unacc\n",
      "\n",
      "vhigh,vhigh,5more,more,small,high,unacc\n",
      "\n",
      "vhigh,vhigh,5more,more,med,low,unacc\n",
      "\n",
      "vhigh,vhigh,5more,more,med,med,unacc\n",
      "\n",
      "vhigh,vhigh,5more,more,med,high,unacc\n",
      "\n",
      "vhigh,vhigh,5more,more,big,low,unacc\n",
      "\n",
      "vhigh,vhigh,5more,more,big,med,unacc\n",
      "\n",
      "vhigh,vhigh,5more,more,big,high,unacc\n",
      "\n",
      "vhigh,high,2,2,small,low,unacc\n",
      "\n",
      "vhigh,high,2,2,small,med,unacc\n",
      "\n",
      "vhigh,high,2,2,small,high,unacc\n",
      "\n",
      "vhigh,high,2,2,med,low,unacc\n",
      "\n",
      "vhigh,high,2,2,med,med,unacc\n",
      "\n",
      "vhigh,high,2,2,med,high,unacc\n",
      "\n",
      "vhigh,high,2,2,big,low,unacc\n",
      "\n",
      "vhigh,high,2,2,big,med,unacc\n",
      "\n",
      "vhigh,high,2,2,big,high,unacc\n",
      "\n",
      "vhigh,high,2,4,small,low,unacc\n",
      "\n",
      "vhigh,high,2,4,small,med,unacc\n",
      "\n",
      "vhigh,high,2,4,small,high,unacc\n",
      "\n",
      "vhigh,high,2,4,med,low,unacc\n",
      "\n",
      "vhigh,high,2,4,med,med,unacc\n",
      "\n",
      "vhigh,high,2,4,med,high,unacc\n",
      "\n",
      "vhigh,high,2,4,big,low,unacc\n",
      "\n",
      "vhigh,high,2,4,big,med,unacc\n",
      "\n",
      "vhigh,high,2,4,big,high,unacc\n",
      "\n",
      "vhigh,high,2,more,small,low,unacc\n",
      "\n",
      "vhigh,high,2,more,small,med,unacc\n",
      "\n",
      "vhigh,high,2,more,small,high,unacc\n",
      "\n",
      "vhigh,high,2,more,med,low,unacc\n",
      "\n",
      "vhigh,high,2,more,med,med,unacc\n",
      "\n",
      "vhigh,high,2,more,med,high,unacc\n",
      "\n",
      "vhigh,high,2,more,big,low,unacc\n",
      "\n",
      "vhigh,high,2,more,big,med,unacc\n",
      "\n",
      "vhigh,high,2,more,big,high,unacc\n",
      "\n",
      "vhigh,high,3,2,small,low,unacc\n",
      "\n",
      "vhigh,high,3,2,small,med,unacc\n",
      "\n",
      "vhigh,high,3,2,small,high,unacc\n",
      "\n",
      "vhigh,high,3,2,med,low,unacc\n",
      "\n",
      "vhigh,high,3,2,med,med,unacc\n",
      "\n",
      "vhigh,high,3,2,med,high,unacc\n",
      "\n",
      "vhigh,high,3,2,big,low,unacc\n",
      "\n",
      "vhigh,high,3,2,big,med,unacc\n",
      "\n",
      "vhigh,high,3,2,big,high,unacc\n",
      "\n",
      "vhigh,high,3,4,small,low,unacc\n",
      "\n",
      "vhigh,high,3,4,small,med,unacc\n",
      "\n",
      "vhigh,high,3,4,small,high,unacc\n",
      "\n",
      "vhigh,high,3,4,med,low,unacc\n",
      "\n",
      "vhigh,high,3,4,med,med,unacc\n",
      "\n",
      "vhigh,high,3,4,med,high,unacc\n",
      "\n",
      "vhigh,high,3,4,big,low,unacc\n",
      "\n",
      "vhigh,high,3,4,big,med,unacc\n",
      "\n",
      "vhigh,high,3,4,big,high,unacc\n",
      "\n",
      "vhigh,high,3,more,small,low,unacc\n",
      "\n",
      "vhigh,high,3,more,small,med,unacc\n",
      "\n",
      "vhigh,high,3,more,small,high,unacc\n",
      "\n",
      "vhigh,high,3,more,med,low,unacc\n",
      "\n",
      "vhigh,high,3,more,med,med,unacc\n",
      "\n",
      "vhigh,high,3,more,med,high,unacc\n",
      "\n",
      "vhigh,high,3,more,big,low,unacc\n",
      "\n",
      "vhigh,high,3,more,big,med,unacc\n",
      "\n",
      "vhigh,high,3,more,big,high,unacc\n",
      "\n",
      "vhigh,high,4,2,small,low,unacc\n",
      "\n",
      "vhigh,high,4,2,small,med,unacc\n",
      "\n",
      "vhigh,high,4,2,small,high,unacc\n",
      "\n",
      "vhigh,high,4,2,med,low,unacc\n",
      "\n",
      "vhigh,high,4,2,med,med,unacc\n",
      "\n",
      "vhigh,high,4,2,med,high,unacc\n",
      "\n",
      "vhigh,high,4,2,big,low,unacc\n",
      "\n",
      "vhigh,high,4,2,big,med,unacc\n",
      "\n",
      "vhigh,high,4,2,big,high,unacc\n",
      "\n",
      "vhigh,high,4,4,small,low,unacc\n",
      "\n",
      "vhigh,high,4,4,small,med,unacc\n",
      "\n",
      "vhigh,high,4,4,small,high,unacc\n",
      "\n",
      "vhigh,high,4,4,med,low,unacc\n",
      "\n",
      "vhigh,high,4,4,med,med,unacc\n",
      "\n",
      "vhigh,high,4,4,med,high,unacc\n",
      "\n",
      "vhigh,high,4,4,big,low,unacc\n",
      "\n",
      "vhigh,high,4,4,big,med,unacc\n",
      "\n",
      "vhigh,high,4,4,big,high,unacc\n",
      "\n",
      "vhigh,high,4,more,small,low,unacc\n",
      "\n",
      "vhigh,high,4,more,small,med,unacc\n",
      "\n",
      "vhigh,high,4,more,small,high,unacc\n",
      "\n",
      "vhigh,high,4,more,med,low,unacc\n",
      "\n",
      "vhigh,high,4,more,med,med,unacc\n",
      "\n",
      "vhigh,high,4,more,med,high,unacc\n",
      "\n",
      "vhigh,high,4,more,big,low,unacc\n",
      "\n",
      "vhigh,high,4,more,big,med,unacc\n",
      "\n",
      "vhigh,high,4,more,big,high,unacc\n",
      "\n",
      "vhigh,high,5more,2,small,low,unacc\n",
      "\n",
      "vhigh,high,5more,2,small,med,unacc\n",
      "\n",
      "vhigh,high,5more,2,small,high,unacc\n",
      "\n",
      "vhigh,high,5more,2,med,low,unacc\n",
      "\n",
      "vhigh,high,5more,2,med,med,unacc\n",
      "\n",
      "vhigh,high,5more,2,med,high,unacc\n",
      "\n",
      "vhigh,high,5more,2,big,low,unacc\n",
      "\n",
      "vhigh,high,5more,2,big,med,unacc\n",
      "\n",
      "vhigh,high,5more,2,big,high,unacc\n",
      "\n",
      "vhigh,high,5more,4,small,low,unacc\n",
      "\n",
      "vhigh,high,5more,4,small,med,unacc\n",
      "\n",
      "vhigh,high,5more,4,small,high,unacc\n",
      "\n",
      "vhigh,high,5more,4,med,low,unacc\n",
      "\n",
      "vhigh,high,5more,4,med,med,unacc\n",
      "\n",
      "vhigh,high,5more,4,med,high,unacc\n",
      "\n",
      "vhigh,high,5more,4,big,low,unacc\n",
      "\n",
      "vhigh,high,5more,4,big,med,unacc\n",
      "\n",
      "vhigh,high,5more,4,big,high,unacc\n",
      "\n",
      "vhigh,high,5more,more,small,low,unacc\n",
      "\n",
      "vhigh,high,5more,more,small,med,unacc\n",
      "\n",
      "vhigh,high,5more,more,small,high,unacc\n",
      "\n",
      "vhigh,high,5more,more,med,low,unacc\n",
      "\n",
      "vhigh,high,5more,more,med,med,unacc\n",
      "\n",
      "vhigh,high,5more,more,med,high,unacc\n",
      "\n",
      "vhigh,high,5more,more,big,low,unacc\n",
      "\n",
      "vhigh,high,5more,more,big,med,unacc\n",
      "\n",
      "vhigh,high,5more,more,big,high,unacc\n",
      "\n",
      "vhigh,med,2,2,small,low,unacc\n",
      "\n",
      "vhigh,med,2,2,small,med,unacc\n",
      "\n",
      "vhigh,med,2,2,small,high,unacc\n",
      "\n",
      "vhigh,med,2,2,med,low,unacc\n",
      "\n",
      "vhigh,med,2,2,med,med,unacc\n",
      "\n",
      "vhigh,med,2,2,med,high,unacc\n",
      "\n",
      "vhigh,med,2,2,big,low,unacc\n",
      "\n",
      "vhigh,med,2,2,big,med,unacc\n",
      "\n",
      "vhigh,med,2,2,big,high,unacc\n",
      "\n",
      "vhigh,med,2,4,small,low,unacc\n",
      "\n",
      "vhigh,med,2,4,small,med,unacc\n",
      "\n",
      "vhigh,med,2,4,small,high,acc\n",
      "\n",
      "vhigh,med,2,4,med,low,unacc\n",
      "\n",
      "vhigh,med,2,4,med,med,unacc\n",
      "\n",
      "vhigh,med,2,4,med,high,acc\n",
      "\n",
      "vhigh,med,2,4,big,low,unacc\n",
      "\n",
      "vhigh,med,2,4,big,med,acc\n",
      "\n",
      "vhigh,med,2,4,big,high,acc\n",
      "\n",
      "vhigh,med,2,more,small,low,unacc\n",
      "\n",
      "vhigh,med,2,more,small,med,unacc\n",
      "\n",
      "vhigh,med,2,more,small,high,unacc\n",
      "\n",
      "vhigh,med,2,more,med,low,unacc\n",
      "\n",
      "vhigh,med,2,more,med,med,unacc\n",
      "\n",
      "vhigh,med,2,more,med,high,acc\n",
      "\n",
      "vhigh,med,2,more,big,low,unacc\n",
      "\n",
      "vhigh,med,2,more,big,med,acc\n",
      "\n",
      "vhigh,med,2,more,big,high,acc\n",
      "\n",
      "vhigh,med,3,2,small,low,unacc\n",
      "\n",
      "vhigh,med,3,2,small,med,unacc\n",
      "\n",
      "vhigh,med,3,2,small,high,unacc\n",
      "\n",
      "vhigh,med,3,2,med,low,unacc\n",
      "\n",
      "vhigh,med,3,2,med,med,unacc\n",
      "\n",
      "vhigh,med,3,2,med,high,unacc\n",
      "\n",
      "vhigh,med,3,2,big,low,unacc\n",
      "\n",
      "vhigh,med,3,2,big,med,unacc\n",
      "\n",
      "vhigh,med,3,2,big,high,unacc\n",
      "\n",
      "vhigh,med,3,4,small,low,unacc\n",
      "\n",
      "vhigh,med,3,4,small,med,unacc\n",
      "\n",
      "vhigh,med,3,4,small,high,acc\n",
      "\n",
      "vhigh,med,3,4,med,low,unacc\n",
      "\n",
      "vhigh,med,3,4,med,med,unacc\n",
      "\n",
      "vhigh,med,3,4,med,high,acc\n",
      "\n",
      "vhigh,med,3,4,big,low,unacc\n",
      "\n",
      "vhigh,med,3,4,big,med,acc\n",
      "\n",
      "vhigh,med,3,4,big,high,acc\n",
      "\n",
      "vhigh,med,3,more,small,low,unacc\n",
      "\n",
      "vhigh,med,3,more,small,med,unacc\n",
      "\n",
      "vhigh,med,3,more,small,high,acc\n",
      "\n",
      "vhigh,med,3,more,med,low,unacc\n",
      "\n",
      "vhigh,med,3,more,med,med,acc\n",
      "\n",
      "vhigh,med,3,more,med,high,acc\n",
      "\n",
      "vhigh,med,3,more,big,low,unacc\n",
      "\n",
      "vhigh,med,3,more,big,med,acc\n",
      "\n",
      "vhigh,med,3,more,big,high,acc\n",
      "\n",
      "vhigh,med,4,2,small,low,unacc\n",
      "\n",
      "vhigh,med,4,2,small,med,unacc\n",
      "\n",
      "vhigh,med,4,2,small,high,unacc\n",
      "\n",
      "vhigh,med,4,2,med,low,unacc\n",
      "\n",
      "vhigh,med,4,2,med,med,unacc\n",
      "\n",
      "vhigh,med,4,2,med,high,unacc\n",
      "\n",
      "vhigh,med,4,2,big,low,unacc\n",
      "\n",
      "vhigh,med,4,2,big,med,unacc\n",
      "\n",
      "vhigh,med,4,2,big,high,unacc\n",
      "\n",
      "vhigh,med,4,4,small,low,unacc\n",
      "\n",
      "vhigh,med,4,4,small,med,unacc\n",
      "\n",
      "vhigh,med,4,4,small,high,acc\n",
      "\n",
      "vhigh,med,4,4,med,low,unacc\n",
      "\n",
      "vhigh,med,4,4,med,med,acc\n",
      "\n",
      "vhigh,med,4,4,med,high,acc\n",
      "\n",
      "vhigh,med,4,4,big,low,unacc\n",
      "\n",
      "vhigh,med,4,4,big,med,acc\n",
      "\n",
      "vhigh,med,4,4,big,high,acc\n",
      "\n",
      "vhigh,med,4,more,small,low,unacc\n",
      "\n",
      "vhigh,med,4,more,small,med,unacc\n",
      "\n",
      "vhigh,med,4,more,small,high,acc\n",
      "\n",
      "vhigh,med,4,more,med,low,unacc\n",
      "\n",
      "vhigh,med,4,more,med,med,acc\n",
      "\n",
      "vhigh,med,4,more,med,high,acc\n",
      "\n",
      "vhigh,med,4,more,big,low,unacc\n",
      "\n",
      "vhigh,med,4,more,big,med,acc\n",
      "\n",
      "vhigh,med,4,more,big,high,acc\n",
      "\n",
      "vhigh,med,5more,2,small,low,unacc\n",
      "\n",
      "vhigh,med,5more,2,small,med,unacc\n",
      "\n",
      "vhigh,med,5more,2,small,high,unacc\n",
      "\n",
      "vhigh,med,5more,2,med,low,unacc\n",
      "\n",
      "vhigh,med,5more,2,med,med,unacc\n",
      "\n",
      "vhigh,med,5more,2,med,high,unacc\n",
      "\n",
      "vhigh,med,5more,2,big,low,unacc\n",
      "\n",
      "vhigh,med,5more,2,big,med,unacc\n",
      "\n",
      "vhigh,med,5more,2,big,high,unacc\n",
      "\n",
      "vhigh,med,5more,4,small,low,unacc\n",
      "\n",
      "vhigh,med,5more,4,small,med,unacc\n",
      "\n",
      "vhigh,med,5more,4,small,high,acc\n",
      "\n",
      "vhigh,med,5more,4,med,low,unacc\n",
      "\n",
      "vhigh,med,5more,4,med,med,acc\n",
      "\n",
      "vhigh,med,5more,4,med,high,acc\n",
      "\n",
      "vhigh,med,5more,4,big,low,unacc\n",
      "\n",
      "vhigh,med,5more,4,big,med,acc\n",
      "\n",
      "vhigh,med,5more,4,big,high,acc\n",
      "\n",
      "vhigh,med,5more,more,small,low,unacc\n",
      "\n",
      "vhigh,med,5more,more,small,med,unacc\n",
      "\n",
      "vhigh,med,5more,more,small,high,acc\n",
      "\n",
      "vhigh,med,5more,more,med,low,unacc\n",
      "\n",
      "vhigh,med,5more,more,med,med,acc\n",
      "\n",
      "vhigh,med,5more,more,med,high,acc\n",
      "\n",
      "vhigh,med,5more,more,big,low,unacc\n",
      "\n",
      "vhigh,med,5more,more,big,med,acc\n",
      "\n",
      "vhigh,med,5more,more,big,high,acc\n",
      "\n",
      "vhigh,low,2,2,small,low,unacc\n",
      "\n",
      "vhigh,low,2,2,small,med,unacc\n",
      "\n",
      "vhigh,low,2,2,small,high,unacc\n",
      "\n",
      "vhigh,low,2,2,med,low,unacc\n",
      "\n",
      "vhigh,low,2,2,med,med,unacc\n",
      "\n",
      "vhigh,low,2,2,med,high,unacc\n",
      "\n",
      "vhigh,low,2,2,big,low,unacc\n",
      "\n",
      "vhigh,low,2,2,big,med,unacc\n",
      "\n",
      "vhigh,low,2,2,big,high,unacc\n",
      "\n",
      "vhigh,low,2,4,small,low,unacc\n",
      "\n",
      "vhigh,low,2,4,small,med,unacc\n",
      "\n",
      "vhigh,low,2,4,small,high,acc\n",
      "\n",
      "vhigh,low,2,4,med,low,unacc\n",
      "\n",
      "vhigh,low,2,4,med,med,unacc\n",
      "\n",
      "vhigh,low,2,4,med,high,acc\n",
      "\n",
      "vhigh,low,2,4,big,low,unacc\n",
      "\n",
      "vhigh,low,2,4,big,med,acc\n",
      "\n",
      "vhigh,low,2,4,big,high,acc\n",
      "\n",
      "vhigh,low,2,more,small,low,unacc\n",
      "\n",
      "vhigh,low,2,more,small,med,unacc\n",
      "\n",
      "vhigh,low,2,more,small,high,unacc\n",
      "\n",
      "vhigh,low,2,more,med,low,unacc\n",
      "\n",
      "vhigh,low,2,more,med,med,unacc\n",
      "\n",
      "vhigh,low,2,more,med,high,acc\n",
      "\n",
      "vhigh,low,2,more,big,low,unacc\n",
      "\n",
      "vhigh,low,2,more,big,med,acc\n",
      "\n",
      "vhigh,low,2,more,big,high,acc\n",
      "\n",
      "vhigh,low,3,2,small,low,unacc\n",
      "\n",
      "vhigh,low,3,2,small,med,unacc\n",
      "\n",
      "vhigh,low,3,2,small,high,unacc\n",
      "\n",
      "vhigh,low,3,2,med,low,unacc\n",
      "\n",
      "vhigh,low,3,2,med,med,unacc\n",
      "\n",
      "vhigh,low,3,2,med,high,unacc\n",
      "\n",
      "vhigh,low,3,2,big,low,unacc\n",
      "\n",
      "vhigh,low,3,2,big,med,unacc\n",
      "\n",
      "vhigh,low,3,2,big,high,unacc\n",
      "\n",
      "vhigh,low,3,4,small,low,unacc\n",
      "\n",
      "vhigh,low,3,4,small,med,unacc\n",
      "\n",
      "vhigh,low,3,4,small,high,acc\n",
      "\n",
      "vhigh,low,3,4,med,low,unacc\n",
      "\n",
      "vhigh,low,3,4,med,med,unacc\n",
      "\n",
      "vhigh,low,3,4,med,high,acc\n",
      "\n",
      "vhigh,low,3,4,big,low,unacc\n",
      "\n",
      "vhigh,low,3,4,big,med,acc\n",
      "\n",
      "vhigh,low,3,4,big,high,acc\n",
      "\n",
      "vhigh,low,3,more,small,low,unacc\n",
      "\n",
      "vhigh,low,3,more,small,med,unacc\n",
      "\n",
      "vhigh,low,3,more,small,high,acc\n",
      "\n",
      "vhigh,low,3,more,med,low,unacc\n",
      "\n",
      "vhigh,low,3,more,med,med,acc\n",
      "\n",
      "vhigh,low,3,more,med,high,acc\n",
      "\n",
      "vhigh,low,3,more,big,low,unacc\n",
      "\n",
      "vhigh,low,3,more,big,med,acc\n",
      "\n",
      "vhigh,low,3,more,big,high,acc\n",
      "\n",
      "vhigh,low,4,2,small,low,unacc\n",
      "\n",
      "vhigh,low,4,2,small,med,unacc\n",
      "\n",
      "vhigh,low,4,2,small,high,unacc\n",
      "\n",
      "vhigh,low,4,2,med,low,unacc\n",
      "\n",
      "vhigh,low,4,2,med,med,unacc\n",
      "\n",
      "vhigh,low,4,2,med,high,unacc\n",
      "\n",
      "vhigh,low,4,2,big,low,unacc\n",
      "\n",
      "vhigh,low,4,2,big,med,unacc\n",
      "\n",
      "vhigh,low,4,2,big,high,unacc\n",
      "\n",
      "vhigh,low,4,4,small,low,unacc\n",
      "\n",
      "vhigh,low,4,4,small,med,unacc\n",
      "\n",
      "vhigh,low,4,4,small,high,acc\n",
      "\n",
      "vhigh,low,4,4,med,low,unacc\n",
      "\n",
      "vhigh,low,4,4,med,med,acc\n",
      "\n",
      "vhigh,low,4,4,med,high,acc\n",
      "\n",
      "vhigh,low,4,4,big,low,unacc\n",
      "\n",
      "vhigh,low,4,4,big,med,acc\n",
      "\n",
      "vhigh,low,4,4,big,high,acc\n",
      "\n",
      "vhigh,low,4,more,small,low,unacc\n",
      "\n",
      "vhigh,low,4,more,small,med,unacc\n",
      "\n",
      "vhigh,low,4,more,small,high,acc\n",
      "\n",
      "vhigh,low,4,more,med,low,unacc\n",
      "\n",
      "vhigh,low,4,more,med,med,acc\n",
      "\n",
      "vhigh,low,4,more,med,high,acc\n",
      "\n",
      "vhigh,low,4,more,big,low,unacc\n",
      "\n",
      "vhigh,low,4,more,big,med,acc\n",
      "\n",
      "vhigh,low,4,more,big,high,acc\n",
      "\n",
      "vhigh,low,5more,2,small,low,unacc\n",
      "\n",
      "vhigh,low,5more,2,small,med,unacc\n",
      "\n",
      "vhigh,low,5more,2,small,high,unacc\n",
      "\n",
      "vhigh,low,5more,2,med,low,unacc\n",
      "\n",
      "vhigh,low,5more,2,med,med,unacc\n",
      "\n",
      "vhigh,low,5more,2,med,high,unacc\n",
      "\n",
      "vhigh,low,5more,2,big,low,unacc\n",
      "\n",
      "vhigh,low,5more,2,big,med,unacc\n",
      "\n",
      "vhigh,low,5more,2,big,high,unacc\n",
      "\n",
      "vhigh,low,5more,4,small,low,unacc\n",
      "\n",
      "vhigh,low,5more,4,small,med,unacc\n",
      "\n",
      "vhigh,low,5more,4,small,high,acc\n",
      "\n",
      "vhigh,low,5more,4,med,low,unacc\n",
      "\n",
      "vhigh,low,5more,4,med,med,acc\n",
      "\n",
      "vhigh,low,5more,4,med,high,acc\n",
      "\n",
      "vhigh,low,5more,4,big,low,unacc\n",
      "\n",
      "vhigh,low,5more,4,big,med,acc\n",
      "\n",
      "vhigh,low,5more,4,big,high,acc\n",
      "\n",
      "vhigh,low,5more,more,small,low,unacc\n",
      "\n",
      "vhigh,low,5more,more,small,med,unacc\n",
      "\n",
      "vhigh,low,5more,more,small,high,acc\n",
      "\n",
      "vhigh,low,5more,more,med,low,unacc\n",
      "\n",
      "vhigh,low,5more,more,med,med,acc\n",
      "\n",
      "vhigh,low,5more,more,med,high,acc\n",
      "\n",
      "vhigh,low,5more,more,big,low,unacc\n",
      "\n",
      "vhigh,low,5more,more,big,med,acc\n",
      "\n",
      "vhigh,low,5more,more,big,high,acc\n",
      "\n",
      "high,vhigh,2,2,small,low,unacc\n",
      "\n",
      "high,vhigh,2,2,small,med,unacc\n",
      "\n",
      "high,vhigh,2,2,small,high,unacc\n",
      "\n",
      "high,vhigh,2,2,med,low,unacc\n",
      "\n",
      "high,vhigh,2,2,med,med,unacc\n",
      "\n",
      "high,vhigh,2,2,med,high,unacc\n",
      "\n",
      "high,vhigh,2,2,big,low,unacc\n",
      "\n",
      "high,vhigh,2,2,big,med,unacc\n",
      "\n",
      "high,vhigh,2,2,big,high,unacc\n",
      "\n",
      "high,vhigh,2,4,small,low,unacc\n",
      "\n",
      "high,vhigh,2,4,small,med,unacc\n",
      "\n",
      "high,vhigh,2,4,small,high,unacc\n",
      "\n",
      "high,vhigh,2,4,med,low,unacc\n",
      "\n",
      "high,vhigh,2,4,med,med,unacc\n",
      "\n",
      "high,vhigh,2,4,med,high,unacc\n",
      "\n",
      "high,vhigh,2,4,big,low,unacc\n",
      "\n",
      "high,vhigh,2,4,big,med,unacc\n",
      "\n",
      "high,vhigh,2,4,big,high,unacc\n",
      "\n",
      "high,vhigh,2,more,small,low,unacc\n",
      "\n",
      "high,vhigh,2,more,small,med,unacc\n",
      "\n",
      "high,vhigh,2,more,small,high,unacc\n",
      "\n",
      "high,vhigh,2,more,med,low,unacc\n",
      "\n",
      "high,vhigh,2,more,med,med,unacc\n",
      "\n",
      "high,vhigh,2,more,med,high,unacc\n",
      "\n",
      "high,vhigh,2,more,big,low,unacc\n",
      "\n",
      "high,vhigh,2,more,big,med,unacc\n",
      "\n",
      "high,vhigh,2,more,big,high,unacc\n",
      "\n",
      "high,vhigh,3,2,small,low,unacc\n",
      "\n",
      "high,vhigh,3,2,small,med,unacc\n",
      "\n",
      "high,vhigh,3,2,small,high,unacc\n",
      "\n",
      "high,vhigh,3,2,med,low,unacc\n",
      "\n",
      "high,vhigh,3,2,med,med,unacc\n",
      "\n",
      "high,vhigh,3,2,med,high,unacc\n",
      "\n",
      "high,vhigh,3,2,big,low,unacc\n",
      "\n",
      "high,vhigh,3,2,big,med,unacc\n",
      "\n",
      "high,vhigh,3,2,big,high,unacc\n",
      "\n",
      "high,vhigh,3,4,small,low,unacc\n",
      "\n",
      "high,vhigh,3,4,small,med,unacc\n",
      "\n",
      "high,vhigh,3,4,small,high,unacc\n",
      "\n",
      "high,vhigh,3,4,med,low,unacc\n",
      "\n",
      "high,vhigh,3,4,med,med,unacc\n",
      "\n",
      "high,vhigh,3,4,med,high,unacc\n",
      "\n",
      "high,vhigh,3,4,big,low,unacc\n",
      "\n",
      "high,vhigh,3,4,big,med,unacc\n",
      "\n",
      "high,vhigh,3,4,big,high,unacc\n",
      "\n",
      "high,vhigh,3,more,small,low,unacc\n",
      "\n",
      "high,vhigh,3,more,small,med,unacc\n",
      "\n",
      "high,vhigh,3,more,small,high,unacc\n",
      "\n",
      "high,vhigh,3,more,med,low,unacc\n",
      "\n",
      "high,vhigh,3,more,med,med,unacc\n",
      "\n",
      "high,vhigh,3,more,med,high,unacc\n",
      "\n",
      "high,vhigh,3,more,big,low,unacc\n",
      "\n",
      "high,vhigh,3,more,big,med,unacc\n",
      "\n",
      "high,vhigh,3,more,big,high,unacc\n",
      "\n",
      "high,vhigh,4,2,small,low,unacc\n",
      "\n",
      "high,vhigh,4,2,small,med,unacc\n",
      "\n",
      "high,vhigh,4,2,small,high,unacc\n",
      "\n",
      "high,vhigh,4,2,med,low,unacc\n",
      "\n",
      "high,vhigh,4,2,med,med,unacc\n",
      "\n",
      "high,vhigh,4,2,med,high,unacc\n",
      "\n",
      "high,vhigh,4,2,big,low,unacc\n",
      "\n",
      "high,vhigh,4,2,big,med,unacc\n",
      "\n",
      "high,vhigh,4,2,big,high,unacc\n",
      "\n",
      "high,vhigh,4,4,small,low,unacc\n",
      "\n",
      "high,vhigh,4,4,small,med,unacc\n",
      "\n",
      "high,vhigh,4,4,small,high,unacc\n",
      "\n",
      "high,vhigh,4,4,med,low,unacc\n",
      "\n",
      "high,vhigh,4,4,med,med,unacc\n",
      "\n",
      "high,vhigh,4,4,med,high,unacc\n",
      "\n",
      "high,vhigh,4,4,big,low,unacc\n",
      "\n",
      "high,vhigh,4,4,big,med,unacc\n",
      "\n",
      "high,vhigh,4,4,big,high,unacc\n",
      "\n",
      "high,vhigh,4,more,small,low,unacc\n",
      "\n",
      "high,vhigh,4,more,small,med,unacc\n",
      "\n",
      "high,vhigh,4,more,small,high,unacc\n",
      "\n",
      "high,vhigh,4,more,med,low,unacc\n",
      "\n",
      "high,vhigh,4,more,med,med,unacc\n",
      "\n",
      "high,vhigh,4,more,med,high,unacc\n",
      "\n",
      "high,vhigh,4,more,big,low,unacc\n",
      "\n",
      "high,vhigh,4,more,big,med,unacc\n",
      "\n",
      "high,vhigh,4,more,big,high,unacc\n",
      "\n",
      "high,vhigh,5more,2,small,low,unacc\n",
      "\n",
      "high,vhigh,5more,2,small,med,unacc\n",
      "\n",
      "high,vhigh,5more,2,small,high,unacc\n",
      "\n",
      "high,vhigh,5more,2,med,low,unacc\n",
      "\n",
      "high,vhigh,5more,2,med,med,unacc\n",
      "\n",
      "high,vhigh,5more,2,med,high,unacc\n",
      "\n",
      "high,vhigh,5more,2,big,low,unacc\n",
      "\n",
      "high,vhigh,5more,2,big,med,unacc\n",
      "\n",
      "high,vhigh,5more,2,big,high,unacc\n",
      "\n",
      "high,vhigh,5more,4,small,low,unacc\n",
      "\n",
      "high,vhigh,5more,4,small,med,unacc\n",
      "\n",
      "high,vhigh,5more,4,small,high,unacc\n",
      "\n",
      "high,vhigh,5more,4,med,low,unacc\n",
      "\n",
      "high,vhigh,5more,4,med,med,unacc\n",
      "\n",
      "high,vhigh,5more,4,med,high,unacc\n",
      "\n",
      "high,vhigh,5more,4,big,low,unacc\n",
      "\n",
      "high,vhigh,5more,4,big,med,unacc\n",
      "\n",
      "high,vhigh,5more,4,big,high,unacc\n",
      "\n",
      "high,vhigh,5more,more,small,low,unacc\n",
      "\n",
      "high,vhigh,5more,more,small,med,unacc\n",
      "\n",
      "high,vhigh,5more,more,small,high,unacc\n",
      "\n",
      "high,vhigh,5more,more,med,low,unacc\n",
      "\n",
      "high,vhigh,5more,more,med,med,unacc\n",
      "\n",
      "high,vhigh,5more,more,med,high,unacc\n",
      "\n",
      "high,vhigh,5more,more,big,low,unacc\n",
      "\n",
      "high,vhigh,5more,more,big,med,unacc\n",
      "\n",
      "high,vhigh,5more,more,big,high,unacc\n",
      "\n",
      "high,high,2,2,small,low,unacc\n",
      "\n",
      "high,high,2,2,small,med,unacc\n",
      "\n",
      "high,high,2,2,small,high,unacc\n",
      "\n",
      "high,high,2,2,med,low,unacc\n",
      "\n",
      "high,high,2,2,med,med,unacc\n",
      "\n",
      "high,high,2,2,med,high,unacc\n",
      "\n",
      "high,high,2,2,big,low,unacc\n",
      "\n",
      "high,high,2,2,big,med,unacc\n",
      "\n",
      "high,high,2,2,big,high,unacc\n",
      "\n",
      "high,high,2,4,small,low,unacc\n",
      "\n",
      "high,high,2,4,small,med,unacc\n",
      "\n",
      "high,high,2,4,small,high,acc\n",
      "\n",
      "high,high,2,4,med,low,unacc\n",
      "\n",
      "high,high,2,4,med,med,unacc\n",
      "\n",
      "high,high,2,4,med,high,acc\n",
      "\n",
      "high,high,2,4,big,low,unacc\n",
      "\n",
      "high,high,2,4,big,med,acc\n",
      "\n",
      "high,high,2,4,big,high,acc\n",
      "\n",
      "high,high,2,more,small,low,unacc\n",
      "\n",
      "high,high,2,more,small,med,unacc\n",
      "\n",
      "high,high,2,more,small,high,unacc\n",
      "\n",
      "high,high,2,more,med,low,unacc\n",
      "\n",
      "high,high,2,more,med,med,unacc\n",
      "\n",
      "high,high,2,more,med,high,acc\n",
      "\n",
      "high,high,2,more,big,low,unacc\n",
      "\n",
      "high,high,2,more,big,med,acc\n",
      "\n",
      "high,high,2,more,big,high,acc\n",
      "\n",
      "high,high,3,2,small,low,unacc\n",
      "\n",
      "high,high,3,2,small,med,unacc\n",
      "\n",
      "high,high,3,2,small,high,unacc\n",
      "\n",
      "high,high,3,2,med,low,unacc\n",
      "\n",
      "high,high,3,2,med,med,unacc\n",
      "\n",
      "high,high,3,2,med,high,unacc\n",
      "\n",
      "high,high,3,2,big,low,unacc\n",
      "\n",
      "high,high,3,2,big,med,unacc\n",
      "\n",
      "high,high,3,2,big,high,unacc\n",
      "\n",
      "high,high,3,4,small,low,unacc\n",
      "\n",
      "high,high,3,4,small,med,unacc\n",
      "\n",
      "high,high,3,4,small,high,acc\n",
      "\n",
      "high,high,3,4,med,low,unacc\n",
      "\n",
      "high,high,3,4,med,med,unacc\n",
      "\n",
      "high,high,3,4,med,high,acc\n",
      "\n",
      "high,high,3,4,big,low,unacc\n",
      "\n",
      "high,high,3,4,big,med,acc\n",
      "\n",
      "high,high,3,4,big,high,acc\n",
      "\n",
      "high,high,3,more,small,low,unacc\n",
      "\n",
      "high,high,3,more,small,med,unacc\n",
      "\n",
      "high,high,3,more,small,high,acc\n",
      "\n",
      "high,high,3,more,med,low,unacc\n",
      "\n",
      "high,high,3,more,med,med,acc\n",
      "\n",
      "high,high,3,more,med,high,acc\n",
      "\n",
      "high,high,3,more,big,low,unacc\n",
      "\n",
      "high,high,3,more,big,med,acc\n",
      "\n",
      "high,high,3,more,big,high,acc\n",
      "\n",
      "high,high,4,2,small,low,unacc\n",
      "\n",
      "high,high,4,2,small,med,unacc\n",
      "\n",
      "high,high,4,2,small,high,unacc\n",
      "\n",
      "high,high,4,2,med,low,unacc\n",
      "\n",
      "high,high,4,2,med,med,unacc\n",
      "\n",
      "high,high,4,2,med,high,unacc\n",
      "\n",
      "high,high,4,2,big,low,unacc\n",
      "\n",
      "high,high,4,2,big,med,unacc\n",
      "\n",
      "high,high,4,2,big,high,unacc\n",
      "\n",
      "high,high,4,4,small,low,unacc\n",
      "\n",
      "high,high,4,4,small,med,unacc\n",
      "\n",
      "high,high,4,4,small,high,acc\n",
      "\n",
      "high,high,4,4,med,low,unacc\n",
      "\n",
      "high,high,4,4,med,med,acc\n",
      "\n",
      "high,high,4,4,med,high,acc\n",
      "\n",
      "high,high,4,4,big,low,unacc\n",
      "\n",
      "high,high,4,4,big,med,acc\n",
      "\n",
      "high,high,4,4,big,high,acc\n",
      "\n",
      "high,high,4,more,small,low,unacc\n",
      "\n",
      "high,high,4,more,small,med,unacc\n",
      "\n",
      "high,high,4,more,small,high,acc\n",
      "\n",
      "high,high,4,more,med,low,unacc\n",
      "\n",
      "high,high,4,more,med,med,acc\n",
      "\n",
      "high,high,4,more,med,high,acc\n",
      "\n",
      "high,high,4,more,big,low,unacc\n",
      "\n",
      "high,high,4,more,big,med,acc\n",
      "\n",
      "high,high,4,more,big,high,acc\n",
      "\n",
      "high,high,5more,2,small,low,unacc\n",
      "\n",
      "high,high,5more,2,small,med,unacc\n",
      "\n",
      "high,high,5more,2,small,high,unacc\n",
      "\n",
      "high,high,5more,2,med,low,unacc\n",
      "\n",
      "high,high,5more,2,med,med,unacc\n",
      "\n",
      "high,high,5more,2,med,high,unacc\n",
      "\n",
      "high,high,5more,2,big,low,unacc\n",
      "\n",
      "high,high,5more,2,big,med,unacc\n",
      "\n",
      "high,high,5more,2,big,high,unacc\n",
      "\n",
      "high,high,5more,4,small,low,unacc\n",
      "\n",
      "high,high,5more,4,small,med,unacc\n",
      "\n",
      "high,high,5more,4,small,high,acc\n",
      "\n",
      "high,high,5more,4,med,low,unacc\n",
      "\n",
      "high,high,5more,4,med,med,acc\n",
      "\n",
      "high,high,5more,4,med,high,acc\n",
      "\n",
      "high,high,5more,4,big,low,unacc\n",
      "\n",
      "high,high,5more,4,big,med,acc\n",
      "\n",
      "high,high,5more,4,big,high,acc\n",
      "\n",
      "high,high,5more,more,small,low,unacc\n",
      "\n",
      "high,high,5more,more,small,med,unacc\n",
      "\n",
      "high,high,5more,more,small,high,acc\n",
      "\n",
      "high,high,5more,more,med,low,unacc\n",
      "\n",
      "high,high,5more,more,med,med,acc\n",
      "\n",
      "high,high,5more,more,med,high,acc\n",
      "\n",
      "high,high,5more,more,big,low,unacc\n",
      "\n",
      "high,high,5more,more,big,med,acc\n",
      "\n",
      "high,high,5more,more,big,high,acc\n",
      "\n",
      "high,med,2,2,small,low,unacc\n",
      "\n",
      "high,med,2,2,small,med,unacc\n",
      "\n",
      "high,med,2,2,small,high,unacc\n",
      "\n",
      "high,med,2,2,med,low,unacc\n",
      "\n",
      "high,med,2,2,med,med,unacc\n",
      "\n",
      "high,med,2,2,med,high,unacc\n",
      "\n",
      "high,med,2,2,big,low,unacc\n",
      "\n",
      "high,med,2,2,big,med,unacc\n",
      "\n",
      "high,med,2,2,big,high,unacc\n",
      "\n",
      "high,med,2,4,small,low,unacc\n",
      "\n",
      "high,med,2,4,small,med,unacc\n",
      "\n",
      "high,med,2,4,small,high,acc\n",
      "\n",
      "high,med,2,4,med,low,unacc\n",
      "\n",
      "high,med,2,4,med,med,unacc\n",
      "\n",
      "high,med,2,4,med,high,acc\n",
      "\n",
      "high,med,2,4,big,low,unacc\n",
      "\n",
      "high,med,2,4,big,med,acc\n",
      "\n",
      "high,med,2,4,big,high,acc\n",
      "\n",
      "high,med,2,more,small,low,unacc\n",
      "\n",
      "high,med,2,more,small,med,unacc\n",
      "\n",
      "high,med,2,more,small,high,unacc\n",
      "\n",
      "high,med,2,more,med,low,unacc\n",
      "\n",
      "high,med,2,more,med,med,unacc\n",
      "\n",
      "high,med,2,more,med,high,acc\n",
      "\n",
      "high,med,2,more,big,low,unacc\n",
      "\n",
      "high,med,2,more,big,med,acc\n",
      "\n",
      "high,med,2,more,big,high,acc\n",
      "\n",
      "high,med,3,2,small,low,unacc\n",
      "\n",
      "high,med,3,2,small,med,unacc\n",
      "\n",
      "high,med,3,2,small,high,unacc\n",
      "\n",
      "high,med,3,2,med,low,unacc\n",
      "\n",
      "high,med,3,2,med,med,unacc\n",
      "\n",
      "high,med,3,2,med,high,unacc\n",
      "\n",
      "high,med,3,2,big,low,unacc\n",
      "\n",
      "high,med,3,2,big,med,unacc\n",
      "\n",
      "high,med,3,2,big,high,unacc\n",
      "\n",
      "high,med,3,4,small,low,unacc\n",
      "\n",
      "high,med,3,4,small,med,unacc\n",
      "\n",
      "high,med,3,4,small,high,acc\n",
      "\n",
      "high,med,3,4,med,low,unacc\n",
      "\n",
      "high,med,3,4,med,med,unacc\n",
      "\n",
      "high,med,3,4,med,high,acc\n",
      "\n",
      "high,med,3,4,big,low,unacc\n",
      "\n",
      "high,med,3,4,big,med,acc\n",
      "\n",
      "high,med,3,4,big,high,acc\n",
      "\n",
      "high,med,3,more,small,low,unacc\n",
      "\n",
      "high,med,3,more,small,med,unacc\n",
      "\n",
      "high,med,3,more,small,high,acc\n",
      "\n",
      "high,med,3,more,med,low,unacc\n",
      "\n",
      "high,med,3,more,med,med,acc\n",
      "\n",
      "high,med,3,more,med,high,acc\n",
      "\n",
      "high,med,3,more,big,low,unacc\n",
      "\n",
      "high,med,3,more,big,med,acc\n",
      "\n",
      "high,med,3,more,big,high,acc\n",
      "\n",
      "high,med,4,2,small,low,unacc\n",
      "\n",
      "high,med,4,2,small,med,unacc\n",
      "\n",
      "high,med,4,2,small,high,unacc\n",
      "\n",
      "high,med,4,2,med,low,unacc\n",
      "\n",
      "high,med,4,2,med,med,unacc\n",
      "\n",
      "high,med,4,2,med,high,unacc\n",
      "\n",
      "high,med,4,2,big,low,unacc\n",
      "\n",
      "high,med,4,2,big,med,unacc\n",
      "\n",
      "high,med,4,2,big,high,unacc\n",
      "\n",
      "high,med,4,4,small,low,unacc\n",
      "\n",
      "high,med,4,4,small,med,unacc\n",
      "\n",
      "high,med,4,4,small,high,acc\n",
      "\n",
      "high,med,4,4,med,low,unacc\n",
      "\n",
      "high,med,4,4,med,med,acc\n",
      "\n",
      "high,med,4,4,med,high,acc\n",
      "\n",
      "high,med,4,4,big,low,unacc\n",
      "\n",
      "high,med,4,4,big,med,acc\n",
      "\n",
      "high,med,4,4,big,high,acc\n",
      "\n",
      "high,med,4,more,small,low,unacc\n",
      "\n",
      "high,med,4,more,small,med,unacc\n",
      "\n",
      "high,med,4,more,small,high,acc\n",
      "\n",
      "high,med,4,more,med,low,unacc\n",
      "\n",
      "high,med,4,more,med,med,acc\n",
      "\n",
      "high,med,4,more,med,high,acc\n",
      "\n",
      "high,med,4,more,big,low,unacc\n",
      "\n",
      "high,med,4,more,big,med,acc\n",
      "\n",
      "high,med,4,more,big,high,acc\n",
      "\n",
      "high,med,5more,2,small,low,unacc\n",
      "\n",
      "high,med,5more,2,small,med,unacc\n",
      "\n",
      "high,med,5more,2,small,high,unacc\n",
      "\n",
      "high,med,5more,2,med,low,unacc\n",
      "\n",
      "high,med,5more,2,med,med,unacc\n",
      "\n",
      "high,med,5more,2,med,high,unacc\n",
      "\n",
      "high,med,5more,2,big,low,unacc\n",
      "\n",
      "high,med,5more,2,big,med,unacc\n",
      "\n",
      "high,med,5more,2,big,high,unacc\n",
      "\n",
      "high,med,5more,4,small,low,unacc\n",
      "\n",
      "high,med,5more,4,small,med,unacc\n",
      "\n",
      "high,med,5more,4,small,high,acc\n",
      "\n",
      "high,med,5more,4,med,low,unacc\n",
      "\n",
      "high,med,5more,4,med,med,acc\n",
      "\n",
      "high,med,5more,4,med,high,acc\n",
      "\n",
      "high,med,5more,4,big,low,unacc\n",
      "\n",
      "high,med,5more,4,big,med,acc\n",
      "\n",
      "high,med,5more,4,big,high,acc\n",
      "\n",
      "high,med,5more,more,small,low,unacc\n",
      "\n",
      "high,med,5more,more,small,med,unacc\n",
      "\n",
      "high,med,5more,more,small,high,acc\n",
      "\n",
      "high,med,5more,more,med,low,unacc\n",
      "\n",
      "high,med,5more,more,med,med,acc\n",
      "\n",
      "high,med,5more,more,med,high,acc\n",
      "\n",
      "high,med,5more,more,big,low,unacc\n",
      "\n",
      "high,med,5more,more,big,med,acc\n",
      "\n",
      "high,med,5more,more,big,high,acc\n",
      "\n",
      "high,low,2,2,small,low,unacc\n",
      "\n",
      "high,low,2,2,small,med,unacc\n",
      "\n",
      "high,low,2,2,small,high,unacc\n",
      "\n",
      "high,low,2,2,med,low,unacc\n",
      "\n",
      "high,low,2,2,med,med,unacc\n",
      "\n",
      "high,low,2,2,med,high,unacc\n",
      "\n",
      "high,low,2,2,big,low,unacc\n",
      "\n",
      "high,low,2,2,big,med,unacc\n",
      "\n",
      "high,low,2,2,big,high,unacc\n",
      "\n",
      "high,low,2,4,small,low,unacc\n",
      "\n",
      "high,low,2,4,small,med,unacc\n",
      "\n",
      "high,low,2,4,small,high,acc\n",
      "\n",
      "high,low,2,4,med,low,unacc\n",
      "\n",
      "high,low,2,4,med,med,unacc\n",
      "\n",
      "high,low,2,4,med,high,acc\n",
      "\n",
      "high,low,2,4,big,low,unacc\n",
      "\n",
      "high,low,2,4,big,med,acc\n",
      "\n",
      "high,low,2,4,big,high,acc\n",
      "\n",
      "high,low,2,more,small,low,unacc\n",
      "\n",
      "high,low,2,more,small,med,unacc\n",
      "\n",
      "high,low,2,more,small,high,unacc\n",
      "\n",
      "high,low,2,more,med,low,unacc\n",
      "\n",
      "high,low,2,more,med,med,unacc\n",
      "\n",
      "high,low,2,more,med,high,acc\n",
      "\n",
      "high,low,2,more,big,low,unacc\n",
      "\n",
      "high,low,2,more,big,med,acc\n",
      "\n",
      "high,low,2,more,big,high,acc\n",
      "\n",
      "high,low,3,2,small,low,unacc\n",
      "\n",
      "high,low,3,2,small,med,unacc\n",
      "\n",
      "high,low,3,2,small,high,unacc\n",
      "\n",
      "high,low,3,2,med,low,unacc\n",
      "\n",
      "high,low,3,2,med,med,unacc\n",
      "\n",
      "high,low,3,2,med,high,unacc\n",
      "\n",
      "high,low,3,2,big,low,unacc\n",
      "\n",
      "high,low,3,2,big,med,unacc\n",
      "\n",
      "high,low,3,2,big,high,unacc\n",
      "\n",
      "high,low,3,4,small,low,unacc\n",
      "\n",
      "high,low,3,4,small,med,unacc\n",
      "\n",
      "high,low,3,4,small,high,acc\n",
      "\n",
      "high,low,3,4,med,low,unacc\n",
      "\n",
      "high,low,3,4,med,med,unacc\n",
      "\n",
      "high,low,3,4,med,high,acc\n",
      "\n",
      "high,low,3,4,big,low,unacc\n",
      "\n",
      "high,low,3,4,big,med,acc\n",
      "\n",
      "high,low,3,4,big,high,acc\n",
      "\n",
      "high,low,3,more,small,low,unacc\n",
      "\n",
      "high,low,3,more,small,med,unacc\n",
      "\n",
      "high,low,3,more,small,high,acc\n",
      "\n",
      "high,low,3,more,med,low,unacc\n",
      "\n",
      "high,low,3,more,med,med,acc\n",
      "\n",
      "high,low,3,more,med,high,acc\n",
      "\n",
      "high,low,3,more,big,low,unacc\n",
      "\n",
      "high,low,3,more,big,med,acc\n",
      "\n",
      "high,low,3,more,big,high,acc\n",
      "\n",
      "high,low,4,2,small,low,unacc\n",
      "\n",
      "high,low,4,2,small,med,unacc\n",
      "\n",
      "high,low,4,2,small,high,unacc\n",
      "\n",
      "high,low,4,2,med,low,unacc\n",
      "\n",
      "high,low,4,2,med,med,unacc\n",
      "\n",
      "high,low,4,2,med,high,unacc\n",
      "\n",
      "high,low,4,2,big,low,unacc\n",
      "\n",
      "high,low,4,2,big,med,unacc\n",
      "\n",
      "high,low,4,2,big,high,unacc\n",
      "\n",
      "high,low,4,4,small,low,unacc\n",
      "\n",
      "high,low,4,4,small,med,unacc\n",
      "\n",
      "high,low,4,4,small,high,acc\n",
      "\n",
      "high,low,4,4,med,low,unacc\n",
      "\n",
      "high,low,4,4,med,med,acc\n",
      "\n",
      "high,low,4,4,med,high,acc\n",
      "\n",
      "high,low,4,4,big,low,unacc\n",
      "\n",
      "high,low,4,4,big,med,acc\n",
      "\n",
      "high,low,4,4,big,high,acc\n",
      "\n",
      "high,low,4,more,small,low,unacc\n",
      "\n",
      "high,low,4,more,small,med,unacc\n",
      "\n",
      "high,low,4,more,small,high,acc\n",
      "\n",
      "high,low,4,more,med,low,unacc\n",
      "\n",
      "high,low,4,more,med,med,acc\n",
      "\n",
      "high,low,4,more,med,high,acc\n",
      "\n",
      "high,low,4,more,big,low,unacc\n",
      "\n",
      "high,low,4,more,big,med,acc\n",
      "\n",
      "high,low,4,more,big,high,acc\n",
      "\n",
      "high,low,5more,2,small,low,unacc\n",
      "\n",
      "high,low,5more,2,small,med,unacc\n",
      "\n",
      "high,low,5more,2,small,high,unacc\n",
      "\n",
      "high,low,5more,2,med,low,unacc\n",
      "\n",
      "high,low,5more,2,med,med,unacc\n",
      "\n",
      "high,low,5more,2,med,high,unacc\n",
      "\n",
      "high,low,5more,2,big,low,unacc\n",
      "\n",
      "high,low,5more,2,big,med,unacc\n",
      "\n",
      "high,low,5more,2,big,high,unacc\n",
      "\n",
      "high,low,5more,4,small,low,unacc\n",
      "\n",
      "high,low,5more,4,small,med,unacc\n",
      "\n",
      "high,low,5more,4,small,high,acc\n",
      "\n",
      "high,low,5more,4,med,low,unacc\n",
      "\n",
      "high,low,5more,4,med,med,acc\n",
      "\n",
      "high,low,5more,4,med,high,acc\n",
      "\n",
      "high,low,5more,4,big,low,unacc\n",
      "\n",
      "high,low,5more,4,big,med,acc\n",
      "\n",
      "high,low,5more,4,big,high,acc\n",
      "\n",
      "high,low,5more,more,small,low,unacc\n",
      "\n",
      "high,low,5more,more,small,med,unacc\n",
      "\n",
      "high,low,5more,more,small,high,acc\n",
      "\n",
      "high,low,5more,more,med,low,unacc\n",
      "\n",
      "high,low,5more,more,med,med,acc\n",
      "\n",
      "high,low,5more,more,med,high,acc\n",
      "\n",
      "high,low,5more,more,big,low,unacc\n",
      "\n",
      "high,low,5more,more,big,med,acc\n",
      "\n",
      "high,low,5more,more,big,high,acc\n",
      "\n",
      "med,vhigh,2,2,small,low,unacc\n",
      "\n",
      "med,vhigh,2,2,small,med,unacc\n",
      "\n",
      "med,vhigh,2,2,small,high,unacc\n",
      "\n",
      "med,vhigh,2,2,med,low,unacc\n",
      "\n",
      "med,vhigh,2,2,med,med,unacc\n",
      "\n",
      "med,vhigh,2,2,med,high,unacc\n",
      "\n",
      "med,vhigh,2,2,big,low,unacc\n",
      "\n",
      "med,vhigh,2,2,big,med,unacc\n",
      "\n",
      "med,vhigh,2,2,big,high,unacc\n",
      "\n",
      "med,vhigh,2,4,small,low,unacc\n",
      "\n",
      "med,vhigh,2,4,small,med,unacc\n",
      "\n",
      "med,vhigh,2,4,small,high,acc\n",
      "\n",
      "med,vhigh,2,4,med,low,unacc\n",
      "\n",
      "med,vhigh,2,4,med,med,unacc\n",
      "\n",
      "med,vhigh,2,4,med,high,acc\n",
      "\n",
      "med,vhigh,2,4,big,low,unacc\n",
      "\n",
      "med,vhigh,2,4,big,med,acc\n",
      "\n",
      "med,vhigh,2,4,big,high,acc\n",
      "\n",
      "med,vhigh,2,more,small,low,unacc\n",
      "\n",
      "med,vhigh,2,more,small,med,unacc\n",
      "\n",
      "med,vhigh,2,more,small,high,unacc\n",
      "\n",
      "med,vhigh,2,more,med,low,unacc\n",
      "\n",
      "med,vhigh,2,more,med,med,unacc\n",
      "\n",
      "med,vhigh,2,more,med,high,acc\n",
      "\n",
      "med,vhigh,2,more,big,low,unacc\n",
      "\n",
      "med,vhigh,2,more,big,med,acc\n",
      "\n",
      "med,vhigh,2,more,big,high,acc\n",
      "\n",
      "med,vhigh,3,2,small,low,unacc\n",
      "\n",
      "med,vhigh,3,2,small,med,unacc\n",
      "\n",
      "med,vhigh,3,2,small,high,unacc\n",
      "\n",
      "med,vhigh,3,2,med,low,unacc\n",
      "\n",
      "med,vhigh,3,2,med,med,unacc\n",
      "\n",
      "med,vhigh,3,2,med,high,unacc\n",
      "\n",
      "med,vhigh,3,2,big,low,unacc\n",
      "\n",
      "med,vhigh,3,2,big,med,unacc\n",
      "\n",
      "med,vhigh,3,2,big,high,unacc\n",
      "\n",
      "med,vhigh,3,4,small,low,unacc\n",
      "\n",
      "med,vhigh,3,4,small,med,unacc\n",
      "\n",
      "med,vhigh,3,4,small,high,acc\n",
      "\n",
      "med,vhigh,3,4,med,low,unacc\n",
      "\n",
      "med,vhigh,3,4,med,med,unacc\n",
      "\n",
      "med,vhigh,3,4,med,high,acc\n",
      "\n",
      "med,vhigh,3,4,big,low,unacc\n",
      "\n",
      "med,vhigh,3,4,big,med,acc\n",
      "\n",
      "med,vhigh,3,4,big,high,acc\n",
      "\n",
      "med,vhigh,3,more,small,low,unacc\n",
      "\n",
      "med,vhigh,3,more,small,med,unacc\n",
      "\n",
      "med,vhigh,3,more,small,high,acc\n",
      "\n",
      "med,vhigh,3,more,med,low,unacc\n",
      "\n",
      "med,vhigh,3,more,med,med,acc\n",
      "\n",
      "med,vhigh,3,more,med,high,acc\n",
      "\n",
      "med,vhigh,3,more,big,low,unacc\n",
      "\n",
      "med,vhigh,3,more,big,med,acc\n",
      "\n",
      "med,vhigh,3,more,big,high,acc\n",
      "\n",
      "med,vhigh,4,2,small,low,unacc\n",
      "\n",
      "med,vhigh,4,2,small,med,unacc\n",
      "\n",
      "med,vhigh,4,2,small,high,unacc\n",
      "\n",
      "med,vhigh,4,2,med,low,unacc\n",
      "\n",
      "med,vhigh,4,2,med,med,unacc\n",
      "\n",
      "med,vhigh,4,2,med,high,unacc\n",
      "\n",
      "med,vhigh,4,2,big,low,unacc\n",
      "\n",
      "med,vhigh,4,2,big,med,unacc\n",
      "\n",
      "med,vhigh,4,2,big,high,unacc\n",
      "\n",
      "med,vhigh,4,4,small,low,unacc\n",
      "\n",
      "med,vhigh,4,4,small,med,unacc\n",
      "\n",
      "med,vhigh,4,4,small,high,acc\n",
      "\n",
      "med,vhigh,4,4,med,low,unacc\n",
      "\n",
      "med,vhigh,4,4,med,med,acc\n",
      "\n",
      "med,vhigh,4,4,med,high,acc\n",
      "\n",
      "med,vhigh,4,4,big,low,unacc\n",
      "\n",
      "med,vhigh,4,4,big,med,acc\n",
      "\n",
      "med,vhigh,4,4,big,high,acc\n",
      "\n",
      "med,vhigh,4,more,small,low,unacc\n",
      "\n",
      "med,vhigh,4,more,small,med,unacc\n",
      "\n",
      "med,vhigh,4,more,small,high,acc\n",
      "\n",
      "med,vhigh,4,more,med,low,unacc\n",
      "\n",
      "med,vhigh,4,more,med,med,acc\n",
      "\n",
      "med,vhigh,4,more,med,high,acc\n",
      "\n",
      "med,vhigh,4,more,big,low,unacc\n",
      "\n",
      "med,vhigh,4,more,big,med,acc\n",
      "\n",
      "med,vhigh,4,more,big,high,acc\n",
      "\n",
      "med,vhigh,5more,2,small,low,unacc\n",
      "\n",
      "med,vhigh,5more,2,small,med,unacc\n",
      "\n",
      "med,vhigh,5more,2,small,high,unacc\n",
      "\n",
      "med,vhigh,5more,2,med,low,unacc\n",
      "\n",
      "med,vhigh,5more,2,med,med,unacc\n",
      "\n",
      "med,vhigh,5more,2,med,high,unacc\n",
      "\n",
      "med,vhigh,5more,2,big,low,unacc\n",
      "\n",
      "med,vhigh,5more,2,big,med,unacc\n",
      "\n",
      "med,vhigh,5more,2,big,high,unacc\n",
      "\n",
      "med,vhigh,5more,4,small,low,unacc\n",
      "\n",
      "med,vhigh,5more,4,small,med,unacc\n",
      "\n",
      "med,vhigh,5more,4,small,high,acc\n",
      "\n",
      "med,vhigh,5more,4,med,low,unacc\n",
      "\n",
      "med,vhigh,5more,4,med,med,acc\n",
      "\n",
      "med,vhigh,5more,4,med,high,acc\n",
      "\n",
      "med,vhigh,5more,4,big,low,unacc\n",
      "\n",
      "med,vhigh,5more,4,big,med,acc\n",
      "\n",
      "med,vhigh,5more,4,big,high,acc\n",
      "\n",
      "med,vhigh,5more,more,small,low,unacc\n",
      "\n",
      "med,vhigh,5more,more,small,med,unacc\n",
      "\n",
      "med,vhigh,5more,more,small,high,acc\n",
      "\n",
      "med,vhigh,5more,more,med,low,unacc\n",
      "\n",
      "med,vhigh,5more,more,med,med,acc\n",
      "\n",
      "med,vhigh,5more,more,med,high,acc\n",
      "\n",
      "med,vhigh,5more,more,big,low,unacc\n",
      "\n",
      "med,vhigh,5more,more,big,med,acc\n",
      "\n",
      "med,vhigh,5more,more,big,high,acc\n",
      "\n",
      "med,high,2,2,small,low,unacc\n",
      "\n",
      "med,high,2,2,small,med,unacc\n",
      "\n",
      "med,high,2,2,small,high,unacc\n",
      "\n",
      "med,high,2,2,med,low,unacc\n",
      "\n",
      "med,high,2,2,med,med,unacc\n",
      "\n",
      "med,high,2,2,med,high,unacc\n",
      "\n",
      "med,high,2,2,big,low,unacc\n",
      "\n",
      "med,high,2,2,big,med,unacc\n",
      "\n",
      "med,high,2,2,big,high,unacc\n",
      "\n",
      "med,high,2,4,small,low,unacc\n",
      "\n",
      "med,high,2,4,small,med,unacc\n",
      "\n",
      "med,high,2,4,small,high,acc\n",
      "\n",
      "med,high,2,4,med,low,unacc\n",
      "\n",
      "med,high,2,4,med,med,unacc\n",
      "\n",
      "med,high,2,4,med,high,acc\n",
      "\n",
      "med,high,2,4,big,low,unacc\n",
      "\n",
      "med,high,2,4,big,med,acc\n",
      "\n",
      "med,high,2,4,big,high,acc\n",
      "\n",
      "med,high,2,more,small,low,unacc\n",
      "\n",
      "med,high,2,more,small,med,unacc\n",
      "\n",
      "med,high,2,more,small,high,unacc\n",
      "\n",
      "med,high,2,more,med,low,unacc\n",
      "\n",
      "med,high,2,more,med,med,unacc\n",
      "\n",
      "med,high,2,more,med,high,acc\n",
      "\n",
      "med,high,2,more,big,low,unacc\n",
      "\n",
      "med,high,2,more,big,med,acc\n",
      "\n",
      "med,high,2,more,big,high,acc\n",
      "\n",
      "med,high,3,2,small,low,unacc\n",
      "\n",
      "med,high,3,2,small,med,unacc\n",
      "\n",
      "med,high,3,2,small,high,unacc\n",
      "\n",
      "med,high,3,2,med,low,unacc\n",
      "\n",
      "med,high,3,2,med,med,unacc\n",
      "\n",
      "med,high,3,2,med,high,unacc\n",
      "\n",
      "med,high,3,2,big,low,unacc\n",
      "\n",
      "med,high,3,2,big,med,unacc\n",
      "\n",
      "med,high,3,2,big,high,unacc\n",
      "\n",
      "med,high,3,4,small,low,unacc\n",
      "\n",
      "med,high,3,4,small,med,unacc\n",
      "\n",
      "med,high,3,4,small,high,acc\n",
      "\n",
      "med,high,3,4,med,low,unacc\n",
      "\n",
      "med,high,3,4,med,med,unacc\n",
      "\n",
      "med,high,3,4,med,high,acc\n",
      "\n",
      "med,high,3,4,big,low,unacc\n",
      "\n",
      "med,high,3,4,big,med,acc\n",
      "\n",
      "med,high,3,4,big,high,acc\n",
      "\n",
      "med,high,3,more,small,low,unacc\n",
      "\n",
      "med,high,3,more,small,med,unacc\n",
      "\n",
      "med,high,3,more,small,high,acc\n",
      "\n",
      "med,high,3,more,med,low,unacc\n",
      "\n",
      "med,high,3,more,med,med,acc\n",
      "\n",
      "med,high,3,more,med,high,acc\n",
      "\n",
      "med,high,3,more,big,low,unacc\n",
      "\n",
      "med,high,3,more,big,med,acc\n",
      "\n",
      "med,high,3,more,big,high,acc\n",
      "\n",
      "med,high,4,2,small,low,unacc\n",
      "\n",
      "med,high,4,2,small,med,unacc\n",
      "\n",
      "med,high,4,2,small,high,unacc\n",
      "\n",
      "med,high,4,2,med,low,unacc\n",
      "\n",
      "med,high,4,2,med,med,unacc\n",
      "\n",
      "med,high,4,2,med,high,unacc\n",
      "\n",
      "med,high,4,2,big,low,unacc\n",
      "\n",
      "med,high,4,2,big,med,unacc\n",
      "\n",
      "med,high,4,2,big,high,unacc\n",
      "\n",
      "med,high,4,4,small,low,unacc\n",
      "\n",
      "med,high,4,4,small,med,unacc\n",
      "\n",
      "med,high,4,4,small,high,acc\n",
      "\n",
      "med,high,4,4,med,low,unacc\n",
      "\n",
      "med,high,4,4,med,med,acc\n",
      "\n",
      "med,high,4,4,med,high,acc\n",
      "\n",
      "med,high,4,4,big,low,unacc\n",
      "\n",
      "med,high,4,4,big,med,acc\n",
      "\n",
      "med,high,4,4,big,high,acc\n",
      "\n",
      "med,high,4,more,small,low,unacc\n",
      "\n",
      "med,high,4,more,small,med,unacc\n",
      "\n",
      "med,high,4,more,small,high,acc\n",
      "\n",
      "med,high,4,more,med,low,unacc\n",
      "\n",
      "med,high,4,more,med,med,acc\n",
      "\n",
      "med,high,4,more,med,high,acc\n",
      "\n",
      "med,high,4,more,big,low,unacc\n",
      "\n",
      "med,high,4,more,big,med,acc\n",
      "\n",
      "med,high,4,more,big,high,acc\n",
      "\n",
      "med,high,5more,2,small,low,unacc\n",
      "\n",
      "med,high,5more,2,small,med,unacc\n",
      "\n",
      "med,high,5more,2,small,high,unacc\n",
      "\n",
      "med,high,5more,2,med,low,unacc\n",
      "\n",
      "med,high,5more,2,med,med,unacc\n",
      "\n",
      "med,high,5more,2,med,high,unacc\n",
      "\n",
      "med,high,5more,2,big,low,unacc\n",
      "\n",
      "med,high,5more,2,big,med,unacc\n",
      "\n",
      "med,high,5more,2,big,high,unacc\n",
      "\n",
      "med,high,5more,4,small,low,unacc\n",
      "\n",
      "med,high,5more,4,small,med,unacc\n",
      "\n",
      "med,high,5more,4,small,high,acc\n",
      "\n",
      "med,high,5more,4,med,low,unacc\n",
      "\n",
      "med,high,5more,4,med,med,acc\n",
      "\n",
      "med,high,5more,4,med,high,acc\n",
      "\n",
      "med,high,5more,4,big,low,unacc\n",
      "\n",
      "med,high,5more,4,big,med,acc\n",
      "\n",
      "med,high,5more,4,big,high,acc\n",
      "\n",
      "med,high,5more,more,small,low,unacc\n",
      "\n",
      "med,high,5more,more,small,med,unacc\n",
      "\n",
      "med,high,5more,more,small,high,acc\n",
      "\n",
      "med,high,5more,more,med,low,unacc\n",
      "\n",
      "med,high,5more,more,med,med,acc\n",
      "\n",
      "med,high,5more,more,med,high,acc\n",
      "\n",
      "med,high,5more,more,big,low,unacc\n",
      "\n",
      "med,high,5more,more,big,med,acc\n",
      "\n",
      "med,high,5more,more,big,high,acc\n",
      "\n",
      "med,med,2,2,small,low,unacc\n",
      "\n",
      "med,med,2,2,small,med,unacc\n",
      "\n",
      "med,med,2,2,small,high,unacc\n",
      "\n",
      "med,med,2,2,med,low,unacc\n",
      "\n",
      "med,med,2,2,med,med,unacc\n",
      "\n",
      "med,med,2,2,med,high,unacc\n",
      "\n",
      "med,med,2,2,big,low,unacc\n",
      "\n",
      "med,med,2,2,big,med,unacc\n",
      "\n",
      "med,med,2,2,big,high,unacc\n",
      "\n",
      "med,med,2,4,small,low,unacc\n",
      "\n",
      "med,med,2,4,small,med,acc\n",
      "\n",
      "med,med,2,4,small,high,acc\n",
      "\n",
      "med,med,2,4,med,low,unacc\n",
      "\n",
      "med,med,2,4,med,med,acc\n",
      "\n",
      "med,med,2,4,med,high,acc\n",
      "\n",
      "med,med,2,4,big,low,unacc\n",
      "\n",
      "med,med,2,4,big,med,acc\n",
      "\n",
      "med,med,2,4,big,high,vgood\n",
      "\n",
      "med,med,2,more,small,low,unacc\n",
      "\n",
      "med,med,2,more,small,med,unacc\n",
      "\n",
      "med,med,2,more,small,high,unacc\n",
      "\n",
      "med,med,2,more,med,low,unacc\n",
      "\n",
      "med,med,2,more,med,med,acc\n",
      "\n",
      "med,med,2,more,med,high,acc\n",
      "\n",
      "med,med,2,more,big,low,unacc\n",
      "\n",
      "med,med,2,more,big,med,acc\n",
      "\n",
      "med,med,2,more,big,high,vgood\n",
      "\n",
      "med,med,3,2,small,low,unacc\n",
      "\n",
      "med,med,3,2,small,med,unacc\n",
      "\n",
      "med,med,3,2,small,high,unacc\n",
      "\n",
      "med,med,3,2,med,low,unacc\n",
      "\n",
      "med,med,3,2,med,med,unacc\n",
      "\n",
      "med,med,3,2,med,high,unacc\n",
      "\n",
      "med,med,3,2,big,low,unacc\n",
      "\n",
      "med,med,3,2,big,med,unacc\n",
      "\n",
      "med,med,3,2,big,high,unacc\n",
      "\n",
      "med,med,3,4,small,low,unacc\n",
      "\n",
      "med,med,3,4,small,med,acc\n",
      "\n",
      "med,med,3,4,small,high,acc\n",
      "\n",
      "med,med,3,4,med,low,unacc\n",
      "\n",
      "med,med,3,4,med,med,acc\n",
      "\n",
      "med,med,3,4,med,high,acc\n",
      "\n",
      "med,med,3,4,big,low,unacc\n",
      "\n",
      "med,med,3,4,big,med,acc\n",
      "\n",
      "med,med,3,4,big,high,vgood\n",
      "\n",
      "med,med,3,more,small,low,unacc\n",
      "\n",
      "med,med,3,more,small,med,acc\n",
      "\n",
      "med,med,3,more,small,high,acc\n",
      "\n",
      "med,med,3,more,med,low,unacc\n",
      "\n",
      "med,med,3,more,med,med,acc\n",
      "\n",
      "med,med,3,more,med,high,vgood\n",
      "\n",
      "med,med,3,more,big,low,unacc\n",
      "\n",
      "med,med,3,more,big,med,acc\n",
      "\n",
      "med,med,3,more,big,high,vgood\n",
      "\n",
      "med,med,4,2,small,low,unacc\n",
      "\n",
      "med,med,4,2,small,med,unacc\n",
      "\n",
      "med,med,4,2,small,high,unacc\n",
      "\n",
      "med,med,4,2,med,low,unacc\n",
      "\n",
      "med,med,4,2,med,med,unacc\n",
      "\n",
      "med,med,4,2,med,high,unacc\n",
      "\n",
      "med,med,4,2,big,low,unacc\n",
      "\n",
      "med,med,4,2,big,med,unacc\n",
      "\n",
      "med,med,4,2,big,high,unacc\n",
      "\n",
      "med,med,4,4,small,low,unacc\n",
      "\n",
      "med,med,4,4,small,med,acc\n",
      "\n",
      "med,med,4,4,small,high,acc\n",
      "\n",
      "med,med,4,4,med,low,unacc\n",
      "\n",
      "med,med,4,4,med,med,acc\n",
      "\n",
      "med,med,4,4,med,high,vgood\n",
      "\n",
      "med,med,4,4,big,low,unacc\n",
      "\n",
      "med,med,4,4,big,med,acc\n",
      "\n",
      "med,med,4,4,big,high,vgood\n",
      "\n",
      "med,med,4,more,small,low,unacc\n",
      "\n",
      "med,med,4,more,small,med,acc\n",
      "\n",
      "med,med,4,more,small,high,acc\n",
      "\n",
      "med,med,4,more,med,low,unacc\n",
      "\n",
      "med,med,4,more,med,med,acc\n",
      "\n",
      "med,med,4,more,med,high,vgood\n",
      "\n",
      "med,med,4,more,big,low,unacc\n",
      "\n",
      "med,med,4,more,big,med,acc\n",
      "\n",
      "med,med,4,more,big,high,vgood\n",
      "\n",
      "med,med,5more,2,small,low,unacc\n",
      "\n",
      "med,med,5more,2,small,med,unacc\n",
      "\n",
      "med,med,5more,2,small,high,unacc\n",
      "\n",
      "med,med,5more,2,med,low,unacc\n",
      "\n",
      "med,med,5more,2,med,med,unacc\n",
      "\n",
      "med,med,5more,2,med,high,unacc\n",
      "\n",
      "med,med,5more,2,big,low,unacc\n",
      "\n",
      "med,med,5more,2,big,med,unacc\n",
      "\n",
      "med,med,5more,2,big,high,unacc\n",
      "\n",
      "med,med,5more,4,small,low,unacc\n",
      "\n",
      "med,med,5more,4,small,med,acc\n",
      "\n",
      "med,med,5more,4,small,high,acc\n",
      "\n",
      "med,med,5more,4,med,low,unacc\n",
      "\n",
      "med,med,5more,4,med,med,acc\n",
      "\n",
      "med,med,5more,4,med,high,vgood\n",
      "\n",
      "med,med,5more,4,big,low,unacc\n",
      "\n",
      "med,med,5more,4,big,med,acc\n",
      "\n",
      "med,med,5more,4,big,high,vgood\n",
      "\n",
      "med,med,5more,more,small,low,unacc\n",
      "\n",
      "med,med,5more,more,small,med,acc\n",
      "\n",
      "med,med,5more,more,small,high,acc\n",
      "\n",
      "med,med,5more,more,med,low,unacc\n",
      "\n",
      "med,med,5more,more,med,med,acc\n",
      "\n",
      "med,med,5more,more,med,high,vgood\n",
      "\n",
      "med,med,5more,more,big,low,unacc\n",
      "\n",
      "med,med,5more,more,big,med,acc\n",
      "\n",
      "med,med,5more,more,big,high,vgood\n",
      "\n",
      "med,low,2,2,small,low,unacc\n",
      "\n",
      "med,low,2,2,small,med,unacc\n",
      "\n",
      "med,low,2,2,small,high,unacc\n",
      "\n",
      "med,low,2,2,med,low,unacc\n",
      "\n",
      "med,low,2,2,med,med,unacc\n",
      "\n",
      "med,low,2,2,med,high,unacc\n",
      "\n",
      "med,low,2,2,big,low,unacc\n",
      "\n",
      "med,low,2,2,big,med,unacc\n",
      "\n",
      "med,low,2,2,big,high,unacc\n",
      "\n",
      "med,low,2,4,small,low,unacc\n",
      "\n",
      "med,low,2,4,small,med,acc\n",
      "\n",
      "med,low,2,4,small,high,good\n",
      "\n",
      "med,low,2,4,med,low,unacc\n",
      "\n",
      "med,low,2,4,med,med,acc\n",
      "\n",
      "med,low,2,4,med,high,good\n",
      "\n",
      "med,low,2,4,big,low,unacc\n",
      "\n",
      "med,low,2,4,big,med,good\n",
      "\n",
      "med,low,2,4,big,high,vgood\n",
      "\n",
      "med,low,2,more,small,low,unacc\n",
      "\n",
      "med,low,2,more,small,med,unacc\n",
      "\n",
      "med,low,2,more,small,high,unacc\n",
      "\n",
      "med,low,2,more,med,low,unacc\n",
      "\n",
      "med,low,2,more,med,med,acc\n",
      "\n",
      "med,low,2,more,med,high,good\n",
      "\n",
      "med,low,2,more,big,low,unacc\n",
      "\n",
      "med,low,2,more,big,med,good\n",
      "\n",
      "med,low,2,more,big,high,vgood\n",
      "\n",
      "med,low,3,2,small,low,unacc\n",
      "\n",
      "med,low,3,2,small,med,unacc\n",
      "\n",
      "med,low,3,2,small,high,unacc\n",
      "\n",
      "med,low,3,2,med,low,unacc\n",
      "\n",
      "med,low,3,2,med,med,unacc\n",
      "\n",
      "med,low,3,2,med,high,unacc\n",
      "\n",
      "med,low,3,2,big,low,unacc\n",
      "\n",
      "med,low,3,2,big,med,unacc\n",
      "\n",
      "med,low,3,2,big,high,unacc\n",
      "\n",
      "med,low,3,4,small,low,unacc\n",
      "\n",
      "med,low,3,4,small,med,acc\n",
      "\n",
      "med,low,3,4,small,high,good\n",
      "\n",
      "med,low,3,4,med,low,unacc\n",
      "\n",
      "med,low,3,4,med,med,acc\n",
      "\n",
      "med,low,3,4,med,high,good\n",
      "\n",
      "med,low,3,4,big,low,unacc\n",
      "\n",
      "med,low,3,4,big,med,good\n",
      "\n",
      "med,low,3,4,big,high,vgood\n",
      "\n",
      "med,low,3,more,small,low,unacc\n",
      "\n",
      "med,low,3,more,small,med,acc\n",
      "\n",
      "med,low,3,more,small,high,good\n",
      "\n",
      "med,low,3,more,med,low,unacc\n",
      "\n",
      "med,low,3,more,med,med,good\n",
      "\n",
      "med,low,3,more,med,high,vgood\n",
      "\n",
      "med,low,3,more,big,low,unacc\n",
      "\n",
      "med,low,3,more,big,med,good\n",
      "\n",
      "med,low,3,more,big,high,vgood\n",
      "\n",
      "med,low,4,2,small,low,unacc\n",
      "\n",
      "med,low,4,2,small,med,unacc\n",
      "\n",
      "med,low,4,2,small,high,unacc\n",
      "\n",
      "med,low,4,2,med,low,unacc\n",
      "\n",
      "med,low,4,2,med,med,unacc\n",
      "\n",
      "med,low,4,2,med,high,unacc\n",
      "\n",
      "med,low,4,2,big,low,unacc\n",
      "\n",
      "med,low,4,2,big,med,unacc\n",
      "\n",
      "med,low,4,2,big,high,unacc\n",
      "\n",
      "med,low,4,4,small,low,unacc\n",
      "\n",
      "med,low,4,4,small,med,acc\n",
      "\n",
      "med,low,4,4,small,high,good\n",
      "\n",
      "med,low,4,4,med,low,unacc\n",
      "\n",
      "med,low,4,4,med,med,good\n",
      "\n",
      "med,low,4,4,med,high,vgood\n",
      "\n",
      "med,low,4,4,big,low,unacc\n",
      "\n",
      "med,low,4,4,big,med,good\n",
      "\n",
      "med,low,4,4,big,high,vgood\n",
      "\n",
      "med,low,4,more,small,low,unacc\n",
      "\n",
      "med,low,4,more,small,med,acc\n",
      "\n",
      "med,low,4,more,small,high,good\n",
      "\n",
      "med,low,4,more,med,low,unacc\n",
      "\n",
      "med,low,4,more,med,med,good\n",
      "\n",
      "med,low,4,more,med,high,vgood\n",
      "\n",
      "med,low,4,more,big,low,unacc\n",
      "\n",
      "med,low,4,more,big,med,good\n",
      "\n",
      "med,low,4,more,big,high,vgood\n",
      "\n",
      "med,low,5more,2,small,low,unacc\n",
      "\n",
      "med,low,5more,2,small,med,unacc\n",
      "\n",
      "med,low,5more,2,small,high,unacc\n",
      "\n",
      "med,low,5more,2,med,low,unacc\n",
      "\n",
      "med,low,5more,2,med,med,unacc\n",
      "\n",
      "med,low,5more,2,med,high,unacc\n",
      "\n",
      "med,low,5more,2,big,low,unacc\n",
      "\n",
      "med,low,5more,2,big,med,unacc\n",
      "\n",
      "med,low,5more,2,big,high,unacc\n",
      "\n",
      "med,low,5more,4,small,low,unacc\n",
      "\n",
      "med,low,5more,4,small,med,acc\n",
      "\n",
      "med,low,5more,4,small,high,good\n",
      "\n",
      "med,low,5more,4,med,low,unacc\n",
      "\n",
      "med,low,5more,4,med,med,good\n",
      "\n",
      "med,low,5more,4,med,high,vgood\n",
      "\n",
      "med,low,5more,4,big,low,unacc\n",
      "\n",
      "med,low,5more,4,big,med,good\n",
      "\n",
      "med,low,5more,4,big,high,vgood\n",
      "\n",
      "med,low,5more,more,small,low,unacc\n",
      "\n",
      "med,low,5more,more,small,med,acc\n",
      "\n",
      "med,low,5more,more,small,high,good\n",
      "\n",
      "med,low,5more,more,med,low,unacc\n",
      "\n",
      "med,low,5more,more,med,med,good\n",
      "\n",
      "med,low,5more,more,med,high,vgood\n",
      "\n",
      "med,low,5more,more,big,low,unacc\n",
      "\n",
      "med,low,5more,more,big,med,good\n",
      "\n",
      "med,low,5more,more,big,high,vgood\n",
      "\n",
      "low,vhigh,2,2,small,low,unacc\n",
      "\n",
      "low,vhigh,2,2,small,med,unacc\n",
      "\n",
      "low,vhigh,2,2,small,high,unacc\n",
      "\n",
      "low,vhigh,2,2,med,low,unacc\n",
      "\n",
      "low,vhigh,2,2,med,med,unacc\n",
      "\n",
      "low,vhigh,2,2,med,high,unacc\n",
      "\n",
      "low,vhigh,2,2,big,low,unacc\n",
      "\n",
      "low,vhigh,2,2,big,med,unacc\n",
      "\n",
      "low,vhigh,2,2,big,high,unacc\n",
      "\n",
      "low,vhigh,2,4,small,low,unacc\n",
      "\n",
      "low,vhigh,2,4,small,med,unacc\n",
      "\n",
      "low,vhigh,2,4,small,high,acc\n",
      "\n",
      "low,vhigh,2,4,med,low,unacc\n",
      "\n",
      "low,vhigh,2,4,med,med,unacc\n",
      "\n",
      "low,vhigh,2,4,med,high,acc\n",
      "\n",
      "low,vhigh,2,4,big,low,unacc\n",
      "\n",
      "low,vhigh,2,4,big,med,acc\n",
      "\n",
      "low,vhigh,2,4,big,high,acc\n",
      "\n",
      "low,vhigh,2,more,small,low,unacc\n",
      "\n",
      "low,vhigh,2,more,small,med,unacc\n",
      "\n",
      "low,vhigh,2,more,small,high,unacc\n",
      "\n",
      "low,vhigh,2,more,med,low,unacc\n",
      "\n",
      "low,vhigh,2,more,med,med,unacc\n",
      "\n",
      "low,vhigh,2,more,med,high,acc\n",
      "\n",
      "low,vhigh,2,more,big,low,unacc\n",
      "\n",
      "low,vhigh,2,more,big,med,acc\n",
      "\n",
      "low,vhigh,2,more,big,high,acc\n",
      "\n",
      "low,vhigh,3,2,small,low,unacc\n",
      "\n",
      "low,vhigh,3,2,small,med,unacc\n",
      "\n",
      "low,vhigh,3,2,small,high,unacc\n",
      "\n",
      "low,vhigh,3,2,med,low,unacc\n",
      "\n",
      "low,vhigh,3,2,med,med,unacc\n",
      "\n",
      "low,vhigh,3,2,med,high,unacc\n",
      "\n",
      "low,vhigh,3,2,big,low,unacc\n",
      "\n",
      "low,vhigh,3,2,big,med,unacc\n",
      "\n",
      "low,vhigh,3,2,big,high,unacc\n",
      "\n",
      "low,vhigh,3,4,small,low,unacc\n",
      "\n",
      "low,vhigh,3,4,small,med,unacc\n",
      "\n",
      "low,vhigh,3,4,small,high,acc\n",
      "\n",
      "low,vhigh,3,4,med,low,unacc\n",
      "\n",
      "low,vhigh,3,4,med,med,unacc\n",
      "\n",
      "low,vhigh,3,4,med,high,acc\n",
      "\n",
      "low,vhigh,3,4,big,low,unacc\n",
      "\n",
      "low,vhigh,3,4,big,med,acc\n",
      "\n",
      "low,vhigh,3,4,big,high,acc\n",
      "\n",
      "low,vhigh,3,more,small,low,unacc\n",
      "\n",
      "low,vhigh,3,more,small,med,unacc\n",
      "\n",
      "low,vhigh,3,more,small,high,acc\n",
      "\n",
      "low,vhigh,3,more,med,low,unacc\n",
      "\n",
      "low,vhigh,3,more,med,med,acc\n",
      "\n",
      "low,vhigh,3,more,med,high,acc\n",
      "\n",
      "low,vhigh,3,more,big,low,unacc\n",
      "\n",
      "low,vhigh,3,more,big,med,acc\n",
      "\n",
      "low,vhigh,3,more,big,high,acc\n",
      "\n",
      "low,vhigh,4,2,small,low,unacc\n",
      "\n",
      "low,vhigh,4,2,small,med,unacc\n",
      "\n",
      "low,vhigh,4,2,small,high,unacc\n",
      "\n",
      "low,vhigh,4,2,med,low,unacc\n",
      "\n",
      "low,vhigh,4,2,med,med,unacc\n",
      "\n",
      "low,vhigh,4,2,med,high,unacc\n",
      "\n",
      "low,vhigh,4,2,big,low,unacc\n",
      "\n",
      "low,vhigh,4,2,big,med,unacc\n",
      "\n",
      "low,vhigh,4,2,big,high,unacc\n",
      "\n",
      "low,vhigh,4,4,small,low,unacc\n",
      "\n",
      "low,vhigh,4,4,small,med,unacc\n",
      "\n",
      "low,vhigh,4,4,small,high,acc\n",
      "\n",
      "low,vhigh,4,4,med,low,unacc\n",
      "\n",
      "low,vhigh,4,4,med,med,acc\n",
      "\n",
      "low,vhigh,4,4,med,high,acc\n",
      "\n",
      "low,vhigh,4,4,big,low,unacc\n",
      "\n",
      "low,vhigh,4,4,big,med,acc\n",
      "\n",
      "low,vhigh,4,4,big,high,acc\n",
      "\n",
      "low,vhigh,4,more,small,low,unacc\n",
      "\n",
      "low,vhigh,4,more,small,med,unacc\n",
      "\n",
      "low,vhigh,4,more,small,high,acc\n",
      "\n",
      "low,vhigh,4,more,med,low,unacc\n",
      "\n",
      "low,vhigh,4,more,med,med,acc\n",
      "\n",
      "low,vhigh,4,more,med,high,acc\n",
      "\n",
      "low,vhigh,4,more,big,low,unacc\n",
      "\n",
      "low,vhigh,4,more,big,med,acc\n",
      "\n",
      "low,vhigh,4,more,big,high,acc\n",
      "\n",
      "low,vhigh,5more,2,small,low,unacc\n",
      "\n",
      "low,vhigh,5more,2,small,med,unacc\n",
      "\n",
      "low,vhigh,5more,2,small,high,unacc\n",
      "\n",
      "low,vhigh,5more,2,med,low,unacc\n",
      "\n",
      "low,vhigh,5more,2,med,med,unacc\n",
      "\n",
      "low,vhigh,5more,2,med,high,unacc\n",
      "\n",
      "low,vhigh,5more,2,big,low,unacc\n",
      "\n",
      "low,vhigh,5more,2,big,med,unacc\n",
      "\n",
      "low,vhigh,5more,2,big,high,unacc\n",
      "\n",
      "low,vhigh,5more,4,small,low,unacc\n",
      "\n",
      "low,vhigh,5more,4,small,med,unacc\n",
      "\n",
      "low,vhigh,5more,4,small,high,acc\n",
      "\n",
      "low,vhigh,5more,4,med,low,unacc\n",
      "\n",
      "low,vhigh,5more,4,med,med,acc\n",
      "\n",
      "low,vhigh,5more,4,med,high,acc\n",
      "\n",
      "low,vhigh,5more,4,big,low,unacc\n",
      "\n",
      "low,vhigh,5more,4,big,med,acc\n",
      "\n",
      "low,vhigh,5more,4,big,high,acc\n",
      "\n",
      "low,vhigh,5more,more,small,low,unacc\n",
      "\n",
      "low,vhigh,5more,more,small,med,unacc\n",
      "\n",
      "low,vhigh,5more,more,small,high,acc\n",
      "\n",
      "low,vhigh,5more,more,med,low,unacc\n",
      "\n",
      "low,vhigh,5more,more,med,med,acc\n",
      "\n",
      "low,vhigh,5more,more,med,high,acc\n",
      "\n",
      "low,vhigh,5more,more,big,low,unacc\n",
      "\n",
      "low,vhigh,5more,more,big,med,acc\n",
      "\n",
      "low,vhigh,5more,more,big,high,acc\n",
      "\n",
      "low,high,2,2,small,low,unacc\n",
      "\n",
      "low,high,2,2,small,med,unacc\n",
      "\n",
      "low,high,2,2,small,high,unacc\n",
      "\n",
      "low,high,2,2,med,low,unacc\n",
      "\n",
      "low,high,2,2,med,med,unacc\n",
      "\n",
      "low,high,2,2,med,high,unacc\n",
      "\n",
      "low,high,2,2,big,low,unacc\n",
      "\n",
      "low,high,2,2,big,med,unacc\n",
      "\n",
      "low,high,2,2,big,high,unacc\n",
      "\n",
      "low,high,2,4,small,low,unacc\n",
      "\n",
      "low,high,2,4,small,med,acc\n",
      "\n",
      "low,high,2,4,small,high,acc\n",
      "\n",
      "low,high,2,4,med,low,unacc\n",
      "\n",
      "low,high,2,4,med,med,acc\n",
      "\n",
      "low,high,2,4,med,high,acc\n",
      "\n",
      "low,high,2,4,big,low,unacc\n",
      "\n",
      "low,high,2,4,big,med,acc\n",
      "\n",
      "low,high,2,4,big,high,vgood\n",
      "\n",
      "low,high,2,more,small,low,unacc\n",
      "\n",
      "low,high,2,more,small,med,unacc\n",
      "\n",
      "low,high,2,more,small,high,unacc\n",
      "\n",
      "low,high,2,more,med,low,unacc\n",
      "\n",
      "low,high,2,more,med,med,acc\n",
      "\n",
      "low,high,2,more,med,high,acc\n",
      "\n",
      "low,high,2,more,big,low,unacc\n",
      "\n",
      "low,high,2,more,big,med,acc\n",
      "\n",
      "low,high,2,more,big,high,vgood\n",
      "\n",
      "low,high,3,2,small,low,unacc\n",
      "\n",
      "low,high,3,2,small,med,unacc\n",
      "\n",
      "low,high,3,2,small,high,unacc\n",
      "\n",
      "low,high,3,2,med,low,unacc\n",
      "\n",
      "low,high,3,2,med,med,unacc\n",
      "\n",
      "low,high,3,2,med,high,unacc\n",
      "\n",
      "low,high,3,2,big,low,unacc\n",
      "\n",
      "low,high,3,2,big,med,unacc\n",
      "\n",
      "low,high,3,2,big,high,unacc\n",
      "\n",
      "low,high,3,4,small,low,unacc\n",
      "\n",
      "low,high,3,4,small,med,acc\n",
      "\n",
      "low,high,3,4,small,high,acc\n",
      "\n",
      "low,high,3,4,med,low,unacc\n",
      "\n",
      "low,high,3,4,med,med,acc\n",
      "\n",
      "low,high,3,4,med,high,acc\n",
      "\n",
      "low,high,3,4,big,low,unacc\n",
      "\n",
      "low,high,3,4,big,med,acc\n",
      "\n",
      "low,high,3,4,big,high,vgood\n",
      "\n",
      "low,high,3,more,small,low,unacc\n",
      "\n",
      "low,high,3,more,small,med,acc\n",
      "\n",
      "low,high,3,more,small,high,acc\n",
      "\n",
      "low,high,3,more,med,low,unacc\n",
      "\n",
      "low,high,3,more,med,med,acc\n",
      "\n",
      "low,high,3,more,med,high,vgood\n",
      "\n",
      "low,high,3,more,big,low,unacc\n",
      "\n",
      "low,high,3,more,big,med,acc\n",
      "\n",
      "low,high,3,more,big,high,vgood\n",
      "\n",
      "low,high,4,2,small,low,unacc\n",
      "\n",
      "low,high,4,2,small,med,unacc\n",
      "\n",
      "low,high,4,2,small,high,unacc\n",
      "\n",
      "low,high,4,2,med,low,unacc\n",
      "\n",
      "low,high,4,2,med,med,unacc\n",
      "\n",
      "low,high,4,2,med,high,unacc\n",
      "\n",
      "low,high,4,2,big,low,unacc\n",
      "\n",
      "low,high,4,2,big,med,unacc\n",
      "\n",
      "low,high,4,2,big,high,unacc\n",
      "\n",
      "low,high,4,4,small,low,unacc\n",
      "\n",
      "low,high,4,4,small,med,acc\n",
      "\n",
      "low,high,4,4,small,high,acc\n",
      "\n",
      "low,high,4,4,med,low,unacc\n",
      "\n",
      "low,high,4,4,med,med,acc\n",
      "\n",
      "low,high,4,4,med,high,vgood\n",
      "\n",
      "low,high,4,4,big,low,unacc\n",
      "\n",
      "low,high,4,4,big,med,acc\n",
      "\n",
      "low,high,4,4,big,high,vgood\n",
      "\n",
      "low,high,4,more,small,low,unacc\n",
      "\n",
      "low,high,4,more,small,med,acc\n",
      "\n",
      "low,high,4,more,small,high,acc\n",
      "\n",
      "low,high,4,more,med,low,unacc\n",
      "\n",
      "low,high,4,more,med,med,acc\n",
      "\n",
      "low,high,4,more,med,high,vgood\n",
      "\n",
      "low,high,4,more,big,low,unacc\n",
      "\n",
      "low,high,4,more,big,med,acc\n",
      "\n",
      "low,high,4,more,big,high,vgood\n",
      "\n",
      "low,high,5more,2,small,low,unacc\n",
      "\n",
      "low,high,5more,2,small,med,unacc\n",
      "\n",
      "low,high,5more,2,small,high,unacc\n",
      "\n",
      "low,high,5more,2,med,low,unacc\n",
      "\n",
      "low,high,5more,2,med,med,unacc\n",
      "\n",
      "low,high,5more,2,med,high,unacc\n",
      "\n",
      "low,high,5more,2,big,low,unacc\n",
      "\n",
      "low,high,5more,2,big,med,unacc\n",
      "\n",
      "low,high,5more,2,big,high,unacc\n",
      "\n",
      "low,high,5more,4,small,low,unacc\n",
      "\n",
      "low,high,5more,4,small,med,acc\n",
      "\n",
      "low,high,5more,4,small,high,acc\n",
      "\n",
      "low,high,5more,4,med,low,unacc\n",
      "\n",
      "low,high,5more,4,med,med,acc\n",
      "\n",
      "low,high,5more,4,med,high,vgood\n",
      "\n",
      "low,high,5more,4,big,low,unacc\n",
      "\n",
      "low,high,5more,4,big,med,acc\n",
      "\n",
      "low,high,5more,4,big,high,vgood\n",
      "\n",
      "low,high,5more,more,small,low,unacc\n",
      "\n",
      "low,high,5more,more,small,med,acc\n",
      "\n",
      "low,high,5more,more,small,high,acc\n",
      "\n",
      "low,high,5more,more,med,low,unacc\n",
      "\n",
      "low,high,5more,more,med,med,acc\n",
      "\n",
      "low,high,5more,more,med,high,vgood\n",
      "\n",
      "low,high,5more,more,big,low,unacc\n",
      "\n",
      "low,high,5more,more,big,med,acc\n",
      "\n",
      "low,high,5more,more,big,high,vgood\n",
      "\n",
      "low,med,2,2,small,low,unacc\n",
      "\n",
      "low,med,2,2,small,med,unacc\n",
      "\n",
      "low,med,2,2,small,high,unacc\n",
      "\n",
      "low,med,2,2,med,low,unacc\n",
      "\n",
      "low,med,2,2,med,med,unacc\n",
      "\n",
      "low,med,2,2,med,high,unacc\n",
      "\n",
      "low,med,2,2,big,low,unacc\n",
      "\n",
      "low,med,2,2,big,med,unacc\n",
      "\n",
      "low,med,2,2,big,high,unacc\n",
      "\n",
      "low,med,2,4,small,low,unacc\n",
      "\n",
      "low,med,2,4,small,med,acc\n",
      "\n",
      "low,med,2,4,small,high,good\n",
      "\n",
      "low,med,2,4,med,low,unacc\n",
      "\n",
      "low,med,2,4,med,med,acc\n",
      "\n",
      "low,med,2,4,med,high,good\n",
      "\n",
      "low,med,2,4,big,low,unacc\n",
      "\n",
      "low,med,2,4,big,med,good\n",
      "\n",
      "low,med,2,4,big,high,vgood\n",
      "\n",
      "low,med,2,more,small,low,unacc\n",
      "\n",
      "low,med,2,more,small,med,unacc\n",
      "\n",
      "low,med,2,more,small,high,unacc\n",
      "\n",
      "low,med,2,more,med,low,unacc\n",
      "\n",
      "low,med,2,more,med,med,acc\n",
      "\n",
      "low,med,2,more,med,high,good\n",
      "\n",
      "low,med,2,more,big,low,unacc\n",
      "\n",
      "low,med,2,more,big,med,good\n",
      "\n",
      "low,med,2,more,big,high,vgood\n",
      "\n",
      "low,med,3,2,small,low,unacc\n",
      "\n",
      "low,med,3,2,small,med,unacc\n",
      "\n",
      "low,med,3,2,small,high,unacc\n",
      "\n",
      "low,med,3,2,med,low,unacc\n",
      "\n",
      "low,med,3,2,med,med,unacc\n",
      "\n",
      "low,med,3,2,med,high,unacc\n",
      "\n",
      "low,med,3,2,big,low,unacc\n",
      "\n",
      "low,med,3,2,big,med,unacc\n",
      "\n",
      "low,med,3,2,big,high,unacc\n",
      "\n",
      "low,med,3,4,small,low,unacc\n",
      "\n",
      "low,med,3,4,small,med,acc\n",
      "\n",
      "low,med,3,4,small,high,good\n",
      "\n",
      "low,med,3,4,med,low,unacc\n",
      "\n",
      "low,med,3,4,med,med,acc\n",
      "\n",
      "low,med,3,4,med,high,good\n",
      "\n",
      "low,med,3,4,big,low,unacc\n",
      "\n",
      "low,med,3,4,big,med,good\n",
      "\n",
      "low,med,3,4,big,high,vgood\n",
      "\n",
      "low,med,3,more,small,low,unacc\n",
      "\n",
      "low,med,3,more,small,med,acc\n",
      "\n",
      "low,med,3,more,small,high,good\n",
      "\n",
      "low,med,3,more,med,low,unacc\n",
      "\n",
      "low,med,3,more,med,med,good\n",
      "\n",
      "low,med,3,more,med,high,vgood\n",
      "\n",
      "low,med,3,more,big,low,unacc\n",
      "\n",
      "low,med,3,more,big,med,good\n",
      "\n",
      "low,med,3,more,big,high,vgood\n",
      "\n",
      "low,med,4,2,small,low,unacc\n",
      "\n",
      "low,med,4,2,small,med,unacc\n",
      "\n",
      "low,med,4,2,small,high,unacc\n",
      "\n",
      "low,med,4,2,med,low,unacc\n",
      "\n",
      "low,med,4,2,med,med,unacc\n",
      "\n",
      "low,med,4,2,med,high,unacc\n",
      "\n",
      "low,med,4,2,big,low,unacc\n",
      "\n",
      "low,med,4,2,big,med,unacc\n",
      "\n",
      "low,med,4,2,big,high,unacc\n",
      "\n",
      "low,med,4,4,small,low,unacc\n",
      "\n",
      "low,med,4,4,small,med,acc\n",
      "\n",
      "low,med,4,4,small,high,good\n",
      "\n",
      "low,med,4,4,med,low,unacc\n",
      "\n",
      "low,med,4,4,med,med,good\n",
      "\n",
      "low,med,4,4,med,high,vgood\n",
      "\n",
      "low,med,4,4,big,low,unacc\n",
      "\n",
      "low,med,4,4,big,med,good\n",
      "\n",
      "low,med,4,4,big,high,vgood\n",
      "\n",
      "low,med,4,more,small,low,unacc\n",
      "\n",
      "low,med,4,more,small,med,acc\n",
      "\n",
      "low,med,4,more,small,high,good\n",
      "\n",
      "low,med,4,more,med,low,unacc\n",
      "\n",
      "low,med,4,more,med,med,good\n",
      "\n",
      "low,med,4,more,med,high,vgood\n",
      "\n",
      "low,med,4,more,big,low,unacc\n",
      "\n",
      "low,med,4,more,big,med,good\n",
      "\n",
      "low,med,4,more,big,high,vgood\n",
      "\n",
      "low,med,5more,2,small,low,unacc\n",
      "\n",
      "low,med,5more,2,small,med,unacc\n",
      "\n",
      "low,med,5more,2,small,high,unacc\n",
      "\n",
      "low,med,5more,2,med,low,unacc\n",
      "\n",
      "low,med,5more,2,med,med,unacc\n",
      "\n",
      "low,med,5more,2,med,high,unacc\n",
      "\n",
      "low,med,5more,2,big,low,unacc\n",
      "\n",
      "low,med,5more,2,big,med,unacc\n",
      "\n",
      "low,med,5more,2,big,high,unacc\n",
      "\n",
      "low,med,5more,4,small,low,unacc\n",
      "\n",
      "low,med,5more,4,small,med,acc\n",
      "\n",
      "low,med,5more,4,small,high,good\n",
      "\n",
      "low,med,5more,4,med,low,unacc\n",
      "\n",
      "low,med,5more,4,med,med,good\n",
      "\n",
      "low,med,5more,4,med,high,vgood\n",
      "\n",
      "low,med,5more,4,big,low,unacc\n",
      "\n",
      "low,med,5more,4,big,med,good\n",
      "\n",
      "low,med,5more,4,big,high,vgood\n",
      "\n",
      "low,med,5more,more,small,low,unacc\n",
      "\n",
      "low,med,5more,more,small,med,acc\n",
      "\n",
      "low,med,5more,more,small,high,good\n",
      "\n",
      "low,med,5more,more,med,low,unacc\n",
      "\n",
      "low,med,5more,more,med,med,good\n",
      "\n",
      "low,med,5more,more,med,high,vgood\n",
      "\n",
      "low,med,5more,more,big,low,unacc\n",
      "\n",
      "low,med,5more,more,big,med,good\n",
      "\n",
      "low,med,5more,more,big,high,vgood\n",
      "\n",
      "low,low,2,2,small,low,unacc\n",
      "\n",
      "low,low,2,2,small,med,unacc\n",
      "\n",
      "low,low,2,2,small,high,unacc\n",
      "\n",
      "low,low,2,2,med,low,unacc\n",
      "\n",
      "low,low,2,2,med,med,unacc\n",
      "\n",
      "low,low,2,2,med,high,unacc\n",
      "\n",
      "low,low,2,2,big,low,unacc\n",
      "\n",
      "low,low,2,2,big,med,unacc\n",
      "\n",
      "low,low,2,2,big,high,unacc\n",
      "\n",
      "low,low,2,4,small,low,unacc\n",
      "\n",
      "low,low,2,4,small,med,acc\n",
      "\n",
      "low,low,2,4,small,high,good\n",
      "\n",
      "low,low,2,4,med,low,unacc\n",
      "\n",
      "low,low,2,4,med,med,acc\n",
      "\n",
      "low,low,2,4,med,high,good\n",
      "\n",
      "low,low,2,4,big,low,unacc\n",
      "\n",
      "low,low,2,4,big,med,good\n",
      "\n",
      "low,low,2,4,big,high,vgood\n",
      "\n",
      "low,low,2,more,small,low,unacc\n",
      "\n",
      "low,low,2,more,small,med,unacc\n",
      "\n",
      "low,low,2,more,small,high,unacc\n",
      "\n",
      "low,low,2,more,med,low,unacc\n",
      "\n",
      "low,low,2,more,med,med,acc\n",
      "\n",
      "low,low,2,more,med,high,good\n",
      "\n",
      "low,low,2,more,big,low,unacc\n",
      "\n",
      "low,low,2,more,big,med,good\n",
      "\n",
      "low,low,2,more,big,high,vgood\n",
      "\n",
      "low,low,3,2,small,low,unacc\n",
      "\n",
      "low,low,3,2,small,med,unacc\n",
      "\n",
      "low,low,3,2,small,high,unacc\n",
      "\n",
      "low,low,3,2,med,low,unacc\n",
      "\n",
      "low,low,3,2,med,med,unacc\n",
      "\n",
      "low,low,3,2,med,high,unacc\n",
      "\n",
      "low,low,3,2,big,low,unacc\n",
      "\n",
      "low,low,3,2,big,med,unacc\n",
      "\n",
      "low,low,3,2,big,high,unacc\n",
      "\n",
      "low,low,3,4,small,low,unacc\n",
      "\n",
      "low,low,3,4,small,med,acc\n",
      "\n",
      "low,low,3,4,small,high,good\n",
      "\n",
      "low,low,3,4,med,low,unacc\n",
      "\n",
      "low,low,3,4,med,med,acc\n",
      "\n",
      "low,low,3,4,med,high,good\n",
      "\n",
      "low,low,3,4,big,low,unacc\n",
      "\n",
      "low,low,3,4,big,med,good\n",
      "\n",
      "low,low,3,4,big,high,vgood\n",
      "\n",
      "low,low,3,more,small,low,unacc\n",
      "\n",
      "low,low,3,more,small,med,acc\n",
      "\n",
      "low,low,3,more,small,high,good\n",
      "\n",
      "low,low,3,more,med,low,unacc\n",
      "\n",
      "low,low,3,more,med,med,good\n",
      "\n",
      "low,low,3,more,med,high,vgood\n",
      "\n",
      "low,low,3,more,big,low,unacc\n",
      "\n",
      "low,low,3,more,big,med,good\n",
      "\n",
      "low,low,3,more,big,high,vgood\n",
      "\n",
      "low,low,4,2,small,low,unacc\n",
      "\n",
      "low,low,4,2,small,med,unacc\n",
      "\n",
      "low,low,4,2,small,high,unacc\n",
      "\n",
      "low,low,4,2,med,low,unacc\n",
      "\n",
      "low,low,4,2,med,med,unacc\n",
      "\n",
      "low,low,4,2,med,high,unacc\n",
      "\n",
      "low,low,4,2,big,low,unacc\n",
      "\n",
      "low,low,4,2,big,med,unacc\n",
      "\n",
      "low,low,4,2,big,high,unacc\n",
      "\n",
      "low,low,4,4,small,low,unacc\n",
      "\n",
      "low,low,4,4,small,med,acc\n",
      "\n",
      "low,low,4,4,small,high,good\n",
      "\n",
      "low,low,4,4,med,low,unacc\n",
      "\n",
      "low,low,4,4,med,med,good\n",
      "\n",
      "low,low,4,4,med,high,vgood\n",
      "\n",
      "low,low,4,4,big,low,unacc\n",
      "\n",
      "low,low,4,4,big,med,good\n",
      "\n",
      "low,low,4,4,big,high,vgood\n",
      "\n",
      "low,low,4,more,small,low,unacc\n",
      "\n",
      "low,low,4,more,small,med,acc\n",
      "\n",
      "low,low,4,more,small,high,good\n",
      "\n",
      "low,low,4,more,med,low,unacc\n",
      "\n",
      "low,low,4,more,med,med,good\n",
      "\n",
      "low,low,4,more,med,high,vgood\n",
      "\n",
      "low,low,4,more,big,low,unacc\n",
      "\n",
      "low,low,4,more,big,med,good\n",
      "\n",
      "low,low,4,more,big,high,vgood\n",
      "\n",
      "low,low,5more,2,small,low,unacc\n",
      "\n",
      "low,low,5more,2,small,med,unacc\n",
      "\n",
      "low,low,5more,2,small,high,unacc\n",
      "\n",
      "low,low,5more,2,med,low,unacc\n",
      "\n",
      "low,low,5more,2,med,med,unacc\n",
      "\n",
      "low,low,5more,2,med,high,unacc\n",
      "\n",
      "low,low,5more,2,big,low,unacc\n",
      "\n",
      "low,low,5more,2,big,med,unacc\n",
      "\n",
      "low,low,5more,2,big,high,unacc\n",
      "\n",
      "low,low,5more,4,small,low,unacc\n",
      "\n",
      "low,low,5more,4,small,med,acc\n",
      "\n",
      "low,low,5more,4,small,high,good\n",
      "\n",
      "low,low,5more,4,med,low,unacc\n",
      "\n",
      "low,low,5more,4,med,med,good\n",
      "\n",
      "low,low,5more,4,med,high,vgood\n",
      "\n",
      "low,low,5more,4,big,low,unacc\n",
      "\n",
      "low,low,5more,4,big,med,good\n",
      "\n",
      "low,low,5more,4,big,high,vgood\n",
      "\n",
      "low,low,5more,more,small,low,unacc\n",
      "\n",
      "low,low,5more,more,small,med,acc\n",
      "\n",
      "low,low,5more,more,small,high,good\n",
      "\n",
      "low,low,5more,more,med,low,unacc\n",
      "\n",
      "low,low,5more,more,med,med,good\n",
      "\n",
      "low,low,5more,more,med,high,vgood\n",
      "\n",
      "low,low,5more,more,big,low,unacc\n",
      "\n",
      "low,low,5more,more,big,med,good\n",
      "\n",
      "low,low,5more,more,big,high,vgood\n",
      "\n"
     ]
    }
   ],
   "source": [
    "carFolder = DATASET_FOLDER / CAR_EVAL\n",
    "carFolderFiles = list(carFolder.glob(\"*.data\"))\n",
    "\n",
    "with open(carFolderFiles[0], 'r') as f:\n",
    "  for line in f.readlines():\n",
    "    print(line)"
   ]
  },
  {
   "cell_type": "code",
   "execution_count": 42,
   "metadata": {
    "executionInfo": {
     "elapsed": 21,
     "status": "ok",
     "timestamp": 1702914379719,
     "user": {
      "displayName": "Hitesh Kayastha",
      "userId": "08602966089512209356"
     },
     "user_tz": -345
    },
    "id": "rhb3WkCJkaqh"
   },
   "outputs": [],
   "source": [
    "carsDfOrig = pd.read_csv(carFolderFiles[-1], names = [\"buying\",\"maint\",\"doors\", \"persons\", \"lug_boot\", \"safety\", \"CAR\"])"
   ]
  },
  {
   "cell_type": "code",
   "execution_count": 43,
   "metadata": {
    "colab": {
     "base_uri": "https://localhost:8080/",
     "height": 423
    },
    "executionInfo": {
     "elapsed": 21,
     "status": "ok",
     "timestamp": 1702914379719,
     "user": {
      "displayName": "Hitesh Kayastha",
      "userId": "08602966089512209356"
     },
     "user_tz": -345
    },
    "id": "uiQ12LrLlkl3",
    "outputId": "955f4d23-9888-4057-9e14-433f61ad0a2f"
   },
   "outputs": [
    {
     "data": {
      "text/html": [
       "<div>\n",
       "<style scoped>\n",
       "    .dataframe tbody tr th:only-of-type {\n",
       "        vertical-align: middle;\n",
       "    }\n",
       "\n",
       "    .dataframe tbody tr th {\n",
       "        vertical-align: top;\n",
       "    }\n",
       "\n",
       "    .dataframe thead th {\n",
       "        text-align: right;\n",
       "    }\n",
       "</style>\n",
       "<table border=\"1\" class=\"dataframe\">\n",
       "  <thead>\n",
       "    <tr style=\"text-align: right;\">\n",
       "      <th></th>\n",
       "      <th>buying</th>\n",
       "      <th>maint</th>\n",
       "      <th>doors</th>\n",
       "      <th>persons</th>\n",
       "      <th>lug_boot</th>\n",
       "      <th>safety</th>\n",
       "      <th>CAR</th>\n",
       "    </tr>\n",
       "  </thead>\n",
       "  <tbody>\n",
       "    <tr>\n",
       "      <th>0</th>\n",
       "      <td>vhigh</td>\n",
       "      <td>vhigh</td>\n",
       "      <td>2</td>\n",
       "      <td>2</td>\n",
       "      <td>small</td>\n",
       "      <td>low</td>\n",
       "      <td>unacc</td>\n",
       "    </tr>\n",
       "    <tr>\n",
       "      <th>1</th>\n",
       "      <td>vhigh</td>\n",
       "      <td>vhigh</td>\n",
       "      <td>2</td>\n",
       "      <td>2</td>\n",
       "      <td>small</td>\n",
       "      <td>med</td>\n",
       "      <td>unacc</td>\n",
       "    </tr>\n",
       "    <tr>\n",
       "      <th>2</th>\n",
       "      <td>vhigh</td>\n",
       "      <td>vhigh</td>\n",
       "      <td>2</td>\n",
       "      <td>2</td>\n",
       "      <td>small</td>\n",
       "      <td>high</td>\n",
       "      <td>unacc</td>\n",
       "    </tr>\n",
       "    <tr>\n",
       "      <th>3</th>\n",
       "      <td>vhigh</td>\n",
       "      <td>vhigh</td>\n",
       "      <td>2</td>\n",
       "      <td>2</td>\n",
       "      <td>med</td>\n",
       "      <td>low</td>\n",
       "      <td>unacc</td>\n",
       "    </tr>\n",
       "    <tr>\n",
       "      <th>4</th>\n",
       "      <td>vhigh</td>\n",
       "      <td>vhigh</td>\n",
       "      <td>2</td>\n",
       "      <td>2</td>\n",
       "      <td>med</td>\n",
       "      <td>med</td>\n",
       "      <td>unacc</td>\n",
       "    </tr>\n",
       "    <tr>\n",
       "      <th>...</th>\n",
       "      <td>...</td>\n",
       "      <td>...</td>\n",
       "      <td>...</td>\n",
       "      <td>...</td>\n",
       "      <td>...</td>\n",
       "      <td>...</td>\n",
       "      <td>...</td>\n",
       "    </tr>\n",
       "    <tr>\n",
       "      <th>1723</th>\n",
       "      <td>low</td>\n",
       "      <td>low</td>\n",
       "      <td>5more</td>\n",
       "      <td>more</td>\n",
       "      <td>med</td>\n",
       "      <td>med</td>\n",
       "      <td>good</td>\n",
       "    </tr>\n",
       "    <tr>\n",
       "      <th>1724</th>\n",
       "      <td>low</td>\n",
       "      <td>low</td>\n",
       "      <td>5more</td>\n",
       "      <td>more</td>\n",
       "      <td>med</td>\n",
       "      <td>high</td>\n",
       "      <td>vgood</td>\n",
       "    </tr>\n",
       "    <tr>\n",
       "      <th>1725</th>\n",
       "      <td>low</td>\n",
       "      <td>low</td>\n",
       "      <td>5more</td>\n",
       "      <td>more</td>\n",
       "      <td>big</td>\n",
       "      <td>low</td>\n",
       "      <td>unacc</td>\n",
       "    </tr>\n",
       "    <tr>\n",
       "      <th>1726</th>\n",
       "      <td>low</td>\n",
       "      <td>low</td>\n",
       "      <td>5more</td>\n",
       "      <td>more</td>\n",
       "      <td>big</td>\n",
       "      <td>med</td>\n",
       "      <td>good</td>\n",
       "    </tr>\n",
       "    <tr>\n",
       "      <th>1727</th>\n",
       "      <td>low</td>\n",
       "      <td>low</td>\n",
       "      <td>5more</td>\n",
       "      <td>more</td>\n",
       "      <td>big</td>\n",
       "      <td>high</td>\n",
       "      <td>vgood</td>\n",
       "    </tr>\n",
       "  </tbody>\n",
       "</table>\n",
       "<p>1728 rows × 7 columns</p>\n",
       "</div>"
      ],
      "text/plain": [
       "     buying  maint  doors persons lug_boot safety    CAR\n",
       "0     vhigh  vhigh      2       2    small    low  unacc\n",
       "1     vhigh  vhigh      2       2    small    med  unacc\n",
       "2     vhigh  vhigh      2       2    small   high  unacc\n",
       "3     vhigh  vhigh      2       2      med    low  unacc\n",
       "4     vhigh  vhigh      2       2      med    med  unacc\n",
       "...     ...    ...    ...     ...      ...    ...    ...\n",
       "1723    low    low  5more    more      med    med   good\n",
       "1724    low    low  5more    more      med   high  vgood\n",
       "1725    low    low  5more    more      big    low  unacc\n",
       "1726    low    low  5more    more      big    med   good\n",
       "1727    low    low  5more    more      big   high  vgood\n",
       "\n",
       "[1728 rows x 7 columns]"
      ]
     },
     "execution_count": 43,
     "metadata": {},
     "output_type": "execute_result"
    }
   ],
   "source": [
    "carsDf = carsDfOrig.copy()\n",
    "carsDf"
   ]
  },
  {
   "cell_type": "code",
   "execution_count": 18,
   "metadata": {
    "executionInfo": {
     "elapsed": 17,
     "status": "ok",
     "timestamp": 1702914379719,
     "user": {
      "displayName": "Hitesh Kayastha",
      "userId": "08602966089512209356"
     },
     "user_tz": -345
    },
    "id": "KQQRuHmR2-Hj"
   },
   "outputs": [],
   "source": [
    "def resetCarsDf():\n",
    "  global carsDfOrig, carsDf\n",
    "  carsDf = carsDfOrig.copy()\n",
    "  return"
   ]
  },
  {
   "cell_type": "markdown",
   "metadata": {
    "id": "-EtZIRaSmyCt"
   },
   "source": [
    "# Data Exploration of Cars"
   ]
  },
  {
   "cell_type": "code",
   "execution_count": 44,
   "metadata": {
    "colab": {
     "base_uri": "https://localhost:8080/"
    },
    "executionInfo": {
     "elapsed": 17,
     "status": "ok",
     "timestamp": 1702914379720,
     "user": {
      "displayName": "Hitesh Kayastha",
      "userId": "08602966089512209356"
     },
     "user_tz": -345
    },
    "id": "8dFZtVqxqRy_",
    "outputId": "7630da00-4738-40c2-ea39-1b0d3dd514de"
   },
   "outputs": [
    {
     "name": "stdout",
     "output_type": "stream",
     "text": [
      "<class 'pandas.core.frame.DataFrame'>\n",
      "RangeIndex: 1728 entries, 0 to 1727\n",
      "Data columns (total 7 columns):\n",
      " #   Column    Non-Null Count  Dtype \n",
      "---  ------    --------------  ----- \n",
      " 0   buying    1728 non-null   object\n",
      " 1   maint     1728 non-null   object\n",
      " 2   doors     1728 non-null   object\n",
      " 3   persons   1728 non-null   object\n",
      " 4   lug_boot  1728 non-null   object\n",
      " 5   safety    1728 non-null   object\n",
      " 6   CAR       1728 non-null   object\n",
      "dtypes: object(7)\n",
      "memory usage: 94.6+ KB\n"
     ]
    }
   ],
   "source": [
    "carsDf.info()"
   ]
  },
  {
   "cell_type": "code",
   "execution_count": 45,
   "metadata": {
    "colab": {
     "base_uri": "https://localhost:8080/",
     "height": 206
    },
    "executionInfo": {
     "elapsed": 13,
     "status": "ok",
     "timestamp": 1702914379720,
     "user": {
      "displayName": "Hitesh Kayastha",
      "userId": "08602966089512209356"
     },
     "user_tz": -345
    },
    "id": "FuWOr2_RqaI6",
    "outputId": "f5c70cf3-0873-4486-ff91-b28121d289b8"
   },
   "outputs": [
    {
     "data": {
      "text/html": [
       "<div>\n",
       "<style scoped>\n",
       "    .dataframe tbody tr th:only-of-type {\n",
       "        vertical-align: middle;\n",
       "    }\n",
       "\n",
       "    .dataframe tbody tr th {\n",
       "        vertical-align: top;\n",
       "    }\n",
       "\n",
       "    .dataframe thead th {\n",
       "        text-align: right;\n",
       "    }\n",
       "</style>\n",
       "<table border=\"1\" class=\"dataframe\">\n",
       "  <thead>\n",
       "    <tr style=\"text-align: right;\">\n",
       "      <th></th>\n",
       "      <th>buying</th>\n",
       "      <th>maint</th>\n",
       "      <th>doors</th>\n",
       "      <th>persons</th>\n",
       "      <th>lug_boot</th>\n",
       "      <th>safety</th>\n",
       "      <th>CAR</th>\n",
       "    </tr>\n",
       "  </thead>\n",
       "  <tbody>\n",
       "    <tr>\n",
       "      <th>0</th>\n",
       "      <td>vhigh</td>\n",
       "      <td>vhigh</td>\n",
       "      <td>2</td>\n",
       "      <td>2</td>\n",
       "      <td>small</td>\n",
       "      <td>low</td>\n",
       "      <td>unacc</td>\n",
       "    </tr>\n",
       "    <tr>\n",
       "      <th>1</th>\n",
       "      <td>vhigh</td>\n",
       "      <td>vhigh</td>\n",
       "      <td>2</td>\n",
       "      <td>2</td>\n",
       "      <td>small</td>\n",
       "      <td>med</td>\n",
       "      <td>unacc</td>\n",
       "    </tr>\n",
       "    <tr>\n",
       "      <th>2</th>\n",
       "      <td>vhigh</td>\n",
       "      <td>vhigh</td>\n",
       "      <td>2</td>\n",
       "      <td>2</td>\n",
       "      <td>small</td>\n",
       "      <td>high</td>\n",
       "      <td>unacc</td>\n",
       "    </tr>\n",
       "    <tr>\n",
       "      <th>3</th>\n",
       "      <td>vhigh</td>\n",
       "      <td>vhigh</td>\n",
       "      <td>2</td>\n",
       "      <td>2</td>\n",
       "      <td>med</td>\n",
       "      <td>low</td>\n",
       "      <td>unacc</td>\n",
       "    </tr>\n",
       "    <tr>\n",
       "      <th>4</th>\n",
       "      <td>vhigh</td>\n",
       "      <td>vhigh</td>\n",
       "      <td>2</td>\n",
       "      <td>2</td>\n",
       "      <td>med</td>\n",
       "      <td>med</td>\n",
       "      <td>unacc</td>\n",
       "    </tr>\n",
       "  </tbody>\n",
       "</table>\n",
       "</div>"
      ],
      "text/plain": [
       "  buying  maint doors persons lug_boot safety    CAR\n",
       "0  vhigh  vhigh     2       2    small    low  unacc\n",
       "1  vhigh  vhigh     2       2    small    med  unacc\n",
       "2  vhigh  vhigh     2       2    small   high  unacc\n",
       "3  vhigh  vhigh     2       2      med    low  unacc\n",
       "4  vhigh  vhigh     2       2      med    med  unacc"
      ]
     },
     "execution_count": 45,
     "metadata": {},
     "output_type": "execute_result"
    }
   ],
   "source": [
    "carsDf.head()"
   ]
  },
  {
   "cell_type": "markdown",
   "metadata": {
    "id": "WSV1jJIpqQF4"
   },
   "source": [
    "1. There are no missing values\n",
    "2. All 6 are categorical variables\n",
    "3. The target is CAR attribute"
   ]
  },
  {
   "cell_type": "code",
   "execution_count": 46,
   "metadata": {
    "colab": {
     "base_uri": "https://localhost:8080/",
     "height": 542
    },
    "executionInfo": {
     "elapsed": 1781,
     "status": "ok",
     "timestamp": 1702914381490,
     "user": {
      "displayName": "Hitesh Kayastha",
      "userId": "08602966089512209356"
     },
     "user_tz": -345
    },
    "id": "vVb7TTElnA4z",
    "outputId": "730ff4d4-80db-4445-b944-96dc5282a48d"
   },
   "outputs": [
    {
     "data": {
      "application/vnd.plotly.v1+json": {
       "config": {
        "plotlyServerURL": "https://plot.ly"
       },
       "data": [
        {
         "alignmentgroup": "True",
         "bingroup": "x",
         "hovertemplate": "CAR=%{x}<br>count=%{y}<extra></extra>",
         "legendgroup": "",
         "marker": {
          "color": "#636efa",
          "pattern": {
           "shape": ""
          }
         },
         "name": "",
         "offsetgroup": "",
         "orientation": "v",
         "showlegend": false,
         "texttemplate": "%{value}",
         "type": "histogram",
         "x": [
          "unacc",
          "unacc",
          "unacc",
          "unacc",
          "unacc",
          "unacc",
          "unacc",
          "unacc",
          "unacc",
          "unacc",
          "unacc",
          "unacc",
          "unacc",
          "unacc",
          "unacc",
          "unacc",
          "unacc",
          "unacc",
          "unacc",
          "unacc",
          "unacc",
          "unacc",
          "unacc",
          "unacc",
          "unacc",
          "unacc",
          "unacc",
          "unacc",
          "unacc",
          "unacc",
          "unacc",
          "unacc",
          "unacc",
          "unacc",
          "unacc",
          "unacc",
          "unacc",
          "unacc",
          "unacc",
          "unacc",
          "unacc",
          "unacc",
          "unacc",
          "unacc",
          "unacc",
          "unacc",
          "unacc",
          "unacc",
          "unacc",
          "unacc",
          "unacc",
          "unacc",
          "unacc",
          "unacc",
          "unacc",
          "unacc",
          "unacc",
          "unacc",
          "unacc",
          "unacc",
          "unacc",
          "unacc",
          "unacc",
          "unacc",
          "unacc",
          "unacc",
          "unacc",
          "unacc",
          "unacc",
          "unacc",
          "unacc",
          "unacc",
          "unacc",
          "unacc",
          "unacc",
          "unacc",
          "unacc",
          "unacc",
          "unacc",
          "unacc",
          "unacc",
          "unacc",
          "unacc",
          "unacc",
          "unacc",
          "unacc",
          "unacc",
          "unacc",
          "unacc",
          "unacc",
          "unacc",
          "unacc",
          "unacc",
          "unacc",
          "unacc",
          "unacc",
          "unacc",
          "unacc",
          "unacc",
          "unacc",
          "unacc",
          "unacc",
          "unacc",
          "unacc",
          "unacc",
          "unacc",
          "unacc",
          "unacc",
          "unacc",
          "unacc",
          "unacc",
          "unacc",
          "unacc",
          "unacc",
          "unacc",
          "unacc",
          "unacc",
          "unacc",
          "unacc",
          "unacc",
          "unacc",
          "unacc",
          "unacc",
          "unacc",
          "unacc",
          "unacc",
          "unacc",
          "unacc",
          "unacc",
          "unacc",
          "unacc",
          "unacc",
          "unacc",
          "unacc",
          "unacc",
          "unacc",
          "unacc",
          "unacc",
          "unacc",
          "unacc",
          "unacc",
          "unacc",
          "unacc",
          "unacc",
          "unacc",
          "unacc",
          "unacc",
          "unacc",
          "unacc",
          "unacc",
          "unacc",
          "unacc",
          "unacc",
          "unacc",
          "unacc",
          "unacc",
          "unacc",
          "unacc",
          "unacc",
          "unacc",
          "unacc",
          "unacc",
          "unacc",
          "unacc",
          "unacc",
          "unacc",
          "unacc",
          "unacc",
          "unacc",
          "unacc",
          "unacc",
          "unacc",
          "unacc",
          "unacc",
          "unacc",
          "unacc",
          "unacc",
          "unacc",
          "unacc",
          "unacc",
          "unacc",
          "unacc",
          "unacc",
          "unacc",
          "unacc",
          "unacc",
          "unacc",
          "unacc",
          "unacc",
          "unacc",
          "unacc",
          "unacc",
          "unacc",
          "unacc",
          "unacc",
          "unacc",
          "unacc",
          "unacc",
          "unacc",
          "unacc",
          "unacc",
          "unacc",
          "unacc",
          "unacc",
          "unacc",
          "unacc",
          "unacc",
          "unacc",
          "unacc",
          "unacc",
          "unacc",
          "unacc",
          "unacc",
          "unacc",
          "unacc",
          "unacc",
          "unacc",
          "unacc",
          "unacc",
          "unacc",
          "unacc",
          "unacc",
          "unacc",
          "unacc",
          "unacc",
          "unacc",
          "unacc",
          "acc",
          "unacc",
          "unacc",
          "acc",
          "unacc",
          "acc",
          "acc",
          "unacc",
          "unacc",
          "unacc",
          "unacc",
          "unacc",
          "acc",
          "unacc",
          "acc",
          "acc",
          "unacc",
          "unacc",
          "unacc",
          "unacc",
          "unacc",
          "unacc",
          "unacc",
          "unacc",
          "unacc",
          "unacc",
          "unacc",
          "acc",
          "unacc",
          "unacc",
          "acc",
          "unacc",
          "acc",
          "acc",
          "unacc",
          "unacc",
          "acc",
          "unacc",
          "acc",
          "acc",
          "unacc",
          "acc",
          "acc",
          "unacc",
          "unacc",
          "unacc",
          "unacc",
          "unacc",
          "unacc",
          "unacc",
          "unacc",
          "unacc",
          "unacc",
          "unacc",
          "acc",
          "unacc",
          "acc",
          "acc",
          "unacc",
          "acc",
          "acc",
          "unacc",
          "unacc",
          "acc",
          "unacc",
          "acc",
          "acc",
          "unacc",
          "acc",
          "acc",
          "unacc",
          "unacc",
          "unacc",
          "unacc",
          "unacc",
          "unacc",
          "unacc",
          "unacc",
          "unacc",
          "unacc",
          "unacc",
          "acc",
          "unacc",
          "acc",
          "acc",
          "unacc",
          "acc",
          "acc",
          "unacc",
          "unacc",
          "acc",
          "unacc",
          "acc",
          "acc",
          "unacc",
          "acc",
          "acc",
          "unacc",
          "unacc",
          "unacc",
          "unacc",
          "unacc",
          "unacc",
          "unacc",
          "unacc",
          "unacc",
          "unacc",
          "unacc",
          "acc",
          "unacc",
          "unacc",
          "acc",
          "unacc",
          "acc",
          "acc",
          "unacc",
          "unacc",
          "unacc",
          "unacc",
          "unacc",
          "acc",
          "unacc",
          "acc",
          "acc",
          "unacc",
          "unacc",
          "unacc",
          "unacc",
          "unacc",
          "unacc",
          "unacc",
          "unacc",
          "unacc",
          "unacc",
          "unacc",
          "acc",
          "unacc",
          "unacc",
          "acc",
          "unacc",
          "acc",
          "acc",
          "unacc",
          "unacc",
          "acc",
          "unacc",
          "acc",
          "acc",
          "unacc",
          "acc",
          "acc",
          "unacc",
          "unacc",
          "unacc",
          "unacc",
          "unacc",
          "unacc",
          "unacc",
          "unacc",
          "unacc",
          "unacc",
          "unacc",
          "acc",
          "unacc",
          "acc",
          "acc",
          "unacc",
          "acc",
          "acc",
          "unacc",
          "unacc",
          "acc",
          "unacc",
          "acc",
          "acc",
          "unacc",
          "acc",
          "acc",
          "unacc",
          "unacc",
          "unacc",
          "unacc",
          "unacc",
          "unacc",
          "unacc",
          "unacc",
          "unacc",
          "unacc",
          "unacc",
          "acc",
          "unacc",
          "acc",
          "acc",
          "unacc",
          "acc",
          "acc",
          "unacc",
          "unacc",
          "acc",
          "unacc",
          "acc",
          "acc",
          "unacc",
          "acc",
          "acc",
          "unacc",
          "unacc",
          "unacc",
          "unacc",
          "unacc",
          "unacc",
          "unacc",
          "unacc",
          "unacc",
          "unacc",
          "unacc",
          "unacc",
          "unacc",
          "unacc",
          "unacc",
          "unacc",
          "unacc",
          "unacc",
          "unacc",
          "unacc",
          "unacc",
          "unacc",
          "unacc",
          "unacc",
          "unacc",
          "unacc",
          "unacc",
          "unacc",
          "unacc",
          "unacc",
          "unacc",
          "unacc",
          "unacc",
          "unacc",
          "unacc",
          "unacc",
          "unacc",
          "unacc",
          "unacc",
          "unacc",
          "unacc",
          "unacc",
          "unacc",
          "unacc",
          "unacc",
          "unacc",
          "unacc",
          "unacc",
          "unacc",
          "unacc",
          "unacc",
          "unacc",
          "unacc",
          "unacc",
          "unacc",
          "unacc",
          "unacc",
          "unacc",
          "unacc",
          "unacc",
          "unacc",
          "unacc",
          "unacc",
          "unacc",
          "unacc",
          "unacc",
          "unacc",
          "unacc",
          "unacc",
          "unacc",
          "unacc",
          "unacc",
          "unacc",
          "unacc",
          "unacc",
          "unacc",
          "unacc",
          "unacc",
          "unacc",
          "unacc",
          "unacc",
          "unacc",
          "unacc",
          "unacc",
          "unacc",
          "unacc",
          "unacc",
          "unacc",
          "unacc",
          "unacc",
          "unacc",
          "unacc",
          "unacc",
          "unacc",
          "unacc",
          "unacc",
          "unacc",
          "unacc",
          "unacc",
          "unacc",
          "unacc",
          "unacc",
          "unacc",
          "unacc",
          "unacc",
          "unacc",
          "unacc",
          "unacc",
          "unacc",
          "unacc",
          "unacc",
          "unacc",
          "unacc",
          "unacc",
          "unacc",
          "unacc",
          "unacc",
          "unacc",
          "unacc",
          "acc",
          "unacc",
          "unacc",
          "acc",
          "unacc",
          "acc",
          "acc",
          "unacc",
          "unacc",
          "unacc",
          "unacc",
          "unacc",
          "acc",
          "unacc",
          "acc",
          "acc",
          "unacc",
          "unacc",
          "unacc",
          "unacc",
          "unacc",
          "unacc",
          "unacc",
          "unacc",
          "unacc",
          "unacc",
          "unacc",
          "acc",
          "unacc",
          "unacc",
          "acc",
          "unacc",
          "acc",
          "acc",
          "unacc",
          "unacc",
          "acc",
          "unacc",
          "acc",
          "acc",
          "unacc",
          "acc",
          "acc",
          "unacc",
          "unacc",
          "unacc",
          "unacc",
          "unacc",
          "unacc",
          "unacc",
          "unacc",
          "unacc",
          "unacc",
          "unacc",
          "acc",
          "unacc",
          "acc",
          "acc",
          "unacc",
          "acc",
          "acc",
          "unacc",
          "unacc",
          "acc",
          "unacc",
          "acc",
          "acc",
          "unacc",
          "acc",
          "acc",
          "unacc",
          "unacc",
          "unacc",
          "unacc",
          "unacc",
          "unacc",
          "unacc",
          "unacc",
          "unacc",
          "unacc",
          "unacc",
          "acc",
          "unacc",
          "acc",
          "acc",
          "unacc",
          "acc",
          "acc",
          "unacc",
          "unacc",
          "acc",
          "unacc",
          "acc",
          "acc",
          "unacc",
          "acc",
          "acc",
          "unacc",
          "unacc",
          "unacc",
          "unacc",
          "unacc",
          "unacc",
          "unacc",
          "unacc",
          "unacc",
          "unacc",
          "unacc",
          "acc",
          "unacc",
          "unacc",
          "acc",
          "unacc",
          "acc",
          "acc",
          "unacc",
          "unacc",
          "unacc",
          "unacc",
          "unacc",
          "acc",
          "unacc",
          "acc",
          "acc",
          "unacc",
          "unacc",
          "unacc",
          "unacc",
          "unacc",
          "unacc",
          "unacc",
          "unacc",
          "unacc",
          "unacc",
          "unacc",
          "acc",
          "unacc",
          "unacc",
          "acc",
          "unacc",
          "acc",
          "acc",
          "unacc",
          "unacc",
          "acc",
          "unacc",
          "acc",
          "acc",
          "unacc",
          "acc",
          "acc",
          "unacc",
          "unacc",
          "unacc",
          "unacc",
          "unacc",
          "unacc",
          "unacc",
          "unacc",
          "unacc",
          "unacc",
          "unacc",
          "acc",
          "unacc",
          "acc",
          "acc",
          "unacc",
          "acc",
          "acc",
          "unacc",
          "unacc",
          "acc",
          "unacc",
          "acc",
          "acc",
          "unacc",
          "acc",
          "acc",
          "unacc",
          "unacc",
          "unacc",
          "unacc",
          "unacc",
          "unacc",
          "unacc",
          "unacc",
          "unacc",
          "unacc",
          "unacc",
          "acc",
          "unacc",
          "acc",
          "acc",
          "unacc",
          "acc",
          "acc",
          "unacc",
          "unacc",
          "acc",
          "unacc",
          "acc",
          "acc",
          "unacc",
          "acc",
          "acc",
          "unacc",
          "unacc",
          "unacc",
          "unacc",
          "unacc",
          "unacc",
          "unacc",
          "unacc",
          "unacc",
          "unacc",
          "unacc",
          "acc",
          "unacc",
          "unacc",
          "acc",
          "unacc",
          "acc",
          "acc",
          "unacc",
          "unacc",
          "unacc",
          "unacc",
          "unacc",
          "acc",
          "unacc",
          "acc",
          "acc",
          "unacc",
          "unacc",
          "unacc",
          "unacc",
          "unacc",
          "unacc",
          "unacc",
          "unacc",
          "unacc",
          "unacc",
          "unacc",
          "acc",
          "unacc",
          "unacc",
          "acc",
          "unacc",
          "acc",
          "acc",
          "unacc",
          "unacc",
          "acc",
          "unacc",
          "acc",
          "acc",
          "unacc",
          "acc",
          "acc",
          "unacc",
          "unacc",
          "unacc",
          "unacc",
          "unacc",
          "unacc",
          "unacc",
          "unacc",
          "unacc",
          "unacc",
          "unacc",
          "acc",
          "unacc",
          "acc",
          "acc",
          "unacc",
          "acc",
          "acc",
          "unacc",
          "unacc",
          "acc",
          "unacc",
          "acc",
          "acc",
          "unacc",
          "acc",
          "acc",
          "unacc",
          "unacc",
          "unacc",
          "unacc",
          "unacc",
          "unacc",
          "unacc",
          "unacc",
          "unacc",
          "unacc",
          "unacc",
          "acc",
          "unacc",
          "acc",
          "acc",
          "unacc",
          "acc",
          "acc",
          "unacc",
          "unacc",
          "acc",
          "unacc",
          "acc",
          "acc",
          "unacc",
          "acc",
          "acc",
          "unacc",
          "unacc",
          "unacc",
          "unacc",
          "unacc",
          "unacc",
          "unacc",
          "unacc",
          "unacc",
          "unacc",
          "unacc",
          "acc",
          "unacc",
          "unacc",
          "acc",
          "unacc",
          "acc",
          "acc",
          "unacc",
          "unacc",
          "unacc",
          "unacc",
          "unacc",
          "acc",
          "unacc",
          "acc",
          "acc",
          "unacc",
          "unacc",
          "unacc",
          "unacc",
          "unacc",
          "unacc",
          "unacc",
          "unacc",
          "unacc",
          "unacc",
          "unacc",
          "acc",
          "unacc",
          "unacc",
          "acc",
          "unacc",
          "acc",
          "acc",
          "unacc",
          "unacc",
          "acc",
          "unacc",
          "acc",
          "acc",
          "unacc",
          "acc",
          "acc",
          "unacc",
          "unacc",
          "unacc",
          "unacc",
          "unacc",
          "unacc",
          "unacc",
          "unacc",
          "unacc",
          "unacc",
          "unacc",
          "acc",
          "unacc",
          "acc",
          "acc",
          "unacc",
          "acc",
          "acc",
          "unacc",
          "unacc",
          "acc",
          "unacc",
          "acc",
          "acc",
          "unacc",
          "acc",
          "acc",
          "unacc",
          "unacc",
          "unacc",
          "unacc",
          "unacc",
          "unacc",
          "unacc",
          "unacc",
          "unacc",
          "unacc",
          "unacc",
          "acc",
          "unacc",
          "acc",
          "acc",
          "unacc",
          "acc",
          "acc",
          "unacc",
          "unacc",
          "acc",
          "unacc",
          "acc",
          "acc",
          "unacc",
          "acc",
          "acc",
          "unacc",
          "unacc",
          "unacc",
          "unacc",
          "unacc",
          "unacc",
          "unacc",
          "unacc",
          "unacc",
          "unacc",
          "unacc",
          "acc",
          "unacc",
          "unacc",
          "acc",
          "unacc",
          "acc",
          "acc",
          "unacc",
          "unacc",
          "unacc",
          "unacc",
          "unacc",
          "acc",
          "unacc",
          "acc",
          "acc",
          "unacc",
          "unacc",
          "unacc",
          "unacc",
          "unacc",
          "unacc",
          "unacc",
          "unacc",
          "unacc",
          "unacc",
          "unacc",
          "acc",
          "unacc",
          "unacc",
          "acc",
          "unacc",
          "acc",
          "acc",
          "unacc",
          "unacc",
          "acc",
          "unacc",
          "acc",
          "acc",
          "unacc",
          "acc",
          "acc",
          "unacc",
          "unacc",
          "unacc",
          "unacc",
          "unacc",
          "unacc",
          "unacc",
          "unacc",
          "unacc",
          "unacc",
          "unacc",
          "acc",
          "unacc",
          "acc",
          "acc",
          "unacc",
          "acc",
          "acc",
          "unacc",
          "unacc",
          "acc",
          "unacc",
          "acc",
          "acc",
          "unacc",
          "acc",
          "acc",
          "unacc",
          "unacc",
          "unacc",
          "unacc",
          "unacc",
          "unacc",
          "unacc",
          "unacc",
          "unacc",
          "unacc",
          "unacc",
          "acc",
          "unacc",
          "acc",
          "acc",
          "unacc",
          "acc",
          "acc",
          "unacc",
          "unacc",
          "acc",
          "unacc",
          "acc",
          "acc",
          "unacc",
          "acc",
          "acc",
          "unacc",
          "unacc",
          "unacc",
          "unacc",
          "unacc",
          "unacc",
          "unacc",
          "unacc",
          "unacc",
          "unacc",
          "acc",
          "acc",
          "unacc",
          "acc",
          "acc",
          "unacc",
          "acc",
          "vgood",
          "unacc",
          "unacc",
          "unacc",
          "unacc",
          "acc",
          "acc",
          "unacc",
          "acc",
          "vgood",
          "unacc",
          "unacc",
          "unacc",
          "unacc",
          "unacc",
          "unacc",
          "unacc",
          "unacc",
          "unacc",
          "unacc",
          "acc",
          "acc",
          "unacc",
          "acc",
          "acc",
          "unacc",
          "acc",
          "vgood",
          "unacc",
          "acc",
          "acc",
          "unacc",
          "acc",
          "vgood",
          "unacc",
          "acc",
          "vgood",
          "unacc",
          "unacc",
          "unacc",
          "unacc",
          "unacc",
          "unacc",
          "unacc",
          "unacc",
          "unacc",
          "unacc",
          "acc",
          "acc",
          "unacc",
          "acc",
          "vgood",
          "unacc",
          "acc",
          "vgood",
          "unacc",
          "acc",
          "acc",
          "unacc",
          "acc",
          "vgood",
          "unacc",
          "acc",
          "vgood",
          "unacc",
          "unacc",
          "unacc",
          "unacc",
          "unacc",
          "unacc",
          "unacc",
          "unacc",
          "unacc",
          "unacc",
          "acc",
          "acc",
          "unacc",
          "acc",
          "vgood",
          "unacc",
          "acc",
          "vgood",
          "unacc",
          "acc",
          "acc",
          "unacc",
          "acc",
          "vgood",
          "unacc",
          "acc",
          "vgood",
          "unacc",
          "unacc",
          "unacc",
          "unacc",
          "unacc",
          "unacc",
          "unacc",
          "unacc",
          "unacc",
          "unacc",
          "acc",
          "good",
          "unacc",
          "acc",
          "good",
          "unacc",
          "good",
          "vgood",
          "unacc",
          "unacc",
          "unacc",
          "unacc",
          "acc",
          "good",
          "unacc",
          "good",
          "vgood",
          "unacc",
          "unacc",
          "unacc",
          "unacc",
          "unacc",
          "unacc",
          "unacc",
          "unacc",
          "unacc",
          "unacc",
          "acc",
          "good",
          "unacc",
          "acc",
          "good",
          "unacc",
          "good",
          "vgood",
          "unacc",
          "acc",
          "good",
          "unacc",
          "good",
          "vgood",
          "unacc",
          "good",
          "vgood",
          "unacc",
          "unacc",
          "unacc",
          "unacc",
          "unacc",
          "unacc",
          "unacc",
          "unacc",
          "unacc",
          "unacc",
          "acc",
          "good",
          "unacc",
          "good",
          "vgood",
          "unacc",
          "good",
          "vgood",
          "unacc",
          "acc",
          "good",
          "unacc",
          "good",
          "vgood",
          "unacc",
          "good",
          "vgood",
          "unacc",
          "unacc",
          "unacc",
          "unacc",
          "unacc",
          "unacc",
          "unacc",
          "unacc",
          "unacc",
          "unacc",
          "acc",
          "good",
          "unacc",
          "good",
          "vgood",
          "unacc",
          "good",
          "vgood",
          "unacc",
          "acc",
          "good",
          "unacc",
          "good",
          "vgood",
          "unacc",
          "good",
          "vgood",
          "unacc",
          "unacc",
          "unacc",
          "unacc",
          "unacc",
          "unacc",
          "unacc",
          "unacc",
          "unacc",
          "unacc",
          "unacc",
          "acc",
          "unacc",
          "unacc",
          "acc",
          "unacc",
          "acc",
          "acc",
          "unacc",
          "unacc",
          "unacc",
          "unacc",
          "unacc",
          "acc",
          "unacc",
          "acc",
          "acc",
          "unacc",
          "unacc",
          "unacc",
          "unacc",
          "unacc",
          "unacc",
          "unacc",
          "unacc",
          "unacc",
          "unacc",
          "unacc",
          "acc",
          "unacc",
          "unacc",
          "acc",
          "unacc",
          "acc",
          "acc",
          "unacc",
          "unacc",
          "acc",
          "unacc",
          "acc",
          "acc",
          "unacc",
          "acc",
          "acc",
          "unacc",
          "unacc",
          "unacc",
          "unacc",
          "unacc",
          "unacc",
          "unacc",
          "unacc",
          "unacc",
          "unacc",
          "unacc",
          "acc",
          "unacc",
          "acc",
          "acc",
          "unacc",
          "acc",
          "acc",
          "unacc",
          "unacc",
          "acc",
          "unacc",
          "acc",
          "acc",
          "unacc",
          "acc",
          "acc",
          "unacc",
          "unacc",
          "unacc",
          "unacc",
          "unacc",
          "unacc",
          "unacc",
          "unacc",
          "unacc",
          "unacc",
          "unacc",
          "acc",
          "unacc",
          "acc",
          "acc",
          "unacc",
          "acc",
          "acc",
          "unacc",
          "unacc",
          "acc",
          "unacc",
          "acc",
          "acc",
          "unacc",
          "acc",
          "acc",
          "unacc",
          "unacc",
          "unacc",
          "unacc",
          "unacc",
          "unacc",
          "unacc",
          "unacc",
          "unacc",
          "unacc",
          "acc",
          "acc",
          "unacc",
          "acc",
          "acc",
          "unacc",
          "acc",
          "vgood",
          "unacc",
          "unacc",
          "unacc",
          "unacc",
          "acc",
          "acc",
          "unacc",
          "acc",
          "vgood",
          "unacc",
          "unacc",
          "unacc",
          "unacc",
          "unacc",
          "unacc",
          "unacc",
          "unacc",
          "unacc",
          "unacc",
          "acc",
          "acc",
          "unacc",
          "acc",
          "acc",
          "unacc",
          "acc",
          "vgood",
          "unacc",
          "acc",
          "acc",
          "unacc",
          "acc",
          "vgood",
          "unacc",
          "acc",
          "vgood",
          "unacc",
          "unacc",
          "unacc",
          "unacc",
          "unacc",
          "unacc",
          "unacc",
          "unacc",
          "unacc",
          "unacc",
          "acc",
          "acc",
          "unacc",
          "acc",
          "vgood",
          "unacc",
          "acc",
          "vgood",
          "unacc",
          "acc",
          "acc",
          "unacc",
          "acc",
          "vgood",
          "unacc",
          "acc",
          "vgood",
          "unacc",
          "unacc",
          "unacc",
          "unacc",
          "unacc",
          "unacc",
          "unacc",
          "unacc",
          "unacc",
          "unacc",
          "acc",
          "acc",
          "unacc",
          "acc",
          "vgood",
          "unacc",
          "acc",
          "vgood",
          "unacc",
          "acc",
          "acc",
          "unacc",
          "acc",
          "vgood",
          "unacc",
          "acc",
          "vgood",
          "unacc",
          "unacc",
          "unacc",
          "unacc",
          "unacc",
          "unacc",
          "unacc",
          "unacc",
          "unacc",
          "unacc",
          "acc",
          "good",
          "unacc",
          "acc",
          "good",
          "unacc",
          "good",
          "vgood",
          "unacc",
          "unacc",
          "unacc",
          "unacc",
          "acc",
          "good",
          "unacc",
          "good",
          "vgood",
          "unacc",
          "unacc",
          "unacc",
          "unacc",
          "unacc",
          "unacc",
          "unacc",
          "unacc",
          "unacc",
          "unacc",
          "acc",
          "good",
          "unacc",
          "acc",
          "good",
          "unacc",
          "good",
          "vgood",
          "unacc",
          "acc",
          "good",
          "unacc",
          "good",
          "vgood",
          "unacc",
          "good",
          "vgood",
          "unacc",
          "unacc",
          "unacc",
          "unacc",
          "unacc",
          "unacc",
          "unacc",
          "unacc",
          "unacc",
          "unacc",
          "acc",
          "good",
          "unacc",
          "good",
          "vgood",
          "unacc",
          "good",
          "vgood",
          "unacc",
          "acc",
          "good",
          "unacc",
          "good",
          "vgood",
          "unacc",
          "good",
          "vgood",
          "unacc",
          "unacc",
          "unacc",
          "unacc",
          "unacc",
          "unacc",
          "unacc",
          "unacc",
          "unacc",
          "unacc",
          "acc",
          "good",
          "unacc",
          "good",
          "vgood",
          "unacc",
          "good",
          "vgood",
          "unacc",
          "acc",
          "good",
          "unacc",
          "good",
          "vgood",
          "unacc",
          "good",
          "vgood",
          "unacc",
          "unacc",
          "unacc",
          "unacc",
          "unacc",
          "unacc",
          "unacc",
          "unacc",
          "unacc",
          "unacc",
          "acc",
          "good",
          "unacc",
          "acc",
          "good",
          "unacc",
          "good",
          "vgood",
          "unacc",
          "unacc",
          "unacc",
          "unacc",
          "acc",
          "good",
          "unacc",
          "good",
          "vgood",
          "unacc",
          "unacc",
          "unacc",
          "unacc",
          "unacc",
          "unacc",
          "unacc",
          "unacc",
          "unacc",
          "unacc",
          "acc",
          "good",
          "unacc",
          "acc",
          "good",
          "unacc",
          "good",
          "vgood",
          "unacc",
          "acc",
          "good",
          "unacc",
          "good",
          "vgood",
          "unacc",
          "good",
          "vgood",
          "unacc",
          "unacc",
          "unacc",
          "unacc",
          "unacc",
          "unacc",
          "unacc",
          "unacc",
          "unacc",
          "unacc",
          "acc",
          "good",
          "unacc",
          "good",
          "vgood",
          "unacc",
          "good",
          "vgood",
          "unacc",
          "acc",
          "good",
          "unacc",
          "good",
          "vgood",
          "unacc",
          "good",
          "vgood",
          "unacc",
          "unacc",
          "unacc",
          "unacc",
          "unacc",
          "unacc",
          "unacc",
          "unacc",
          "unacc",
          "unacc",
          "acc",
          "good",
          "unacc",
          "good",
          "vgood",
          "unacc",
          "good",
          "vgood",
          "unacc",
          "acc",
          "good",
          "unacc",
          "good",
          "vgood",
          "unacc",
          "good",
          "vgood"
         ],
         "xaxis": "x",
         "yaxis": "y"
        }
       ],
       "layout": {
        "autosize": true,
        "barmode": "relative",
        "legend": {
         "tracegroupgap": 0
        },
        "margin": {
         "t": 60
        },
        "template": {
         "data": {
          "bar": [
           {
            "error_x": {
             "color": "#2a3f5f"
            },
            "error_y": {
             "color": "#2a3f5f"
            },
            "marker": {
             "line": {
              "color": "#E5ECF6",
              "width": 0.5
             },
             "pattern": {
              "fillmode": "overlay",
              "size": 10,
              "solidity": 0.2
             }
            },
            "type": "bar"
           }
          ],
          "barpolar": [
           {
            "marker": {
             "line": {
              "color": "#E5ECF6",
              "width": 0.5
             },
             "pattern": {
              "fillmode": "overlay",
              "size": 10,
              "solidity": 0.2
             }
            },
            "type": "barpolar"
           }
          ],
          "carpet": [
           {
            "aaxis": {
             "endlinecolor": "#2a3f5f",
             "gridcolor": "white",
             "linecolor": "white",
             "minorgridcolor": "white",
             "startlinecolor": "#2a3f5f"
            },
            "baxis": {
             "endlinecolor": "#2a3f5f",
             "gridcolor": "white",
             "linecolor": "white",
             "minorgridcolor": "white",
             "startlinecolor": "#2a3f5f"
            },
            "type": "carpet"
           }
          ],
          "choropleth": [
           {
            "colorbar": {
             "outlinewidth": 0,
             "ticks": ""
            },
            "type": "choropleth"
           }
          ],
          "contour": [
           {
            "colorbar": {
             "outlinewidth": 0,
             "ticks": ""
            },
            "colorscale": [
             [
              0,
              "#0d0887"
             ],
             [
              0.1111111111111111,
              "#46039f"
             ],
             [
              0.2222222222222222,
              "#7201a8"
             ],
             [
              0.3333333333333333,
              "#9c179e"
             ],
             [
              0.4444444444444444,
              "#bd3786"
             ],
             [
              0.5555555555555556,
              "#d8576b"
             ],
             [
              0.6666666666666666,
              "#ed7953"
             ],
             [
              0.7777777777777778,
              "#fb9f3a"
             ],
             [
              0.8888888888888888,
              "#fdca26"
             ],
             [
              1,
              "#f0f921"
             ]
            ],
            "type": "contour"
           }
          ],
          "contourcarpet": [
           {
            "colorbar": {
             "outlinewidth": 0,
             "ticks": ""
            },
            "type": "contourcarpet"
           }
          ],
          "heatmap": [
           {
            "colorbar": {
             "outlinewidth": 0,
             "ticks": ""
            },
            "colorscale": [
             [
              0,
              "#0d0887"
             ],
             [
              0.1111111111111111,
              "#46039f"
             ],
             [
              0.2222222222222222,
              "#7201a8"
             ],
             [
              0.3333333333333333,
              "#9c179e"
             ],
             [
              0.4444444444444444,
              "#bd3786"
             ],
             [
              0.5555555555555556,
              "#d8576b"
             ],
             [
              0.6666666666666666,
              "#ed7953"
             ],
             [
              0.7777777777777778,
              "#fb9f3a"
             ],
             [
              0.8888888888888888,
              "#fdca26"
             ],
             [
              1,
              "#f0f921"
             ]
            ],
            "type": "heatmap"
           }
          ],
          "heatmapgl": [
           {
            "colorbar": {
             "outlinewidth": 0,
             "ticks": ""
            },
            "colorscale": [
             [
              0,
              "#0d0887"
             ],
             [
              0.1111111111111111,
              "#46039f"
             ],
             [
              0.2222222222222222,
              "#7201a8"
             ],
             [
              0.3333333333333333,
              "#9c179e"
             ],
             [
              0.4444444444444444,
              "#bd3786"
             ],
             [
              0.5555555555555556,
              "#d8576b"
             ],
             [
              0.6666666666666666,
              "#ed7953"
             ],
             [
              0.7777777777777778,
              "#fb9f3a"
             ],
             [
              0.8888888888888888,
              "#fdca26"
             ],
             [
              1,
              "#f0f921"
             ]
            ],
            "type": "heatmapgl"
           }
          ],
          "histogram": [
           {
            "marker": {
             "pattern": {
              "fillmode": "overlay",
              "size": 10,
              "solidity": 0.2
             }
            },
            "type": "histogram"
           }
          ],
          "histogram2d": [
           {
            "colorbar": {
             "outlinewidth": 0,
             "ticks": ""
            },
            "colorscale": [
             [
              0,
              "#0d0887"
             ],
             [
              0.1111111111111111,
              "#46039f"
             ],
             [
              0.2222222222222222,
              "#7201a8"
             ],
             [
              0.3333333333333333,
              "#9c179e"
             ],
             [
              0.4444444444444444,
              "#bd3786"
             ],
             [
              0.5555555555555556,
              "#d8576b"
             ],
             [
              0.6666666666666666,
              "#ed7953"
             ],
             [
              0.7777777777777778,
              "#fb9f3a"
             ],
             [
              0.8888888888888888,
              "#fdca26"
             ],
             [
              1,
              "#f0f921"
             ]
            ],
            "type": "histogram2d"
           }
          ],
          "histogram2dcontour": [
           {
            "colorbar": {
             "outlinewidth": 0,
             "ticks": ""
            },
            "colorscale": [
             [
              0,
              "#0d0887"
             ],
             [
              0.1111111111111111,
              "#46039f"
             ],
             [
              0.2222222222222222,
              "#7201a8"
             ],
             [
              0.3333333333333333,
              "#9c179e"
             ],
             [
              0.4444444444444444,
              "#bd3786"
             ],
             [
              0.5555555555555556,
              "#d8576b"
             ],
             [
              0.6666666666666666,
              "#ed7953"
             ],
             [
              0.7777777777777778,
              "#fb9f3a"
             ],
             [
              0.8888888888888888,
              "#fdca26"
             ],
             [
              1,
              "#f0f921"
             ]
            ],
            "type": "histogram2dcontour"
           }
          ],
          "mesh3d": [
           {
            "colorbar": {
             "outlinewidth": 0,
             "ticks": ""
            },
            "type": "mesh3d"
           }
          ],
          "parcoords": [
           {
            "line": {
             "colorbar": {
              "outlinewidth": 0,
              "ticks": ""
             }
            },
            "type": "parcoords"
           }
          ],
          "pie": [
           {
            "automargin": true,
            "type": "pie"
           }
          ],
          "scatter": [
           {
            "fillpattern": {
             "fillmode": "overlay",
             "size": 10,
             "solidity": 0.2
            },
            "type": "scatter"
           }
          ],
          "scatter3d": [
           {
            "line": {
             "colorbar": {
              "outlinewidth": 0,
              "ticks": ""
             }
            },
            "marker": {
             "colorbar": {
              "outlinewidth": 0,
              "ticks": ""
             }
            },
            "type": "scatter3d"
           }
          ],
          "scattercarpet": [
           {
            "marker": {
             "colorbar": {
              "outlinewidth": 0,
              "ticks": ""
             }
            },
            "type": "scattercarpet"
           }
          ],
          "scattergeo": [
           {
            "marker": {
             "colorbar": {
              "outlinewidth": 0,
              "ticks": ""
             }
            },
            "type": "scattergeo"
           }
          ],
          "scattergl": [
           {
            "marker": {
             "colorbar": {
              "outlinewidth": 0,
              "ticks": ""
             }
            },
            "type": "scattergl"
           }
          ],
          "scattermapbox": [
           {
            "marker": {
             "colorbar": {
              "outlinewidth": 0,
              "ticks": ""
             }
            },
            "type": "scattermapbox"
           }
          ],
          "scatterpolar": [
           {
            "marker": {
             "colorbar": {
              "outlinewidth": 0,
              "ticks": ""
             }
            },
            "type": "scatterpolar"
           }
          ],
          "scatterpolargl": [
           {
            "marker": {
             "colorbar": {
              "outlinewidth": 0,
              "ticks": ""
             }
            },
            "type": "scatterpolargl"
           }
          ],
          "scatterternary": [
           {
            "marker": {
             "colorbar": {
              "outlinewidth": 0,
              "ticks": ""
             }
            },
            "type": "scatterternary"
           }
          ],
          "surface": [
           {
            "colorbar": {
             "outlinewidth": 0,
             "ticks": ""
            },
            "colorscale": [
             [
              0,
              "#0d0887"
             ],
             [
              0.1111111111111111,
              "#46039f"
             ],
             [
              0.2222222222222222,
              "#7201a8"
             ],
             [
              0.3333333333333333,
              "#9c179e"
             ],
             [
              0.4444444444444444,
              "#bd3786"
             ],
             [
              0.5555555555555556,
              "#d8576b"
             ],
             [
              0.6666666666666666,
              "#ed7953"
             ],
             [
              0.7777777777777778,
              "#fb9f3a"
             ],
             [
              0.8888888888888888,
              "#fdca26"
             ],
             [
              1,
              "#f0f921"
             ]
            ],
            "type": "surface"
           }
          ],
          "table": [
           {
            "cells": {
             "fill": {
              "color": "#EBF0F8"
             },
             "line": {
              "color": "white"
             }
            },
            "header": {
             "fill": {
              "color": "#C8D4E3"
             },
             "line": {
              "color": "white"
             }
            },
            "type": "table"
           }
          ]
         },
         "layout": {
          "annotationdefaults": {
           "arrowcolor": "#2a3f5f",
           "arrowhead": 0,
           "arrowwidth": 1
          },
          "autotypenumbers": "strict",
          "coloraxis": {
           "colorbar": {
            "outlinewidth": 0,
            "ticks": ""
           }
          },
          "colorscale": {
           "diverging": [
            [
             0,
             "#8e0152"
            ],
            [
             0.1,
             "#c51b7d"
            ],
            [
             0.2,
             "#de77ae"
            ],
            [
             0.3,
             "#f1b6da"
            ],
            [
             0.4,
             "#fde0ef"
            ],
            [
             0.5,
             "#f7f7f7"
            ],
            [
             0.6,
             "#e6f5d0"
            ],
            [
             0.7,
             "#b8e186"
            ],
            [
             0.8,
             "#7fbc41"
            ],
            [
             0.9,
             "#4d9221"
            ],
            [
             1,
             "#276419"
            ]
           ],
           "sequential": [
            [
             0,
             "#0d0887"
            ],
            [
             0.1111111111111111,
             "#46039f"
            ],
            [
             0.2222222222222222,
             "#7201a8"
            ],
            [
             0.3333333333333333,
             "#9c179e"
            ],
            [
             0.4444444444444444,
             "#bd3786"
            ],
            [
             0.5555555555555556,
             "#d8576b"
            ],
            [
             0.6666666666666666,
             "#ed7953"
            ],
            [
             0.7777777777777778,
             "#fb9f3a"
            ],
            [
             0.8888888888888888,
             "#fdca26"
            ],
            [
             1,
             "#f0f921"
            ]
           ],
           "sequentialminus": [
            [
             0,
             "#0d0887"
            ],
            [
             0.1111111111111111,
             "#46039f"
            ],
            [
             0.2222222222222222,
             "#7201a8"
            ],
            [
             0.3333333333333333,
             "#9c179e"
            ],
            [
             0.4444444444444444,
             "#bd3786"
            ],
            [
             0.5555555555555556,
             "#d8576b"
            ],
            [
             0.6666666666666666,
             "#ed7953"
            ],
            [
             0.7777777777777778,
             "#fb9f3a"
            ],
            [
             0.8888888888888888,
             "#fdca26"
            ],
            [
             1,
             "#f0f921"
            ]
           ]
          },
          "colorway": [
           "#636efa",
           "#EF553B",
           "#00cc96",
           "#ab63fa",
           "#FFA15A",
           "#19d3f3",
           "#FF6692",
           "#B6E880",
           "#FF97FF",
           "#FECB52"
          ],
          "font": {
           "color": "#2a3f5f"
          },
          "geo": {
           "bgcolor": "white",
           "lakecolor": "white",
           "landcolor": "#E5ECF6",
           "showlakes": true,
           "showland": true,
           "subunitcolor": "white"
          },
          "hoverlabel": {
           "align": "left"
          },
          "hovermode": "closest",
          "mapbox": {
           "style": "light"
          },
          "paper_bgcolor": "white",
          "plot_bgcolor": "#E5ECF6",
          "polar": {
           "angularaxis": {
            "gridcolor": "white",
            "linecolor": "white",
            "ticks": ""
           },
           "bgcolor": "#E5ECF6",
           "radialaxis": {
            "gridcolor": "white",
            "linecolor": "white",
            "ticks": ""
           }
          },
          "scene": {
           "xaxis": {
            "backgroundcolor": "#E5ECF6",
            "gridcolor": "white",
            "gridwidth": 2,
            "linecolor": "white",
            "showbackground": true,
            "ticks": "",
            "zerolinecolor": "white"
           },
           "yaxis": {
            "backgroundcolor": "#E5ECF6",
            "gridcolor": "white",
            "gridwidth": 2,
            "linecolor": "white",
            "showbackground": true,
            "ticks": "",
            "zerolinecolor": "white"
           },
           "zaxis": {
            "backgroundcolor": "#E5ECF6",
            "gridcolor": "white",
            "gridwidth": 2,
            "linecolor": "white",
            "showbackground": true,
            "ticks": "",
            "zerolinecolor": "white"
           }
          },
          "shapedefaults": {
           "line": {
            "color": "#2a3f5f"
           }
          },
          "ternary": {
           "aaxis": {
            "gridcolor": "white",
            "linecolor": "white",
            "ticks": ""
           },
           "baxis": {
            "gridcolor": "white",
            "linecolor": "white",
            "ticks": ""
           },
           "bgcolor": "#E5ECF6",
           "caxis": {
            "gridcolor": "white",
            "linecolor": "white",
            "ticks": ""
           }
          },
          "title": {
           "x": 0.05
          },
          "xaxis": {
           "automargin": true,
           "gridcolor": "white",
           "linecolor": "white",
           "ticks": "",
           "title": {
            "standoff": 15
           },
           "zerolinecolor": "white",
           "zerolinewidth": 2
          },
          "yaxis": {
           "automargin": true,
           "gridcolor": "white",
           "linecolor": "white",
           "ticks": "",
           "title": {
            "standoff": 15
           },
           "zerolinecolor": "white",
           "zerolinewidth": 2
          }
         }
        },
        "xaxis": {
         "anchor": "y",
         "autorange": true,
         "domain": [
          0,
          1
         ],
         "range": [
          -0.5,
          3.5
         ],
         "title": {
          "text": "CAR"
         },
         "type": "category"
        },
        "yaxis": {
         "anchor": "x",
         "autorange": true,
         "domain": [
          0,
          1
         ],
         "range": [
          0,
          1273.6842105263158
         ],
         "title": {
          "text": "count"
         }
        }
       }
      },
      "image/png": "[encoded data removed]",
      "text/html": [
       "<div>                            <div id=\"04fa98aa-b667-4c2c-be7e-7a1446f9561e\" class=\"plotly-graph-div\" style=\"height:525px; width:100%;\"></div>            <script type=\"text/javascript\">                require([\"plotly\"], function(Plotly) {                    window.PLOTLYENV=window.PLOTLYENV || {};                                    if (document.getElementById(\"04fa98aa-b667-4c2c-be7e-7a1446f9561e\")) {                    Plotly.newPlot(                        \"04fa98aa-b667-4c2c-be7e-7a1446f9561e\",                        [{\"alignmentgroup\":\"True\",\"bingroup\":\"x\",\"hovertemplate\":\"CAR=%{x}<br>count=%{y}<extra></extra>\",\"legendgroup\":\"\",\"marker\":{\"color\":\"#636efa\",\"pattern\":{\"shape\":\"\"}},\"name\":\"\",\"offsetgroup\":\"\",\"orientation\":\"v\",\"showlegend\":false,\"texttemplate\":\"%{value}\",\"x\":[\"unacc\",\"unacc\",\"unacc\",\"unacc\",\"unacc\",\"unacc\",\"unacc\",\"unacc\",\"unacc\",\"unacc\",\"unacc\",\"unacc\",\"unacc\",\"unacc\",\"unacc\",\"unacc\",\"unacc\",\"unacc\",\"unacc\",\"unacc\",\"unacc\",\"unacc\",\"unacc\",\"unacc\",\"unacc\",\"unacc\",\"unacc\",\"unacc\",\"unacc\",\"unacc\",\"unacc\",\"unacc\",\"unacc\",\"unacc\",\"unacc\",\"unacc\",\"unacc\",\"unacc\",\"unacc\",\"unacc\",\"unacc\",\"unacc\",\"unacc\",\"unacc\",\"unacc\",\"unacc\",\"unacc\",\"unacc\",\"unacc\",\"unacc\",\"unacc\",\"unacc\",\"unacc\",\"unacc\",\"unacc\",\"unacc\",\"unacc\",\"unacc\",\"unacc\",\"unacc\",\"unacc\",\"unacc\",\"unacc\",\"unacc\",\"unacc\",\"unacc\",\"unacc\",\"unacc\",\"unacc\",\"unacc\",\"unacc\",\"unacc\",\"unacc\",\"unacc\",\"unacc\",\"unacc\",\"unacc\",\"unacc\",\"unacc\",\"unacc\",\"unacc\",\"unacc\",\"unacc\",\"unacc\",\"unacc\",\"unacc\",\"unacc\",\"unacc\",\"unacc\",\"unacc\",\"unacc\",\"unacc\",\"unacc\",\"unacc\",\"unacc\",\"unacc\",\"unacc\",\"unacc\",\"unacc\",\"unacc\",\"unacc\",\"unacc\",\"unacc\",\"unacc\",\"unacc\",\"unacc\",\"unacc\",\"unacc\",\"unacc\",\"unacc\",\"unacc\",\"unacc\",\"unacc\",\"unacc\",\"unacc\",\"unacc\",\"unacc\",\"unacc\",\"unacc\",\"unacc\",\"unacc\",\"unacc\",\"unacc\",\"unacc\",\"unacc\",\"unacc\",\"unacc\",\"unacc\",\"unacc\",\"unacc\",\"unacc\",\"unacc\",\"unacc\",\"unacc\",\"unacc\",\"unacc\",\"unacc\",\"unacc\",\"unacc\",\"unacc\",\"unacc\",\"unacc\",\"unacc\",\"unacc\",\"unacc\",\"unacc\",\"unacc\",\"unacc\",\"unacc\",\"unacc\",\"unacc\",\"unacc\",\"unacc\",\"unacc\",\"unacc\",\"unacc\",\"unacc\",\"unacc\",\"unacc\",\"unacc\",\"unacc\",\"unacc\",\"unacc\",\"unacc\",\"unacc\",\"unacc\",\"unacc\",\"unacc\",\"unacc\",\"unacc\",\"unacc\",\"unacc\",\"unacc\",\"unacc\",\"unacc\",\"unacc\",\"unacc\",\"unacc\",\"unacc\",\"unacc\",\"unacc\",\"unacc\",\"unacc\",\"unacc\",\"unacc\",\"unacc\",\"unacc\",\"unacc\",\"unacc\",\"unacc\",\"unacc\",\"unacc\",\"unacc\",\"unacc\",\"unacc\",\"unacc\",\"unacc\",\"unacc\",\"unacc\",\"unacc\",\"unacc\",\"unacc\",\"unacc\",\"unacc\",\"unacc\",\"unacc\",\"unacc\",\"unacc\",\"unacc\",\"unacc\",\"unacc\",\"unacc\",\"unacc\",\"unacc\",\"unacc\",\"unacc\",\"unacc\",\"unacc\",\"unacc\",\"unacc\",\"unacc\",\"unacc\",\"unacc\",\"unacc\",\"unacc\",\"unacc\",\"unacc\",\"acc\",\"unacc\",\"unacc\",\"acc\",\"unacc\",\"acc\",\"acc\",\"unacc\",\"unacc\",\"unacc\",\"unacc\",\"unacc\",\"acc\",\"unacc\",\"acc\",\"acc\",\"unacc\",\"unacc\",\"unacc\",\"unacc\",\"unacc\",\"unacc\",\"unacc\",\"unacc\",\"unacc\",\"unacc\",\"unacc\",\"acc\",\"unacc\",\"unacc\",\"acc\",\"unacc\",\"acc\",\"acc\",\"unacc\",\"unacc\",\"acc\",\"unacc\",\"acc\",\"acc\",\"unacc\",\"acc\",\"acc\",\"unacc\",\"unacc\",\"unacc\",\"unacc\",\"unacc\",\"unacc\",\"unacc\",\"unacc\",\"unacc\",\"unacc\",\"unacc\",\"acc\",\"unacc\",\"acc\",\"acc\",\"unacc\",\"acc\",\"acc\",\"unacc\",\"unacc\",\"acc\",\"unacc\",\"acc\",\"acc\",\"unacc\",\"acc\",\"acc\",\"unacc\",\"unacc\",\"unacc\",\"unacc\",\"unacc\",\"unacc\",\"unacc\",\"unacc\",\"unacc\",\"unacc\",\"unacc\",\"acc\",\"unacc\",\"acc\",\"acc\",\"unacc\",\"acc\",\"acc\",\"unacc\",\"unacc\",\"acc\",\"unacc\",\"acc\",\"acc\",\"unacc\",\"acc\",\"acc\",\"unacc\",\"unacc\",\"unacc\",\"unacc\",\"unacc\",\"unacc\",\"unacc\",\"unacc\",\"unacc\",\"unacc\",\"unacc\",\"acc\",\"unacc\",\"unacc\",\"acc\",\"unacc\",\"acc\",\"acc\",\"unacc\",\"unacc\",\"unacc\",\"unacc\",\"unacc\",\"acc\",\"unacc\",\"acc\",\"acc\",\"unacc\",\"unacc\",\"unacc\",\"unacc\",\"unacc\",\"unacc\",\"unacc\",\"unacc\",\"unacc\",\"unacc\",\"unacc\",\"acc\",\"unacc\",\"unacc\",\"acc\",\"unacc\",\"acc\",\"acc\",\"unacc\",\"unacc\",\"acc\",\"unacc\",\"acc\",\"acc\",\"unacc\",\"acc\",\"acc\",\"unacc\",\"unacc\",\"unacc\",\"unacc\",\"unacc\",\"unacc\",\"unacc\",\"unacc\",\"unacc\",\"unacc\",\"unacc\",\"acc\",\"unacc\",\"acc\",\"acc\",\"unacc\",\"acc\",\"acc\",\"unacc\",\"unacc\",\"acc\",\"unacc\",\"acc\",\"acc\",\"unacc\",\"acc\",\"acc\",\"unacc\",\"unacc\",\"unacc\",\"unacc\",\"unacc\",\"unacc\",\"unacc\",\"unacc\",\"unacc\",\"unacc\",\"unacc\",\"acc\",\"unacc\",\"acc\",\"acc\",\"unacc\",\"acc\",\"acc\",\"unacc\",\"unacc\",\"acc\",\"unacc\",\"acc\",\"acc\",\"unacc\",\"acc\",\"acc\",\"unacc\",\"unacc\",\"unacc\",\"unacc\",\"unacc\",\"unacc\",\"unacc\",\"unacc\",\"unacc\",\"unacc\",\"unacc\",\"unacc\",\"unacc\",\"unacc\",\"unacc\",\"unacc\",\"unacc\",\"unacc\",\"unacc\",\"unacc\",\"unacc\",\"unacc\",\"unacc\",\"unacc\",\"unacc\",\"unacc\",\"unacc\",\"unacc\",\"unacc\",\"unacc\",\"unacc\",\"unacc\",\"unacc\",\"unacc\",\"unacc\",\"unacc\",\"unacc\",\"unacc\",\"unacc\",\"unacc\",\"unacc\",\"unacc\",\"unacc\",\"unacc\",\"unacc\",\"unacc\",\"unacc\",\"unacc\",\"unacc\",\"unacc\",\"unacc\",\"unacc\",\"unacc\",\"unacc\",\"unacc\",\"unacc\",\"unacc\",\"unacc\",\"unacc\",\"unacc\",\"unacc\",\"unacc\",\"unacc\",\"unacc\",\"unacc\",\"unacc\",\"unacc\",\"unacc\",\"unacc\",\"unacc\",\"unacc\",\"unacc\",\"unacc\",\"unacc\",\"unacc\",\"unacc\",\"unacc\",\"unacc\",\"unacc\",\"unacc\",\"unacc\",\"unacc\",\"unacc\",\"unacc\",\"unacc\",\"unacc\",\"unacc\",\"unacc\",\"unacc\",\"unacc\",\"unacc\",\"unacc\",\"unacc\",\"unacc\",\"unacc\",\"unacc\",\"unacc\",\"unacc\",\"unacc\",\"unacc\",\"unacc\",\"unacc\",\"unacc\",\"unacc\",\"unacc\",\"unacc\",\"unacc\",\"unacc\",\"unacc\",\"unacc\",\"unacc\",\"unacc\",\"unacc\",\"unacc\",\"unacc\",\"unacc\",\"unacc\",\"unacc\",\"unacc\",\"acc\",\"unacc\",\"unacc\",\"acc\",\"unacc\",\"acc\",\"acc\",\"unacc\",\"unacc\",\"unacc\",\"unacc\",\"unacc\",\"acc\",\"unacc\",\"acc\",\"acc\",\"unacc\",\"unacc\",\"unacc\",\"unacc\",\"unacc\",\"unacc\",\"unacc\",\"unacc\",\"unacc\",\"unacc\",\"unacc\",\"acc\",\"unacc\",\"unacc\",\"acc\",\"unacc\",\"acc\",\"acc\",\"unacc\",\"unacc\",\"acc\",\"unacc\",\"acc\",\"acc\",\"unacc\",\"acc\",\"acc\",\"unacc\",\"unacc\",\"unacc\",\"unacc\",\"unacc\",\"unacc\",\"unacc\",\"unacc\",\"unacc\",\"unacc\",\"unacc\",\"acc\",\"unacc\",\"acc\",\"acc\",\"unacc\",\"acc\",\"acc\",\"unacc\",\"unacc\",\"acc\",\"unacc\",\"acc\",\"acc\",\"unacc\",\"acc\",\"acc\",\"unacc\",\"unacc\",\"unacc\",\"unacc\",\"unacc\",\"unacc\",\"unacc\",\"unacc\",\"unacc\",\"unacc\",\"unacc\",\"acc\",\"unacc\",\"acc\",\"acc\",\"unacc\",\"acc\",\"acc\",\"unacc\",\"unacc\",\"acc\",\"unacc\",\"acc\",\"acc\",\"unacc\",\"acc\",\"acc\",\"unacc\",\"unacc\",\"unacc\",\"unacc\",\"unacc\",\"unacc\",\"unacc\",\"unacc\",\"unacc\",\"unacc\",\"unacc\",\"acc\",\"unacc\",\"unacc\",\"acc\",\"unacc\",\"acc\",\"acc\",\"unacc\",\"unacc\",\"unacc\",\"unacc\",\"unacc\",\"acc\",\"unacc\",\"acc\",\"acc\",\"unacc\",\"unacc\",\"unacc\",\"unacc\",\"unacc\",\"unacc\",\"unacc\",\"unacc\",\"unacc\",\"unacc\",\"unacc\",\"acc\",\"unacc\",\"unacc\",\"acc\",\"unacc\",\"acc\",\"acc\",\"unacc\",\"unacc\",\"acc\",\"unacc\",\"acc\",\"acc\",\"unacc\",\"acc\",\"acc\",\"unacc\",\"unacc\",\"unacc\",\"unacc\",\"unacc\",\"unacc\",\"unacc\",\"unacc\",\"unacc\",\"unacc\",\"unacc\",\"acc\",\"unacc\",\"acc\",\"acc\",\"unacc\",\"acc\",\"acc\",\"unacc\",\"unacc\",\"acc\",\"unacc\",\"acc\",\"acc\",\"unacc\",\"acc\",\"acc\",\"unacc\",\"unacc\",\"unacc\",\"unacc\",\"unacc\",\"unacc\",\"unacc\",\"unacc\",\"unacc\",\"unacc\",\"unacc\",\"acc\",\"unacc\",\"acc\",\"acc\",\"unacc\",\"acc\",\"acc\",\"unacc\",\"unacc\",\"acc\",\"unacc\",\"acc\",\"acc\",\"unacc\",\"acc\",\"acc\",\"unacc\",\"unacc\",\"unacc\",\"unacc\",\"unacc\",\"unacc\",\"unacc\",\"unacc\",\"unacc\",\"unacc\",\"unacc\",\"acc\",\"unacc\",\"unacc\",\"acc\",\"unacc\",\"acc\",\"acc\",\"unacc\",\"unacc\",\"unacc\",\"unacc\",\"unacc\",\"acc\",\"unacc\",\"acc\",\"acc\",\"unacc\",\"unacc\",\"unacc\",\"unacc\",\"unacc\",\"unacc\",\"unacc\",\"unacc\",\"unacc\",\"unacc\",\"unacc\",\"acc\",\"unacc\",\"unacc\",\"acc\",\"unacc\",\"acc\",\"acc\",\"unacc\",\"unacc\",\"acc\",\"unacc\",\"acc\",\"acc\",\"unacc\",\"acc\",\"acc\",\"unacc\",\"unacc\",\"unacc\",\"unacc\",\"unacc\",\"unacc\",\"unacc\",\"unacc\",\"unacc\",\"unacc\",\"unacc\",\"acc\",\"unacc\",\"acc\",\"acc\",\"unacc\",\"acc\",\"acc\",\"unacc\",\"unacc\",\"acc\",\"unacc\",\"acc\",\"acc\",\"unacc\",\"acc\",\"acc\",\"unacc\",\"unacc\",\"unacc\",\"unacc\",\"unacc\",\"unacc\",\"unacc\",\"unacc\",\"unacc\",\"unacc\",\"unacc\",\"acc\",\"unacc\",\"acc\",\"acc\",\"unacc\",\"acc\",\"acc\",\"unacc\",\"unacc\",\"acc\",\"unacc\",\"acc\",\"acc\",\"unacc\",\"acc\",\"acc\",\"unacc\",\"unacc\",\"unacc\",\"unacc\",\"unacc\",\"unacc\",\"unacc\",\"unacc\",\"unacc\",\"unacc\",\"unacc\",\"acc\",\"unacc\",\"unacc\",\"acc\",\"unacc\",\"acc\",\"acc\",\"unacc\",\"unacc\",\"unacc\",\"unacc\",\"unacc\",\"acc\",\"unacc\",\"acc\",\"acc\",\"unacc\",\"unacc\",\"unacc\",\"unacc\",\"unacc\",\"unacc\",\"unacc\",\"unacc\",\"unacc\",\"unacc\",\"unacc\",\"acc\",\"unacc\",\"unacc\",\"acc\",\"unacc\",\"acc\",\"acc\",\"unacc\",\"unacc\",\"acc\",\"unacc\",\"acc\",\"acc\",\"unacc\",\"acc\",\"acc\",\"unacc\",\"unacc\",\"unacc\",\"unacc\",\"unacc\",\"unacc\",\"unacc\",\"unacc\",\"unacc\",\"unacc\",\"unacc\",\"acc\",\"unacc\",\"acc\",\"acc\",\"unacc\",\"acc\",\"acc\",\"unacc\",\"unacc\",\"acc\",\"unacc\",\"acc\",\"acc\",\"unacc\",\"acc\",\"acc\",\"unacc\",\"unacc\",\"unacc\",\"unacc\",\"unacc\",\"unacc\",\"unacc\",\"unacc\",\"unacc\",\"unacc\",\"unacc\",\"acc\",\"unacc\",\"acc\",\"acc\",\"unacc\",\"acc\",\"acc\",\"unacc\",\"unacc\",\"acc\",\"unacc\",\"acc\",\"acc\",\"unacc\",\"acc\",\"acc\",\"unacc\",\"unacc\",\"unacc\",\"unacc\",\"unacc\",\"unacc\",\"unacc\",\"unacc\",\"unacc\",\"unacc\",\"unacc\",\"acc\",\"unacc\",\"unacc\",\"acc\",\"unacc\",\"acc\",\"acc\",\"unacc\",\"unacc\",\"unacc\",\"unacc\",\"unacc\",\"acc\",\"unacc\",\"acc\",\"acc\",\"unacc\",\"unacc\",\"unacc\",\"unacc\",\"unacc\",\"unacc\",\"unacc\",\"unacc\",\"unacc\",\"unacc\",\"unacc\",\"acc\",\"unacc\",\"unacc\",\"acc\",\"unacc\",\"acc\",\"acc\",\"unacc\",\"unacc\",\"acc\",\"unacc\",\"acc\",\"acc\",\"unacc\",\"acc\",\"acc\",\"unacc\",\"unacc\",\"unacc\",\"unacc\",\"unacc\",\"unacc\",\"unacc\",\"unacc\",\"unacc\",\"unacc\",\"unacc\",\"acc\",\"unacc\",\"acc\",\"acc\",\"unacc\",\"acc\",\"acc\",\"unacc\",\"unacc\",\"acc\",\"unacc\",\"acc\",\"acc\",\"unacc\",\"acc\",\"acc\",\"unacc\",\"unacc\",\"unacc\",\"unacc\",\"unacc\",\"unacc\",\"unacc\",\"unacc\",\"unacc\",\"unacc\",\"unacc\",\"acc\",\"unacc\",\"acc\",\"acc\",\"unacc\",\"acc\",\"acc\",\"unacc\",\"unacc\",\"acc\",\"unacc\",\"acc\",\"acc\",\"unacc\",\"acc\",\"acc\",\"unacc\",\"unacc\",\"unacc\",\"unacc\",\"unacc\",\"unacc\",\"unacc\",\"unacc\",\"unacc\",\"unacc\",\"acc\",\"acc\",\"unacc\",\"acc\",\"acc\",\"unacc\",\"acc\",\"vgood\",\"unacc\",\"unacc\",\"unacc\",\"unacc\",\"acc\",\"acc\",\"unacc\",\"acc\",\"vgood\",\"unacc\",\"unacc\",\"unacc\",\"unacc\",\"unacc\",\"unacc\",\"unacc\",\"unacc\",\"unacc\",\"unacc\",\"acc\",\"acc\",\"unacc\",\"acc\",\"acc\",\"unacc\",\"acc\",\"vgood\",\"unacc\",\"acc\",\"acc\",\"unacc\",\"acc\",\"vgood\",\"unacc\",\"acc\",\"vgood\",\"unacc\",\"unacc\",\"unacc\",\"unacc\",\"unacc\",\"unacc\",\"unacc\",\"unacc\",\"unacc\",\"unacc\",\"acc\",\"acc\",\"unacc\",\"acc\",\"vgood\",\"unacc\",\"acc\",\"vgood\",\"unacc\",\"acc\",\"acc\",\"unacc\",\"acc\",\"vgood\",\"unacc\",\"acc\",\"vgood\",\"unacc\",\"unacc\",\"unacc\",\"unacc\",\"unacc\",\"unacc\",\"unacc\",\"unacc\",\"unacc\",\"unacc\",\"acc\",\"acc\",\"unacc\",\"acc\",\"vgood\",\"unacc\",\"acc\",\"vgood\",\"unacc\",\"acc\",\"acc\",\"unacc\",\"acc\",\"vgood\",\"unacc\",\"acc\",\"vgood\",\"unacc\",\"unacc\",\"unacc\",\"unacc\",\"unacc\",\"unacc\",\"unacc\",\"unacc\",\"unacc\",\"unacc\",\"acc\",\"good\",\"unacc\",\"acc\",\"good\",\"unacc\",\"good\",\"vgood\",\"unacc\",\"unacc\",\"unacc\",\"unacc\",\"acc\",\"good\",\"unacc\",\"good\",\"vgood\",\"unacc\",\"unacc\",\"unacc\",\"unacc\",\"unacc\",\"unacc\",\"unacc\",\"unacc\",\"unacc\",\"unacc\",\"acc\",\"good\",\"unacc\",\"acc\",\"good\",\"unacc\",\"good\",\"vgood\",\"unacc\",\"acc\",\"good\",\"unacc\",\"good\",\"vgood\",\"unacc\",\"good\",\"vgood\",\"unacc\",\"unacc\",\"unacc\",\"unacc\",\"unacc\",\"unacc\",\"unacc\",\"unacc\",\"unacc\",\"unacc\",\"acc\",\"good\",\"unacc\",\"good\",\"vgood\",\"unacc\",\"good\",\"vgood\",\"unacc\",\"acc\",\"good\",\"unacc\",\"good\",\"vgood\",\"unacc\",\"good\",\"vgood\",\"unacc\",\"unacc\",\"unacc\",\"unacc\",\"unacc\",\"unacc\",\"unacc\",\"unacc\",\"unacc\",\"unacc\",\"acc\",\"good\",\"unacc\",\"good\",\"vgood\",\"unacc\",\"good\",\"vgood\",\"unacc\",\"acc\",\"good\",\"unacc\",\"good\",\"vgood\",\"unacc\",\"good\",\"vgood\",\"unacc\",\"unacc\",\"unacc\",\"unacc\",\"unacc\",\"unacc\",\"unacc\",\"unacc\",\"unacc\",\"unacc\",\"unacc\",\"acc\",\"unacc\",\"unacc\",\"acc\",\"unacc\",\"acc\",\"acc\",\"unacc\",\"unacc\",\"unacc\",\"unacc\",\"unacc\",\"acc\",\"unacc\",\"acc\",\"acc\",\"unacc\",\"unacc\",\"unacc\",\"unacc\",\"unacc\",\"unacc\",\"unacc\",\"unacc\",\"unacc\",\"unacc\",\"unacc\",\"acc\",\"unacc\",\"unacc\",\"acc\",\"unacc\",\"acc\",\"acc\",\"unacc\",\"unacc\",\"acc\",\"unacc\",\"acc\",\"acc\",\"unacc\",\"acc\",\"acc\",\"unacc\",\"unacc\",\"unacc\",\"unacc\",\"unacc\",\"unacc\",\"unacc\",\"unacc\",\"unacc\",\"unacc\",\"unacc\",\"acc\",\"unacc\",\"acc\",\"acc\",\"unacc\",\"acc\",\"acc\",\"unacc\",\"unacc\",\"acc\",\"unacc\",\"acc\",\"acc\",\"unacc\",\"acc\",\"acc\",\"unacc\",\"unacc\",\"unacc\",\"unacc\",\"unacc\",\"unacc\",\"unacc\",\"unacc\",\"unacc\",\"unacc\",\"unacc\",\"acc\",\"unacc\",\"acc\",\"acc\",\"unacc\",\"acc\",\"acc\",\"unacc\",\"unacc\",\"acc\",\"unacc\",\"acc\",\"acc\",\"unacc\",\"acc\",\"acc\",\"unacc\",\"unacc\",\"unacc\",\"unacc\",\"unacc\",\"unacc\",\"unacc\",\"unacc\",\"unacc\",\"unacc\",\"acc\",\"acc\",\"unacc\",\"acc\",\"acc\",\"unacc\",\"acc\",\"vgood\",\"unacc\",\"unacc\",\"unacc\",\"unacc\",\"acc\",\"acc\",\"unacc\",\"acc\",\"vgood\",\"unacc\",\"unacc\",\"unacc\",\"unacc\",\"unacc\",\"unacc\",\"unacc\",\"unacc\",\"unacc\",\"unacc\",\"acc\",\"acc\",\"unacc\",\"acc\",\"acc\",\"unacc\",\"acc\",\"vgood\",\"unacc\",\"acc\",\"acc\",\"unacc\",\"acc\",\"vgood\",\"unacc\",\"acc\",\"vgood\",\"unacc\",\"unacc\",\"unacc\",\"unacc\",\"unacc\",\"unacc\",\"unacc\",\"unacc\",\"unacc\",\"unacc\",\"acc\",\"acc\",\"unacc\",\"acc\",\"vgood\",\"unacc\",\"acc\",\"vgood\",\"unacc\",\"acc\",\"acc\",\"unacc\",\"acc\",\"vgood\",\"unacc\",\"acc\",\"vgood\",\"unacc\",\"unacc\",\"unacc\",\"unacc\",\"unacc\",\"unacc\",\"unacc\",\"unacc\",\"unacc\",\"unacc\",\"acc\",\"acc\",\"unacc\",\"acc\",\"vgood\",\"unacc\",\"acc\",\"vgood\",\"unacc\",\"acc\",\"acc\",\"unacc\",\"acc\",\"vgood\",\"unacc\",\"acc\",\"vgood\",\"unacc\",\"unacc\",\"unacc\",\"unacc\",\"unacc\",\"unacc\",\"unacc\",\"unacc\",\"unacc\",\"unacc\",\"acc\",\"good\",\"unacc\",\"acc\",\"good\",\"unacc\",\"good\",\"vgood\",\"unacc\",\"unacc\",\"unacc\",\"unacc\",\"acc\",\"good\",\"unacc\",\"good\",\"vgood\",\"unacc\",\"unacc\",\"unacc\",\"unacc\",\"unacc\",\"unacc\",\"unacc\",\"unacc\",\"unacc\",\"unacc\",\"acc\",\"good\",\"unacc\",\"acc\",\"good\",\"unacc\",\"good\",\"vgood\",\"unacc\",\"acc\",\"good\",\"unacc\",\"good\",\"vgood\",\"unacc\",\"good\",\"vgood\",\"unacc\",\"unacc\",\"unacc\",\"unacc\",\"unacc\",\"unacc\",\"unacc\",\"unacc\",\"unacc\",\"unacc\",\"acc\",\"good\",\"unacc\",\"good\",\"vgood\",\"unacc\",\"good\",\"vgood\",\"unacc\",\"acc\",\"good\",\"unacc\",\"good\",\"vgood\",\"unacc\",\"good\",\"vgood\",\"unacc\",\"unacc\",\"unacc\",\"unacc\",\"unacc\",\"unacc\",\"unacc\",\"unacc\",\"unacc\",\"unacc\",\"acc\",\"good\",\"unacc\",\"good\",\"vgood\",\"unacc\",\"good\",\"vgood\",\"unacc\",\"acc\",\"good\",\"unacc\",\"good\",\"vgood\",\"unacc\",\"good\",\"vgood\",\"unacc\",\"unacc\",\"unacc\",\"unacc\",\"unacc\",\"unacc\",\"unacc\",\"unacc\",\"unacc\",\"unacc\",\"acc\",\"good\",\"unacc\",\"acc\",\"good\",\"unacc\",\"good\",\"vgood\",\"unacc\",\"unacc\",\"unacc\",\"unacc\",\"acc\",\"good\",\"unacc\",\"good\",\"vgood\",\"unacc\",\"unacc\",\"unacc\",\"unacc\",\"unacc\",\"unacc\",\"unacc\",\"unacc\",\"unacc\",\"unacc\",\"acc\",\"good\",\"unacc\",\"acc\",\"good\",\"unacc\",\"good\",\"vgood\",\"unacc\",\"acc\",\"good\",\"unacc\",\"good\",\"vgood\",\"unacc\",\"good\",\"vgood\",\"unacc\",\"unacc\",\"unacc\",\"unacc\",\"unacc\",\"unacc\",\"unacc\",\"unacc\",\"unacc\",\"unacc\",\"acc\",\"good\",\"unacc\",\"good\",\"vgood\",\"unacc\",\"good\",\"vgood\",\"unacc\",\"acc\",\"good\",\"unacc\",\"good\",\"vgood\",\"unacc\",\"good\",\"vgood\",\"unacc\",\"unacc\",\"unacc\",\"unacc\",\"unacc\",\"unacc\",\"unacc\",\"unacc\",\"unacc\",\"unacc\",\"acc\",\"good\",\"unacc\",\"good\",\"vgood\",\"unacc\",\"good\",\"vgood\",\"unacc\",\"acc\",\"good\",\"unacc\",\"good\",\"vgood\",\"unacc\",\"good\",\"vgood\"],\"xaxis\":\"x\",\"yaxis\":\"y\",\"type\":\"histogram\"}],                        {\"template\":{\"data\":{\"histogram2dcontour\":[{\"type\":\"histogram2dcontour\",\"colorbar\":{\"outlinewidth\":0,\"ticks\":\"\"},\"colorscale\":[[0.0,\"#0d0887\"],[0.1111111111111111,\"#46039f\"],[0.2222222222222222,\"#7201a8\"],[0.3333333333333333,\"#9c179e\"],[0.4444444444444444,\"#bd3786\"],[0.5555555555555556,\"#d8576b\"],[0.6666666666666666,\"#ed7953\"],[0.7777777777777778,\"#fb9f3a\"],[0.8888888888888888,\"#fdca26\"],[1.0,\"#f0f921\"]]}],\"choropleth\":[{\"type\":\"choropleth\",\"colorbar\":{\"outlinewidth\":0,\"ticks\":\"\"}}],\"histogram2d\":[{\"type\":\"histogram2d\",\"colorbar\":{\"outlinewidth\":0,\"ticks\":\"\"},\"colorscale\":[[0.0,\"#0d0887\"],[0.1111111111111111,\"#46039f\"],[0.2222222222222222,\"#7201a8\"],[0.3333333333333333,\"#9c179e\"],[0.4444444444444444,\"#bd3786\"],[0.5555555555555556,\"#d8576b\"],[0.6666666666666666,\"#ed7953\"],[0.7777777777777778,\"#fb9f3a\"],[0.8888888888888888,\"#fdca26\"],[1.0,\"#f0f921\"]]}],\"heatmap\":[{\"type\":\"heatmap\",\"colorbar\":{\"outlinewidth\":0,\"ticks\":\"\"},\"colorscale\":[[0.0,\"#0d0887\"],[0.1111111111111111,\"#46039f\"],[0.2222222222222222,\"#7201a8\"],[0.3333333333333333,\"#9c179e\"],[0.4444444444444444,\"#bd3786\"],[0.5555555555555556,\"#d8576b\"],[0.6666666666666666,\"#ed7953\"],[0.7777777777777778,\"#fb9f3a\"],[0.8888888888888888,\"#fdca26\"],[1.0,\"#f0f921\"]]}],\"heatmapgl\":[{\"type\":\"heatmapgl\",\"colorbar\":{\"outlinewidth\":0,\"ticks\":\"\"},\"colorscale\":[[0.0,\"#0d0887\"],[0.1111111111111111,\"#46039f\"],[0.2222222222222222,\"#7201a8\"],[0.3333333333333333,\"#9c179e\"],[0.4444444444444444,\"#bd3786\"],[0.5555555555555556,\"#d8576b\"],[0.6666666666666666,\"#ed7953\"],[0.7777777777777778,\"#fb9f3a\"],[0.8888888888888888,\"#fdca26\"],[1.0,\"#f0f921\"]]}],\"contourcarpet\":[{\"type\":\"contourcarpet\",\"colorbar\":{\"outlinewidth\":0,\"ticks\":\"\"}}],\"contour\":[{\"type\":\"contour\",\"colorbar\":{\"outlinewidth\":0,\"ticks\":\"\"},\"colorscale\":[[0.0,\"#0d0887\"],[0.1111111111111111,\"#46039f\"],[0.2222222222222222,\"#7201a8\"],[0.3333333333333333,\"#9c179e\"],[0.4444444444444444,\"#bd3786\"],[0.5555555555555556,\"#d8576b\"],[0.6666666666666666,\"#ed7953\"],[0.7777777777777778,\"#fb9f3a\"],[0.8888888888888888,\"#fdca26\"],[1.0,\"#f0f921\"]]}],\"surface\":[{\"type\":\"surface\",\"colorbar\":{\"outlinewidth\":0,\"ticks\":\"\"},\"colorscale\":[[0.0,\"#0d0887\"],[0.1111111111111111,\"#46039f\"],[0.2222222222222222,\"#7201a8\"],[0.3333333333333333,\"#9c179e\"],[0.4444444444444444,\"#bd3786\"],[0.5555555555555556,\"#d8576b\"],[0.6666666666666666,\"#ed7953\"],[0.7777777777777778,\"#fb9f3a\"],[0.8888888888888888,\"#fdca26\"],[1.0,\"#f0f921\"]]}],\"mesh3d\":[{\"type\":\"mesh3d\",\"colorbar\":{\"outlinewidth\":0,\"ticks\":\"\"}}],\"scatter\":[{\"fillpattern\":{\"fillmode\":\"overlay\",\"size\":10,\"solidity\":0.2},\"type\":\"scatter\"}],\"parcoords\":[{\"type\":\"parcoords\",\"line\":{\"colorbar\":{\"outlinewidth\":0,\"ticks\":\"\"}}}],\"scatterpolargl\":[{\"type\":\"scatterpolargl\",\"marker\":{\"colorbar\":{\"outlinewidth\":0,\"ticks\":\"\"}}}],\"bar\":[{\"error_x\":{\"color\":\"#2a3f5f\"},\"error_y\":{\"color\":\"#2a3f5f\"},\"marker\":{\"line\":{\"color\":\"#E5ECF6\",\"width\":0.5},\"pattern\":{\"fillmode\":\"overlay\",\"size\":10,\"solidity\":0.2}},\"type\":\"bar\"}],\"scattergeo\":[{\"type\":\"scattergeo\",\"marker\":{\"colorbar\":{\"outlinewidth\":0,\"ticks\":\"\"}}}],\"scatterpolar\":[{\"type\":\"scatterpolar\",\"marker\":{\"colorbar\":{\"outlinewidth\":0,\"ticks\":\"\"}}}],\"histogram\":[{\"marker\":{\"pattern\":{\"fillmode\":\"overlay\",\"size\":10,\"solidity\":0.2}},\"type\":\"histogram\"}],\"scattergl\":[{\"type\":\"scattergl\",\"marker\":{\"colorbar\":{\"outlinewidth\":0,\"ticks\":\"\"}}}],\"scatter3d\":[{\"type\":\"scatter3d\",\"line\":{\"colorbar\":{\"outlinewidth\":0,\"ticks\":\"\"}},\"marker\":{\"colorbar\":{\"outlinewidth\":0,\"ticks\":\"\"}}}],\"scattermapbox\":[{\"type\":\"scattermapbox\",\"marker\":{\"colorbar\":{\"outlinewidth\":0,\"ticks\":\"\"}}}],\"scatterternary\":[{\"type\":\"scatterternary\",\"marker\":{\"colorbar\":{\"outlinewidth\":0,\"ticks\":\"\"}}}],\"scattercarpet\":[{\"type\":\"scattercarpet\",\"marker\":{\"colorbar\":{\"outlinewidth\":0,\"ticks\":\"\"}}}],\"carpet\":[{\"aaxis\":{\"endlinecolor\":\"#2a3f5f\",\"gridcolor\":\"white\",\"linecolor\":\"white\",\"minorgridcolor\":\"white\",\"startlinecolor\":\"#2a3f5f\"},\"baxis\":{\"endlinecolor\":\"#2a3f5f\",\"gridcolor\":\"white\",\"linecolor\":\"white\",\"minorgridcolor\":\"white\",\"startlinecolor\":\"#2a3f5f\"},\"type\":\"carpet\"}],\"table\":[{\"cells\":{\"fill\":{\"color\":\"#EBF0F8\"},\"line\":{\"color\":\"white\"}},\"header\":{\"fill\":{\"color\":\"#C8D4E3\"},\"line\":{\"color\":\"white\"}},\"type\":\"table\"}],\"barpolar\":[{\"marker\":{\"line\":{\"color\":\"#E5ECF6\",\"width\":0.5},\"pattern\":{\"fillmode\":\"overlay\",\"size\":10,\"solidity\":0.2}},\"type\":\"barpolar\"}],\"pie\":[{\"automargin\":true,\"type\":\"pie\"}]},\"layout\":{\"autotypenumbers\":\"strict\",\"colorway\":[\"#636efa\",\"#EF553B\",\"#00cc96\",\"#ab63fa\",\"#FFA15A\",\"#19d3f3\",\"#FF6692\",\"#B6E880\",\"#FF97FF\",\"#FECB52\"],\"font\":{\"color\":\"#2a3f5f\"},\"hovermode\":\"closest\",\"hoverlabel\":{\"align\":\"left\"},\"paper_bgcolor\":\"white\",\"plot_bgcolor\":\"#E5ECF6\",\"polar\":{\"bgcolor\":\"#E5ECF6\",\"angularaxis\":{\"gridcolor\":\"white\",\"linecolor\":\"white\",\"ticks\":\"\"},\"radialaxis\":{\"gridcolor\":\"white\",\"linecolor\":\"white\",\"ticks\":\"\"}},\"ternary\":{\"bgcolor\":\"#E5ECF6\",\"aaxis\":{\"gridcolor\":\"white\",\"linecolor\":\"white\",\"ticks\":\"\"},\"baxis\":{\"gridcolor\":\"white\",\"linecolor\":\"white\",\"ticks\":\"\"},\"caxis\":{\"gridcolor\":\"white\",\"linecolor\":\"white\",\"ticks\":\"\"}},\"coloraxis\":{\"colorbar\":{\"outlinewidth\":0,\"ticks\":\"\"}},\"colorscale\":{\"sequential\":[[0.0,\"#0d0887\"],[0.1111111111111111,\"#46039f\"],[0.2222222222222222,\"#7201a8\"],[0.3333333333333333,\"#9c179e\"],[0.4444444444444444,\"#bd3786\"],[0.5555555555555556,\"#d8576b\"],[0.6666666666666666,\"#ed7953\"],[0.7777777777777778,\"#fb9f3a\"],[0.8888888888888888,\"#fdca26\"],[1.0,\"#f0f921\"]],\"sequentialminus\":[[0.0,\"#0d0887\"],[0.1111111111111111,\"#46039f\"],[0.2222222222222222,\"#7201a8\"],[0.3333333333333333,\"#9c179e\"],[0.4444444444444444,\"#bd3786\"],[0.5555555555555556,\"#d8576b\"],[0.6666666666666666,\"#ed7953\"],[0.7777777777777778,\"#fb9f3a\"],[0.8888888888888888,\"#fdca26\"],[1.0,\"#f0f921\"]],\"diverging\":[[0,\"#8e0152\"],[0.1,\"#c51b7d\"],[0.2,\"#de77ae\"],[0.3,\"#f1b6da\"],[0.4,\"#fde0ef\"],[0.5,\"#f7f7f7\"],[0.6,\"#e6f5d0\"],[0.7,\"#b8e186\"],[0.8,\"#7fbc41\"],[0.9,\"#4d9221\"],[1,\"#276419\"]]},\"xaxis\":{\"gridcolor\":\"white\",\"linecolor\":\"white\",\"ticks\":\"\",\"title\":{\"standoff\":15},\"zerolinecolor\":\"white\",\"automargin\":true,\"zerolinewidth\":2},\"yaxis\":{\"gridcolor\":\"white\",\"linecolor\":\"white\",\"ticks\":\"\",\"title\":{\"standoff\":15},\"zerolinecolor\":\"white\",\"automargin\":true,\"zerolinewidth\":2},\"scene\":{\"xaxis\":{\"backgroundcolor\":\"#E5ECF6\",\"gridcolor\":\"white\",\"linecolor\":\"white\",\"showbackground\":true,\"ticks\":\"\",\"zerolinecolor\":\"white\",\"gridwidth\":2},\"yaxis\":{\"backgroundcolor\":\"#E5ECF6\",\"gridcolor\":\"white\",\"linecolor\":\"white\",\"showbackground\":true,\"ticks\":\"\",\"zerolinecolor\":\"white\",\"gridwidth\":2},\"zaxis\":{\"backgroundcolor\":\"#E5ECF6\",\"gridcolor\":\"white\",\"linecolor\":\"white\",\"showbackground\":true,\"ticks\":\"\",\"zerolinecolor\":\"white\",\"gridwidth\":2}},\"shapedefaults\":{\"line\":{\"color\":\"#2a3f5f\"}},\"annotationdefaults\":{\"arrowcolor\":\"#2a3f5f\",\"arrowhead\":0,\"arrowwidth\":1},\"geo\":{\"bgcolor\":\"white\",\"landcolor\":\"#E5ECF6\",\"subunitcolor\":\"white\",\"showland\":true,\"showlakes\":true,\"lakecolor\":\"white\"},\"title\":{\"x\":0.05},\"mapbox\":{\"style\":\"light\"}}},\"xaxis\":{\"anchor\":\"y\",\"domain\":[0.0,1.0],\"title\":{\"text\":\"CAR\"}},\"yaxis\":{\"anchor\":\"x\",\"domain\":[0.0,1.0],\"title\":{\"text\":\"count\"}},\"legend\":{\"tracegroupgap\":0},\"margin\":{\"t\":60},\"barmode\":\"relative\"},                        {\"responsive\": true}                    ).then(function(){\n",
       "                            \n",
       "var gd = document.getElementById('04fa98aa-b667-4c2c-be7e-7a1446f9561e');\n",
       "var x = new MutationObserver(function (mutations, observer) {{\n",
       "        var display = window.getComputedStyle(gd).display;\n",
       "        if (!display || display === 'none') {{\n",
       "            console.log([gd, 'removed!']);\n",
       "            Plotly.purge(gd);\n",
       "            observer.disconnect();\n",
       "        }}\n",
       "}});\n",
       "\n",
       "// Listen for the removal of the full notebook cells\n",
       "var notebookContainer = gd.closest('#notebook-container');\n",
       "if (notebookContainer) {{\n",
       "    x.observe(notebookContainer, {childList: true});\n",
       "}}\n",
       "\n",
       "// Listen for the clearing of the current output cell\n",
       "var outputEl = gd.closest('.output');\n",
       "if (outputEl) {{\n",
       "    x.observe(outputEl, {childList: true});\n",
       "}}\n",
       "\n",
       "                        })                };                });            </script>        </div>"
      ]
     },
     "metadata": {},
     "output_type": "display_data"
    }
   ],
   "source": [
    "px.histogram(carsDf, x = \"CAR\", text_auto = True)"
   ]
  },
  {
   "cell_type": "markdown",
   "metadata": {
    "id": "UOYpoO4mpXqb"
   },
   "source": [
    "Since, we are doing a classificatin task.\n",
    "We make use of 3 algorithms:\n",
    "1. Naive Bayes,\n",
    "2. ANN,\n",
    "3. Decision Tree"
   ]
  },
  {
   "cell_type": "markdown",
   "metadata": {
    "id": "VnJQOWBAs_Tw"
   },
   "source": [
    "# Preprocessing"
   ]
  },
  {
   "cell_type": "markdown",
   "metadata": {
    "id": "h1BqBjjDtB1n"
   },
   "source": [
    "Major Tasks in Data Preprocessing:\n",
    "1. Data Cleaning\n",
    "2. Data Integration\n",
    "3. Data Reduction\n",
    "4. Data Transformation and Data Discretization"
   ]
  },
  {
   "cell_type": "markdown",
   "metadata": {
    "id": "5tgWkKh1uPy6"
   },
   "source": [
    "## Data Cleaning\n",
    "Tasks:\n",
    "1. Handle Missing Values,\n",
    "2. Smooth noisy data,\n",
    "3. Identify or remove outliers,\n",
    "4. Resolve inconsistencies\n",
    "5. Detect and remove redundancies"
   ]
  },
  {
   "cell_type": "code",
   "execution_count": 47,
   "metadata": {
    "colab": {
     "base_uri": "https://localhost:8080/"
    },
    "executionInfo": {
     "elapsed": 35,
     "status": "ok",
     "timestamp": 1702914381491,
     "user": {
      "displayName": "Hitesh Kayastha",
      "userId": "08602966089512209356"
     },
     "user_tz": -345
    },
    "id": "woVqosrsqApx",
    "outputId": "26545b7e-5b3e-4bc3-ed16-cc6a4ca4a364"
   },
   "outputs": [
    {
     "name": "stdout",
     "output_type": "stream",
     "text": [
      "<class 'pandas.core.frame.DataFrame'>\n",
      "RangeIndex: 1728 entries, 0 to 1727\n",
      "Data columns (total 7 columns):\n",
      " #   Column    Non-Null Count  Dtype \n",
      "---  ------    --------------  ----- \n",
      " 0   buying    1728 non-null   object\n",
      " 1   maint     1728 non-null   object\n",
      " 2   doors     1728 non-null   object\n",
      " 3   persons   1728 non-null   object\n",
      " 4   lug_boot  1728 non-null   object\n",
      " 5   safety    1728 non-null   object\n",
      " 6   CAR       1728 non-null   object\n",
      "dtypes: object(7)\n",
      "memory usage: 94.6+ KB\n"
     ]
    }
   ],
   "source": [
    "carsDf.info()"
   ]
  },
  {
   "cell_type": "markdown",
   "metadata": {
    "id": "ycazrqaUqHq1"
   },
   "source": [
    "No missing Values"
   ]
  },
  {
   "cell_type": "markdown",
   "metadata": {
    "id": "bFgPDoLhqJTs"
   },
   "source": [
    "# Data Cleaning"
   ]
  },
  {
   "cell_type": "code",
   "execution_count": 48,
   "metadata": {},
   "outputs": [
    {
     "data": {
      "text/html": [
       "<div>\n",
       "<style scoped>\n",
       "    .dataframe tbody tr th:only-of-type {\n",
       "        vertical-align: middle;\n",
       "    }\n",
       "\n",
       "    .dataframe tbody tr th {\n",
       "        vertical-align: top;\n",
       "    }\n",
       "\n",
       "    .dataframe thead th {\n",
       "        text-align: right;\n",
       "    }\n",
       "</style>\n",
       "<table border=\"1\" class=\"dataframe\">\n",
       "  <thead>\n",
       "    <tr style=\"text-align: right;\">\n",
       "      <th></th>\n",
       "      <th>buying</th>\n",
       "      <th>maint</th>\n",
       "      <th>doors</th>\n",
       "      <th>persons</th>\n",
       "      <th>lug_boot</th>\n",
       "      <th>safety</th>\n",
       "      <th>CAR</th>\n",
       "    </tr>\n",
       "  </thead>\n",
       "  <tbody>\n",
       "    <tr>\n",
       "      <th>0</th>\n",
       "      <td>vhigh</td>\n",
       "      <td>vhigh</td>\n",
       "      <td>2</td>\n",
       "      <td>2</td>\n",
       "      <td>small</td>\n",
       "      <td>low</td>\n",
       "      <td>unacc</td>\n",
       "    </tr>\n",
       "    <tr>\n",
       "      <th>1</th>\n",
       "      <td>vhigh</td>\n",
       "      <td>vhigh</td>\n",
       "      <td>2</td>\n",
       "      <td>2</td>\n",
       "      <td>small</td>\n",
       "      <td>med</td>\n",
       "      <td>unacc</td>\n",
       "    </tr>\n",
       "    <tr>\n",
       "      <th>2</th>\n",
       "      <td>vhigh</td>\n",
       "      <td>vhigh</td>\n",
       "      <td>2</td>\n",
       "      <td>2</td>\n",
       "      <td>small</td>\n",
       "      <td>high</td>\n",
       "      <td>unacc</td>\n",
       "    </tr>\n",
       "    <tr>\n",
       "      <th>3</th>\n",
       "      <td>vhigh</td>\n",
       "      <td>vhigh</td>\n",
       "      <td>2</td>\n",
       "      <td>2</td>\n",
       "      <td>med</td>\n",
       "      <td>low</td>\n",
       "      <td>unacc</td>\n",
       "    </tr>\n",
       "    <tr>\n",
       "      <th>4</th>\n",
       "      <td>vhigh</td>\n",
       "      <td>vhigh</td>\n",
       "      <td>2</td>\n",
       "      <td>2</td>\n",
       "      <td>med</td>\n",
       "      <td>med</td>\n",
       "      <td>unacc</td>\n",
       "    </tr>\n",
       "    <tr>\n",
       "      <th>...</th>\n",
       "      <td>...</td>\n",
       "      <td>...</td>\n",
       "      <td>...</td>\n",
       "      <td>...</td>\n",
       "      <td>...</td>\n",
       "      <td>...</td>\n",
       "      <td>...</td>\n",
       "    </tr>\n",
       "    <tr>\n",
       "      <th>1723</th>\n",
       "      <td>low</td>\n",
       "      <td>low</td>\n",
       "      <td>5more</td>\n",
       "      <td>more</td>\n",
       "      <td>med</td>\n",
       "      <td>med</td>\n",
       "      <td>good</td>\n",
       "    </tr>\n",
       "    <tr>\n",
       "      <th>1724</th>\n",
       "      <td>low</td>\n",
       "      <td>low</td>\n",
       "      <td>5more</td>\n",
       "      <td>more</td>\n",
       "      <td>med</td>\n",
       "      <td>high</td>\n",
       "      <td>vgood</td>\n",
       "    </tr>\n",
       "    <tr>\n",
       "      <th>1725</th>\n",
       "      <td>low</td>\n",
       "      <td>low</td>\n",
       "      <td>5more</td>\n",
       "      <td>more</td>\n",
       "      <td>big</td>\n",
       "      <td>low</td>\n",
       "      <td>unacc</td>\n",
       "    </tr>\n",
       "    <tr>\n",
       "      <th>1726</th>\n",
       "      <td>low</td>\n",
       "      <td>low</td>\n",
       "      <td>5more</td>\n",
       "      <td>more</td>\n",
       "      <td>big</td>\n",
       "      <td>med</td>\n",
       "      <td>good</td>\n",
       "    </tr>\n",
       "    <tr>\n",
       "      <th>1727</th>\n",
       "      <td>low</td>\n",
       "      <td>low</td>\n",
       "      <td>5more</td>\n",
       "      <td>more</td>\n",
       "      <td>big</td>\n",
       "      <td>high</td>\n",
       "      <td>vgood</td>\n",
       "    </tr>\n",
       "  </tbody>\n",
       "</table>\n",
       "<p>1728 rows × 7 columns</p>\n",
       "</div>"
      ],
      "text/plain": [
       "     buying  maint  doors persons lug_boot safety    CAR\n",
       "0     vhigh  vhigh      2       2    small    low  unacc\n",
       "1     vhigh  vhigh      2       2    small    med  unacc\n",
       "2     vhigh  vhigh      2       2    small   high  unacc\n",
       "3     vhigh  vhigh      2       2      med    low  unacc\n",
       "4     vhigh  vhigh      2       2      med    med  unacc\n",
       "...     ...    ...    ...     ...      ...    ...    ...\n",
       "1723    low    low  5more    more      med    med   good\n",
       "1724    low    low  5more    more      med   high  vgood\n",
       "1725    low    low  5more    more      big    low  unacc\n",
       "1726    low    low  5more    more      big    med   good\n",
       "1727    low    low  5more    more      big   high  vgood\n",
       "\n",
       "[1728 rows x 7 columns]"
      ]
     },
     "execution_count": 48,
     "metadata": {},
     "output_type": "execute_result"
    }
   ],
   "source": [
    "carsDf"
   ]
  },
  {
   "cell_type": "code",
   "execution_count": 49,
   "metadata": {
    "executionInfo": {
     "elapsed": 30,
     "status": "ok",
     "timestamp": 1702914381491,
     "user": {
      "displayName": "Hitesh Kayastha",
      "userId": "08602966089512209356"
     },
     "user_tz": -345
    },
    "id": "8uG4Hb8T1y7o"
   },
   "outputs": [],
   "source": [
    "resetCarsDf()\n",
    "carsDfBuyingAndMaintMap = {\n",
    "    \"vhigh\": 4,\n",
    "    \"high\": 3,\n",
    "    \"med\": 2,\n",
    "    \"low\": 1\n",
    "}\n",
    "carsDf.buying = carsDf.buying.apply(lambda x: carsDfBuyingAndMaintMap[x])\n",
    "carsDf.maint = carsDf.maint.apply(lambda x: carsDfBuyingAndMaintMap[x])"
   ]
  },
  {
   "cell_type": "code",
   "execution_count": 50,
   "metadata": {
    "colab": {
     "base_uri": "https://localhost:8080/",
     "height": 423
    },
    "executionInfo": {
     "elapsed": 29,
     "status": "ok",
     "timestamp": 1702914381491,
     "user": {
      "displayName": "Hitesh Kayastha",
      "userId": "08602966089512209356"
     },
     "user_tz": -345
    },
    "id": "3BuqdPPu2h6p",
    "outputId": "5a065fe2-d548-44e7-aaad-fbc872500808"
   },
   "outputs": [
    {
     "data": {
      "text/html": [
       "<div>\n",
       "<style scoped>\n",
       "    .dataframe tbody tr th:only-of-type {\n",
       "        vertical-align: middle;\n",
       "    }\n",
       "\n",
       "    .dataframe tbody tr th {\n",
       "        vertical-align: top;\n",
       "    }\n",
       "\n",
       "    .dataframe thead th {\n",
       "        text-align: right;\n",
       "    }\n",
       "</style>\n",
       "<table border=\"1\" class=\"dataframe\">\n",
       "  <thead>\n",
       "    <tr style=\"text-align: right;\">\n",
       "      <th></th>\n",
       "      <th>buying</th>\n",
       "      <th>maint</th>\n",
       "      <th>doors</th>\n",
       "      <th>persons</th>\n",
       "      <th>lug_boot</th>\n",
       "      <th>safety</th>\n",
       "      <th>CAR</th>\n",
       "    </tr>\n",
       "  </thead>\n",
       "  <tbody>\n",
       "    <tr>\n",
       "      <th>0</th>\n",
       "      <td>4</td>\n",
       "      <td>4</td>\n",
       "      <td>2</td>\n",
       "      <td>2</td>\n",
       "      <td>small</td>\n",
       "      <td>low</td>\n",
       "      <td>unacc</td>\n",
       "    </tr>\n",
       "    <tr>\n",
       "      <th>1</th>\n",
       "      <td>4</td>\n",
       "      <td>4</td>\n",
       "      <td>2</td>\n",
       "      <td>2</td>\n",
       "      <td>small</td>\n",
       "      <td>med</td>\n",
       "      <td>unacc</td>\n",
       "    </tr>\n",
       "    <tr>\n",
       "      <th>2</th>\n",
       "      <td>4</td>\n",
       "      <td>4</td>\n",
       "      <td>2</td>\n",
       "      <td>2</td>\n",
       "      <td>small</td>\n",
       "      <td>high</td>\n",
       "      <td>unacc</td>\n",
       "    </tr>\n",
       "    <tr>\n",
       "      <th>3</th>\n",
       "      <td>4</td>\n",
       "      <td>4</td>\n",
       "      <td>2</td>\n",
       "      <td>2</td>\n",
       "      <td>med</td>\n",
       "      <td>low</td>\n",
       "      <td>unacc</td>\n",
       "    </tr>\n",
       "    <tr>\n",
       "      <th>4</th>\n",
       "      <td>4</td>\n",
       "      <td>4</td>\n",
       "      <td>2</td>\n",
       "      <td>2</td>\n",
       "      <td>med</td>\n",
       "      <td>med</td>\n",
       "      <td>unacc</td>\n",
       "    </tr>\n",
       "    <tr>\n",
       "      <th>...</th>\n",
       "      <td>...</td>\n",
       "      <td>...</td>\n",
       "      <td>...</td>\n",
       "      <td>...</td>\n",
       "      <td>...</td>\n",
       "      <td>...</td>\n",
       "      <td>...</td>\n",
       "    </tr>\n",
       "    <tr>\n",
       "      <th>1723</th>\n",
       "      <td>1</td>\n",
       "      <td>1</td>\n",
       "      <td>5more</td>\n",
       "      <td>more</td>\n",
       "      <td>med</td>\n",
       "      <td>med</td>\n",
       "      <td>good</td>\n",
       "    </tr>\n",
       "    <tr>\n",
       "      <th>1724</th>\n",
       "      <td>1</td>\n",
       "      <td>1</td>\n",
       "      <td>5more</td>\n",
       "      <td>more</td>\n",
       "      <td>med</td>\n",
       "      <td>high</td>\n",
       "      <td>vgood</td>\n",
       "    </tr>\n",
       "    <tr>\n",
       "      <th>1725</th>\n",
       "      <td>1</td>\n",
       "      <td>1</td>\n",
       "      <td>5more</td>\n",
       "      <td>more</td>\n",
       "      <td>big</td>\n",
       "      <td>low</td>\n",
       "      <td>unacc</td>\n",
       "    </tr>\n",
       "    <tr>\n",
       "      <th>1726</th>\n",
       "      <td>1</td>\n",
       "      <td>1</td>\n",
       "      <td>5more</td>\n",
       "      <td>more</td>\n",
       "      <td>big</td>\n",
       "      <td>med</td>\n",
       "      <td>good</td>\n",
       "    </tr>\n",
       "    <tr>\n",
       "      <th>1727</th>\n",
       "      <td>1</td>\n",
       "      <td>1</td>\n",
       "      <td>5more</td>\n",
       "      <td>more</td>\n",
       "      <td>big</td>\n",
       "      <td>high</td>\n",
       "      <td>vgood</td>\n",
       "    </tr>\n",
       "  </tbody>\n",
       "</table>\n",
       "<p>1728 rows × 7 columns</p>\n",
       "</div>"
      ],
      "text/plain": [
       "      buying  maint  doors persons lug_boot safety    CAR\n",
       "0          4      4      2       2    small    low  unacc\n",
       "1          4      4      2       2    small    med  unacc\n",
       "2          4      4      2       2    small   high  unacc\n",
       "3          4      4      2       2      med    low  unacc\n",
       "4          4      4      2       2      med    med  unacc\n",
       "...      ...    ...    ...     ...      ...    ...    ...\n",
       "1723       1      1  5more    more      med    med   good\n",
       "1724       1      1  5more    more      med   high  vgood\n",
       "1725       1      1  5more    more      big    low  unacc\n",
       "1726       1      1  5more    more      big    med   good\n",
       "1727       1      1  5more    more      big   high  vgood\n",
       "\n",
       "[1728 rows x 7 columns]"
      ]
     },
     "execution_count": 50,
     "metadata": {},
     "output_type": "execute_result"
    }
   ],
   "source": [
    "carsDf"
   ]
  },
  {
   "cell_type": "code",
   "execution_count": 51,
   "metadata": {
    "executionInfo": {
     "elapsed": 27,
     "status": "ok",
     "timestamp": 1702914381492,
     "user": {
      "displayName": "Hitesh Kayastha",
      "userId": "08602966089512209356"
     },
     "user_tz": -345
    },
    "id": "BJHyhCJu2nQs"
   },
   "outputs": [],
   "source": [
    "carsDfLugBootMap = {\n",
    "    \"small\": 1,\n",
    "    \"med\": 2,\n",
    "    \"big\": 3,\n",
    "}\n",
    "carsDfSafetyMap = {\n",
    "    \"low\": 1,\n",
    "    \"med\": 2,\n",
    "    \"high\": 3\n",
    "}\n",
    "\n",
    "carsDf.lug_boot = carsDf.lug_boot.apply(lambda x: carsDfLugBootMap[x])\n",
    "carsDf.safety = carsDf.safety.apply(lambda x: carsDfSafetyMap[x])\n"
   ]
  },
  {
   "cell_type": "code",
   "execution_count": 52,
   "metadata": {
    "executionInfo": {
     "elapsed": 27,
     "status": "ok",
     "timestamp": 1702914381492,
     "user": {
      "displayName": "Hitesh Kayastha",
      "userId": "08602966089512209356"
     },
     "user_tz": -345
    },
    "id": "RjwRRa6R_qAg"
   },
   "outputs": [],
   "source": [
    "carsDf['persons'] = carsDfOrig['persons'].apply(lambda val: 6 if val == \"more\" else val)\n",
    "# carsDf['persons'].value_counts()\n",
    "carsDf['doors'] = carsDf['doors'].apply(lambda val: 5 if val == \"5more\" else val)\n"
   ]
  },
  {
   "cell_type": "code",
   "execution_count": 53,
   "metadata": {
    "colab": {
     "base_uri": "https://localhost:8080/",
     "height": 423
    },
    "executionInfo": {
     "elapsed": 26,
     "status": "ok",
     "timestamp": 1702914381492,
     "user": {
      "displayName": "Hitesh Kayastha",
      "userId": "08602966089512209356"
     },
     "user_tz": -345
    },
    "id": "ZQX2IZ-f4rC1",
    "outputId": "ea9c162b-e35c-4826-cd28-2fda681b98fa"
   },
   "outputs": [
    {
     "data": {
      "text/html": [
       "<div>\n",
       "<style scoped>\n",
       "    .dataframe tbody tr th:only-of-type {\n",
       "        vertical-align: middle;\n",
       "    }\n",
       "\n",
       "    .dataframe tbody tr th {\n",
       "        vertical-align: top;\n",
       "    }\n",
       "\n",
       "    .dataframe thead th {\n",
       "        text-align: right;\n",
       "    }\n",
       "</style>\n",
       "<table border=\"1\" class=\"dataframe\">\n",
       "  <thead>\n",
       "    <tr style=\"text-align: right;\">\n",
       "      <th></th>\n",
       "      <th>buying</th>\n",
       "      <th>maint</th>\n",
       "      <th>doors</th>\n",
       "      <th>persons</th>\n",
       "      <th>lug_boot</th>\n",
       "      <th>safety</th>\n",
       "      <th>CAR</th>\n",
       "    </tr>\n",
       "  </thead>\n",
       "  <tbody>\n",
       "    <tr>\n",
       "      <th>0</th>\n",
       "      <td>4</td>\n",
       "      <td>4</td>\n",
       "      <td>2</td>\n",
       "      <td>2</td>\n",
       "      <td>1</td>\n",
       "      <td>1</td>\n",
       "      <td>unacc</td>\n",
       "    </tr>\n",
       "    <tr>\n",
       "      <th>1</th>\n",
       "      <td>4</td>\n",
       "      <td>4</td>\n",
       "      <td>2</td>\n",
       "      <td>2</td>\n",
       "      <td>1</td>\n",
       "      <td>2</td>\n",
       "      <td>unacc</td>\n",
       "    </tr>\n",
       "    <tr>\n",
       "      <th>2</th>\n",
       "      <td>4</td>\n",
       "      <td>4</td>\n",
       "      <td>2</td>\n",
       "      <td>2</td>\n",
       "      <td>1</td>\n",
       "      <td>3</td>\n",
       "      <td>unacc</td>\n",
       "    </tr>\n",
       "    <tr>\n",
       "      <th>3</th>\n",
       "      <td>4</td>\n",
       "      <td>4</td>\n",
       "      <td>2</td>\n",
       "      <td>2</td>\n",
       "      <td>2</td>\n",
       "      <td>1</td>\n",
       "      <td>unacc</td>\n",
       "    </tr>\n",
       "    <tr>\n",
       "      <th>4</th>\n",
       "      <td>4</td>\n",
       "      <td>4</td>\n",
       "      <td>2</td>\n",
       "      <td>2</td>\n",
       "      <td>2</td>\n",
       "      <td>2</td>\n",
       "      <td>unacc</td>\n",
       "    </tr>\n",
       "    <tr>\n",
       "      <th>...</th>\n",
       "      <td>...</td>\n",
       "      <td>...</td>\n",
       "      <td>...</td>\n",
       "      <td>...</td>\n",
       "      <td>...</td>\n",
       "      <td>...</td>\n",
       "      <td>...</td>\n",
       "    </tr>\n",
       "    <tr>\n",
       "      <th>1723</th>\n",
       "      <td>1</td>\n",
       "      <td>1</td>\n",
       "      <td>5</td>\n",
       "      <td>6</td>\n",
       "      <td>2</td>\n",
       "      <td>2</td>\n",
       "      <td>good</td>\n",
       "    </tr>\n",
       "    <tr>\n",
       "      <th>1724</th>\n",
       "      <td>1</td>\n",
       "      <td>1</td>\n",
       "      <td>5</td>\n",
       "      <td>6</td>\n",
       "      <td>2</td>\n",
       "      <td>3</td>\n",
       "      <td>vgood</td>\n",
       "    </tr>\n",
       "    <tr>\n",
       "      <th>1725</th>\n",
       "      <td>1</td>\n",
       "      <td>1</td>\n",
       "      <td>5</td>\n",
       "      <td>6</td>\n",
       "      <td>3</td>\n",
       "      <td>1</td>\n",
       "      <td>unacc</td>\n",
       "    </tr>\n",
       "    <tr>\n",
       "      <th>1726</th>\n",
       "      <td>1</td>\n",
       "      <td>1</td>\n",
       "      <td>5</td>\n",
       "      <td>6</td>\n",
       "      <td>3</td>\n",
       "      <td>2</td>\n",
       "      <td>good</td>\n",
       "    </tr>\n",
       "    <tr>\n",
       "      <th>1727</th>\n",
       "      <td>1</td>\n",
       "      <td>1</td>\n",
       "      <td>5</td>\n",
       "      <td>6</td>\n",
       "      <td>3</td>\n",
       "      <td>3</td>\n",
       "      <td>vgood</td>\n",
       "    </tr>\n",
       "  </tbody>\n",
       "</table>\n",
       "<p>1728 rows × 7 columns</p>\n",
       "</div>"
      ],
      "text/plain": [
       "      buying  maint doors persons  lug_boot  safety    CAR\n",
       "0          4      4     2       2         1       1  unacc\n",
       "1          4      4     2       2         1       2  unacc\n",
       "2          4      4     2       2         1       3  unacc\n",
       "3          4      4     2       2         2       1  unacc\n",
       "4          4      4     2       2         2       2  unacc\n",
       "...      ...    ...   ...     ...       ...     ...    ...\n",
       "1723       1      1     5       6         2       2   good\n",
       "1724       1      1     5       6         2       3  vgood\n",
       "1725       1      1     5       6         3       1  unacc\n",
       "1726       1      1     5       6         3       2   good\n",
       "1727       1      1     5       6         3       3  vgood\n",
       "\n",
       "[1728 rows x 7 columns]"
      ]
     },
     "execution_count": 53,
     "metadata": {},
     "output_type": "execute_result"
    }
   ],
   "source": [
    "carsDf"
   ]
  },
  {
   "cell_type": "code",
   "execution_count": 54,
   "metadata": {
    "colab": {
     "base_uri": "https://localhost:8080/"
    },
    "executionInfo": {
     "elapsed": 24,
     "status": "ok",
     "timestamp": 1702914381492,
     "user": {
      "displayName": "Hitesh Kayastha",
      "userId": "08602966089512209356"
     },
     "user_tz": -345
    },
    "id": "89c4XygfX9Lc",
    "outputId": "89f109c8-3d7a-4a8b-8e70-7c6961ca519d"
   },
   "outputs": [
    {
     "data": {
      "text/plain": [
       "array(['unacc', 'acc', 'vgood', 'good'], dtype=object)"
      ]
     },
     "execution_count": 54,
     "metadata": {},
     "output_type": "execute_result"
    }
   ],
   "source": [
    "carsDf.CAR.unique()"
   ]
  },
  {
   "cell_type": "code",
   "execution_count": 55,
   "metadata": {
    "executionInfo": {
     "elapsed": 19,
     "status": "ok",
     "timestamp": 1702914381492,
     "user": {
      "displayName": "Hitesh Kayastha",
      "userId": "08602966089512209356"
     },
     "user_tz": -345
    },
    "id": "Ez1Lp3iRWt8P"
   },
   "outputs": [],
   "source": [
    "order_CAR = ['unacc', 'acc', 'good', 'vgood']\n",
    "CAR_data = pd.Categorical(carsDf['CAR'], categories = order_CAR, ordered = True)\n",
    "carsDf[carsDf.columns[-1]] = CAR_data.codes\n",
    "# carsDf_changedTarget = carsDf.CAR.apply(lambda val: )"
   ]
  },
  {
   "cell_type": "markdown",
   "metadata": {
    "id": "dXKtF3GB41x4"
   },
   "source": [
    "# Data Transformation"
   ]
  },
  {
   "cell_type": "code",
   "execution_count": 56,
   "metadata": {
    "colab": {
     "base_uri": "https://localhost:8080/",
     "height": 423
    },
    "executionInfo": {
     "elapsed": 2262,
     "status": "ok",
     "timestamp": 1702914383736,
     "user": {
      "displayName": "Hitesh Kayastha",
      "userId": "08602966089512209356"
     },
     "user_tz": -345
    },
    "id": "qwD-gV1k43S0",
    "outputId": "a589f7ad-859e-4453-d780-ce825d1f2caf"
   },
   "outputs": [
    {
     "data": {
      "text/html": [
       "<div>\n",
       "<style scoped>\n",
       "    .dataframe tbody tr th:only-of-type {\n",
       "        vertical-align: middle;\n",
       "    }\n",
       "\n",
       "    .dataframe tbody tr th {\n",
       "        vertical-align: top;\n",
       "    }\n",
       "\n",
       "    .dataframe thead th {\n",
       "        text-align: right;\n",
       "    }\n",
       "</style>\n",
       "<table border=\"1\" class=\"dataframe\">\n",
       "  <thead>\n",
       "    <tr style=\"text-align: right;\">\n",
       "      <th></th>\n",
       "      <th>buying</th>\n",
       "      <th>maint</th>\n",
       "      <th>doors</th>\n",
       "      <th>persons</th>\n",
       "      <th>lug_boot</th>\n",
       "      <th>safety</th>\n",
       "      <th>CAR</th>\n",
       "    </tr>\n",
       "  </thead>\n",
       "  <tbody>\n",
       "    <tr>\n",
       "      <th>0</th>\n",
       "      <td>1.0</td>\n",
       "      <td>1.0</td>\n",
       "      <td>0.0</td>\n",
       "      <td>0.0</td>\n",
       "      <td>0.0</td>\n",
       "      <td>0.0</td>\n",
       "      <td>0</td>\n",
       "    </tr>\n",
       "    <tr>\n",
       "      <th>1</th>\n",
       "      <td>1.0</td>\n",
       "      <td>1.0</td>\n",
       "      <td>0.0</td>\n",
       "      <td>0.0</td>\n",
       "      <td>0.0</td>\n",
       "      <td>0.5</td>\n",
       "      <td>0</td>\n",
       "    </tr>\n",
       "    <tr>\n",
       "      <th>2</th>\n",
       "      <td>1.0</td>\n",
       "      <td>1.0</td>\n",
       "      <td>0.0</td>\n",
       "      <td>0.0</td>\n",
       "      <td>0.0</td>\n",
       "      <td>1.0</td>\n",
       "      <td>0</td>\n",
       "    </tr>\n",
       "    <tr>\n",
       "      <th>3</th>\n",
       "      <td>1.0</td>\n",
       "      <td>1.0</td>\n",
       "      <td>0.0</td>\n",
       "      <td>0.0</td>\n",
       "      <td>0.5</td>\n",
       "      <td>0.0</td>\n",
       "      <td>0</td>\n",
       "    </tr>\n",
       "    <tr>\n",
       "      <th>4</th>\n",
       "      <td>1.0</td>\n",
       "      <td>1.0</td>\n",
       "      <td>0.0</td>\n",
       "      <td>0.0</td>\n",
       "      <td>0.5</td>\n",
       "      <td>0.5</td>\n",
       "      <td>0</td>\n",
       "    </tr>\n",
       "    <tr>\n",
       "      <th>...</th>\n",
       "      <td>...</td>\n",
       "      <td>...</td>\n",
       "      <td>...</td>\n",
       "      <td>...</td>\n",
       "      <td>...</td>\n",
       "      <td>...</td>\n",
       "      <td>...</td>\n",
       "    </tr>\n",
       "    <tr>\n",
       "      <th>1723</th>\n",
       "      <td>0.0</td>\n",
       "      <td>0.0</td>\n",
       "      <td>1.0</td>\n",
       "      <td>1.0</td>\n",
       "      <td>0.5</td>\n",
       "      <td>0.5</td>\n",
       "      <td>2</td>\n",
       "    </tr>\n",
       "    <tr>\n",
       "      <th>1724</th>\n",
       "      <td>0.0</td>\n",
       "      <td>0.0</td>\n",
       "      <td>1.0</td>\n",
       "      <td>1.0</td>\n",
       "      <td>0.5</td>\n",
       "      <td>1.0</td>\n",
       "      <td>3</td>\n",
       "    </tr>\n",
       "    <tr>\n",
       "      <th>1725</th>\n",
       "      <td>0.0</td>\n",
       "      <td>0.0</td>\n",
       "      <td>1.0</td>\n",
       "      <td>1.0</td>\n",
       "      <td>1.0</td>\n",
       "      <td>0.0</td>\n",
       "      <td>0</td>\n",
       "    </tr>\n",
       "    <tr>\n",
       "      <th>1726</th>\n",
       "      <td>0.0</td>\n",
       "      <td>0.0</td>\n",
       "      <td>1.0</td>\n",
       "      <td>1.0</td>\n",
       "      <td>1.0</td>\n",
       "      <td>0.5</td>\n",
       "      <td>2</td>\n",
       "    </tr>\n",
       "    <tr>\n",
       "      <th>1727</th>\n",
       "      <td>0.0</td>\n",
       "      <td>0.0</td>\n",
       "      <td>1.0</td>\n",
       "      <td>1.0</td>\n",
       "      <td>1.0</td>\n",
       "      <td>1.0</td>\n",
       "      <td>3</td>\n",
       "    </tr>\n",
       "  </tbody>\n",
       "</table>\n",
       "<p>1728 rows × 7 columns</p>\n",
       "</div>"
      ],
      "text/plain": [
       "      buying  maint  doors  persons  lug_boot  safety  CAR\n",
       "0        1.0    1.0    0.0      0.0       0.0     0.0    0\n",
       "1        1.0    1.0    0.0      0.0       0.0     0.5    0\n",
       "2        1.0    1.0    0.0      0.0       0.0     1.0    0\n",
       "3        1.0    1.0    0.0      0.0       0.5     0.0    0\n",
       "4        1.0    1.0    0.0      0.0       0.5     0.5    0\n",
       "...      ...    ...    ...      ...       ...     ...  ...\n",
       "1723     0.0    0.0    1.0      1.0       0.5     0.5    2\n",
       "1724     0.0    0.0    1.0      1.0       0.5     1.0    3\n",
       "1725     0.0    0.0    1.0      1.0       1.0     0.0    0\n",
       "1726     0.0    0.0    1.0      1.0       1.0     0.5    2\n",
       "1727     0.0    0.0    1.0      1.0       1.0     1.0    3\n",
       "\n",
       "[1728 rows x 7 columns]"
      ]
     },
     "execution_count": 56,
     "metadata": {},
     "output_type": "execute_result"
    }
   ],
   "source": [
    "# we do min-max normalization\n",
    "from sklearn.preprocessing import MinMaxScaler\n",
    "\n",
    "scaler = MinMaxScaler()\n",
    "columnsToNormalize = carsDf.columns[:-1]\n",
    "\n",
    "carsDf[columnsToNormalize] = scaler.fit_transform(carsDf[columnsToNormalize])\n",
    "carsDf"
   ]
  },
  {
   "cell_type": "code",
   "execution_count": 57,
   "metadata": {
    "colab": {
     "base_uri": "https://localhost:8080/",
     "height": 423
    },
    "executionInfo": {
     "elapsed": 14,
     "status": "ok",
     "timestamp": 1702914383737,
     "user": {
      "displayName": "Hitesh Kayastha",
      "userId": "08602966089512209356"
     },
     "user_tz": -345
    },
    "id": "5VPCyGNXBVn6",
    "outputId": "a56568c7-d51b-4fd1-c27d-3231f39394a7"
   },
   "outputs": [
    {
     "data": {
      "text/html": [
       "<div>\n",
       "<style scoped>\n",
       "    .dataframe tbody tr th:only-of-type {\n",
       "        vertical-align: middle;\n",
       "    }\n",
       "\n",
       "    .dataframe tbody tr th {\n",
       "        vertical-align: top;\n",
       "    }\n",
       "\n",
       "    .dataframe thead th {\n",
       "        text-align: right;\n",
       "    }\n",
       "</style>\n",
       "<table border=\"1\" class=\"dataframe\">\n",
       "  <thead>\n",
       "    <tr style=\"text-align: right;\">\n",
       "      <th></th>\n",
       "      <th>buying</th>\n",
       "      <th>maint</th>\n",
       "      <th>doors</th>\n",
       "      <th>persons</th>\n",
       "      <th>lug_boot</th>\n",
       "      <th>safety</th>\n",
       "      <th>CAR</th>\n",
       "    </tr>\n",
       "  </thead>\n",
       "  <tbody>\n",
       "    <tr>\n",
       "      <th>0</th>\n",
       "      <td>1.0</td>\n",
       "      <td>1.0</td>\n",
       "      <td>0.0</td>\n",
       "      <td>0.0</td>\n",
       "      <td>0.0</td>\n",
       "      <td>0.0</td>\n",
       "      <td>0</td>\n",
       "    </tr>\n",
       "    <tr>\n",
       "      <th>1</th>\n",
       "      <td>1.0</td>\n",
       "      <td>1.0</td>\n",
       "      <td>0.0</td>\n",
       "      <td>0.0</td>\n",
       "      <td>0.0</td>\n",
       "      <td>0.5</td>\n",
       "      <td>0</td>\n",
       "    </tr>\n",
       "    <tr>\n",
       "      <th>2</th>\n",
       "      <td>1.0</td>\n",
       "      <td>1.0</td>\n",
       "      <td>0.0</td>\n",
       "      <td>0.0</td>\n",
       "      <td>0.0</td>\n",
       "      <td>1.0</td>\n",
       "      <td>0</td>\n",
       "    </tr>\n",
       "    <tr>\n",
       "      <th>3</th>\n",
       "      <td>1.0</td>\n",
       "      <td>1.0</td>\n",
       "      <td>0.0</td>\n",
       "      <td>0.0</td>\n",
       "      <td>0.5</td>\n",
       "      <td>0.0</td>\n",
       "      <td>0</td>\n",
       "    </tr>\n",
       "    <tr>\n",
       "      <th>4</th>\n",
       "      <td>1.0</td>\n",
       "      <td>1.0</td>\n",
       "      <td>0.0</td>\n",
       "      <td>0.0</td>\n",
       "      <td>0.5</td>\n",
       "      <td>0.5</td>\n",
       "      <td>0</td>\n",
       "    </tr>\n",
       "    <tr>\n",
       "      <th>...</th>\n",
       "      <td>...</td>\n",
       "      <td>...</td>\n",
       "      <td>...</td>\n",
       "      <td>...</td>\n",
       "      <td>...</td>\n",
       "      <td>...</td>\n",
       "      <td>...</td>\n",
       "    </tr>\n",
       "    <tr>\n",
       "      <th>1723</th>\n",
       "      <td>0.0</td>\n",
       "      <td>0.0</td>\n",
       "      <td>1.0</td>\n",
       "      <td>1.0</td>\n",
       "      <td>0.5</td>\n",
       "      <td>0.5</td>\n",
       "      <td>2</td>\n",
       "    </tr>\n",
       "    <tr>\n",
       "      <th>1724</th>\n",
       "      <td>0.0</td>\n",
       "      <td>0.0</td>\n",
       "      <td>1.0</td>\n",
       "      <td>1.0</td>\n",
       "      <td>0.5</td>\n",
       "      <td>1.0</td>\n",
       "      <td>3</td>\n",
       "    </tr>\n",
       "    <tr>\n",
       "      <th>1725</th>\n",
       "      <td>0.0</td>\n",
       "      <td>0.0</td>\n",
       "      <td>1.0</td>\n",
       "      <td>1.0</td>\n",
       "      <td>1.0</td>\n",
       "      <td>0.0</td>\n",
       "      <td>0</td>\n",
       "    </tr>\n",
       "    <tr>\n",
       "      <th>1726</th>\n",
       "      <td>0.0</td>\n",
       "      <td>0.0</td>\n",
       "      <td>1.0</td>\n",
       "      <td>1.0</td>\n",
       "      <td>1.0</td>\n",
       "      <td>0.5</td>\n",
       "      <td>2</td>\n",
       "    </tr>\n",
       "    <tr>\n",
       "      <th>1727</th>\n",
       "      <td>0.0</td>\n",
       "      <td>0.0</td>\n",
       "      <td>1.0</td>\n",
       "      <td>1.0</td>\n",
       "      <td>1.0</td>\n",
       "      <td>1.0</td>\n",
       "      <td>3</td>\n",
       "    </tr>\n",
       "  </tbody>\n",
       "</table>\n",
       "<p>1728 rows × 7 columns</p>\n",
       "</div>"
      ],
      "text/plain": [
       "      buying  maint  doors  persons  lug_boot  safety  CAR\n",
       "0        1.0    1.0    0.0      0.0       0.0     0.0    0\n",
       "1        1.0    1.0    0.0      0.0       0.0     0.5    0\n",
       "2        1.0    1.0    0.0      0.0       0.0     1.0    0\n",
       "3        1.0    1.0    0.0      0.0       0.5     0.0    0\n",
       "4        1.0    1.0    0.0      0.0       0.5     0.5    0\n",
       "...      ...    ...    ...      ...       ...     ...  ...\n",
       "1723     0.0    0.0    1.0      1.0       0.5     0.5    2\n",
       "1724     0.0    0.0    1.0      1.0       0.5     1.0    3\n",
       "1725     0.0    0.0    1.0      1.0       1.0     0.0    0\n",
       "1726     0.0    0.0    1.0      1.0       1.0     0.5    2\n",
       "1727     0.0    0.0    1.0      1.0       1.0     1.0    3\n",
       "\n",
       "[1728 rows x 7 columns]"
      ]
     },
     "execution_count": 57,
     "metadata": {},
     "output_type": "execute_result"
    }
   ],
   "source": [
    "carsDf"
   ]
  },
  {
   "cell_type": "markdown",
   "metadata": {
    "id": "Arv0qtXo59YG"
   },
   "source": [
    "# Dataset Split"
   ]
  },
  {
   "cell_type": "markdown",
   "metadata": {
    "id": "EpQRzXM6773h"
   },
   "source": [
    "We use:\n",
    "1. J48 for decision tree classifier\n",
    "2. Multilayer perceptron\n",
    "3. Naive Bayesian\n",
    "\n",
    "for classification\n",
    "***\n",
    "For evaluation:\n",
    "\n",
    "we do\n",
    "1. train_test_ split\n",
    "2. k-folds cross validation"
   ]
  },
  {
   "cell_type": "code",
   "execution_count": 58,
   "metadata": {
    "executionInfo": {
     "elapsed": 779,
     "status": "ok",
     "timestamp": 1702914384503,
     "user": {
      "displayName": "Hitesh Kayastha",
      "userId": "08602966089512209356"
     },
     "user_tz": -345
    },
    "id": "pLt-5tOX6hHc"
   },
   "outputs": [],
   "source": [
    "# 60, 40 train_test_split\n",
    "\n",
    "from sklearn.model_selection import train_test_split\n",
    "X = carsDf.iloc[:, :-1]\n",
    "y = carsDf.iloc[:, -1]\n",
    "testSplitAt = 0.4\n",
    "X_train, X_test, y_train, y_test = train_test_split(X, y, test_size = testSplitAt, random_state = 42)\n"
   ]
  },
  {
   "cell_type": "code",
   "execution_count": 59,
   "metadata": {
    "colab": {
     "base_uri": "https://localhost:8080/"
    },
    "executionInfo": {
     "elapsed": 780,
     "status": "ok",
     "timestamp": 1702914384505,
     "user": {
      "displayName": "Hitesh Kayastha",
      "userId": "08602966089512209356"
     },
     "user_tz": -345
    },
    "id": "j_qgmbEUWIOI",
    "outputId": "8b4b700f-bdfa-4e6e-e28b-82cc637d9068"
   },
   "outputs": [
    {
     "data": {
      "text/plain": [
       "array([0, 0, 0, ..., 1, 0, 1])"
      ]
     },
     "execution_count": 59,
     "metadata": {},
     "output_type": "execute_result"
    }
   ],
   "source": [
    "from sklearn.preprocessing import LabelEncoder\n",
    "labeled_y_train = LabelEncoder().fit_transform(y_train)\n",
    "labeled_y_train"
   ]
  },
  {
   "cell_type": "code",
   "execution_count": null,
   "metadata": {
    "executionInfo": {
     "elapsed": 12,
     "status": "ok",
     "timestamp": 1702914384506,
     "user": {
      "displayName": "Hitesh Kayastha",
      "userId": "08602966089512209356"
     },
     "user_tz": -345
    },
    "id": "QvCM5EZhWLtX"
   },
   "outputs": [],
   "source": []
  },
  {
   "cell_type": "markdown",
   "metadata": {
    "id": "cNTI3PugRMQT"
   },
   "source": [
    "# Classification"
   ]
  },
  {
   "cell_type": "markdown",
   "metadata": {
    "id": "frxQfXGLUg6L"
   },
   "source": [
    "## Apriori Algorithm"
   ]
  },
  {
   "cell_type": "code",
   "execution_count": 60,
   "metadata": {
    "colab": {
     "base_uri": "https://localhost:8080/"
    },
    "executionInfo": {
     "elapsed": 10468,
     "status": "ok",
     "timestamp": 1702914394964,
     "user": {
      "displayName": "Hitesh Kayastha",
      "userId": "08602966089512209356"
     },
     "user_tz": -345
    },
    "id": "nycT_6VlU9ib",
    "outputId": "cb24161c-b0fd-4bb4-ed53-cc39a4709bbd"
   },
   "outputs": [
    {
     "name": "stdout",
     "output_type": "stream",
     "text": [
      "Collecting apyori\n",
      "  Downloading apyori-1.1.2.tar.gz (8.6 kB)\n",
      "  Preparing metadata (setup.py) ... \u001b[?25ldone\n",
      "\u001b[?25hBuilding wheels for collected packages: apyori\n",
      "  Building wheel for apyori (setup.py) ... \u001b[?25ldone\n",
      "\u001b[?25h  Created wheel for apyori: filename=apyori-1.1.2-py3-none-any.whl size=5973 sha256=0d2d129b25b420f74b31751521023dede6d59a1e1af4fa73c52ab11b963e4093\n",
      "  Stored in directory: /home/itis/.cache/pip/wheels/cb/f6/e1/57973c631d27efd1a2f375bd6a83b2a616c4021f24aab84080\n",
      "Successfully built apyori\n",
      "Installing collected packages: apyori\n",
      "Successfully installed apyori-1.1.2\n"
     ]
    }
   ],
   "source": [
    "!pip install apyori"
   ]
  },
  {
   "cell_type": "code",
   "execution_count": 61,
   "metadata": {
    "executionInfo": {
     "elapsed": 24,
     "status": "ok",
     "timestamp": 1702914394965,
     "user": {
      "displayName": "Hitesh Kayastha",
      "userId": "08602966089512209356"
     },
     "user_tz": -345
    },
    "id": "0IHGBoP1UizD"
   },
   "outputs": [],
   "source": [
    "from apyori import apriori"
   ]
  },
  {
   "cell_type": "code",
   "execution_count": 62,
   "metadata": {
    "colab": {
     "base_uri": "https://localhost:8080/"
    },
    "executionInfo": {
     "elapsed": 22,
     "status": "ok",
     "timestamp": 1702914394965,
     "user": {
      "displayName": "Hitesh Kayastha",
      "userId": "08602966089512209356"
     },
     "user_tz": -345
    },
    "id": "CS8fjxRNVW31",
    "outputId": "4af89486-f220-4913-e4b8-f47924372799"
   },
   "outputs": [
    {
     "name": "stdout",
     "output_type": "stream",
     "text": [
      "frozenset({0.0}) Support: 0.9195601851851852 Confidence: 0.9195601851851852\n",
      "frozenset({0.5}) Support: 0.7037037037037037 Confidence: 0.7037037037037037\n",
      "frozenset({1.0}) Support: 0.8576388888888888 Confidence: 0.8576388888888888\n",
      "frozenset({0.0, 0.3333333333333333}) Support: 0.37037037037037035 Confidence: 0.8465608465608465\n",
      "frozenset({0.0, 0.33333333333333337}) Support: 0.22511574074074073 Confidence: 0.9004629629629629\n",
      "frozenset({0.0, 0.5}) Support: 0.6336805555555556 Confidence: 0.6336805555555556\n",
      "frozenset({0.0, 0.6666666666666666}) Support: 0.2222222222222222 Confidence: 0.8888888888888888\n",
      "frozenset({0.0, 0.6666666666666667}) Support: 0.3975694444444444 Confidence: 0.9087301587301587\n",
      "frozenset({0.0, 0.9999999999999999}) Support: 0.2222222222222222 Confidence: 0.8888888888888888\n",
      "frozenset({0.0, 1.0}) Support: 0.7771990740740741 Confidence: 0.7771990740740741\n",
      "frozenset({0.3333333333333333, 0.5}) Support: 0.30787037037037035 Confidence: 0.7037037037037036\n",
      "frozenset({0.3333333333333333, 1.0}) Support: 0.3587962962962963 Confidence: 0.8201058201058201\n",
      "frozenset({0.33333333333333337, 0.5}) Support: 0.17592592592592593 Confidence: 0.7037037037037037\n",
      "frozenset({0.33333333333333337, 1.0}) Support: 0.21412037037037038 Confidence: 0.8564814814814815\n",
      "frozenset({0.5, 0.6666666666666666}) Support: 0.17592592592592593 Confidence: 0.7037037037037037\n",
      "frozenset({0.5, 0.6666666666666667}) Support: 0.30787037037037035 Confidence: 0.7037037037037036\n",
      "frozenset({0.5, 0.9999999999999999}) Support: 0.17592592592592593 Confidence: 0.7037037037037037\n",
      "frozenset({0.5, 1.0}) Support: 0.5821759259259259 Confidence: 0.5821759259259259\n",
      "frozenset({0.6666666666666666, 1.0}) Support: 0.21469907407407407 Confidence: 0.8587962962962963\n",
      "frozenset({0.6666666666666667, 1.0}) Support: 0.3541666666666667 Confidence: 0.8095238095238095\n",
      "frozenset({0.9999999999999999, 1.0}) Support: 0.21469907407407407 Confidence: 0.8587962962962963\n",
      "frozenset({0.0, 0.5, 0.3333333333333333}) Support: 0.2494212962962963 Confidence: 0.5701058201058201\n",
      "frozenset({0.0, 1.0, 0.3333333333333333}) Support: 0.2916666666666667 Confidence: 0.6666666666666667\n",
      "frozenset({0.0, 0.33333333333333337, 0.5}) Support: 0.1545138888888889 Confidence: 0.6180555555555556\n",
      "frozenset({0.0, 0.33333333333333337, 1.0}) Support: 0.1892361111111111 Confidence: 0.7569444444444444\n",
      "frozenset({0.0, 0.5, 0.6666666666666666}) Support: 0.15162037037037038 Confidence: 0.6064814814814815\n",
      "frozenset({0.0, 0.5, 0.6666666666666667}) Support: 0.27314814814814814 Confidence: 0.6243386243386243\n",
      "frozenset({0.0, 0.5, 0.9999999999999999}) Support: 0.15162037037037038 Confidence: 0.6064814814814815\n",
      "frozenset({0.0, 0.5, 1.0}) Support: 0.5121527777777778 Confidence: 0.5121527777777778\n",
      "frozenset({0.0, 0.6666666666666666, 1.0}) Support: 0.1869212962962963 Confidence: 0.7476851851851852\n",
      "frozenset({0.0, 0.6666666666666667, 1.0}) Support: 0.3142361111111111 Confidence: 0.7182539682539683\n",
      "frozenset({0.0, 0.9999999999999999, 1.0}) Support: 0.1869212962962963 Confidence: 0.7476851851851852\n",
      "frozenset({0.3333333333333333, 0.5, 1.0}) Support: 0.24074074074074073 Confidence: 0.5502645502645502\n",
      "frozenset({0.33333333333333337, 0.5, 1.0}) Support: 0.14525462962962962 Confidence: 0.5810185185185185\n",
      "frozenset({0.5, 0.6666666666666666, 1.0}) Support: 0.14583333333333334 Confidence: 0.5833333333333334\n",
      "frozenset({0.5, 0.6666666666666667, 1.0}) Support: 0.2361111111111111 Confidence: 0.5396825396825397\n",
      "frozenset({0.5, 0.9999999999999999, 1.0}) Support: 0.14583333333333334 Confidence: 0.5833333333333334\n",
      "frozenset({0.0, 0.5, 0.3333333333333333, 1.0}) Support: 0.18229166666666666 Confidence: 0.5921052631578948\n",
      "frozenset({0.0, 0.33333333333333337, 0.5, 1.0}) Support: 0.12384259259259259 Confidence: 0.5501285347043702\n",
      "frozenset({0.0, 0.5, 0.6666666666666666, 1.0}) Support: 0.12152777777777778 Confidence: 0.546875\n",
      "frozenset({0.0, 0.5, 0.6666666666666667, 1.0}) Support: 0.2013888888888889 Confidence: 0.5065502183406114\n",
      "frozenset({0.0, 0.5, 0.9999999999999999, 1.0}) Support: 0.12152777777777778 Confidence: 0.546875\n"
     ]
    }
   ],
   "source": [
    "transactions = carsDf.values.tolist()\n",
    "\n",
    "results = list(\n",
    "    apriori(transactions, min_support = 0.1, min_confidence = 0.5)\n",
    ")\n",
    "for result in results:\n",
    "    print(result.items, 'Support:', result.support, 'Confidence:', result.ordered_statistics[0].confidence)"
   ]
  },
  {
   "cell_type": "markdown",
   "metadata": {
    "id": "CXwa1Uj08xVP"
   },
   "source": [
    "## Decision Tree"
   ]
  },
  {
   "cell_type": "code",
   "execution_count": 63,
   "metadata": {
    "executionInfo": {
     "elapsed": 806,
     "status": "ok",
     "timestamp": 1702914395753,
     "user": {
      "displayName": "Hitesh Kayastha",
      "userId": "08602966089512209356"
     },
     "user_tz": -345
    },
    "id": "agFn12cF9LZ8"
   },
   "outputs": [],
   "source": [
    "from sklearn.tree import DecisionTreeClassifier\n",
    "from sklearn.metrics import accuracy_score, classification_report\n"
   ]
  },
  {
   "cell_type": "markdown",
   "metadata": {
    "id": "aVpK6hdHCuEc"
   },
   "source": [
    "### Using Information Gain as attribute selection measure"
   ]
  },
  {
   "cell_type": "code",
   "execution_count": 64,
   "metadata": {
    "colab": {
     "base_uri": "https://localhost:8080/",
     "height": 74
    },
    "executionInfo": {
     "elapsed": 28,
     "status": "ok",
     "timestamp": 1702914395753,
     "user": {
      "displayName": "Hitesh Kayastha",
      "userId": "08602966089512209356"
     },
     "user_tz": -345
    },
    "id": "FKfDXLaACtWs",
    "outputId": "37d30fca-4a67-48e4-d5c2-ebfb64a53211"
   },
   "outputs": [
    {
     "data": {
      "text/plain": [
       "DecisionTreeClassifier(criterion='entropy')"
      ]
     },
     "execution_count": 64,
     "metadata": {},
     "output_type": "execute_result"
    }
   ],
   "source": [
    "classifierModel = DecisionTreeClassifier(criterion = \"entropy\") # default is \"gini\"\n",
    "classifierModel.fit(X_train, y_train)"
   ]
  },
  {
   "cell_type": "code",
   "execution_count": 65,
   "metadata": {
    "executionInfo": {
     "elapsed": 25,
     "status": "ok",
     "timestamp": 1702914395753,
     "user": {
      "displayName": "Hitesh Kayastha",
      "userId": "08602966089512209356"
     },
     "user_tz": -345
    },
    "id": "a5etV08f_jtg"
   },
   "outputs": [],
   "source": [
    "y_pred = classifierModel.predict(X_test)"
   ]
  },
  {
   "cell_type": "markdown",
   "metadata": {
    "id": "zy-y1ACfG96c"
   },
   "source": [
    "#### Evaluation"
   ]
  },
  {
   "cell_type": "code",
   "execution_count": 66,
   "metadata": {
    "executionInfo": {
     "elapsed": 24,
     "status": "ok",
     "timestamp": 1702914395753,
     "user": {
      "displayName": "Hitesh Kayastha",
      "userId": "08602966089512209356"
     },
     "user_tz": -345
    },
    "id": "nz9YYUmrCEBW"
   },
   "outputs": [],
   "source": [
    "accuracy = accuracy_score(y_test, y_pred)"
   ]
  },
  {
   "cell_type": "code",
   "execution_count": 67,
   "metadata": {
    "colab": {
     "base_uri": "https://localhost:8080/"
    },
    "executionInfo": {
     "elapsed": 24,
     "status": "ok",
     "timestamp": 1702914395754,
     "user": {
      "displayName": "Hitesh Kayastha",
      "userId": "08602966089512209356"
     },
     "user_tz": -345
    },
    "id": "3bvDAHx5CIx9",
    "outputId": "53a1b544-7bc0-4001-9075-0951c900effd"
   },
   "outputs": [
    {
     "data": {
      "text/plain": [
       "0.9696531791907514"
      ]
     },
     "execution_count": 67,
     "metadata": {},
     "output_type": "execute_result"
    }
   ],
   "source": [
    "accuracy"
   ]
  },
  {
   "cell_type": "code",
   "execution_count": 68,
   "metadata": {
    "colab": {
     "base_uri": "https://localhost:8080/",
     "height": 175
    },
    "executionInfo": {
     "elapsed": 20,
     "status": "ok",
     "timestamp": 1702914395754,
     "user": {
      "displayName": "Hitesh Kayastha",
      "userId": "08602966089512209356"
     },
     "user_tz": -345
    },
    "id": "8xKCnFbmCErT",
    "outputId": "144c2c90-d837-47c6-9ce2-6c3326ff8564"
   },
   "outputs": [
    {
     "data": {
      "text/html": [
       "<div>\n",
       "<style scoped>\n",
       "    .dataframe tbody tr th:only-of-type {\n",
       "        vertical-align: middle;\n",
       "    }\n",
       "\n",
       "    .dataframe tbody tr th {\n",
       "        vertical-align: top;\n",
       "    }\n",
       "\n",
       "    .dataframe thead th {\n",
       "        text-align: right;\n",
       "    }\n",
       "</style>\n",
       "<table border=\"1\" class=\"dataframe\">\n",
       "  <thead>\n",
       "    <tr style=\"text-align: right;\">\n",
       "      <th></th>\n",
       "      <th>0</th>\n",
       "      <th>1</th>\n",
       "      <th>2</th>\n",
       "      <th>3</th>\n",
       "      <th>accuracy</th>\n",
       "      <th>macro avg</th>\n",
       "      <th>weighted avg</th>\n",
       "    </tr>\n",
       "  </thead>\n",
       "  <tbody>\n",
       "    <tr>\n",
       "      <th>precision</th>\n",
       "      <td>0.997908</td>\n",
       "      <td>0.960526</td>\n",
       "      <td>0.764706</td>\n",
       "      <td>0.785714</td>\n",
       "      <td>0.969653</td>\n",
       "      <td>0.877214</td>\n",
       "      <td>0.971429</td>\n",
       "    </tr>\n",
       "    <tr>\n",
       "      <th>recall</th>\n",
       "      <td>0.993750</td>\n",
       "      <td>0.935897</td>\n",
       "      <td>0.896552</td>\n",
       "      <td>0.814815</td>\n",
       "      <td>0.969653</td>\n",
       "      <td>0.910253</td>\n",
       "      <td>0.969653</td>\n",
       "    </tr>\n",
       "    <tr>\n",
       "      <th>f1-score</th>\n",
       "      <td>0.995825</td>\n",
       "      <td>0.948052</td>\n",
       "      <td>0.825397</td>\n",
       "      <td>0.800000</td>\n",
       "      <td>0.969653</td>\n",
       "      <td>0.892318</td>\n",
       "      <td>0.970272</td>\n",
       "    </tr>\n",
       "    <tr>\n",
       "      <th>support</th>\n",
       "      <td>480.000000</td>\n",
       "      <td>156.000000</td>\n",
       "      <td>29.000000</td>\n",
       "      <td>27.000000</td>\n",
       "      <td>0.969653</td>\n",
       "      <td>692.000000</td>\n",
       "      <td>692.000000</td>\n",
       "    </tr>\n",
       "  </tbody>\n",
       "</table>\n",
       "</div>"
      ],
      "text/plain": [
       "                    0           1          2          3  accuracy   macro avg  \\\n",
       "precision    0.997908    0.960526   0.764706   0.785714  0.969653    0.877214   \n",
       "recall       0.993750    0.935897   0.896552   0.814815  0.969653    0.910253   \n",
       "f1-score     0.995825    0.948052   0.825397   0.800000  0.969653    0.892318   \n",
       "support    480.000000  156.000000  29.000000  27.000000  0.969653  692.000000   \n",
       "\n",
       "           weighted avg  \n",
       "precision      0.971429  \n",
       "recall         0.969653  \n",
       "f1-score       0.970272  \n",
       "support      692.000000  "
      ]
     },
     "execution_count": 68,
     "metadata": {},
     "output_type": "execute_result"
    }
   ],
   "source": [
    "dTreeReportIG = pd.DataFrame(classification_report(y_test, y_pred, output_dict = True))\n",
    "dTreeReportIG"
   ]
  },
  {
   "cell_type": "code",
   "execution_count": 69,
   "metadata": {
    "colab": {
     "base_uri": "https://localhost:8080/",
     "height": 269
    },
    "executionInfo": {
     "elapsed": 18,
     "status": "ok",
     "timestamp": 1702914395754,
     "user": {
      "displayName": "Hitesh Kayastha",
      "userId": "08602966089512209356"
     },
     "user_tz": -345
    },
    "id": "-D5DVMNZSf_F",
    "outputId": "6cf5282a-ee70-49f0-e86b-f852e03a58bc"
   },
   "outputs": [
    {
     "data": {
      "text/html": [
       "<div>\n",
       "<style scoped>\n",
       "    .dataframe tbody tr th:only-of-type {\n",
       "        vertical-align: middle;\n",
       "    }\n",
       "\n",
       "    .dataframe tbody tr th {\n",
       "        vertical-align: top;\n",
       "    }\n",
       "\n",
       "    .dataframe thead th {\n",
       "        text-align: right;\n",
       "    }\n",
       "</style>\n",
       "<table border=\"1\" class=\"dataframe\">\n",
       "  <thead>\n",
       "    <tr style=\"text-align: right;\">\n",
       "      <th></th>\n",
       "      <th>precision</th>\n",
       "      <th>recall</th>\n",
       "      <th>f1-score</th>\n",
       "      <th>support</th>\n",
       "    </tr>\n",
       "  </thead>\n",
       "  <tbody>\n",
       "    <tr>\n",
       "      <th>0</th>\n",
       "      <td>0.997908</td>\n",
       "      <td>0.993750</td>\n",
       "      <td>0.995825</td>\n",
       "      <td>480.000000</td>\n",
       "    </tr>\n",
       "    <tr>\n",
       "      <th>1</th>\n",
       "      <td>0.960526</td>\n",
       "      <td>0.935897</td>\n",
       "      <td>0.948052</td>\n",
       "      <td>156.000000</td>\n",
       "    </tr>\n",
       "    <tr>\n",
       "      <th>2</th>\n",
       "      <td>0.764706</td>\n",
       "      <td>0.896552</td>\n",
       "      <td>0.825397</td>\n",
       "      <td>29.000000</td>\n",
       "    </tr>\n",
       "    <tr>\n",
       "      <th>3</th>\n",
       "      <td>0.785714</td>\n",
       "      <td>0.814815</td>\n",
       "      <td>0.800000</td>\n",
       "      <td>27.000000</td>\n",
       "    </tr>\n",
       "    <tr>\n",
       "      <th>accuracy</th>\n",
       "      <td>0.969653</td>\n",
       "      <td>0.969653</td>\n",
       "      <td>0.969653</td>\n",
       "      <td>0.969653</td>\n",
       "    </tr>\n",
       "    <tr>\n",
       "      <th>macro avg</th>\n",
       "      <td>0.877214</td>\n",
       "      <td>0.910253</td>\n",
       "      <td>0.892318</td>\n",
       "      <td>692.000000</td>\n",
       "    </tr>\n",
       "    <tr>\n",
       "      <th>weighted avg</th>\n",
       "      <td>0.971429</td>\n",
       "      <td>0.969653</td>\n",
       "      <td>0.970272</td>\n",
       "      <td>692.000000</td>\n",
       "    </tr>\n",
       "  </tbody>\n",
       "</table>\n",
       "</div>"
      ],
      "text/plain": [
       "              precision    recall  f1-score     support\n",
       "0              0.997908  0.993750  0.995825  480.000000\n",
       "1              0.960526  0.935897  0.948052  156.000000\n",
       "2              0.764706  0.896552  0.825397   29.000000\n",
       "3              0.785714  0.814815  0.800000   27.000000\n",
       "accuracy       0.969653  0.969653  0.969653    0.969653\n",
       "macro avg      0.877214  0.910253  0.892318  692.000000\n",
       "weighted avg   0.971429  0.969653  0.970272  692.000000"
      ]
     },
     "execution_count": 69,
     "metadata": {},
     "output_type": "execute_result"
    }
   ],
   "source": [
    "dTreeReportIG.T"
   ]
  },
  {
   "cell_type": "code",
   "execution_count": 70,
   "metadata": {
    "colab": {
     "base_uri": "https://localhost:8080/"
    },
    "executionInfo": {
     "elapsed": 17,
     "status": "ok",
     "timestamp": 1702914395754,
     "user": {
      "displayName": "Hitesh Kayastha",
      "userId": "08602966089512209356"
     },
     "user_tz": -345
    },
    "id": "7KgFDLEigiG6",
    "outputId": "ea1ecb18-0acf-423f-9899-b601f1246df2"
   },
   "outputs": [
    {
     "name": "stdout",
     "output_type": "stream",
     "text": [
      "\\begin{tabular}{lrrrr}\n",
      "{} & {precision} & {recall} & {f1-score} & {support} \\\\\n",
      "0 & 0.997908 & 0.993750 & 0.995825 & 480.000000 \\\\\n",
      "1 & 0.960526 & 0.935897 & 0.948052 & 156.000000 \\\\\n",
      "2 & 0.764706 & 0.896552 & 0.825397 & 29.000000 \\\\\n",
      "3 & 0.785714 & 0.814815 & 0.800000 & 27.000000 \\\\\n",
      "accuracy & 0.969653 & 0.969653 & 0.969653 & 0.969653 \\\\\n",
      "macro avg & 0.877214 & 0.910253 & 0.892318 & 692.000000 \\\\\n",
      "weighted avg & 0.971429 & 0.969653 & 0.970272 & 692.000000 \\\\\n",
      "\\end{tabular}\n",
      "\n"
     ]
    }
   ],
   "source": [
    "print(dTreeReportIG.T.style.to_latex())"
   ]
  },
  {
   "cell_type": "code",
   "execution_count": 71,
   "metadata": {
    "colab": {
     "base_uri": "https://localhost:8080/"
    },
    "executionInfo": {
     "elapsed": 509,
     "status": "ok",
     "timestamp": 1702914396249,
     "user": {
      "displayName": "Hitesh Kayastha",
      "userId": "08602966089512209356"
     },
     "user_tz": -345
    },
    "id": "7HdeBBR0HB7Z",
    "outputId": "331db9d3-f4d9-4a97-a142-f86f84888d20"
   },
   "outputs": [
    {
     "name": "stdout",
     "output_type": "stream",
     "text": [
      "Fold 1: Accuracy =  0.75\n",
      "Fold 2: Accuracy =  0.79\n",
      "Fold 3: Accuracy =  0.83\n",
      "Fold 4: Accuracy =  0.98\n",
      "Fold 5: Accuracy =  0.90\n",
      "Fold 6: Accuracy =  0.95\n",
      "Fold 7: Accuracy =  0.91\n",
      "Fold 8: Accuracy =  0.93\n",
      "Fold 9: Accuracy =  0.95\n",
      "Fold 10: Accuracy =  0.86\n",
      "Average Accuracy: 0.88\n"
     ]
    }
   ],
   "source": [
    "# using 10 fold\n",
    "from sklearn.model_selection import cross_val_score\n",
    "k = 10\n",
    "cross_val_results = cross_val_score(classifierModel, X, y, cv = k)\n",
    "for fold, accuracy in enumerate(cross_val_results, 1):\n",
    "  print(f\"Fold {fold}: Accuracy = {accuracy: .2f}\")\n",
    "print(f\"Average Accuracy: {cross_val_results.mean():.2f}\")"
   ]
  },
  {
   "cell_type": "markdown",
   "metadata": {
    "id": "TE0LA5jPC07I"
   },
   "source": [
    "### Using Gini Index as Attribute Selection Measure"
   ]
  },
  {
   "cell_type": "code",
   "execution_count": 72,
   "metadata": {
    "colab": {
     "base_uri": "https://localhost:8080/",
     "height": 74
    },
    "executionInfo": {
     "elapsed": 26,
     "status": "ok",
     "timestamp": 1702914396250,
     "user": {
      "displayName": "Hitesh Kayastha",
      "userId": "08602966089512209356"
     },
     "user_tz": -345
    },
    "id": "EmSfnp7iDDby",
    "outputId": "0f9a88b9-16fd-46cd-82a8-1198781ac822"
   },
   "outputs": [
    {
     "data": {
      "text/plain": [
       "DecisionTreeClassifier()"
      ]
     },
     "execution_count": 72,
     "metadata": {},
     "output_type": "execute_result"
    }
   ],
   "source": [
    "classifierModelGini = DecisionTreeClassifier(criterion = \"gini\")\n",
    "classifierModelGini.fit(X_train, y_train)"
   ]
  },
  {
   "cell_type": "code",
   "execution_count": 73,
   "metadata": {
    "executionInfo": {
     "elapsed": 24,
     "status": "ok",
     "timestamp": 1702914396250,
     "user": {
      "displayName": "Hitesh Kayastha",
      "userId": "08602966089512209356"
     },
     "user_tz": -345
    },
    "id": "iMTq1rIvDDbz"
   },
   "outputs": [],
   "source": [
    "y_pred = classifierModelGini.predict(X_test)"
   ]
  },
  {
   "cell_type": "markdown",
   "metadata": {
    "id": "L6FjNz7GRUX6"
   },
   "source": [
    "#### Evaluation"
   ]
  },
  {
   "cell_type": "code",
   "execution_count": 74,
   "metadata": {
    "executionInfo": {
     "elapsed": 23,
     "status": "ok",
     "timestamp": 1702914396250,
     "user": {
      "displayName": "Hitesh Kayastha",
      "userId": "08602966089512209356"
     },
     "user_tz": -345
    },
    "id": "5MZZu3ETDDbz"
   },
   "outputs": [],
   "source": [
    "accuracy = accuracy_score(y_test, y_pred)"
   ]
  },
  {
   "cell_type": "code",
   "execution_count": 75,
   "metadata": {
    "colab": {
     "base_uri": "https://localhost:8080/"
    },
    "executionInfo": {
     "elapsed": 24,
     "status": "ok",
     "timestamp": 1702914396251,
     "user": {
      "displayName": "Hitesh Kayastha",
      "userId": "08602966089512209356"
     },
     "user_tz": -345
    },
    "id": "xOzc7X2aDDb0",
    "outputId": "92eba617-7d3a-4db0-bd52-33e4040cb5a6"
   },
   "outputs": [
    {
     "data": {
      "text/plain": [
       "0.9682080924855492"
      ]
     },
     "execution_count": 75,
     "metadata": {},
     "output_type": "execute_result"
    }
   ],
   "source": [
    "accuracy"
   ]
  },
  {
   "cell_type": "code",
   "execution_count": 76,
   "metadata": {
    "colab": {
     "base_uri": "https://localhost:8080/"
    },
    "executionInfo": {
     "elapsed": 20,
     "status": "ok",
     "timestamp": 1702914396251,
     "user": {
      "displayName": "Hitesh Kayastha",
      "userId": "08602966089512209356"
     },
     "user_tz": -345
    },
    "id": "9ptZBhLNDDb0",
    "outputId": "8b1f567a-af93-44c5-8fd2-9d9a98705c7f"
   },
   "outputs": [
    {
     "name": "stdout",
     "output_type": "stream",
     "text": [
      "\\begin{tabular}{lrrrr}\n",
      "{} & {precision} & {recall} & {f1-score} & {support} \\\\\n",
      "0 & 0.997908 & 0.993750 & 0.995825 & 480.000000 \\\\\n",
      "1 & 0.972789 & 0.916667 & 0.943894 & 156.000000 \\\\\n",
      "2 & 0.702703 & 0.896552 & 0.787879 & 29.000000 \\\\\n",
      "3 & 0.800000 & 0.888889 & 0.842105 & 27.000000 \\\\\n",
      "accuracy & 0.968208 & 0.968208 & 0.968208 & 0.968208 \\\\\n",
      "macro avg & 0.868350 & 0.923964 & 0.892426 & 692.000000 \\\\\n",
      "weighted avg & 0.972152 & 0.968208 & 0.969406 & 692.000000 \\\\\n",
      "\\end{tabular}\n",
      "\n"
     ]
    }
   ],
   "source": [
    "dTreeReportGini = pd.DataFrame(classification_report(y_test, y_pred, output_dict = True))\n",
    "print(dTreeReportGini.T.style.to_latex())"
   ]
  },
  {
   "cell_type": "code",
   "execution_count": 77,
   "metadata": {
    "colab": {
     "base_uri": "https://localhost:8080/"
    },
    "executionInfo": {
     "elapsed": 17,
     "status": "ok",
     "timestamp": 1702914396252,
     "user": {
      "displayName": "Hitesh Kayastha",
      "userId": "08602966089512209356"
     },
     "user_tz": -345
    },
    "id": "6rORIoTmIGqp",
    "outputId": "59cd07d8-014b-4907-c864-f8441447d6c7"
   },
   "outputs": [
    {
     "name": "stdout",
     "output_type": "stream",
     "text": [
      "Fold 1: Accuracy =  0.96\n",
      "Fold 2: Accuracy =  0.79\n",
      "Fold 3: Accuracy =  0.83\n",
      "Fold 4: Accuracy =  0.76\n",
      "Fold 5: Accuracy =  0.91\n",
      "Fold 6: Accuracy =  0.91\n",
      "Fold 7: Accuracy =  0.92\n",
      "Fold 8: Accuracy =  0.92\n",
      "Fold 9: Accuracy =  0.92\n",
      "Fold 10: Accuracy =  0.86\n",
      "Average Accuracy: 0.88\n"
     ]
    }
   ],
   "source": [
    "from sklearn.model_selection import cross_val_score\n",
    "k = 10\n",
    "cross_val_results = cross_val_score(classifierModelGini, X, y, cv = k)\n",
    "for fold, accuracy in enumerate(cross_val_results, 1):\n",
    "  print(f\"Fold {fold}: Accuracy = {accuracy: .2f}\")\n",
    "print(f\"Average Accuracy: {cross_val_results.mean():.2f}\")"
   ]
  },
  {
   "cell_type": "markdown",
   "metadata": {
    "id": "87s1P66hDMMn"
   },
   "source": [
    "## Naive Bayes"
   ]
  },
  {
   "cell_type": "code",
   "execution_count": 78,
   "metadata": {
    "colab": {
     "base_uri": "https://localhost:8080/",
     "height": 74
    },
    "executionInfo": {
     "elapsed": 14,
     "status": "ok",
     "timestamp": 1702914396252,
     "user": {
      "displayName": "Hitesh Kayastha",
      "userId": "08602966089512209356"
     },
     "user_tz": -345
    },
    "id": "PxAKJX3cEtZy",
    "outputId": "26007f24-d56f-4d93-cadc-3a613eb06b64"
   },
   "outputs": [
    {
     "data": {
      "text/plain": [
       "GaussianNB()"
      ]
     },
     "execution_count": 78,
     "metadata": {},
     "output_type": "execute_result"
    }
   ],
   "source": [
    "from sklearn.naive_bayes import GaussianNB\n",
    "\n",
    "nbClassifier = GaussianNB()\n",
    "nbClassifier.fit(X_train, y_train)"
   ]
  },
  {
   "cell_type": "code",
   "execution_count": 79,
   "metadata": {
    "executionInfo": {
     "elapsed": 508,
     "status": "ok",
     "timestamp": 1702914396747,
     "user": {
      "displayName": "Hitesh Kayastha",
      "userId": "08602966089512209356"
     },
     "user_tz": -345
    },
    "id": "CL5SP5rrE9rc"
   },
   "outputs": [],
   "source": [
    "y_pred = nbClassifier.predict(X_test)"
   ]
  },
  {
   "cell_type": "code",
   "execution_count": 80,
   "metadata": {
    "colab": {
     "base_uri": "https://localhost:8080/"
    },
    "executionInfo": {
     "elapsed": 18,
     "status": "ok",
     "timestamp": 1702914396747,
     "user": {
      "displayName": "Hitesh Kayastha",
      "userId": "08602966089512209356"
     },
     "user_tz": -345
    },
    "id": "Gdob6ClAFMml",
    "outputId": "84fca066-4671-46a9-d5f1-7359455a1746"
   },
   "outputs": [
    {
     "name": "stdout",
     "output_type": "stream",
     "text": [
      "\\begin{tabular}{lrrrr}\n",
      "{} & {precision} & {recall} & {f1-score} & {support} \\\\\n",
      "0 & 0.871308 & 0.860417 & 0.865828 & 480.000000 \\\\\n",
      "1 & 0.636364 & 0.224359 & 0.331754 & 156.000000 \\\\\n",
      "2 & 0.600000 & 0.310345 & 0.409091 & 29.000000 \\\\\n",
      "3 & 0.182432 & 1.000000 & 0.308571 & 27.000000 \\\\\n",
      "accuracy & 0.699422 & 0.699422 & 0.699422 & 0.699422 \\\\\n",
      "macro avg & 0.572526 & 0.598780 & 0.478811 & 692.000000 \\\\\n",
      "weighted avg & 0.780096 & 0.699422 & 0.704546 & 692.000000 \\\\\n",
      "\\end{tabular}\n",
      "\n"
     ]
    }
   ],
   "source": [
    "dTreeReportNB = pd.DataFrame(classification_report(y_test, y_pred, output_dict = True))\n",
    "print(dTreeReportNB.T.style.to_latex())"
   ]
  },
  {
   "cell_type": "markdown",
   "metadata": {
    "id": "NV2d62poFUAv"
   },
   "source": [
    "### using k-fold cross validation"
   ]
  },
  {
   "cell_type": "code",
   "execution_count": 81,
   "metadata": {
    "colab": {
     "base_uri": "https://localhost:8080/"
    },
    "executionInfo": {
     "elapsed": 13,
     "status": "ok",
     "timestamp": 1702914396748,
     "user": {
      "displayName": "Hitesh Kayastha",
      "userId": "08602966089512209356"
     },
     "user_tz": -345
    },
    "id": "BKSJEwefFp5f",
    "outputId": "4cc56f19-6145-423d-e326-fbb529b327eb"
   },
   "outputs": [
    {
     "name": "stdout",
     "output_type": "stream",
     "text": [
      "Fold 1: Accuracy =  0.73\n",
      "Fold 2: Accuracy =  0.71\n",
      "Fold 3: Accuracy =  0.74\n",
      "Fold 4: Accuracy =  0.66\n",
      "Fold 5: Accuracy =  0.69\n",
      "Fold 6: Accuracy =  0.65\n",
      "Fold 7: Accuracy =  0.67\n",
      "Fold 8: Accuracy =  0.65\n",
      "Fold 9: Accuracy =  0.65\n",
      "Fold 10: Accuracy =  0.64\n",
      "Average Accuracy: 0.68\n"
     ]
    }
   ],
   "source": [
    "from sklearn.model_selection import cross_val_score\n",
    "k = 10\n",
    "cross_val_results = cross_val_score(nbClassifier, X, y, cv = k)\n",
    "for fold, accuracy in enumerate(cross_val_results, 1):\n",
    "  print(f\"Fold {fold}: Accuracy = {accuracy: .2f}\")\n",
    "print(f\"Average Accuracy: {cross_val_results.mean():.2f}\")"
   ]
  },
  {
   "cell_type": "markdown",
   "metadata": {
    "id": "a5kaVwigIQ61"
   },
   "source": [
    "## ANN"
   ]
  },
  {
   "cell_type": "code",
   "execution_count": 82,
   "metadata": {
    "colab": {
     "base_uri": "https://localhost:8080/"
    },
    "executionInfo": {
     "elapsed": 9,
     "status": "ok",
     "timestamp": 1702914396748,
     "user": {
      "displayName": "Hitesh Kayastha",
      "userId": "08602966089512209356"
     },
     "user_tz": -345
    },
    "id": "a7JZJAbFM5Cw",
    "outputId": "4bdaf74d-bad0-43e5-c980-835c6d5bb20e"
   },
   "outputs": [
    {
     "data": {
      "text/plain": [
       "4"
      ]
     },
     "execution_count": 82,
     "metadata": {},
     "output_type": "execute_result"
    }
   ],
   "source": [
    "y.nunique()"
   ]
  },
  {
   "cell_type": "code",
   "execution_count": 83,
   "metadata": {
    "colab": {
     "base_uri": "https://localhost:8080/"
    },
    "executionInfo": {
     "elapsed": 46101,
     "status": "ok",
     "timestamp": 1702914442842,
     "user": {
      "displayName": "Hitesh Kayastha",
      "userId": "08602966089512209356"
     },
     "user_tz": -345
    },
    "id": "RGSbaLjbIm8G",
    "outputId": "9c06ddd3-e7ad-4d0b-b725-6575eddbba77"
   },
   "outputs": [
    {
     "name": "stderr",
     "output_type": "stream",
     "text": [
      "2023-12-19 12:50:19.948264: W tensorflow/stream_executor/platform/default/dso_loader.cc:64] Could not load dynamic library 'libcudart.so.11.0'; dlerror: libcudart.so.11.0: cannot open shared object file: No such file or directory\n",
      "2023-12-19 12:50:19.948444: I tensorflow/stream_executor/cuda/cudart_stub.cc:29] Ignore above cudart dlerror if you do not have a GPU set up on your machine.\n",
      "2023-12-19 12:50:42.545679: W tensorflow/stream_executor/platform/default/dso_loader.cc:64] Could not load dynamic library 'libcuda.so.1'; dlerror: libcuda.so.1: cannot open shared object file: No such file or directory\n",
      "2023-12-19 12:50:42.545726: W tensorflow/stream_executor/cuda/cuda_driver.cc:269] failed call to cuInit: UNKNOWN ERROR (303)\n",
      "2023-12-19 12:50:42.545777: I tensorflow/stream_executor/cuda/cuda_diagnostics.cc:156] kernel driver does not appear to be running on this host (itis-Inspiron-15-3567): /proc/driver/nvidia/version does not exist\n",
      "2023-12-19 12:50:42.563272: I tensorflow/core/platform/cpu_feature_guard.cc:193] This TensorFlow binary is optimized with oneAPI Deep Neural Network Library (oneDNN) to use the following CPU instructions in performance-critical operations:  AVX2 FMA\n",
      "To enable them in other operations, rebuild TensorFlow with the appropriate compiler flags.\n"
     ]
    },
    {
     "name": "stdout",
     "output_type": "stream",
     "text": [
      "Epoch 1/100\n",
      "65/65 [==============================] - 2s 2ms/step - loss: 1.2142 - accuracy: 0.5203\n",
      "Epoch 2/100\n",
      "65/65 [==============================] - 0s 2ms/step - loss: 0.9956 - accuracy: 0.6670\n",
      "Epoch 3/100\n",
      "65/65 [==============================] - 0s 2ms/step - loss: 0.8017 - accuracy: 0.7017\n",
      "Epoch 4/100\n",
      "65/65 [==============================] - 0s 2ms/step - loss: 0.6724 - accuracy: 0.7143\n",
      "Epoch 5/100\n",
      "65/65 [==============================] - 0s 3ms/step - loss: 0.5949 - accuracy: 0.7220\n",
      "Epoch 6/100\n",
      "65/65 [==============================] - 0s 2ms/step - loss: 0.5413 - accuracy: 0.7490\n",
      "Epoch 7/100\n",
      "65/65 [==============================] - 0s 2ms/step - loss: 0.5005 - accuracy: 0.7751\n",
      "Epoch 8/100\n",
      "65/65 [==============================] - 0s 2ms/step - loss: 0.4678 - accuracy: 0.7963\n",
      "Epoch 9/100\n",
      "65/65 [==============================] - 0s 2ms/step - loss: 0.4375 - accuracy: 0.8263\n",
      "Epoch 10/100\n",
      "65/65 [==============================] - 0s 2ms/step - loss: 0.4093 - accuracy: 0.8369\n",
      "Epoch 11/100\n",
      "65/65 [==============================] - 0s 2ms/step - loss: 0.3828 - accuracy: 0.8427\n",
      "Epoch 12/100\n",
      "65/65 [==============================] - 0s 2ms/step - loss: 0.3568 - accuracy: 0.8649\n",
      "Epoch 13/100\n",
      "65/65 [==============================] - 0s 2ms/step - loss: 0.3322 - accuracy: 0.8716\n",
      "Epoch 14/100\n",
      "65/65 [==============================] - 0s 2ms/step - loss: 0.3092 - accuracy: 0.8822\n",
      "Epoch 15/100\n",
      "65/65 [==============================] - 0s 2ms/step - loss: 0.2889 - accuracy: 0.8890\n",
      "Epoch 16/100\n",
      "65/65 [==============================] - 0s 2ms/step - loss: 0.2704 - accuracy: 0.9025\n",
      "Epoch 17/100\n",
      "65/65 [==============================] - 0s 2ms/step - loss: 0.2556 - accuracy: 0.9054\n",
      "Epoch 18/100\n",
      "65/65 [==============================] - 0s 2ms/step - loss: 0.2433 - accuracy: 0.9054\n",
      "Epoch 19/100\n",
      "65/65 [==============================] - 0s 2ms/step - loss: 0.2317 - accuracy: 0.9141\n",
      "Epoch 20/100\n",
      "65/65 [==============================] - 0s 2ms/step - loss: 0.2229 - accuracy: 0.9131\n",
      "Epoch 21/100\n",
      "65/65 [==============================] - 0s 2ms/step - loss: 0.2136 - accuracy: 0.9160\n",
      "Epoch 22/100\n",
      "65/65 [==============================] - 0s 2ms/step - loss: 0.2077 - accuracy: 0.9189\n",
      "Epoch 23/100\n",
      "65/65 [==============================] - 0s 2ms/step - loss: 0.2013 - accuracy: 0.9228\n",
      "Epoch 24/100\n",
      "65/65 [==============================] - 0s 2ms/step - loss: 0.1949 - accuracy: 0.9208\n",
      "Epoch 25/100\n",
      "65/65 [==============================] - 0s 2ms/step - loss: 0.1896 - accuracy: 0.9228\n",
      "Epoch 26/100\n",
      "65/65 [==============================] - 0s 2ms/step - loss: 0.1852 - accuracy: 0.9247\n",
      "Epoch 27/100\n",
      "65/65 [==============================] - 0s 2ms/step - loss: 0.1806 - accuracy: 0.9228\n",
      "Epoch 28/100\n",
      "65/65 [==============================] - 0s 2ms/step - loss: 0.1783 - accuracy: 0.9344\n",
      "Epoch 29/100\n",
      "65/65 [==============================] - 0s 2ms/step - loss: 0.1740 - accuracy: 0.9344\n",
      "Epoch 30/100\n",
      "65/65 [==============================] - 0s 2ms/step - loss: 0.1726 - accuracy: 0.9315\n",
      "Epoch 31/100\n",
      "65/65 [==============================] - 0s 2ms/step - loss: 0.1682 - accuracy: 0.9334\n",
      "Epoch 32/100\n",
      "65/65 [==============================] - 0s 2ms/step - loss: 0.1663 - accuracy: 0.9344\n",
      "Epoch 33/100\n",
      "65/65 [==============================] - 0s 2ms/step - loss: 0.1632 - accuracy: 0.9353\n",
      "Epoch 34/100\n",
      "65/65 [==============================] - 0s 2ms/step - loss: 0.1614 - accuracy: 0.9315\n",
      "Epoch 35/100\n",
      "65/65 [==============================] - 0s 2ms/step - loss: 0.1587 - accuracy: 0.9392\n",
      "Epoch 36/100\n",
      "65/65 [==============================] - 0s 2ms/step - loss: 0.1570 - accuracy: 0.9344\n",
      "Epoch 37/100\n",
      "65/65 [==============================] - 0s 2ms/step - loss: 0.1544 - accuracy: 0.9353\n",
      "Epoch 38/100\n",
      "65/65 [==============================] - 0s 2ms/step - loss: 0.1523 - accuracy: 0.9392\n",
      "Epoch 39/100\n",
      "65/65 [==============================] - 0s 2ms/step - loss: 0.1498 - accuracy: 0.9382\n",
      "Epoch 40/100\n",
      "65/65 [==============================] - 0s 2ms/step - loss: 0.1488 - accuracy: 0.9382\n",
      "Epoch 41/100\n",
      "65/65 [==============================] - 0s 2ms/step - loss: 0.1465 - accuracy: 0.9402\n",
      "Epoch 42/100\n",
      "65/65 [==============================] - 0s 2ms/step - loss: 0.1440 - accuracy: 0.9411\n",
      "Epoch 43/100\n",
      "65/65 [==============================] - 0s 2ms/step - loss: 0.1423 - accuracy: 0.9459\n",
      "Epoch 44/100\n",
      "65/65 [==============================] - 0s 2ms/step - loss: 0.1399 - accuracy: 0.9469\n",
      "Epoch 45/100\n",
      "65/65 [==============================] - 0s 2ms/step - loss: 0.1379 - accuracy: 0.9469\n",
      "Epoch 46/100\n",
      "65/65 [==============================] - 0s 2ms/step - loss: 0.1364 - accuracy: 0.9517\n",
      "Epoch 47/100\n",
      "65/65 [==============================] - 0s 2ms/step - loss: 0.1343 - accuracy: 0.9479\n",
      "Epoch 48/100\n",
      "65/65 [==============================] - 0s 2ms/step - loss: 0.1322 - accuracy: 0.9498\n",
      "Epoch 49/100\n",
      "65/65 [==============================] - 0s 2ms/step - loss: 0.1310 - accuracy: 0.9517\n",
      "Epoch 50/100\n",
      "65/65 [==============================] - 0s 2ms/step - loss: 0.1283 - accuracy: 0.9546\n",
      "Epoch 51/100\n",
      "65/65 [==============================] - 0s 2ms/step - loss: 0.1274 - accuracy: 0.9556\n",
      "Epoch 52/100\n",
      "65/65 [==============================] - 0s 2ms/step - loss: 0.1257 - accuracy: 0.9546\n",
      "Epoch 53/100\n",
      "65/65 [==============================] - 0s 2ms/step - loss: 0.1231 - accuracy: 0.9556\n",
      "Epoch 54/100\n",
      "65/65 [==============================] - 0s 2ms/step - loss: 0.1217 - accuracy: 0.9566\n",
      "Epoch 55/100\n",
      "65/65 [==============================] - 0s 2ms/step - loss: 0.1209 - accuracy: 0.9595\n",
      "Epoch 56/100\n",
      "65/65 [==============================] - 0s 2ms/step - loss: 0.1180 - accuracy: 0.9595\n",
      "Epoch 57/100\n",
      "65/65 [==============================] - 0s 2ms/step - loss: 0.1175 - accuracy: 0.9614\n",
      "Epoch 58/100\n",
      "65/65 [==============================] - 0s 2ms/step - loss: 0.1162 - accuracy: 0.9604\n",
      "Epoch 59/100\n",
      "65/65 [==============================] - 0s 2ms/step - loss: 0.1137 - accuracy: 0.9604\n",
      "Epoch 60/100\n",
      "65/65 [==============================] - 0s 2ms/step - loss: 0.1136 - accuracy: 0.9604\n",
      "Epoch 61/100\n",
      "65/65 [==============================] - 0s 2ms/step - loss: 0.1112 - accuracy: 0.9643\n",
      "Epoch 62/100\n",
      "65/65 [==============================] - 0s 2ms/step - loss: 0.1101 - accuracy: 0.9653\n",
      "Epoch 63/100\n",
      "65/65 [==============================] - 0s 3ms/step - loss: 0.1083 - accuracy: 0.9653\n",
      "Epoch 64/100\n",
      "65/65 [==============================] - 0s 2ms/step - loss: 0.1074 - accuracy: 0.9701\n",
      "Epoch 65/100\n",
      "65/65 [==============================] - 0s 2ms/step - loss: 0.1061 - accuracy: 0.9662\n",
      "Epoch 66/100\n",
      "65/65 [==============================] - 0s 2ms/step - loss: 0.1046 - accuracy: 0.9701\n",
      "Epoch 67/100\n",
      "65/65 [==============================] - 0s 2ms/step - loss: 0.1043 - accuracy: 0.9681\n",
      "Epoch 68/100\n",
      "65/65 [==============================] - 0s 2ms/step - loss: 0.1023 - accuracy: 0.9710\n",
      "Epoch 69/100\n",
      "65/65 [==============================] - 0s 3ms/step - loss: 0.1005 - accuracy: 0.9672\n",
      "Epoch 70/100\n",
      "65/65 [==============================] - 0s 2ms/step - loss: 0.1007 - accuracy: 0.9701\n",
      "Epoch 71/100\n",
      "65/65 [==============================] - 0s 2ms/step - loss: 0.0994 - accuracy: 0.9701\n",
      "Epoch 72/100\n",
      "65/65 [==============================] - 0s 2ms/step - loss: 0.0981 - accuracy: 0.9691\n",
      "Epoch 73/100\n",
      "65/65 [==============================] - 0s 2ms/step - loss: 0.0968 - accuracy: 0.9691\n",
      "Epoch 74/100\n",
      "65/65 [==============================] - 0s 2ms/step - loss: 0.0956 - accuracy: 0.9701\n",
      "Epoch 75/100\n",
      "65/65 [==============================] - 0s 2ms/step - loss: 0.0949 - accuracy: 0.9701\n",
      "Epoch 76/100\n",
      "65/65 [==============================] - 0s 2ms/step - loss: 0.0927 - accuracy: 0.9710\n",
      "Epoch 77/100\n",
      "65/65 [==============================] - 0s 2ms/step - loss: 0.0921 - accuracy: 0.9739\n",
      "Epoch 78/100\n",
      "65/65 [==============================] - 0s 2ms/step - loss: 0.0906 - accuracy: 0.9730\n",
      "Epoch 79/100\n",
      "65/65 [==============================] - 0s 3ms/step - loss: 0.0901 - accuracy: 0.9720\n",
      "Epoch 80/100\n",
      "65/65 [==============================] - 0s 2ms/step - loss: 0.0894 - accuracy: 0.9691\n",
      "Epoch 81/100\n",
      "65/65 [==============================] - 0s 2ms/step - loss: 0.0892 - accuracy: 0.9710\n",
      "Epoch 82/100\n",
      "65/65 [==============================] - 0s 2ms/step - loss: 0.0870 - accuracy: 0.9730\n",
      "Epoch 83/100\n",
      "65/65 [==============================] - 0s 2ms/step - loss: 0.0863 - accuracy: 0.9739\n",
      "Epoch 84/100\n",
      "65/65 [==============================] - 0s 2ms/step - loss: 0.0854 - accuracy: 0.9730\n",
      "Epoch 85/100\n",
      "65/65 [==============================] - 0s 2ms/step - loss: 0.0847 - accuracy: 0.9730\n",
      "Epoch 86/100\n",
      "65/65 [==============================] - 0s 2ms/step - loss: 0.0852 - accuracy: 0.9739\n",
      "Epoch 87/100\n",
      "65/65 [==============================] - 0s 2ms/step - loss: 0.0832 - accuracy: 0.9739\n",
      "Epoch 88/100\n",
      "65/65 [==============================] - 0s 2ms/step - loss: 0.0820 - accuracy: 0.9730\n",
      "Epoch 89/100\n",
      "65/65 [==============================] - 0s 2ms/step - loss: 0.0821 - accuracy: 0.9710\n",
      "Epoch 90/100\n",
      "65/65 [==============================] - 0s 2ms/step - loss: 0.0806 - accuracy: 0.9739\n",
      "Epoch 91/100\n",
      "65/65 [==============================] - 0s 2ms/step - loss: 0.0797 - accuracy: 0.9730\n",
      "Epoch 92/100\n",
      "65/65 [==============================] - 0s 2ms/step - loss: 0.0789 - accuracy: 0.9739\n",
      "Epoch 93/100\n",
      "65/65 [==============================] - 0s 2ms/step - loss: 0.0776 - accuracy: 0.9768\n",
      "Epoch 94/100\n",
      "65/65 [==============================] - 0s 2ms/step - loss: 0.0773 - accuracy: 0.9730\n",
      "Epoch 95/100\n",
      "65/65 [==============================] - 0s 2ms/step - loss: 0.0782 - accuracy: 0.9720\n",
      "Epoch 96/100\n",
      "65/65 [==============================] - 0s 2ms/step - loss: 0.0763 - accuracy: 0.9720\n",
      "Epoch 97/100\n",
      "65/65 [==============================] - 0s 2ms/step - loss: 0.0757 - accuracy: 0.9749\n",
      "Epoch 98/100\n",
      "65/65 [==============================] - 0s 3ms/step - loss: 0.0743 - accuracy: 0.9730\n",
      "Epoch 99/100\n",
      "65/65 [==============================] - 0s 2ms/step - loss: 0.0737 - accuracy: 0.9759\n",
      "Epoch 100/100\n",
      "65/65 [==============================] - 0s 2ms/step - loss: 0.0742 - accuracy: 0.9739\n"
     ]
    },
    {
     "data": {
      "text/plain": [
       "<keras.callbacks.History at 0x7fa3a474bf90>"
      ]
     },
     "execution_count": 83,
     "metadata": {},
     "output_type": "execute_result"
    }
   ],
   "source": [
    "import tensorflow as tf\n",
    "\n",
    "from sklearn.preprocessing import StandardScaler\n",
    "\n",
    "# Transform data by standardization\n",
    "sScaler = StandardScaler()\n",
    "sX_train = sScaler.fit_transform(X_train)\n",
    "sX_test = sScaler.fit_transform(X_test)\n",
    "\n",
    "\n",
    "\n",
    "# building neural networks\n",
    "model = tf.keras.Sequential([\n",
    "        tf.keras.layers.Dense(10, activation = 'relu', input_shape = (len(X.columns), )),\n",
    "        tf.keras.layers.Dense(10, activation = 'relu'),\n",
    "        tf.keras.layers.Dense(y.nunique(), activation = 'softmax'),\n",
    "    ])\n",
    "\n",
    "# compile the model\n",
    "model.compile(optimizer = \"adam\", loss =\"sparse_categorical_crossentropy\", metrics=['accuracy'])\n",
    "\n",
    "# Train the model\n",
    "model.fit(sX_train, labeled_y_train, epochs = 100, batch_size = 16, verbose = 1)"
   ]
  },
  {
   "cell_type": "code",
   "execution_count": 84,
   "metadata": {
    "colab": {
     "base_uri": "https://localhost:8080/"
    },
    "executionInfo": {
     "elapsed": 9,
     "status": "ok",
     "timestamp": 1702914442842,
     "user": {
      "displayName": "Hitesh Kayastha",
      "userId": "08602966089512209356"
     },
     "user_tz": -345
    },
    "id": "49SlwiJxNJ0q",
    "outputId": "dad1658f-3566-4ff3-94de-ca4c5aa3cf0b"
   },
   "outputs": [
    {
     "name": "stdout",
     "output_type": "stream",
     "text": [
      "22/22 [==============================] - 0s 1ms/step\n"
     ]
    }
   ],
   "source": [
    "y_pred = model.predict(sX_test)"
   ]
  },
  {
   "cell_type": "code",
   "execution_count": 85,
   "metadata": {
    "executionInfo": {
     "elapsed": 18,
     "status": "ok",
     "timestamp": 1702914443752,
     "user": {
      "displayName": "Hitesh Kayastha",
      "userId": "08602966089512209356"
     },
     "user_tz": -345
    },
    "id": "5ujUGO6MO6x-"
   },
   "outputs": [],
   "source": [
    "y_pred_num = tf.argmax(y_pred, axis = 1).numpy()"
   ]
  },
  {
   "cell_type": "code",
   "execution_count": 86,
   "metadata": {
    "executionInfo": {
     "elapsed": 16,
     "status": "ok",
     "timestamp": 1702914443753,
     "user": {
      "displayName": "Hitesh Kayastha",
      "userId": "08602966089512209356"
     },
     "user_tz": -345
    },
    "id": "YGIzg1yKOp2J"
   },
   "outputs": [],
   "source": [
    "named_y_pred = LabelEncoder().fit(y_train).inverse_transform(y_pred_num)"
   ]
  },
  {
   "cell_type": "markdown",
   "metadata": {
    "id": "m9ZJ2M3jRnEa"
   },
   "source": [
    "## Evaluation"
   ]
  },
  {
   "cell_type": "code",
   "execution_count": 87,
   "metadata": {
    "colab": {
     "base_uri": "https://localhost:8080/"
    },
    "executionInfo": {
     "elapsed": 15,
     "status": "ok",
     "timestamp": 1702914443753,
     "user": {
      "displayName": "Hitesh Kayastha",
      "userId": "08602966089512209356"
     },
     "user_tz": -345
    },
    "id": "0sOdDA8fVqvw",
    "outputId": "8e396124-a2a8-408b-e488-ff10c1ccf209"
   },
   "outputs": [
    {
     "name": "stdout",
     "output_type": "stream",
     "text": [
      "\\begin{tabular}{lrrrr}\n",
      "{} & {precision} & {recall} & {f1-score} & {support} \\\\\n",
      "0 & 0.973029 & 0.977083 & 0.975052 & 480.000000 \\\\\n",
      "1 & 0.902597 & 0.891026 & 0.896774 & 156.000000 \\\\\n",
      "2 & 0.925926 & 0.862069 & 0.892857 & 29.000000 \\\\\n",
      "3 & 0.827586 & 0.888889 & 0.857143 & 27.000000 \\\\\n",
      "accuracy & 0.949422 & 0.949422 & 0.949422 & 0.949422 \\\\\n",
      "macro avg & 0.907285 & 0.904767 & 0.905457 & 692.000000 \\\\\n",
      "weighted avg & 0.949503 & 0.949422 & 0.949360 & 692.000000 \\\\\n",
      "\\end{tabular}\n",
      "\n"
     ]
    }
   ],
   "source": [
    "dTreeReportANN = pd.DataFrame(classification_report(y_test, named_y_pred, output_dict = True))\n",
    "print(dTreeReportANN.T.style.to_latex())"
   ]
  },
  {
   "cell_type": "markdown",
   "metadata": {},
   "source": [
    "# Results "
   ]
  },
  {
   "cell_type": "code",
   "execution_count": 88,
   "metadata": {
    "colab": {
     "base_uri": "https://localhost:8080/"
    },
    "executionInfo": {
     "elapsed": 547,
     "status": "ok",
     "timestamp": 1702917380810,
     "user": {
      "displayName": "Hitesh Kayastha",
      "userId": "08602966089512209356"
     },
     "user_tz": -345
    },
    "id": "H6H90irGyOuv",
    "outputId": "0bbdddef-5fdd-4ef0-dbdb-7a1a29b01f90"
   },
   "outputs": [
    {
     "data": {
      "text/plain": [
       "0               0.995825\n",
       "1               0.948052\n",
       "2               0.825397\n",
       "3               0.800000\n",
       "accuracy        0.969653\n",
       "macro avg       0.892318\n",
       "weighted avg    0.970272\n",
       "Name: f1-score, dtype: float64"
      ]
     },
     "execution_count": 88,
     "metadata": {},
     "output_type": "execute_result"
    }
   ],
   "source": [
    "dTreeReportIG.T['f1-score']"
   ]
  },
  {
   "cell_type": "code",
   "execution_count": 89,
   "metadata": {
    "executionInfo": {
     "elapsed": 16,
     "status": "ok",
     "timestamp": 1702917426696,
     "user": {
      "displayName": "Hitesh Kayastha",
      "userId": "08602966089512209356"
     },
     "user_tz": -345
    },
    "id": "Uf0ELWiyn5xF"
   },
   "outputs": [],
   "source": [
    "\n",
    "precisionTable = pd.DataFrame()\n",
    "precisionTable[\"DTreeGRPrecision\"] = dTreeReportIG.T['f1-score']\n",
    "precisionTable[\"DTreeGiniPrecision\"] = dTreeReportGini.T['f1-score']\n",
    "precisionTable[\"NBPrecision\"] = dTreeReportNB.T['f1-score']\n",
    "precisionTable[\"ANNPrecision\"] = dTreeReportANN.T['f1-score']\n"
   ]
  },
  {
   "cell_type": "code",
   "execution_count": 90,
   "metadata": {
    "executionInfo": {
     "elapsed": 4,
     "status": "ok",
     "timestamp": 1702917428906,
     "user": {
      "displayName": "Hitesh Kayastha",
      "userId": "08602966089512209356"
     },
     "user_tz": -345
    },
    "id": "d8tmA32pn6B9"
   },
   "outputs": [],
   "source": [
    "precisionTable.to_csv('precisionTable.csv')"
   ]
  },
  {
   "cell_type": "code",
   "execution_count": 92,
   "metadata": {
    "colab": {
     "base_uri": "https://localhost:8080/",
     "height": 417
    },
    "executionInfo": {
     "elapsed": 28,
     "status": "ok",
     "timestamp": 1702919075575,
     "user": {
      "displayName": "Hitesh Kayastha",
      "userId": "08602966089512209356"
     },
     "user_tz": -345
    },
    "id": "69FxkHS8zMb6",
    "outputId": "8252239d-aed2-4010-ba8f-3fc4362843e6"
   },
   "outputs": [
    {
     "data": {
      "application/vnd.plotly.v1+json": {
       "config": {
        "plotlyServerURL": "https://plot.ly"
       },
       "data": [
        {
         "hoverinfo": "text",
         "marker": {
          "color": "darkgray"
         },
         "text": [
          "Accuracy: 96.97%",
          "Accuracy: 96.97%",
          "Accuracy: 69.94%",
          "Accuracy: 96.97%"
         ],
         "type": "bar",
         "x": [
          "Decision Tree w/ GR",
          "Decision Tree w/ GI",
          "Naive Bayes",
          "ANN"
         ],
         "xaxis": "x",
         "y": [
          0.969653,
          0.969653,
          0.699422,
          0.969653
         ],
         "yaxis": "y"
        },
        {
         "hoverinfo": "text",
         "marker": {
          "color": "darkgray"
         },
         "text": [
          "Weighted Avg: 97.03%",
          "Weighted Avg: 97.08%",
          "Weighted Avg: 70.45%",
          "Weighted Avg: 97.03%"
         ],
         "type": "bar",
         "x": [
          "Decision Tree w/ GR",
          "Decision Tree w/ GI",
          "Naive Bayes",
          "ANN"
         ],
         "xaxis": "x2",
         "y": [
          0.970272,
          0.970837,
          0.704546,
          0.970272
         ],
         "yaxis": "y2"
        },
        {
         "hoverinfo": "text",
         "marker": {
          "color": "darkgray"
         },
         "text": [
          "Macro Avg: 89.23%",
          "Macro Avg: 89.35%",
          "Macro Avg: 47.88%",
          "Macro Avg: 89.23%"
         ],
         "type": "bar",
         "x": [
          "Decision Tree w/ GR",
          "Decision Tree w/ GI",
          "Naive Bayes",
          "ANN"
         ],
         "xaxis": "x3",
         "y": [
          0.892318,
          0.893469,
          0.478811,
          0.892318
         ],
         "yaxis": "y3"
        }
       ],
       "layout": {
        "annotations": [
         {
          "font": {
           "size": 16
          },
          "showarrow": false,
          "text": "Accuracy",
          "x": 0.14444444444444446,
          "xanchor": "center",
          "xref": "paper",
          "y": 1,
          "yanchor": "bottom",
          "yref": "paper"
         },
         {
          "font": {
           "size": 16
          },
          "showarrow": false,
          "text": "Weighted Avg",
          "x": 0.5,
          "xanchor": "center",
          "xref": "paper",
          "y": 1,
          "yanchor": "bottom",
          "yref": "paper"
         },
         {
          "font": {
           "size": 16
          },
          "showarrow": false,
          "text": "Macro Avg",
          "x": 0.8555555555555556,
          "xanchor": "center",
          "xref": "paper",
          "y": 1,
          "yanchor": "bottom",
          "yref": "paper"
         }
        ],
        "height": 400,
        "showlegend": false,
        "template": {
         "data": {
          "bar": [
           {
            "error_x": {
             "color": "rgb(36,36,36)"
            },
            "error_y": {
             "color": "rgb(36,36,36)"
            },
            "marker": {
             "line": {
              "color": "white",
              "width": 0.5
             },
             "pattern": {
              "fillmode": "overlay",
              "size": 10,
              "solidity": 0.2
             }
            },
            "type": "bar"
           }
          ],
          "barpolar": [
           {
            "marker": {
             "line": {
              "color": "white",
              "width": 0.5
             },
             "pattern": {
              "fillmode": "overlay",
              "size": 10,
              "solidity": 0.2
             }
            },
            "type": "barpolar"
           }
          ],
          "carpet": [
           {
            "aaxis": {
             "endlinecolor": "rgb(36,36,36)",
             "gridcolor": "white",
             "linecolor": "white",
             "minorgridcolor": "white",
             "startlinecolor": "rgb(36,36,36)"
            },
            "baxis": {
             "endlinecolor": "rgb(36,36,36)",
             "gridcolor": "white",
             "linecolor": "white",
             "minorgridcolor": "white",
             "startlinecolor": "rgb(36,36,36)"
            },
            "type": "carpet"
           }
          ],
          "choropleth": [
           {
            "colorbar": {
             "outlinewidth": 1,
             "tickcolor": "rgb(36,36,36)",
             "ticks": "outside"
            },
            "type": "choropleth"
           }
          ],
          "contour": [
           {
            "colorbar": {
             "outlinewidth": 1,
             "tickcolor": "rgb(36,36,36)",
             "ticks": "outside"
            },
            "colorscale": [
             [
              0,
              "#440154"
             ],
             [
              0.1111111111111111,
              "#482878"
             ],
             [
              0.2222222222222222,
              "#3e4989"
             ],
             [
              0.3333333333333333,
              "#31688e"
             ],
             [
              0.4444444444444444,
              "#26828e"
             ],
             [
              0.5555555555555556,
              "#1f9e89"
             ],
             [
              0.6666666666666666,
              "#35b779"
             ],
             [
              0.7777777777777778,
              "#6ece58"
             ],
             [
              0.8888888888888888,
              "#b5de2b"
             ],
             [
              1,
              "#fde725"
             ]
            ],
            "type": "contour"
           }
          ],
          "contourcarpet": [
           {
            "colorbar": {
             "outlinewidth": 1,
             "tickcolor": "rgb(36,36,36)",
             "ticks": "outside"
            },
            "type": "contourcarpet"
           }
          ],
          "heatmap": [
           {
            "colorbar": {
             "outlinewidth": 1,
             "tickcolor": "rgb(36,36,36)",
             "ticks": "outside"
            },
            "colorscale": [
             [
              0,
              "#440154"
             ],
             [
              0.1111111111111111,
              "#482878"
             ],
             [
              0.2222222222222222,
              "#3e4989"
             ],
             [
              0.3333333333333333,
              "#31688e"
             ],
             [
              0.4444444444444444,
              "#26828e"
             ],
             [
              0.5555555555555556,
              "#1f9e89"
             ],
             [
              0.6666666666666666,
              "#35b779"
             ],
             [
              0.7777777777777778,
              "#6ece58"
             ],
             [
              0.8888888888888888,
              "#b5de2b"
             ],
             [
              1,
              "#fde725"
             ]
            ],
            "type": "heatmap"
           }
          ],
          "heatmapgl": [
           {
            "colorbar": {
             "outlinewidth": 1,
             "tickcolor": "rgb(36,36,36)",
             "ticks": "outside"
            },
            "colorscale": [
             [
              0,
              "#440154"
             ],
             [
              0.1111111111111111,
              "#482878"
             ],
             [
              0.2222222222222222,
              "#3e4989"
             ],
             [
              0.3333333333333333,
              "#31688e"
             ],
             [
              0.4444444444444444,
              "#26828e"
             ],
             [
              0.5555555555555556,
              "#1f9e89"
             ],
             [
              0.6666666666666666,
              "#35b779"
             ],
             [
              0.7777777777777778,
              "#6ece58"
             ],
             [
              0.8888888888888888,
              "#b5de2b"
             ],
             [
              1,
              "#fde725"
             ]
            ],
            "type": "heatmapgl"
           }
          ],
          "histogram": [
           {
            "marker": {
             "line": {
              "color": "white",
              "width": 0.6
             }
            },
            "type": "histogram"
           }
          ],
          "histogram2d": [
           {
            "colorbar": {
             "outlinewidth": 1,
             "tickcolor": "rgb(36,36,36)",
             "ticks": "outside"
            },
            "colorscale": [
             [
              0,
              "#440154"
             ],
             [
              0.1111111111111111,
              "#482878"
             ],
             [
              0.2222222222222222,
              "#3e4989"
             ],
             [
              0.3333333333333333,
              "#31688e"
             ],
             [
              0.4444444444444444,
              "#26828e"
             ],
             [
              0.5555555555555556,
              "#1f9e89"
             ],
             [
              0.6666666666666666,
              "#35b779"
             ],
             [
              0.7777777777777778,
              "#6ece58"
             ],
             [
              0.8888888888888888,
              "#b5de2b"
             ],
             [
              1,
              "#fde725"
             ]
            ],
            "type": "histogram2d"
           }
          ],
          "histogram2dcontour": [
           {
            "colorbar": {
             "outlinewidth": 1,
             "tickcolor": "rgb(36,36,36)",
             "ticks": "outside"
            },
            "colorscale": [
             [
              0,
              "#440154"
             ],
             [
              0.1111111111111111,
              "#482878"
             ],
             [
              0.2222222222222222,
              "#3e4989"
             ],
             [
              0.3333333333333333,
              "#31688e"
             ],
             [
              0.4444444444444444,
              "#26828e"
             ],
             [
              0.5555555555555556,
              "#1f9e89"
             ],
             [
              0.6666666666666666,
              "#35b779"
             ],
             [
              0.7777777777777778,
              "#6ece58"
             ],
             [
              0.8888888888888888,
              "#b5de2b"
             ],
             [
              1,
              "#fde725"
             ]
            ],
            "type": "histogram2dcontour"
           }
          ],
          "mesh3d": [
           {
            "colorbar": {
             "outlinewidth": 1,
             "tickcolor": "rgb(36,36,36)",
             "ticks": "outside"
            },
            "type": "mesh3d"
           }
          ],
          "parcoords": [
           {
            "line": {
             "colorbar": {
              "outlinewidth": 1,
              "tickcolor": "rgb(36,36,36)",
              "ticks": "outside"
             }
            },
            "type": "parcoords"
           }
          ],
          "pie": [
           {
            "automargin": true,
            "type": "pie"
           }
          ],
          "scatter": [
           {
            "fillpattern": {
             "fillmode": "overlay",
             "size": 10,
             "solidity": 0.2
            },
            "type": "scatter"
           }
          ],
          "scatter3d": [
           {
            "line": {
             "colorbar": {
              "outlinewidth": 1,
              "tickcolor": "rgb(36,36,36)",
              "ticks": "outside"
             }
            },
            "marker": {
             "colorbar": {
              "outlinewidth": 1,
              "tickcolor": "rgb(36,36,36)",
              "ticks": "outside"
             }
            },
            "type": "scatter3d"
           }
          ],
          "scattercarpet": [
           {
            "marker": {
             "colorbar": {
              "outlinewidth": 1,
              "tickcolor": "rgb(36,36,36)",
              "ticks": "outside"
             }
            },
            "type": "scattercarpet"
           }
          ],
          "scattergeo": [
           {
            "marker": {
             "colorbar": {
              "outlinewidth": 1,
              "tickcolor": "rgb(36,36,36)",
              "ticks": "outside"
             }
            },
            "type": "scattergeo"
           }
          ],
          "scattergl": [
           {
            "marker": {
             "colorbar": {
              "outlinewidth": 1,
              "tickcolor": "rgb(36,36,36)",
              "ticks": "outside"
             }
            },
            "type": "scattergl"
           }
          ],
          "scattermapbox": [
           {
            "marker": {
             "colorbar": {
              "outlinewidth": 1,
              "tickcolor": "rgb(36,36,36)",
              "ticks": "outside"
             }
            },
            "type": "scattermapbox"
           }
          ],
          "scatterpolar": [
           {
            "marker": {
             "colorbar": {
              "outlinewidth": 1,
              "tickcolor": "rgb(36,36,36)",
              "ticks": "outside"
             }
            },
            "type": "scatterpolar"
           }
          ],
          "scatterpolargl": [
           {
            "marker": {
             "colorbar": {
              "outlinewidth": 1,
              "tickcolor": "rgb(36,36,36)",
              "ticks": "outside"
             }
            },
            "type": "scatterpolargl"
           }
          ],
          "scatterternary": [
           {
            "marker": {
             "colorbar": {
              "outlinewidth": 1,
              "tickcolor": "rgb(36,36,36)",
              "ticks": "outside"
             }
            },
            "type": "scatterternary"
           }
          ],
          "surface": [
           {
            "colorbar": {
             "outlinewidth": 1,
             "tickcolor": "rgb(36,36,36)",
             "ticks": "outside"
            },
            "colorscale": [
             [
              0,
              "#440154"
             ],
             [
              0.1111111111111111,
              "#482878"
             ],
             [
              0.2222222222222222,
              "#3e4989"
             ],
             [
              0.3333333333333333,
              "#31688e"
             ],
             [
              0.4444444444444444,
              "#26828e"
             ],
             [
              0.5555555555555556,
              "#1f9e89"
             ],
             [
              0.6666666666666666,
              "#35b779"
             ],
             [
              0.7777777777777778,
              "#6ece58"
             ],
             [
              0.8888888888888888,
              "#b5de2b"
             ],
             [
              1,
              "#fde725"
             ]
            ],
            "type": "surface"
           }
          ],
          "table": [
           {
            "cells": {
             "fill": {
              "color": "rgb(237,237,237)"
             },
             "line": {
              "color": "white"
             }
            },
            "header": {
             "fill": {
              "color": "rgb(217,217,217)"
             },
             "line": {
              "color": "white"
             }
            },
            "type": "table"
           }
          ]
         },
         "layout": {
          "annotationdefaults": {
           "arrowhead": 0,
           "arrowwidth": 1
          },
          "autotypenumbers": "strict",
          "coloraxis": {
           "colorbar": {
            "outlinewidth": 1,
            "tickcolor": "rgb(36,36,36)",
            "ticks": "outside"
           }
          },
          "colorscale": {
           "diverging": [
            [
             0,
             "rgb(103,0,31)"
            ],
            [
             0.1,
             "rgb(178,24,43)"
            ],
            [
             0.2,
             "rgb(214,96,77)"
            ],
            [
             0.3,
             "rgb(244,165,130)"
            ],
            [
             0.4,
             "rgb(253,219,199)"
            ],
            [
             0.5,
             "rgb(247,247,247)"
            ],
            [
             0.6,
             "rgb(209,229,240)"
            ],
            [
             0.7,
             "rgb(146,197,222)"
            ],
            [
             0.8,
             "rgb(67,147,195)"
            ],
            [
             0.9,
             "rgb(33,102,172)"
            ],
            [
             1,
             "rgb(5,48,97)"
            ]
           ],
           "sequential": [
            [
             0,
             "#440154"
            ],
            [
             0.1111111111111111,
             "#482878"
            ],
            [
             0.2222222222222222,
             "#3e4989"
            ],
            [
             0.3333333333333333,
             "#31688e"
            ],
            [
             0.4444444444444444,
             "#26828e"
            ],
            [
             0.5555555555555556,
             "#1f9e89"
            ],
            [
             0.6666666666666666,
             "#35b779"
            ],
            [
             0.7777777777777778,
             "#6ece58"
            ],
            [
             0.8888888888888888,
             "#b5de2b"
            ],
            [
             1,
             "#fde725"
            ]
           ],
           "sequentialminus": [
            [
             0,
             "#440154"
            ],
            [
             0.1111111111111111,
             "#482878"
            ],
            [
             0.2222222222222222,
             "#3e4989"
            ],
            [
             0.3333333333333333,
             "#31688e"
            ],
            [
             0.4444444444444444,
             "#26828e"
            ],
            [
             0.5555555555555556,
             "#1f9e89"
            ],
            [
             0.6666666666666666,
             "#35b779"
            ],
            [
             0.7777777777777778,
             "#6ece58"
            ],
            [
             0.8888888888888888,
             "#b5de2b"
            ],
            [
             1,
             "#fde725"
            ]
           ]
          },
          "colorway": [
           "#1F77B4",
           "#FF7F0E",
           "#2CA02C",
           "#D62728",
           "#9467BD",
           "#8C564B",
           "#E377C2",
           "#7F7F7F",
           "#BCBD22",
           "#17BECF"
          ],
          "font": {
           "color": "rgb(36,36,36)"
          },
          "geo": {
           "bgcolor": "white",
           "lakecolor": "white",
           "landcolor": "white",
           "showlakes": true,
           "showland": true,
           "subunitcolor": "white"
          },
          "hoverlabel": {
           "align": "left"
          },
          "hovermode": "closest",
          "mapbox": {
           "style": "light"
          },
          "paper_bgcolor": "white",
          "plot_bgcolor": "white",
          "polar": {
           "angularaxis": {
            "gridcolor": "rgb(232,232,232)",
            "linecolor": "rgb(36,36,36)",
            "showgrid": false,
            "showline": true,
            "ticks": "outside"
           },
           "bgcolor": "white",
           "radialaxis": {
            "gridcolor": "rgb(232,232,232)",
            "linecolor": "rgb(36,36,36)",
            "showgrid": false,
            "showline": true,
            "ticks": "outside"
           }
          },
          "scene": {
           "xaxis": {
            "backgroundcolor": "white",
            "gridcolor": "rgb(232,232,232)",
            "gridwidth": 2,
            "linecolor": "rgb(36,36,36)",
            "showbackground": true,
            "showgrid": false,
            "showline": true,
            "ticks": "outside",
            "zeroline": false,
            "zerolinecolor": "rgb(36,36,36)"
           },
           "yaxis": {
            "backgroundcolor": "white",
            "gridcolor": "rgb(232,232,232)",
            "gridwidth": 2,
            "linecolor": "rgb(36,36,36)",
            "showbackground": true,
            "showgrid": false,
            "showline": true,
            "ticks": "outside",
            "zeroline": false,
            "zerolinecolor": "rgb(36,36,36)"
           },
           "zaxis": {
            "backgroundcolor": "white",
            "gridcolor": "rgb(232,232,232)",
            "gridwidth": 2,
            "linecolor": "rgb(36,36,36)",
            "showbackground": true,
            "showgrid": false,
            "showline": true,
            "ticks": "outside",
            "zeroline": false,
            "zerolinecolor": "rgb(36,36,36)"
           }
          },
          "shapedefaults": {
           "fillcolor": "black",
           "line": {
            "width": 0
           },
           "opacity": 0.3
          },
          "ternary": {
           "aaxis": {
            "gridcolor": "rgb(232,232,232)",
            "linecolor": "rgb(36,36,36)",
            "showgrid": false,
            "showline": true,
            "ticks": "outside"
           },
           "baxis": {
            "gridcolor": "rgb(232,232,232)",
            "linecolor": "rgb(36,36,36)",
            "showgrid": false,
            "showline": true,
            "ticks": "outside"
           },
           "bgcolor": "white",
           "caxis": {
            "gridcolor": "rgb(232,232,232)",
            "linecolor": "rgb(36,36,36)",
            "showgrid": false,
            "showline": true,
            "ticks": "outside"
           }
          },
          "title": {
           "x": 0.05
          },
          "xaxis": {
           "automargin": true,
           "gridcolor": "rgb(232,232,232)",
           "linecolor": "rgb(36,36,36)",
           "showgrid": false,
           "showline": true,
           "ticks": "outside",
           "title": {
            "standoff": 15
           },
           "zeroline": false,
           "zerolinecolor": "rgb(36,36,36)"
          },
          "yaxis": {
           "automargin": true,
           "gridcolor": "rgb(232,232,232)",
           "linecolor": "rgb(36,36,36)",
           "showgrid": false,
           "showline": true,
           "ticks": "outside",
           "title": {
            "standoff": 15
           },
           "zeroline": false,
           "zerolinecolor": "rgb(36,36,36)"
          }
         }
        },
        "title": {
         "text": "Classifier Performance Comparison"
        },
        "width": 800,
        "xaxis": {
         "anchor": "y",
         "autorange": true,
         "domain": [
          0,
          0.2888888888888889
         ],
         "range": [
          -0.5,
          3.5
         ],
         "type": "category"
        },
        "xaxis2": {
         "anchor": "y2",
         "autorange": true,
         "domain": [
          0.35555555555555557,
          0.6444444444444445
         ],
         "range": [
          -0.5,
          3.5
         ],
         "type": "category"
        },
        "xaxis3": {
         "anchor": "y3",
         "autorange": true,
         "domain": [
          0.7111111111111111,
          1
         ],
         "range": [
          -0.5,
          3.5
         ],
         "type": "category"
        },
        "yaxis": {
         "anchor": "x",
         "autorange": true,
         "domain": [
          0,
          1
         ],
         "range": [
          0,
          1.0206873684210527
         ],
         "type": "linear"
        },
        "yaxis2": {
         "anchor": "x2",
         "autorange": true,
         "domain": [
          0,
          1
         ],
         "range": [
          0,
          1.0219336842105262
         ],
         "type": "linear"
        },
        "yaxis3": {
         "anchor": "x3",
         "autorange": true,
         "domain": [
          0,
          1
         ],
         "range": [
          0,
          0.9404936842105263
         ],
         "type": "linear"
        }
       }
      },
      "image/png": "[encoded data removed]",
      "text/html": [
       "<div>                            <div id=\"78043868-b13d-4385-ba55-35a9a4ac3371\" class=\"plotly-graph-div\" style=\"height:400px; width:800px;\"></div>            <script type=\"text/javascript\">                require([\"plotly\"], function(Plotly) {                    window.PLOTLYENV=window.PLOTLYENV || {};                                    if (document.getElementById(\"78043868-b13d-4385-ba55-35a9a4ac3371\")) {                    Plotly.newPlot(                        \"78043868-b13d-4385-ba55-35a9a4ac3371\",                        [{\"hoverinfo\":\"text\",\"marker\":{\"color\":\"darkgray\"},\"text\":[\"Accuracy: 96.97%\",\"Accuracy: 96.97%\",\"Accuracy: 69.94%\",\"Accuracy: 96.97%\"],\"x\":[\"Decision Tree w/ GR\",\"Decision Tree w/ GI\",\"Naive Bayes\",\"ANN\"],\"y\":[0.969653,0.969653,0.699422,0.969653],\"type\":\"bar\",\"xaxis\":\"x\",\"yaxis\":\"y\"},{\"hoverinfo\":\"text\",\"marker\":{\"color\":\"darkgray\"},\"text\":[\"Weighted Avg: 97.03%\",\"Weighted Avg: 97.08%\",\"Weighted Avg: 70.45%\",\"Weighted Avg: 97.03%\"],\"x\":[\"Decision Tree w/ GR\",\"Decision Tree w/ GI\",\"Naive Bayes\",\"ANN\"],\"y\":[0.970272,0.970837,0.704546,0.970272],\"type\":\"bar\",\"xaxis\":\"x2\",\"yaxis\":\"y2\"},{\"hoverinfo\":\"text\",\"marker\":{\"color\":\"darkgray\"},\"text\":[\"Macro Avg: 89.23%\",\"Macro Avg: 89.35%\",\"Macro Avg: 47.88%\",\"Macro Avg: 89.23%\"],\"x\":[\"Decision Tree w/ GR\",\"Decision Tree w/ GI\",\"Naive Bayes\",\"ANN\"],\"y\":[0.892318,0.893469,0.478811,0.892318],\"type\":\"bar\",\"xaxis\":\"x3\",\"yaxis\":\"y3\"}],                        {\"template\":{\"data\":{\"barpolar\":[{\"marker\":{\"line\":{\"color\":\"white\",\"width\":0.5},\"pattern\":{\"fillmode\":\"overlay\",\"size\":10,\"solidity\":0.2}},\"type\":\"barpolar\"}],\"bar\":[{\"error_x\":{\"color\":\"rgb(36,36,36)\"},\"error_y\":{\"color\":\"rgb(36,36,36)\"},\"marker\":{\"line\":{\"color\":\"white\",\"width\":0.5},\"pattern\":{\"fillmode\":\"overlay\",\"size\":10,\"solidity\":0.2}},\"type\":\"bar\"}],\"carpet\":[{\"aaxis\":{\"endlinecolor\":\"rgb(36,36,36)\",\"gridcolor\":\"white\",\"linecolor\":\"white\",\"minorgridcolor\":\"white\",\"startlinecolor\":\"rgb(36,36,36)\"},\"baxis\":{\"endlinecolor\":\"rgb(36,36,36)\",\"gridcolor\":\"white\",\"linecolor\":\"white\",\"minorgridcolor\":\"white\",\"startlinecolor\":\"rgb(36,36,36)\"},\"type\":\"carpet\"}],\"choropleth\":[{\"colorbar\":{\"outlinewidth\":1,\"tickcolor\":\"rgb(36,36,36)\",\"ticks\":\"outside\"},\"type\":\"choropleth\"}],\"contourcarpet\":[{\"colorbar\":{\"outlinewidth\":1,\"tickcolor\":\"rgb(36,36,36)\",\"ticks\":\"outside\"},\"type\":\"contourcarpet\"}],\"contour\":[{\"colorbar\":{\"outlinewidth\":1,\"tickcolor\":\"rgb(36,36,36)\",\"ticks\":\"outside\"},\"colorscale\":[[0.0,\"#440154\"],[0.1111111111111111,\"#482878\"],[0.2222222222222222,\"#3e4989\"],[0.3333333333333333,\"#31688e\"],[0.4444444444444444,\"#26828e\"],[0.5555555555555556,\"#1f9e89\"],[0.6666666666666666,\"#35b779\"],[0.7777777777777778,\"#6ece58\"],[0.8888888888888888,\"#b5de2b\"],[1.0,\"#fde725\"]],\"type\":\"contour\"}],\"heatmapgl\":[{\"colorbar\":{\"outlinewidth\":1,\"tickcolor\":\"rgb(36,36,36)\",\"ticks\":\"outside\"},\"colorscale\":[[0.0,\"#440154\"],[0.1111111111111111,\"#482878\"],[0.2222222222222222,\"#3e4989\"],[0.3333333333333333,\"#31688e\"],[0.4444444444444444,\"#26828e\"],[0.5555555555555556,\"#1f9e89\"],[0.6666666666666666,\"#35b779\"],[0.7777777777777778,\"#6ece58\"],[0.8888888888888888,\"#b5de2b\"],[1.0,\"#fde725\"]],\"type\":\"heatmapgl\"}],\"heatmap\":[{\"colorbar\":{\"outlinewidth\":1,\"tickcolor\":\"rgb(36,36,36)\",\"ticks\":\"outside\"},\"colorscale\":[[0.0,\"#440154\"],[0.1111111111111111,\"#482878\"],[0.2222222222222222,\"#3e4989\"],[0.3333333333333333,\"#31688e\"],[0.4444444444444444,\"#26828e\"],[0.5555555555555556,\"#1f9e89\"],[0.6666666666666666,\"#35b779\"],[0.7777777777777778,\"#6ece58\"],[0.8888888888888888,\"#b5de2b\"],[1.0,\"#fde725\"]],\"type\":\"heatmap\"}],\"histogram2dcontour\":[{\"colorbar\":{\"outlinewidth\":1,\"tickcolor\":\"rgb(36,36,36)\",\"ticks\":\"outside\"},\"colorscale\":[[0.0,\"#440154\"],[0.1111111111111111,\"#482878\"],[0.2222222222222222,\"#3e4989\"],[0.3333333333333333,\"#31688e\"],[0.4444444444444444,\"#26828e\"],[0.5555555555555556,\"#1f9e89\"],[0.6666666666666666,\"#35b779\"],[0.7777777777777778,\"#6ece58\"],[0.8888888888888888,\"#b5de2b\"],[1.0,\"#fde725\"]],\"type\":\"histogram2dcontour\"}],\"histogram2d\":[{\"colorbar\":{\"outlinewidth\":1,\"tickcolor\":\"rgb(36,36,36)\",\"ticks\":\"outside\"},\"colorscale\":[[0.0,\"#440154\"],[0.1111111111111111,\"#482878\"],[0.2222222222222222,\"#3e4989\"],[0.3333333333333333,\"#31688e\"],[0.4444444444444444,\"#26828e\"],[0.5555555555555556,\"#1f9e89\"],[0.6666666666666666,\"#35b779\"],[0.7777777777777778,\"#6ece58\"],[0.8888888888888888,\"#b5de2b\"],[1.0,\"#fde725\"]],\"type\":\"histogram2d\"}],\"histogram\":[{\"marker\":{\"line\":{\"color\":\"white\",\"width\":0.6}},\"type\":\"histogram\"}],\"mesh3d\":[{\"colorbar\":{\"outlinewidth\":1,\"tickcolor\":\"rgb(36,36,36)\",\"ticks\":\"outside\"},\"type\":\"mesh3d\"}],\"parcoords\":[{\"line\":{\"colorbar\":{\"outlinewidth\":1,\"tickcolor\":\"rgb(36,36,36)\",\"ticks\":\"outside\"}},\"type\":\"parcoords\"}],\"pie\":[{\"automargin\":true,\"type\":\"pie\"}],\"scatter3d\":[{\"line\":{\"colorbar\":{\"outlinewidth\":1,\"tickcolor\":\"rgb(36,36,36)\",\"ticks\":\"outside\"}},\"marker\":{\"colorbar\":{\"outlinewidth\":1,\"tickcolor\":\"rgb(36,36,36)\",\"ticks\":\"outside\"}},\"type\":\"scatter3d\"}],\"scattercarpet\":[{\"marker\":{\"colorbar\":{\"outlinewidth\":1,\"tickcolor\":\"rgb(36,36,36)\",\"ticks\":\"outside\"}},\"type\":\"scattercarpet\"}],\"scattergeo\":[{\"marker\":{\"colorbar\":{\"outlinewidth\":1,\"tickcolor\":\"rgb(36,36,36)\",\"ticks\":\"outside\"}},\"type\":\"scattergeo\"}],\"scattergl\":[{\"marker\":{\"colorbar\":{\"outlinewidth\":1,\"tickcolor\":\"rgb(36,36,36)\",\"ticks\":\"outside\"}},\"type\":\"scattergl\"}],\"scattermapbox\":[{\"marker\":{\"colorbar\":{\"outlinewidth\":1,\"tickcolor\":\"rgb(36,36,36)\",\"ticks\":\"outside\"}},\"type\":\"scattermapbox\"}],\"scatterpolargl\":[{\"marker\":{\"colorbar\":{\"outlinewidth\":1,\"tickcolor\":\"rgb(36,36,36)\",\"ticks\":\"outside\"}},\"type\":\"scatterpolargl\"}],\"scatterpolar\":[{\"marker\":{\"colorbar\":{\"outlinewidth\":1,\"tickcolor\":\"rgb(36,36,36)\",\"ticks\":\"outside\"}},\"type\":\"scatterpolar\"}],\"scatter\":[{\"fillpattern\":{\"fillmode\":\"overlay\",\"size\":10,\"solidity\":0.2},\"type\":\"scatter\"}],\"scatterternary\":[{\"marker\":{\"colorbar\":{\"outlinewidth\":1,\"tickcolor\":\"rgb(36,36,36)\",\"ticks\":\"outside\"}},\"type\":\"scatterternary\"}],\"surface\":[{\"colorbar\":{\"outlinewidth\":1,\"tickcolor\":\"rgb(36,36,36)\",\"ticks\":\"outside\"},\"colorscale\":[[0.0,\"#440154\"],[0.1111111111111111,\"#482878\"],[0.2222222222222222,\"#3e4989\"],[0.3333333333333333,\"#31688e\"],[0.4444444444444444,\"#26828e\"],[0.5555555555555556,\"#1f9e89\"],[0.6666666666666666,\"#35b779\"],[0.7777777777777778,\"#6ece58\"],[0.8888888888888888,\"#b5de2b\"],[1.0,\"#fde725\"]],\"type\":\"surface\"}],\"table\":[{\"cells\":{\"fill\":{\"color\":\"rgb(237,237,237)\"},\"line\":{\"color\":\"white\"}},\"header\":{\"fill\":{\"color\":\"rgb(217,217,217)\"},\"line\":{\"color\":\"white\"}},\"type\":\"table\"}]},\"layout\":{\"annotationdefaults\":{\"arrowhead\":0,\"arrowwidth\":1},\"autotypenumbers\":\"strict\",\"coloraxis\":{\"colorbar\":{\"outlinewidth\":1,\"tickcolor\":\"rgb(36,36,36)\",\"ticks\":\"outside\"}},\"colorscale\":{\"diverging\":[[0.0,\"rgb(103,0,31)\"],[0.1,\"rgb(178,24,43)\"],[0.2,\"rgb(214,96,77)\"],[0.3,\"rgb(244,165,130)\"],[0.4,\"rgb(253,219,199)\"],[0.5,\"rgb(247,247,247)\"],[0.6,\"rgb(209,229,240)\"],[0.7,\"rgb(146,197,222)\"],[0.8,\"rgb(67,147,195)\"],[0.9,\"rgb(33,102,172)\"],[1.0,\"rgb(5,48,97)\"]],\"sequential\":[[0.0,\"#440154\"],[0.1111111111111111,\"#482878\"],[0.2222222222222222,\"#3e4989\"],[0.3333333333333333,\"#31688e\"],[0.4444444444444444,\"#26828e\"],[0.5555555555555556,\"#1f9e89\"],[0.6666666666666666,\"#35b779\"],[0.7777777777777778,\"#6ece58\"],[0.8888888888888888,\"#b5de2b\"],[1.0,\"#fde725\"]],\"sequentialminus\":[[0.0,\"#440154\"],[0.1111111111111111,\"#482878\"],[0.2222222222222222,\"#3e4989\"],[0.3333333333333333,\"#31688e\"],[0.4444444444444444,\"#26828e\"],[0.5555555555555556,\"#1f9e89\"],[0.6666666666666666,\"#35b779\"],[0.7777777777777778,\"#6ece58\"],[0.8888888888888888,\"#b5de2b\"],[1.0,\"#fde725\"]]},\"colorway\":[\"#1F77B4\",\"#FF7F0E\",\"#2CA02C\",\"#D62728\",\"#9467BD\",\"#8C564B\",\"#E377C2\",\"#7F7F7F\",\"#BCBD22\",\"#17BECF\"],\"font\":{\"color\":\"rgb(36,36,36)\"},\"geo\":{\"bgcolor\":\"white\",\"lakecolor\":\"white\",\"landcolor\":\"white\",\"showlakes\":true,\"showland\":true,\"subunitcolor\":\"white\"},\"hoverlabel\":{\"align\":\"left\"},\"hovermode\":\"closest\",\"mapbox\":{\"style\":\"light\"},\"paper_bgcolor\":\"white\",\"plot_bgcolor\":\"white\",\"polar\":{\"angularaxis\":{\"gridcolor\":\"rgb(232,232,232)\",\"linecolor\":\"rgb(36,36,36)\",\"showgrid\":false,\"showline\":true,\"ticks\":\"outside\"},\"bgcolor\":\"white\",\"radialaxis\":{\"gridcolor\":\"rgb(232,232,232)\",\"linecolor\":\"rgb(36,36,36)\",\"showgrid\":false,\"showline\":true,\"ticks\":\"outside\"}},\"scene\":{\"xaxis\":{\"backgroundcolor\":\"white\",\"gridcolor\":\"rgb(232,232,232)\",\"gridwidth\":2,\"linecolor\":\"rgb(36,36,36)\",\"showbackground\":true,\"showgrid\":false,\"showline\":true,\"ticks\":\"outside\",\"zeroline\":false,\"zerolinecolor\":\"rgb(36,36,36)\"},\"yaxis\":{\"backgroundcolor\":\"white\",\"gridcolor\":\"rgb(232,232,232)\",\"gridwidth\":2,\"linecolor\":\"rgb(36,36,36)\",\"showbackground\":true,\"showgrid\":false,\"showline\":true,\"ticks\":\"outside\",\"zeroline\":false,\"zerolinecolor\":\"rgb(36,36,36)\"},\"zaxis\":{\"backgroundcolor\":\"white\",\"gridcolor\":\"rgb(232,232,232)\",\"gridwidth\":2,\"linecolor\":\"rgb(36,36,36)\",\"showbackground\":true,\"showgrid\":false,\"showline\":true,\"ticks\":\"outside\",\"zeroline\":false,\"zerolinecolor\":\"rgb(36,36,36)\"}},\"shapedefaults\":{\"fillcolor\":\"black\",\"line\":{\"width\":0},\"opacity\":0.3},\"ternary\":{\"aaxis\":{\"gridcolor\":\"rgb(232,232,232)\",\"linecolor\":\"rgb(36,36,36)\",\"showgrid\":false,\"showline\":true,\"ticks\":\"outside\"},\"baxis\":{\"gridcolor\":\"rgb(232,232,232)\",\"linecolor\":\"rgb(36,36,36)\",\"showgrid\":false,\"showline\":true,\"ticks\":\"outside\"},\"bgcolor\":\"white\",\"caxis\":{\"gridcolor\":\"rgb(232,232,232)\",\"linecolor\":\"rgb(36,36,36)\",\"showgrid\":false,\"showline\":true,\"ticks\":\"outside\"}},\"title\":{\"x\":0.05},\"xaxis\":{\"automargin\":true,\"gridcolor\":\"rgb(232,232,232)\",\"linecolor\":\"rgb(36,36,36)\",\"showgrid\":false,\"showline\":true,\"ticks\":\"outside\",\"title\":{\"standoff\":15},\"zeroline\":false,\"zerolinecolor\":\"rgb(36,36,36)\"},\"yaxis\":{\"automargin\":true,\"gridcolor\":\"rgb(232,232,232)\",\"linecolor\":\"rgb(36,36,36)\",\"showgrid\":false,\"showline\":true,\"ticks\":\"outside\",\"title\":{\"standoff\":15},\"zeroline\":false,\"zerolinecolor\":\"rgb(36,36,36)\"}}},\"xaxis\":{\"anchor\":\"y\",\"domain\":[0.0,0.2888888888888889]},\"yaxis\":{\"anchor\":\"x\",\"domain\":[0.0,1.0]},\"xaxis2\":{\"anchor\":\"y2\",\"domain\":[0.35555555555555557,0.6444444444444445]},\"yaxis2\":{\"anchor\":\"x2\",\"domain\":[0.0,1.0]},\"xaxis3\":{\"anchor\":\"y3\",\"domain\":[0.7111111111111111,1.0]},\"yaxis3\":{\"anchor\":\"x3\",\"domain\":[0.0,1.0]},\"annotations\":[{\"font\":{\"size\":16},\"showarrow\":false,\"text\":\"Accuracy\",\"x\":0.14444444444444446,\"xanchor\":\"center\",\"xref\":\"paper\",\"y\":1.0,\"yanchor\":\"bottom\",\"yref\":\"paper\"},{\"font\":{\"size\":16},\"showarrow\":false,\"text\":\"Weighted Avg\",\"x\":0.5,\"xanchor\":\"center\",\"xref\":\"paper\",\"y\":1.0,\"yanchor\":\"bottom\",\"yref\":\"paper\"},{\"font\":{\"size\":16},\"showarrow\":false,\"text\":\"Macro Avg\",\"x\":0.8555555555555556,\"xanchor\":\"center\",\"xref\":\"paper\",\"y\":1.0,\"yanchor\":\"bottom\",\"yref\":\"paper\"}],\"title\":{\"text\":\"Classifier Performance Comparison\"},\"showlegend\":false,\"height\":400,\"width\":800},                        {\"responsive\": true}                    ).then(function(){\n",
       "                            \n",
       "var gd = document.getElementById('78043868-b13d-4385-ba55-35a9a4ac3371');\n",
       "var x = new MutationObserver(function (mutations, observer) {{\n",
       "        var display = window.getComputedStyle(gd).display;\n",
       "        if (!display || display === 'none') {{\n",
       "            console.log([gd, 'removed!']);\n",
       "            Plotly.purge(gd);\n",
       "            observer.disconnect();\n",
       "        }}\n",
       "}});\n",
       "\n",
       "// Listen for the removal of the full notebook cells\n",
       "var notebookContainer = gd.closest('#notebook-container');\n",
       "if (notebookContainer) {{\n",
       "    x.observe(notebookContainer, {childList: true});\n",
       "}}\n",
       "\n",
       "// Listen for the clearing of the current output cell\n",
       "var outputEl = gd.closest('.output');\n",
       "if (outputEl) {{\n",
       "    x.observe(outputEl, {childList: true});\n",
       "}}\n",
       "\n",
       "                        })                };                });            </script>        </div>"
      ]
     },
     "metadata": {},
     "output_type": "display_data"
    }
   ],
   "source": [
    "import plotly.graph_objects as go\n",
    "from plotly.subplots import make_subplots\n",
    "\n",
    "# Sample accuracy, weighted average, and macro average values (replace with your actual data)\n",
    "classifiers = ['Decision Tree w/ GR', 'Decision Tree w/ GI', 'Naive Bayes', 'ANN']\n",
    "accuracy_values = [0.969653, 0.969653, 0.699422, 0.969653]\n",
    "weighted_average = [0.970272, 0.970837,0.704546, 0.970272 ]  # Replace with actual weighted average\n",
    "macro_average = [0.892318,0.893469,0.478811, 0.892318 ]  # Replace with actual macro average\n",
    "\n",
    "# Create subplots\n",
    "fig = make_subplots(rows=1, cols=3, subplot_titles=['Accuracy', 'Weighted Avg', 'Macro Avg'])\n",
    "\n",
    "# Create Scatter trace for Accuracy\n",
    "trace_accuracy = go.Bar(\n",
    "    x=classifiers,\n",
    "    y=accuracy_values,\n",
    "    # mode='markers+lines',\n",
    "    marker=dict(color='darkgray'),\n",
    "    # line=dict(color='black', width=2),\n",
    "    text=['Accuracy: {:.2%}'.format(acc) for acc in accuracy_values],\n",
    "\n",
    "    hoverinfo='text'\n",
    ")\n",
    "\n",
    "# Create Bar trace for Weighted Average\n",
    "trace_weighted_average = go.Bar(\n",
    "    x=classifiers,\n",
    "    y=weighted_average,\n",
    "    marker=dict(color='darkgray'),\n",
    "    text=['Weighted Avg: {:.2%}'.format(w) for w in weighted_average],\n",
    "    hoverinfo='text'\n",
    ")\n",
    "\n",
    "# Create Bar trace for Macro Average\n",
    "trace_macro_average = go.Bar(\n",
    "    x=classifiers,\n",
    "    y=macro_average,\n",
    "    marker=dict(color='darkgray'),\n",
    "    text=['Macro Avg: {:.2%}'.format(m) for m in macro_average],\n",
    "    hoverinfo='text'\n",
    ")\n",
    "\n",
    "# Add traces to subplots\n",
    "fig.add_trace(trace_accuracy, row=1, col=1)\n",
    "fig.add_trace(trace_weighted_average, row=1, col=2)\n",
    "fig.add_trace(trace_macro_average, row=1, col=3)\n",
    "\n",
    "# Update layout\n",
    "fig.update_layout(\n",
    "    title='Classifier Performance Comparison',\n",
    "    showlegend=False,\n",
    "    height=400,\n",
    "    width=800,\n",
    "    template = 'simple_white'\n",
    ")\n",
    "\n",
    "# Show the figure\n",
    "fig.show()\n"
   ]
  },
  {
   "cell_type": "code",
   "execution_count": 93,
   "metadata": {
    "colab": {
     "base_uri": "https://localhost:8080/",
     "height": 542
    },
    "executionInfo": {
     "elapsed": 804,
     "status": "ok",
     "timestamp": 1702917488957,
     "user": {
      "displayName": "Hitesh Kayastha",
      "userId": "08602966089512209356"
     },
     "user_tz": -345
    },
    "id": "lf_MF777qL2y",
    "outputId": "7fe65e02-e74c-4077-bc34-eca659b59c6f"
   },
   "outputs": [
    {
     "data": {
      "application/vnd.plotly.v1+json": {
       "config": {
        "plotlyServerURL": "https://plot.ly"
       },
       "data": [
        {
         "marker": {
          "color": "white",
          "line": {
           "color": "black",
           "width": 2
          },
          "pattern": {
           "shape": "x"
          }
         },
         "name": "Decision Tree using Gain Ratio",
         "type": "bar",
         "x": [
          "unacc",
          "acc",
          "good",
          "vgood"
         ],
         "y": [
          0.9958246346555325,
          0.948051948051948,
          0.8253968253968255,
          0.7999999999999999
         ]
        },
        {
         "marker": {
          "color": "white",
          "line": {
           "color": "black",
           "width": 2
          },
          "pattern": {
           "shape": "/"
          }
         },
         "name": "Decision Tree using Gini Index",
         "type": "bar",
         "x": [
          "unacc",
          "acc",
          "good",
          "vgood"
         ],
         "y": [
          0.9958246346555325,
          0.943894389438944,
          0.787878787878788,
          0.8421052631578948
         ]
        },
        {
         "marker": {
          "color": "white",
          "line": {
           "color": "black",
           "width": 2
          },
          "pattern": {
           "shape": "|"
          }
         },
         "name": "Naive Bayes",
         "type": "bar",
         "x": [
          "unacc",
          "acc",
          "good",
          "vgood"
         ],
         "y": [
          0.8658280922431866,
          0.33175355450236965,
          0.4090909090909091,
          0.30857142857142855
         ]
        },
        {
         "marker": {
          "color": "white",
          "line": {
           "color": "black",
           "width": 2
          },
          "pattern": {
           "shape": "+"
          }
         },
         "name": "ANN",
         "type": "bar",
         "x": [
          "unacc",
          "acc",
          "good",
          "vgood"
         ],
         "y": [
          0.975051975051975,
          0.8967741935483873,
          0.8928571428571429,
          0.8571428571428572
         ]
        }
       ],
       "layout": {
        "autosize": true,
        "template": {
         "data": {
          "bar": [
           {
            "error_x": {
             "color": "rgb(36,36,36)"
            },
            "error_y": {
             "color": "rgb(36,36,36)"
            },
            "marker": {
             "line": {
              "color": "white",
              "width": 0.5
             },
             "pattern": {
              "fillmode": "overlay",
              "size": 10,
              "solidity": 0.2
             }
            },
            "type": "bar"
           }
          ],
          "barpolar": [
           {
            "marker": {
             "line": {
              "color": "white",
              "width": 0.5
             },
             "pattern": {
              "fillmode": "overlay",
              "size": 10,
              "solidity": 0.2
             }
            },
            "type": "barpolar"
           }
          ],
          "carpet": [
           {
            "aaxis": {
             "endlinecolor": "rgb(36,36,36)",
             "gridcolor": "white",
             "linecolor": "white",
             "minorgridcolor": "white",
             "startlinecolor": "rgb(36,36,36)"
            },
            "baxis": {
             "endlinecolor": "rgb(36,36,36)",
             "gridcolor": "white",
             "linecolor": "white",
             "minorgridcolor": "white",
             "startlinecolor": "rgb(36,36,36)"
            },
            "type": "carpet"
           }
          ],
          "choropleth": [
           {
            "colorbar": {
             "outlinewidth": 1,
             "tickcolor": "rgb(36,36,36)",
             "ticks": "outside"
            },
            "type": "choropleth"
           }
          ],
          "contour": [
           {
            "colorbar": {
             "outlinewidth": 1,
             "tickcolor": "rgb(36,36,36)",
             "ticks": "outside"
            },
            "colorscale": [
             [
              0,
              "#440154"
             ],
             [
              0.1111111111111111,
              "#482878"
             ],
             [
              0.2222222222222222,
              "#3e4989"
             ],
             [
              0.3333333333333333,
              "#31688e"
             ],
             [
              0.4444444444444444,
              "#26828e"
             ],
             [
              0.5555555555555556,
              "#1f9e89"
             ],
             [
              0.6666666666666666,
              "#35b779"
             ],
             [
              0.7777777777777778,
              "#6ece58"
             ],
             [
              0.8888888888888888,
              "#b5de2b"
             ],
             [
              1,
              "#fde725"
             ]
            ],
            "type": "contour"
           }
          ],
          "contourcarpet": [
           {
            "colorbar": {
             "outlinewidth": 1,
             "tickcolor": "rgb(36,36,36)",
             "ticks": "outside"
            },
            "type": "contourcarpet"
           }
          ],
          "heatmap": [
           {
            "colorbar": {
             "outlinewidth": 1,
             "tickcolor": "rgb(36,36,36)",
             "ticks": "outside"
            },
            "colorscale": [
             [
              0,
              "#440154"
             ],
             [
              0.1111111111111111,
              "#482878"
             ],
             [
              0.2222222222222222,
              "#3e4989"
             ],
             [
              0.3333333333333333,
              "#31688e"
             ],
             [
              0.4444444444444444,
              "#26828e"
             ],
             [
              0.5555555555555556,
              "#1f9e89"
             ],
             [
              0.6666666666666666,
              "#35b779"
             ],
             [
              0.7777777777777778,
              "#6ece58"
             ],
             [
              0.8888888888888888,
              "#b5de2b"
             ],
             [
              1,
              "#fde725"
             ]
            ],
            "type": "heatmap"
           }
          ],
          "heatmapgl": [
           {
            "colorbar": {
             "outlinewidth": 1,
             "tickcolor": "rgb(36,36,36)",
             "ticks": "outside"
            },
            "colorscale": [
             [
              0,
              "#440154"
             ],
             [
              0.1111111111111111,
              "#482878"
             ],
             [
              0.2222222222222222,
              "#3e4989"
             ],
             [
              0.3333333333333333,
              "#31688e"
             ],
             [
              0.4444444444444444,
              "#26828e"
             ],
             [
              0.5555555555555556,
              "#1f9e89"
             ],
             [
              0.6666666666666666,
              "#35b779"
             ],
             [
              0.7777777777777778,
              "#6ece58"
             ],
             [
              0.8888888888888888,
              "#b5de2b"
             ],
             [
              1,
              "#fde725"
             ]
            ],
            "type": "heatmapgl"
           }
          ],
          "histogram": [
           {
            "marker": {
             "line": {
              "color": "white",
              "width": 0.6
             }
            },
            "type": "histogram"
           }
          ],
          "histogram2d": [
           {
            "colorbar": {
             "outlinewidth": 1,
             "tickcolor": "rgb(36,36,36)",
             "ticks": "outside"
            },
            "colorscale": [
             [
              0,
              "#440154"
             ],
             [
              0.1111111111111111,
              "#482878"
             ],
             [
              0.2222222222222222,
              "#3e4989"
             ],
             [
              0.3333333333333333,
              "#31688e"
             ],
             [
              0.4444444444444444,
              "#26828e"
             ],
             [
              0.5555555555555556,
              "#1f9e89"
             ],
             [
              0.6666666666666666,
              "#35b779"
             ],
             [
              0.7777777777777778,
              "#6ece58"
             ],
             [
              0.8888888888888888,
              "#b5de2b"
             ],
             [
              1,
              "#fde725"
             ]
            ],
            "type": "histogram2d"
           }
          ],
          "histogram2dcontour": [
           {
            "colorbar": {
             "outlinewidth": 1,
             "tickcolor": "rgb(36,36,36)",
             "ticks": "outside"
            },
            "colorscale": [
             [
              0,
              "#440154"
             ],
             [
              0.1111111111111111,
              "#482878"
             ],
             [
              0.2222222222222222,
              "#3e4989"
             ],
             [
              0.3333333333333333,
              "#31688e"
             ],
             [
              0.4444444444444444,
              "#26828e"
             ],
             [
              0.5555555555555556,
              "#1f9e89"
             ],
             [
              0.6666666666666666,
              "#35b779"
             ],
             [
              0.7777777777777778,
              "#6ece58"
             ],
             [
              0.8888888888888888,
              "#b5de2b"
             ],
             [
              1,
              "#fde725"
             ]
            ],
            "type": "histogram2dcontour"
           }
          ],
          "mesh3d": [
           {
            "colorbar": {
             "outlinewidth": 1,
             "tickcolor": "rgb(36,36,36)",
             "ticks": "outside"
            },
            "type": "mesh3d"
           }
          ],
          "parcoords": [
           {
            "line": {
             "colorbar": {
              "outlinewidth": 1,
              "tickcolor": "rgb(36,36,36)",
              "ticks": "outside"
             }
            },
            "type": "parcoords"
           }
          ],
          "pie": [
           {
            "automargin": true,
            "type": "pie"
           }
          ],
          "scatter": [
           {
            "fillpattern": {
             "fillmode": "overlay",
             "size": 10,
             "solidity": 0.2
            },
            "type": "scatter"
           }
          ],
          "scatter3d": [
           {
            "line": {
             "colorbar": {
              "outlinewidth": 1,
              "tickcolor": "rgb(36,36,36)",
              "ticks": "outside"
             }
            },
            "marker": {
             "colorbar": {
              "outlinewidth": 1,
              "tickcolor": "rgb(36,36,36)",
              "ticks": "outside"
             }
            },
            "type": "scatter3d"
           }
          ],
          "scattercarpet": [
           {
            "marker": {
             "colorbar": {
              "outlinewidth": 1,
              "tickcolor": "rgb(36,36,36)",
              "ticks": "outside"
             }
            },
            "type": "scattercarpet"
           }
          ],
          "scattergeo": [
           {
            "marker": {
             "colorbar": {
              "outlinewidth": 1,
              "tickcolor": "rgb(36,36,36)",
              "ticks": "outside"
             }
            },
            "type": "scattergeo"
           }
          ],
          "scattergl": [
           {
            "marker": {
             "colorbar": {
              "outlinewidth": 1,
              "tickcolor": "rgb(36,36,36)",
              "ticks": "outside"
             }
            },
            "type": "scattergl"
           }
          ],
          "scattermapbox": [
           {
            "marker": {
             "colorbar": {
              "outlinewidth": 1,
              "tickcolor": "rgb(36,36,36)",
              "ticks": "outside"
             }
            },
            "type": "scattermapbox"
           }
          ],
          "scatterpolar": [
           {
            "marker": {
             "colorbar": {
              "outlinewidth": 1,
              "tickcolor": "rgb(36,36,36)",
              "ticks": "outside"
             }
            },
            "type": "scatterpolar"
           }
          ],
          "scatterpolargl": [
           {
            "marker": {
             "colorbar": {
              "outlinewidth": 1,
              "tickcolor": "rgb(36,36,36)",
              "ticks": "outside"
             }
            },
            "type": "scatterpolargl"
           }
          ],
          "scatterternary": [
           {
            "marker": {
             "colorbar": {
              "outlinewidth": 1,
              "tickcolor": "rgb(36,36,36)",
              "ticks": "outside"
             }
            },
            "type": "scatterternary"
           }
          ],
          "surface": [
           {
            "colorbar": {
             "outlinewidth": 1,
             "tickcolor": "rgb(36,36,36)",
             "ticks": "outside"
            },
            "colorscale": [
             [
              0,
              "#440154"
             ],
             [
              0.1111111111111111,
              "#482878"
             ],
             [
              0.2222222222222222,
              "#3e4989"
             ],
             [
              0.3333333333333333,
              "#31688e"
             ],
             [
              0.4444444444444444,
              "#26828e"
             ],
             [
              0.5555555555555556,
              "#1f9e89"
             ],
             [
              0.6666666666666666,
              "#35b779"
             ],
             [
              0.7777777777777778,
              "#6ece58"
             ],
             [
              0.8888888888888888,
              "#b5de2b"
             ],
             [
              1,
              "#fde725"
             ]
            ],
            "type": "surface"
           }
          ],
          "table": [
           {
            "cells": {
             "fill": {
              "color": "rgb(237,237,237)"
             },
             "line": {
              "color": "white"
             }
            },
            "header": {
             "fill": {
              "color": "rgb(217,217,217)"
             },
             "line": {
              "color": "white"
             }
            },
            "type": "table"
           }
          ]
         },
         "layout": {
          "annotationdefaults": {
           "arrowhead": 0,
           "arrowwidth": 1
          },
          "autotypenumbers": "strict",
          "coloraxis": {
           "colorbar": {
            "outlinewidth": 1,
            "tickcolor": "rgb(36,36,36)",
            "ticks": "outside"
           }
          },
          "colorscale": {
           "diverging": [
            [
             0,
             "rgb(103,0,31)"
            ],
            [
             0.1,
             "rgb(178,24,43)"
            ],
            [
             0.2,
             "rgb(214,96,77)"
            ],
            [
             0.3,
             "rgb(244,165,130)"
            ],
            [
             0.4,
             "rgb(253,219,199)"
            ],
            [
             0.5,
             "rgb(247,247,247)"
            ],
            [
             0.6,
             "rgb(209,229,240)"
            ],
            [
             0.7,
             "rgb(146,197,222)"
            ],
            [
             0.8,
             "rgb(67,147,195)"
            ],
            [
             0.9,
             "rgb(33,102,172)"
            ],
            [
             1,
             "rgb(5,48,97)"
            ]
           ],
           "sequential": [
            [
             0,
             "#440154"
            ],
            [
             0.1111111111111111,
             "#482878"
            ],
            [
             0.2222222222222222,
             "#3e4989"
            ],
            [
             0.3333333333333333,
             "#31688e"
            ],
            [
             0.4444444444444444,
             "#26828e"
            ],
            [
             0.5555555555555556,
             "#1f9e89"
            ],
            [
             0.6666666666666666,
             "#35b779"
            ],
            [
             0.7777777777777778,
             "#6ece58"
            ],
            [
             0.8888888888888888,
             "#b5de2b"
            ],
            [
             1,
             "#fde725"
            ]
           ],
           "sequentialminus": [
            [
             0,
             "#440154"
            ],
            [
             0.1111111111111111,
             "#482878"
            ],
            [
             0.2222222222222222,
             "#3e4989"
            ],
            [
             0.3333333333333333,
             "#31688e"
            ],
            [
             0.4444444444444444,
             "#26828e"
            ],
            [
             0.5555555555555556,
             "#1f9e89"
            ],
            [
             0.6666666666666666,
             "#35b779"
            ],
            [
             0.7777777777777778,
             "#6ece58"
            ],
            [
             0.8888888888888888,
             "#b5de2b"
            ],
            [
             1,
             "#fde725"
            ]
           ]
          },
          "colorway": [
           "#1F77B4",
           "#FF7F0E",
           "#2CA02C",
           "#D62728",
           "#9467BD",
           "#8C564B",
           "#E377C2",
           "#7F7F7F",
           "#BCBD22",
           "#17BECF"
          ],
          "font": {
           "color": "rgb(36,36,36)"
          },
          "geo": {
           "bgcolor": "white",
           "lakecolor": "white",
           "landcolor": "white",
           "showlakes": true,
           "showland": true,
           "subunitcolor": "white"
          },
          "hoverlabel": {
           "align": "left"
          },
          "hovermode": "closest",
          "mapbox": {
           "style": "light"
          },
          "paper_bgcolor": "white",
          "plot_bgcolor": "white",
          "polar": {
           "angularaxis": {
            "gridcolor": "rgb(232,232,232)",
            "linecolor": "rgb(36,36,36)",
            "showgrid": false,
            "showline": true,
            "ticks": "outside"
           },
           "bgcolor": "white",
           "radialaxis": {
            "gridcolor": "rgb(232,232,232)",
            "linecolor": "rgb(36,36,36)",
            "showgrid": false,
            "showline": true,
            "ticks": "outside"
           }
          },
          "scene": {
           "xaxis": {
            "backgroundcolor": "white",
            "gridcolor": "rgb(232,232,232)",
            "gridwidth": 2,
            "linecolor": "rgb(36,36,36)",
            "showbackground": true,
            "showgrid": false,
            "showline": true,
            "ticks": "outside",
            "zeroline": false,
            "zerolinecolor": "rgb(36,36,36)"
           },
           "yaxis": {
            "backgroundcolor": "white",
            "gridcolor": "rgb(232,232,232)",
            "gridwidth": 2,
            "linecolor": "rgb(36,36,36)",
            "showbackground": true,
            "showgrid": false,
            "showline": true,
            "ticks": "outside",
            "zeroline": false,
            "zerolinecolor": "rgb(36,36,36)"
           },
           "zaxis": {
            "backgroundcolor": "white",
            "gridcolor": "rgb(232,232,232)",
            "gridwidth": 2,
            "linecolor": "rgb(36,36,36)",
            "showbackground": true,
            "showgrid": false,
            "showline": true,
            "ticks": "outside",
            "zeroline": false,
            "zerolinecolor": "rgb(36,36,36)"
           }
          },
          "shapedefaults": {
           "fillcolor": "black",
           "line": {
            "width": 0
           },
           "opacity": 0.3
          },
          "ternary": {
           "aaxis": {
            "gridcolor": "rgb(232,232,232)",
            "linecolor": "rgb(36,36,36)",
            "showgrid": false,
            "showline": true,
            "ticks": "outside"
           },
           "baxis": {
            "gridcolor": "rgb(232,232,232)",
            "linecolor": "rgb(36,36,36)",
            "showgrid": false,
            "showline": true,
            "ticks": "outside"
           },
           "bgcolor": "white",
           "caxis": {
            "gridcolor": "rgb(232,232,232)",
            "linecolor": "rgb(36,36,36)",
            "showgrid": false,
            "showline": true,
            "ticks": "outside"
           }
          },
          "title": {
           "x": 0.05
          },
          "xaxis": {
           "automargin": true,
           "gridcolor": "rgb(232,232,232)",
           "linecolor": "rgb(36,36,36)",
           "showgrid": false,
           "showline": true,
           "ticks": "outside",
           "title": {
            "standoff": 15
           },
           "zeroline": false,
           "zerolinecolor": "rgb(36,36,36)"
          },
          "yaxis": {
           "automargin": true,
           "gridcolor": "rgb(232,232,232)",
           "linecolor": "rgb(36,36,36)",
           "showgrid": false,
           "showline": true,
           "ticks": "outside",
           "title": {
            "standoff": 15
           },
           "zeroline": false,
           "zerolinecolor": "rgb(36,36,36)"
          }
         }
        },
        "title": {
         "text": "F1-Score Comparison Across Classifiers"
        },
        "xaxis": {
         "autorange": true,
         "range": [
          -0.5,
          3.5
         ],
         "title": {
          "text": "Car Evaluation Classes"
         },
         "type": "category"
        },
        "yaxis": {
         "autorange": true,
         "range": [
          0,
          1.0482364575321395
         ],
         "title": {
          "text": "F1-Score"
         },
         "type": "linear"
        }
       }
      },
      "image/png": "[encoded data removed]",
      "text/html": [
       "<div>                            <div id=\"e9f2be2a-4b60-4107-930c-ccb7da428098\" class=\"plotly-graph-div\" style=\"height:525px; width:100%;\"></div>            <script type=\"text/javascript\">                require([\"plotly\"], function(Plotly) {                    window.PLOTLYENV=window.PLOTLYENV || {};                                    if (document.getElementById(\"e9f2be2a-4b60-4107-930c-ccb7da428098\")) {                    Plotly.newPlot(                        \"e9f2be2a-4b60-4107-930c-ccb7da428098\",                        [{\"marker\":{\"color\":\"white\",\"line\":{\"color\":\"black\",\"width\":2},\"pattern\":{\"shape\":\"x\"}},\"name\":\"Decision Tree using Gain Ratio\",\"x\":[\"unacc\",\"acc\",\"good\",\"vgood\"],\"y\":[0.9958246346555325,0.948051948051948,0.8253968253968255,0.7999999999999999],\"type\":\"bar\"},{\"marker\":{\"color\":\"white\",\"line\":{\"color\":\"black\",\"width\":2},\"pattern\":{\"shape\":\"/\"}},\"name\":\"Decision Tree using Gini Index\",\"x\":[\"unacc\",\"acc\",\"good\",\"vgood\"],\"y\":[0.9958246346555325,0.943894389438944,0.787878787878788,0.8421052631578948],\"type\":\"bar\"},{\"marker\":{\"color\":\"white\",\"line\":{\"color\":\"black\",\"width\":2},\"pattern\":{\"shape\":\"|\"}},\"name\":\"Naive Bayes\",\"x\":[\"unacc\",\"acc\",\"good\",\"vgood\"],\"y\":[0.8658280922431866,0.33175355450236965,0.4090909090909091,0.30857142857142855],\"type\":\"bar\"},{\"marker\":{\"color\":\"white\",\"line\":{\"color\":\"black\",\"width\":2},\"pattern\":{\"shape\":\"+\"}},\"name\":\"ANN\",\"x\":[\"unacc\",\"acc\",\"good\",\"vgood\"],\"y\":[0.975051975051975,0.8967741935483873,0.8928571428571429,0.8571428571428572],\"type\":\"bar\"}],                        {\"template\":{\"data\":{\"barpolar\":[{\"marker\":{\"line\":{\"color\":\"white\",\"width\":0.5},\"pattern\":{\"fillmode\":\"overlay\",\"size\":10,\"solidity\":0.2}},\"type\":\"barpolar\"}],\"bar\":[{\"error_x\":{\"color\":\"rgb(36,36,36)\"},\"error_y\":{\"color\":\"rgb(36,36,36)\"},\"marker\":{\"line\":{\"color\":\"white\",\"width\":0.5},\"pattern\":{\"fillmode\":\"overlay\",\"size\":10,\"solidity\":0.2}},\"type\":\"bar\"}],\"carpet\":[{\"aaxis\":{\"endlinecolor\":\"rgb(36,36,36)\",\"gridcolor\":\"white\",\"linecolor\":\"white\",\"minorgridcolor\":\"white\",\"startlinecolor\":\"rgb(36,36,36)\"},\"baxis\":{\"endlinecolor\":\"rgb(36,36,36)\",\"gridcolor\":\"white\",\"linecolor\":\"white\",\"minorgridcolor\":\"white\",\"startlinecolor\":\"rgb(36,36,36)\"},\"type\":\"carpet\"}],\"choropleth\":[{\"colorbar\":{\"outlinewidth\":1,\"tickcolor\":\"rgb(36,36,36)\",\"ticks\":\"outside\"},\"type\":\"choropleth\"}],\"contourcarpet\":[{\"colorbar\":{\"outlinewidth\":1,\"tickcolor\":\"rgb(36,36,36)\",\"ticks\":\"outside\"},\"type\":\"contourcarpet\"}],\"contour\":[{\"colorbar\":{\"outlinewidth\":1,\"tickcolor\":\"rgb(36,36,36)\",\"ticks\":\"outside\"},\"colorscale\":[[0.0,\"#440154\"],[0.1111111111111111,\"#482878\"],[0.2222222222222222,\"#3e4989\"],[0.3333333333333333,\"#31688e\"],[0.4444444444444444,\"#26828e\"],[0.5555555555555556,\"#1f9e89\"],[0.6666666666666666,\"#35b779\"],[0.7777777777777778,\"#6ece58\"],[0.8888888888888888,\"#b5de2b\"],[1.0,\"#fde725\"]],\"type\":\"contour\"}],\"heatmapgl\":[{\"colorbar\":{\"outlinewidth\":1,\"tickcolor\":\"rgb(36,36,36)\",\"ticks\":\"outside\"},\"colorscale\":[[0.0,\"#440154\"],[0.1111111111111111,\"#482878\"],[0.2222222222222222,\"#3e4989\"],[0.3333333333333333,\"#31688e\"],[0.4444444444444444,\"#26828e\"],[0.5555555555555556,\"#1f9e89\"],[0.6666666666666666,\"#35b779\"],[0.7777777777777778,\"#6ece58\"],[0.8888888888888888,\"#b5de2b\"],[1.0,\"#fde725\"]],\"type\":\"heatmapgl\"}],\"heatmap\":[{\"colorbar\":{\"outlinewidth\":1,\"tickcolor\":\"rgb(36,36,36)\",\"ticks\":\"outside\"},\"colorscale\":[[0.0,\"#440154\"],[0.1111111111111111,\"#482878\"],[0.2222222222222222,\"#3e4989\"],[0.3333333333333333,\"#31688e\"],[0.4444444444444444,\"#26828e\"],[0.5555555555555556,\"#1f9e89\"],[0.6666666666666666,\"#35b779\"],[0.7777777777777778,\"#6ece58\"],[0.8888888888888888,\"#b5de2b\"],[1.0,\"#fde725\"]],\"type\":\"heatmap\"}],\"histogram2dcontour\":[{\"colorbar\":{\"outlinewidth\":1,\"tickcolor\":\"rgb(36,36,36)\",\"ticks\":\"outside\"},\"colorscale\":[[0.0,\"#440154\"],[0.1111111111111111,\"#482878\"],[0.2222222222222222,\"#3e4989\"],[0.3333333333333333,\"#31688e\"],[0.4444444444444444,\"#26828e\"],[0.5555555555555556,\"#1f9e89\"],[0.6666666666666666,\"#35b779\"],[0.7777777777777778,\"#6ece58\"],[0.8888888888888888,\"#b5de2b\"],[1.0,\"#fde725\"]],\"type\":\"histogram2dcontour\"}],\"histogram2d\":[{\"colorbar\":{\"outlinewidth\":1,\"tickcolor\":\"rgb(36,36,36)\",\"ticks\":\"outside\"},\"colorscale\":[[0.0,\"#440154\"],[0.1111111111111111,\"#482878\"],[0.2222222222222222,\"#3e4989\"],[0.3333333333333333,\"#31688e\"],[0.4444444444444444,\"#26828e\"],[0.5555555555555556,\"#1f9e89\"],[0.6666666666666666,\"#35b779\"],[0.7777777777777778,\"#6ece58\"],[0.8888888888888888,\"#b5de2b\"],[1.0,\"#fde725\"]],\"type\":\"histogram2d\"}],\"histogram\":[{\"marker\":{\"line\":{\"color\":\"white\",\"width\":0.6}},\"type\":\"histogram\"}],\"mesh3d\":[{\"colorbar\":{\"outlinewidth\":1,\"tickcolor\":\"rgb(36,36,36)\",\"ticks\":\"outside\"},\"type\":\"mesh3d\"}],\"parcoords\":[{\"line\":{\"colorbar\":{\"outlinewidth\":1,\"tickcolor\":\"rgb(36,36,36)\",\"ticks\":\"outside\"}},\"type\":\"parcoords\"}],\"pie\":[{\"automargin\":true,\"type\":\"pie\"}],\"scatter3d\":[{\"line\":{\"colorbar\":{\"outlinewidth\":1,\"tickcolor\":\"rgb(36,36,36)\",\"ticks\":\"outside\"}},\"marker\":{\"colorbar\":{\"outlinewidth\":1,\"tickcolor\":\"rgb(36,36,36)\",\"ticks\":\"outside\"}},\"type\":\"scatter3d\"}],\"scattercarpet\":[{\"marker\":{\"colorbar\":{\"outlinewidth\":1,\"tickcolor\":\"rgb(36,36,36)\",\"ticks\":\"outside\"}},\"type\":\"scattercarpet\"}],\"scattergeo\":[{\"marker\":{\"colorbar\":{\"outlinewidth\":1,\"tickcolor\":\"rgb(36,36,36)\",\"ticks\":\"outside\"}},\"type\":\"scattergeo\"}],\"scattergl\":[{\"marker\":{\"colorbar\":{\"outlinewidth\":1,\"tickcolor\":\"rgb(36,36,36)\",\"ticks\":\"outside\"}},\"type\":\"scattergl\"}],\"scattermapbox\":[{\"marker\":{\"colorbar\":{\"outlinewidth\":1,\"tickcolor\":\"rgb(36,36,36)\",\"ticks\":\"outside\"}},\"type\":\"scattermapbox\"}],\"scatterpolargl\":[{\"marker\":{\"colorbar\":{\"outlinewidth\":1,\"tickcolor\":\"rgb(36,36,36)\",\"ticks\":\"outside\"}},\"type\":\"scatterpolargl\"}],\"scatterpolar\":[{\"marker\":{\"colorbar\":{\"outlinewidth\":1,\"tickcolor\":\"rgb(36,36,36)\",\"ticks\":\"outside\"}},\"type\":\"scatterpolar\"}],\"scatter\":[{\"fillpattern\":{\"fillmode\":\"overlay\",\"size\":10,\"solidity\":0.2},\"type\":\"scatter\"}],\"scatterternary\":[{\"marker\":{\"colorbar\":{\"outlinewidth\":1,\"tickcolor\":\"rgb(36,36,36)\",\"ticks\":\"outside\"}},\"type\":\"scatterternary\"}],\"surface\":[{\"colorbar\":{\"outlinewidth\":1,\"tickcolor\":\"rgb(36,36,36)\",\"ticks\":\"outside\"},\"colorscale\":[[0.0,\"#440154\"],[0.1111111111111111,\"#482878\"],[0.2222222222222222,\"#3e4989\"],[0.3333333333333333,\"#31688e\"],[0.4444444444444444,\"#26828e\"],[0.5555555555555556,\"#1f9e89\"],[0.6666666666666666,\"#35b779\"],[0.7777777777777778,\"#6ece58\"],[0.8888888888888888,\"#b5de2b\"],[1.0,\"#fde725\"]],\"type\":\"surface\"}],\"table\":[{\"cells\":{\"fill\":{\"color\":\"rgb(237,237,237)\"},\"line\":{\"color\":\"white\"}},\"header\":{\"fill\":{\"color\":\"rgb(217,217,217)\"},\"line\":{\"color\":\"white\"}},\"type\":\"table\"}]},\"layout\":{\"annotationdefaults\":{\"arrowhead\":0,\"arrowwidth\":1},\"autotypenumbers\":\"strict\",\"coloraxis\":{\"colorbar\":{\"outlinewidth\":1,\"tickcolor\":\"rgb(36,36,36)\",\"ticks\":\"outside\"}},\"colorscale\":{\"diverging\":[[0.0,\"rgb(103,0,31)\"],[0.1,\"rgb(178,24,43)\"],[0.2,\"rgb(214,96,77)\"],[0.3,\"rgb(244,165,130)\"],[0.4,\"rgb(253,219,199)\"],[0.5,\"rgb(247,247,247)\"],[0.6,\"rgb(209,229,240)\"],[0.7,\"rgb(146,197,222)\"],[0.8,\"rgb(67,147,195)\"],[0.9,\"rgb(33,102,172)\"],[1.0,\"rgb(5,48,97)\"]],\"sequential\":[[0.0,\"#440154\"],[0.1111111111111111,\"#482878\"],[0.2222222222222222,\"#3e4989\"],[0.3333333333333333,\"#31688e\"],[0.4444444444444444,\"#26828e\"],[0.5555555555555556,\"#1f9e89\"],[0.6666666666666666,\"#35b779\"],[0.7777777777777778,\"#6ece58\"],[0.8888888888888888,\"#b5de2b\"],[1.0,\"#fde725\"]],\"sequentialminus\":[[0.0,\"#440154\"],[0.1111111111111111,\"#482878\"],[0.2222222222222222,\"#3e4989\"],[0.3333333333333333,\"#31688e\"],[0.4444444444444444,\"#26828e\"],[0.5555555555555556,\"#1f9e89\"],[0.6666666666666666,\"#35b779\"],[0.7777777777777778,\"#6ece58\"],[0.8888888888888888,\"#b5de2b\"],[1.0,\"#fde725\"]]},\"colorway\":[\"#1F77B4\",\"#FF7F0E\",\"#2CA02C\",\"#D62728\",\"#9467BD\",\"#8C564B\",\"#E377C2\",\"#7F7F7F\",\"#BCBD22\",\"#17BECF\"],\"font\":{\"color\":\"rgb(36,36,36)\"},\"geo\":{\"bgcolor\":\"white\",\"lakecolor\":\"white\",\"landcolor\":\"white\",\"showlakes\":true,\"showland\":true,\"subunitcolor\":\"white\"},\"hoverlabel\":{\"align\":\"left\"},\"hovermode\":\"closest\",\"mapbox\":{\"style\":\"light\"},\"paper_bgcolor\":\"white\",\"plot_bgcolor\":\"white\",\"polar\":{\"angularaxis\":{\"gridcolor\":\"rgb(232,232,232)\",\"linecolor\":\"rgb(36,36,36)\",\"showgrid\":false,\"showline\":true,\"ticks\":\"outside\"},\"bgcolor\":\"white\",\"radialaxis\":{\"gridcolor\":\"rgb(232,232,232)\",\"linecolor\":\"rgb(36,36,36)\",\"showgrid\":false,\"showline\":true,\"ticks\":\"outside\"}},\"scene\":{\"xaxis\":{\"backgroundcolor\":\"white\",\"gridcolor\":\"rgb(232,232,232)\",\"gridwidth\":2,\"linecolor\":\"rgb(36,36,36)\",\"showbackground\":true,\"showgrid\":false,\"showline\":true,\"ticks\":\"outside\",\"zeroline\":false,\"zerolinecolor\":\"rgb(36,36,36)\"},\"yaxis\":{\"backgroundcolor\":\"white\",\"gridcolor\":\"rgb(232,232,232)\",\"gridwidth\":2,\"linecolor\":\"rgb(36,36,36)\",\"showbackground\":true,\"showgrid\":false,\"showline\":true,\"ticks\":\"outside\",\"zeroline\":false,\"zerolinecolor\":\"rgb(36,36,36)\"},\"zaxis\":{\"backgroundcolor\":\"white\",\"gridcolor\":\"rgb(232,232,232)\",\"gridwidth\":2,\"linecolor\":\"rgb(36,36,36)\",\"showbackground\":true,\"showgrid\":false,\"showline\":true,\"ticks\":\"outside\",\"zeroline\":false,\"zerolinecolor\":\"rgb(36,36,36)\"}},\"shapedefaults\":{\"fillcolor\":\"black\",\"line\":{\"width\":0},\"opacity\":0.3},\"ternary\":{\"aaxis\":{\"gridcolor\":\"rgb(232,232,232)\",\"linecolor\":\"rgb(36,36,36)\",\"showgrid\":false,\"showline\":true,\"ticks\":\"outside\"},\"baxis\":{\"gridcolor\":\"rgb(232,232,232)\",\"linecolor\":\"rgb(36,36,36)\",\"showgrid\":false,\"showline\":true,\"ticks\":\"outside\"},\"bgcolor\":\"white\",\"caxis\":{\"gridcolor\":\"rgb(232,232,232)\",\"linecolor\":\"rgb(36,36,36)\",\"showgrid\":false,\"showline\":true,\"ticks\":\"outside\"}},\"title\":{\"x\":0.05},\"xaxis\":{\"automargin\":true,\"gridcolor\":\"rgb(232,232,232)\",\"linecolor\":\"rgb(36,36,36)\",\"showgrid\":false,\"showline\":true,\"ticks\":\"outside\",\"title\":{\"standoff\":15},\"zeroline\":false,\"zerolinecolor\":\"rgb(36,36,36)\"},\"yaxis\":{\"automargin\":true,\"gridcolor\":\"rgb(232,232,232)\",\"linecolor\":\"rgb(36,36,36)\",\"showgrid\":false,\"showline\":true,\"ticks\":\"outside\",\"title\":{\"standoff\":15},\"zeroline\":false,\"zerolinecolor\":\"rgb(36,36,36)\"}}},\"title\":{\"text\":\"F1-Score Comparison Across Classifiers\"},\"xaxis\":{\"title\":{\"text\":\"Car Evaluation Classes\"}},\"yaxis\":{\"title\":{\"text\":\"F1-Score\"}}},                        {\"responsive\": true}                    ).then(function(){\n",
       "                            \n",
       "var gd = document.getElementById('e9f2be2a-4b60-4107-930c-ccb7da428098');\n",
       "var x = new MutationObserver(function (mutations, observer) {{\n",
       "        var display = window.getComputedStyle(gd).display;\n",
       "        if (!display || display === 'none') {{\n",
       "            console.log([gd, 'removed!']);\n",
       "            Plotly.purge(gd);\n",
       "            observer.disconnect();\n",
       "        }}\n",
       "}});\n",
       "\n",
       "// Listen for the removal of the full notebook cells\n",
       "var notebookContainer = gd.closest('#notebook-container');\n",
       "if (notebookContainer) {{\n",
       "    x.observe(notebookContainer, {childList: true});\n",
       "}}\n",
       "\n",
       "// Listen for the clearing of the current output cell\n",
       "var outputEl = gd.closest('.output');\n",
       "if (outputEl) {{\n",
       "    x.observe(outputEl, {childList: true});\n",
       "}}\n",
       "\n",
       "                        })                };                });            </script>        </div>"
      ]
     },
     "metadata": {},
     "output_type": "display_data"
    }
   ],
   "source": [
    "# Precision values from your tables (replace these with your actual values)\n",
    "precision_decision_tree_GainRatio = precisionTable.loc[[True]*4+[False]*3, 'DTreeGRPrecision']\n",
    "precision_decision_tree_GiniIndex = precisionTable.loc[[True]*4+[False]*3, 'DTreeGiniPrecision']\n",
    "precision_naive_bayes = precisionTable.loc[[True]*4+[False]*3, 'NBPrecision']\n",
    "precision_ann = precisionTable.loc[[True]*4+[False]*3, 'ANNPrecision']\n",
    "\n",
    "# Classes for the x-axis\n",
    "classes = ['unacc', 'acc', 'good', 'vgood']\n",
    "\n",
    "# Create traces for each classifier\n",
    "trace_dt1 = go.Bar(x=classes, y=precision_decision_tree_GainRatio, name='Decision Tree using Gain Ratio',\n",
    "                   marker = dict(\n",
    "    color  = 'white', pattern_shape = 'x', line = dict(color = 'black', width = 2)\n",
    "))\n",
    "trace_dt2 = go.Bar(x=classes, y=precision_decision_tree_GiniIndex, name='Decision Tree using Gini Index',\n",
    "                   marker = dict(\n",
    "                       color  = 'white', pattern_shape = '/', line = dict(color = 'black', width = 2)\n",
    "                   ))\n",
    "trace_nb = go.Bar(x=classes, y=precision_naive_bayes, name='Naive Bayes', marker = dict(\n",
    "    color  = 'white', pattern_shape = '|', line = dict(color = 'black', width = 2)\n",
    "))\n",
    "trace_ann = go.Bar(x=classes, y=precision_ann, name='ANN',marker = dict(\n",
    "    color  = 'white', pattern_shape = '+', line = dict(color = 'black', width = 2)\n",
    "))\n",
    "\n",
    "# Layout settings\n",
    "layout = go.Layout(title='F1-Score Comparison Across Classifiers',\n",
    "                   xaxis=dict(title='Car Evaluation Classes'),\n",
    "                   yaxis=dict(title='F1-Score'),\n",
    "                   template = 'simple_white')\n",
    "\n",
    "# Combine traces into a data list\n",
    "data = [trace_dt1,trace_dt2, trace_nb, trace_ann]\n",
    "\n",
    "# Create and show the figure\n",
    "fig = go.Figure(data=data, layout=layout)\n",
    "fig.show()"
   ]
  },
  {
   "cell_type": "code",
   "execution_count": 94,
   "metadata": {
    "id": "0oYuPS0yymnT"
   },
   "outputs": [
    {
     "data": {
      "application/vnd.plotly.v1+json": {
       "config": {
        "plotlyServerURL": "https://plot.ly"
       },
       "data": [
        {
         "marker": {
          "color": "white",
          "line": {
           "color": "black",
           "width": 2
          },
          "pattern": {
           "shape": "x"
          }
         },
         "name": "Decision Tree using Gain Ratio",
         "type": "bar",
         "x": [
          "unacc",
          "acc",
          "good",
          "vgood"
         ],
         "y": [
          0.9958246346555325,
          0.948051948051948,
          0.8253968253968255,
          0.7999999999999999
         ]
        },
        {
         "marker": {
          "color": "white",
          "line": {
           "color": "black",
           "width": 2
          },
          "pattern": {
           "shape": "/"
          }
         },
         "name": "Decision Tree using Gini Index",
         "type": "bar",
         "x": [
          "unacc",
          "acc",
          "good",
          "vgood"
         ],
         "y": [
          0.9958246346555325,
          0.943894389438944,
          0.787878787878788,
          0.8421052631578948
         ]
        },
        {
         "marker": {
          "color": "white",
          "line": {
           "color": "black",
           "width": 2
          },
          "pattern": {
           "shape": "|"
          }
         },
         "name": "Naive Bayes",
         "type": "bar",
         "x": [
          "unacc",
          "acc",
          "good",
          "vgood"
         ],
         "y": [
          0.8658280922431866,
          0.33175355450236965,
          0.4090909090909091,
          0.30857142857142855
         ]
        },
        {
         "marker": {
          "color": "white",
          "line": {
           "color": "black",
           "width": 2
          },
          "pattern": {
           "shape": "+"
          }
         },
         "name": "ANN",
         "type": "bar",
         "x": [
          "unacc",
          "acc",
          "good",
          "vgood"
         ],
         "y": [
          0.975051975051975,
          0.8967741935483873,
          0.8928571428571429,
          0.8571428571428572
         ]
        }
       ],
       "layout": {
        "autosize": true,
        "template": {
         "data": {
          "bar": [
           {
            "error_x": {
             "color": "rgb(36,36,36)"
            },
            "error_y": {
             "color": "rgb(36,36,36)"
            },
            "marker": {
             "line": {
              "color": "white",
              "width": 0.5
             },
             "pattern": {
              "fillmode": "overlay",
              "size": 10,
              "solidity": 0.2
             }
            },
            "type": "bar"
           }
          ],
          "barpolar": [
           {
            "marker": {
             "line": {
              "color": "white",
              "width": 0.5
             },
             "pattern": {
              "fillmode": "overlay",
              "size": 10,
              "solidity": 0.2
             }
            },
            "type": "barpolar"
           }
          ],
          "carpet": [
           {
            "aaxis": {
             "endlinecolor": "rgb(36,36,36)",
             "gridcolor": "white",
             "linecolor": "white",
             "minorgridcolor": "white",
             "startlinecolor": "rgb(36,36,36)"
            },
            "baxis": {
             "endlinecolor": "rgb(36,36,36)",
             "gridcolor": "white",
             "linecolor": "white",
             "minorgridcolor": "white",
             "startlinecolor": "rgb(36,36,36)"
            },
            "type": "carpet"
           }
          ],
          "choropleth": [
           {
            "colorbar": {
             "outlinewidth": 1,
             "tickcolor": "rgb(36,36,36)",
             "ticks": "outside"
            },
            "type": "choropleth"
           }
          ],
          "contour": [
           {
            "colorbar": {
             "outlinewidth": 1,
             "tickcolor": "rgb(36,36,36)",
             "ticks": "outside"
            },
            "colorscale": [
             [
              0,
              "#440154"
             ],
             [
              0.1111111111111111,
              "#482878"
             ],
             [
              0.2222222222222222,
              "#3e4989"
             ],
             [
              0.3333333333333333,
              "#31688e"
             ],
             [
              0.4444444444444444,
              "#26828e"
             ],
             [
              0.5555555555555556,
              "#1f9e89"
             ],
             [
              0.6666666666666666,
              "#35b779"
             ],
             [
              0.7777777777777778,
              "#6ece58"
             ],
             [
              0.8888888888888888,
              "#b5de2b"
             ],
             [
              1,
              "#fde725"
             ]
            ],
            "type": "contour"
           }
          ],
          "contourcarpet": [
           {
            "colorbar": {
             "outlinewidth": 1,
             "tickcolor": "rgb(36,36,36)",
             "ticks": "outside"
            },
            "type": "contourcarpet"
           }
          ],
          "heatmap": [
           {
            "colorbar": {
             "outlinewidth": 1,
             "tickcolor": "rgb(36,36,36)",
             "ticks": "outside"
            },
            "colorscale": [
             [
              0,
              "#440154"
             ],
             [
              0.1111111111111111,
              "#482878"
             ],
             [
              0.2222222222222222,
              "#3e4989"
             ],
             [
              0.3333333333333333,
              "#31688e"
             ],
             [
              0.4444444444444444,
              "#26828e"
             ],
             [
              0.5555555555555556,
              "#1f9e89"
             ],
             [
              0.6666666666666666,
              "#35b779"
             ],
             [
              0.7777777777777778,
              "#6ece58"
             ],
             [
              0.8888888888888888,
              "#b5de2b"
             ],
             [
              1,
              "#fde725"
             ]
            ],
            "type": "heatmap"
           }
          ],
          "heatmapgl": [
           {
            "colorbar": {
             "outlinewidth": 1,
             "tickcolor": "rgb(36,36,36)",
             "ticks": "outside"
            },
            "colorscale": [
             [
              0,
              "#440154"
             ],
             [
              0.1111111111111111,
              "#482878"
             ],
             [
              0.2222222222222222,
              "#3e4989"
             ],
             [
              0.3333333333333333,
              "#31688e"
             ],
             [
              0.4444444444444444,
              "#26828e"
             ],
             [
              0.5555555555555556,
              "#1f9e89"
             ],
             [
              0.6666666666666666,
              "#35b779"
             ],
             [
              0.7777777777777778,
              "#6ece58"
             ],
             [
              0.8888888888888888,
              "#b5de2b"
             ],
             [
              1,
              "#fde725"
             ]
            ],
            "type": "heatmapgl"
           }
          ],
          "histogram": [
           {
            "marker": {
             "line": {
              "color": "white",
              "width": 0.6
             }
            },
            "type": "histogram"
           }
          ],
          "histogram2d": [
           {
            "colorbar": {
             "outlinewidth": 1,
             "tickcolor": "rgb(36,36,36)",
             "ticks": "outside"
            },
            "colorscale": [
             [
              0,
              "#440154"
             ],
             [
              0.1111111111111111,
              "#482878"
             ],
             [
              0.2222222222222222,
              "#3e4989"
             ],
             [
              0.3333333333333333,
              "#31688e"
             ],
             [
              0.4444444444444444,
              "#26828e"
             ],
             [
              0.5555555555555556,
              "#1f9e89"
             ],
             [
              0.6666666666666666,
              "#35b779"
             ],
             [
              0.7777777777777778,
              "#6ece58"
             ],
             [
              0.8888888888888888,
              "#b5de2b"
             ],
             [
              1,
              "#fde725"
             ]
            ],
            "type": "histogram2d"
           }
          ],
          "histogram2dcontour": [
           {
            "colorbar": {
             "outlinewidth": 1,
             "tickcolor": "rgb(36,36,36)",
             "ticks": "outside"
            },
            "colorscale": [
             [
              0,
              "#440154"
             ],
             [
              0.1111111111111111,
              "#482878"
             ],
             [
              0.2222222222222222,
              "#3e4989"
             ],
             [
              0.3333333333333333,
              "#31688e"
             ],
             [
              0.4444444444444444,
              "#26828e"
             ],
             [
              0.5555555555555556,
              "#1f9e89"
             ],
             [
              0.6666666666666666,
              "#35b779"
             ],
             [
              0.7777777777777778,
              "#6ece58"
             ],
             [
              0.8888888888888888,
              "#b5de2b"
             ],
             [
              1,
              "#fde725"
             ]
            ],
            "type": "histogram2dcontour"
           }
          ],
          "mesh3d": [
           {
            "colorbar": {
             "outlinewidth": 1,
             "tickcolor": "rgb(36,36,36)",
             "ticks": "outside"
            },
            "type": "mesh3d"
           }
          ],
          "parcoords": [
           {
            "line": {
             "colorbar": {
              "outlinewidth": 1,
              "tickcolor": "rgb(36,36,36)",
              "ticks": "outside"
             }
            },
            "type": "parcoords"
           }
          ],
          "pie": [
           {
            "automargin": true,
            "type": "pie"
           }
          ],
          "scatter": [
           {
            "fillpattern": {
             "fillmode": "overlay",
             "size": 10,
             "solidity": 0.2
            },
            "type": "scatter"
           }
          ],
          "scatter3d": [
           {
            "line": {
             "colorbar": {
              "outlinewidth": 1,
              "tickcolor": "rgb(36,36,36)",
              "ticks": "outside"
             }
            },
            "marker": {
             "colorbar": {
              "outlinewidth": 1,
              "tickcolor": "rgb(36,36,36)",
              "ticks": "outside"
             }
            },
            "type": "scatter3d"
           }
          ],
          "scattercarpet": [
           {
            "marker": {
             "colorbar": {
              "outlinewidth": 1,
              "tickcolor": "rgb(36,36,36)",
              "ticks": "outside"
             }
            },
            "type": "scattercarpet"
           }
          ],
          "scattergeo": [
           {
            "marker": {
             "colorbar": {
              "outlinewidth": 1,
              "tickcolor": "rgb(36,36,36)",
              "ticks": "outside"
             }
            },
            "type": "scattergeo"
           }
          ],
          "scattergl": [
           {
            "marker": {
             "colorbar": {
              "outlinewidth": 1,
              "tickcolor": "rgb(36,36,36)",
              "ticks": "outside"
             }
            },
            "type": "scattergl"
           }
          ],
          "scattermapbox": [
           {
            "marker": {
             "colorbar": {
              "outlinewidth": 1,
              "tickcolor": "rgb(36,36,36)",
              "ticks": "outside"
             }
            },
            "type": "scattermapbox"
           }
          ],
          "scatterpolar": [
           {
            "marker": {
             "colorbar": {
              "outlinewidth": 1,
              "tickcolor": "rgb(36,36,36)",
              "ticks": "outside"
             }
            },
            "type": "scatterpolar"
           }
          ],
          "scatterpolargl": [
           {
            "marker": {
             "colorbar": {
              "outlinewidth": 1,
              "tickcolor": "rgb(36,36,36)",
              "ticks": "outside"
             }
            },
            "type": "scatterpolargl"
           }
          ],
          "scatterternary": [
           {
            "marker": {
             "colorbar": {
              "outlinewidth": 1,
              "tickcolor": "rgb(36,36,36)",
              "ticks": "outside"
             }
            },
            "type": "scatterternary"
           }
          ],
          "surface": [
           {
            "colorbar": {
             "outlinewidth": 1,
             "tickcolor": "rgb(36,36,36)",
             "ticks": "outside"
            },
            "colorscale": [
             [
              0,
              "#440154"
             ],
             [
              0.1111111111111111,
              "#482878"
             ],
             [
              0.2222222222222222,
              "#3e4989"
             ],
             [
              0.3333333333333333,
              "#31688e"
             ],
             [
              0.4444444444444444,
              "#26828e"
             ],
             [
              0.5555555555555556,
              "#1f9e89"
             ],
             [
              0.6666666666666666,
              "#35b779"
             ],
             [
              0.7777777777777778,
              "#6ece58"
             ],
             [
              0.8888888888888888,
              "#b5de2b"
             ],
             [
              1,
              "#fde725"
             ]
            ],
            "type": "surface"
           }
          ],
          "table": [
           {
            "cells": {
             "fill": {
              "color": "rgb(237,237,237)"
             },
             "line": {
              "color": "white"
             }
            },
            "header": {
             "fill": {
              "color": "rgb(217,217,217)"
             },
             "line": {
              "color": "white"
             }
            },
            "type": "table"
           }
          ]
         },
         "layout": {
          "annotationdefaults": {
           "arrowhead": 0,
           "arrowwidth": 1
          },
          "autotypenumbers": "strict",
          "coloraxis": {
           "colorbar": {
            "outlinewidth": 1,
            "tickcolor": "rgb(36,36,36)",
            "ticks": "outside"
           }
          },
          "colorscale": {
           "diverging": [
            [
             0,
             "rgb(103,0,31)"
            ],
            [
             0.1,
             "rgb(178,24,43)"
            ],
            [
             0.2,
             "rgb(214,96,77)"
            ],
            [
             0.3,
             "rgb(244,165,130)"
            ],
            [
             0.4,
             "rgb(253,219,199)"
            ],
            [
             0.5,
             "rgb(247,247,247)"
            ],
            [
             0.6,
             "rgb(209,229,240)"
            ],
            [
             0.7,
             "rgb(146,197,222)"
            ],
            [
             0.8,
             "rgb(67,147,195)"
            ],
            [
             0.9,
             "rgb(33,102,172)"
            ],
            [
             1,
             "rgb(5,48,97)"
            ]
           ],
           "sequential": [
            [
             0,
             "#440154"
            ],
            [
             0.1111111111111111,
             "#482878"
            ],
            [
             0.2222222222222222,
             "#3e4989"
            ],
            [
             0.3333333333333333,
             "#31688e"
            ],
            [
             0.4444444444444444,
             "#26828e"
            ],
            [
             0.5555555555555556,
             "#1f9e89"
            ],
            [
             0.6666666666666666,
             "#35b779"
            ],
            [
             0.7777777777777778,
             "#6ece58"
            ],
            [
             0.8888888888888888,
             "#b5de2b"
            ],
            [
             1,
             "#fde725"
            ]
           ],
           "sequentialminus": [
            [
             0,
             "#440154"
            ],
            [
             0.1111111111111111,
             "#482878"
            ],
            [
             0.2222222222222222,
             "#3e4989"
            ],
            [
             0.3333333333333333,
             "#31688e"
            ],
            [
             0.4444444444444444,
             "#26828e"
            ],
            [
             0.5555555555555556,
             "#1f9e89"
            ],
            [
             0.6666666666666666,
             "#35b779"
            ],
            [
             0.7777777777777778,
             "#6ece58"
            ],
            [
             0.8888888888888888,
             "#b5de2b"
            ],
            [
             1,
             "#fde725"
            ]
           ]
          },
          "colorway": [
           "#1F77B4",
           "#FF7F0E",
           "#2CA02C",
           "#D62728",
           "#9467BD",
           "#8C564B",
           "#E377C2",
           "#7F7F7F",
           "#BCBD22",
           "#17BECF"
          ],
          "font": {
           "color": "rgb(36,36,36)"
          },
          "geo": {
           "bgcolor": "white",
           "lakecolor": "white",
           "landcolor": "white",
           "showlakes": true,
           "showland": true,
           "subunitcolor": "white"
          },
          "hoverlabel": {
           "align": "left"
          },
          "hovermode": "closest",
          "mapbox": {
           "style": "light"
          },
          "paper_bgcolor": "white",
          "plot_bgcolor": "white",
          "polar": {
           "angularaxis": {
            "gridcolor": "rgb(232,232,232)",
            "linecolor": "rgb(36,36,36)",
            "showgrid": false,
            "showline": true,
            "ticks": "outside"
           },
           "bgcolor": "white",
           "radialaxis": {
            "gridcolor": "rgb(232,232,232)",
            "linecolor": "rgb(36,36,36)",
            "showgrid": false,
            "showline": true,
            "ticks": "outside"
           }
          },
          "scene": {
           "xaxis": {
            "backgroundcolor": "white",
            "gridcolor": "rgb(232,232,232)",
            "gridwidth": 2,
            "linecolor": "rgb(36,36,36)",
            "showbackground": true,
            "showgrid": false,
            "showline": true,
            "ticks": "outside",
            "zeroline": false,
            "zerolinecolor": "rgb(36,36,36)"
           },
           "yaxis": {
            "backgroundcolor": "white",
            "gridcolor": "rgb(232,232,232)",
            "gridwidth": 2,
            "linecolor": "rgb(36,36,36)",
            "showbackground": true,
            "showgrid": false,
            "showline": true,
            "ticks": "outside",
            "zeroline": false,
            "zerolinecolor": "rgb(36,36,36)"
           },
           "zaxis": {
            "backgroundcolor": "white",
            "gridcolor": "rgb(232,232,232)",
            "gridwidth": 2,
            "linecolor": "rgb(36,36,36)",
            "showbackground": true,
            "showgrid": false,
            "showline": true,
            "ticks": "outside",
            "zeroline": false,
            "zerolinecolor": "rgb(36,36,36)"
           }
          },
          "shapedefaults": {
           "fillcolor": "black",
           "line": {
            "width": 0
           },
           "opacity": 0.3
          },
          "ternary": {
           "aaxis": {
            "gridcolor": "rgb(232,232,232)",
            "linecolor": "rgb(36,36,36)",
            "showgrid": false,
            "showline": true,
            "ticks": "outside"
           },
           "baxis": {
            "gridcolor": "rgb(232,232,232)",
            "linecolor": "rgb(36,36,36)",
            "showgrid": false,
            "showline": true,
            "ticks": "outside"
           },
           "bgcolor": "white",
           "caxis": {
            "gridcolor": "rgb(232,232,232)",
            "linecolor": "rgb(36,36,36)",
            "showgrid": false,
            "showline": true,
            "ticks": "outside"
           }
          },
          "title": {
           "x": 0.05
          },
          "xaxis": {
           "automargin": true,
           "gridcolor": "rgb(232,232,232)",
           "linecolor": "rgb(36,36,36)",
           "showgrid": false,
           "showline": true,
           "ticks": "outside",
           "title": {
            "standoff": 15
           },
           "zeroline": false,
           "zerolinecolor": "rgb(36,36,36)"
          },
          "yaxis": {
           "automargin": true,
           "gridcolor": "rgb(232,232,232)",
           "linecolor": "rgb(36,36,36)",
           "showgrid": false,
           "showline": true,
           "ticks": "outside",
           "title": {
            "standoff": 15
           },
           "zeroline": false,
           "zerolinecolor": "rgb(36,36,36)"
          }
         }
        },
        "title": {
         "text": "Precision Comparison Across Classifiers"
        },
        "xaxis": {
         "autorange": true,
         "range": [
          -0.5,
          3.5
         ],
         "title": {
          "text": "Car Evaluation Classes"
         },
         "type": "category"
        },
        "yaxis": {
         "autorange": true,
         "range": [
          0,
          1.0482364575321395
         ],
         "title": {
          "text": "Precision"
         },
         "type": "linear"
        }
       }
      },
      "image/png": "[encoded data removed]",
      "text/html": [
       "<div>                            <div id=\"a1b78076-17fe-4373-849a-a5c78412d491\" class=\"plotly-graph-div\" style=\"height:525px; width:100%;\"></div>            <script type=\"text/javascript\">                require([\"plotly\"], function(Plotly) {                    window.PLOTLYENV=window.PLOTLYENV || {};                                    if (document.getElementById(\"a1b78076-17fe-4373-849a-a5c78412d491\")) {                    Plotly.newPlot(                        \"a1b78076-17fe-4373-849a-a5c78412d491\",                        [{\"marker\":{\"color\":\"white\",\"line\":{\"color\":\"black\",\"width\":2},\"pattern\":{\"shape\":\"x\"}},\"name\":\"Decision Tree using Gain Ratio\",\"x\":[\"unacc\",\"acc\",\"good\",\"vgood\"],\"y\":[0.9958246346555325,0.948051948051948,0.8253968253968255,0.7999999999999999],\"type\":\"bar\"},{\"marker\":{\"color\":\"white\",\"line\":{\"color\":\"black\",\"width\":2},\"pattern\":{\"shape\":\"/\"}},\"name\":\"Decision Tree using Gini Index\",\"x\":[\"unacc\",\"acc\",\"good\",\"vgood\"],\"y\":[0.9958246346555325,0.943894389438944,0.787878787878788,0.8421052631578948],\"type\":\"bar\"},{\"marker\":{\"color\":\"white\",\"line\":{\"color\":\"black\",\"width\":2},\"pattern\":{\"shape\":\"|\"}},\"name\":\"Naive Bayes\",\"x\":[\"unacc\",\"acc\",\"good\",\"vgood\"],\"y\":[0.8658280922431866,0.33175355450236965,0.4090909090909091,0.30857142857142855],\"type\":\"bar\"},{\"marker\":{\"color\":\"white\",\"line\":{\"color\":\"black\",\"width\":2},\"pattern\":{\"shape\":\"+\"}},\"name\":\"ANN\",\"x\":[\"unacc\",\"acc\",\"good\",\"vgood\"],\"y\":[0.975051975051975,0.8967741935483873,0.8928571428571429,0.8571428571428572],\"type\":\"bar\"}],                        {\"template\":{\"data\":{\"barpolar\":[{\"marker\":{\"line\":{\"color\":\"white\",\"width\":0.5},\"pattern\":{\"fillmode\":\"overlay\",\"size\":10,\"solidity\":0.2}},\"type\":\"barpolar\"}],\"bar\":[{\"error_x\":{\"color\":\"rgb(36,36,36)\"},\"error_y\":{\"color\":\"rgb(36,36,36)\"},\"marker\":{\"line\":{\"color\":\"white\",\"width\":0.5},\"pattern\":{\"fillmode\":\"overlay\",\"size\":10,\"solidity\":0.2}},\"type\":\"bar\"}],\"carpet\":[{\"aaxis\":{\"endlinecolor\":\"rgb(36,36,36)\",\"gridcolor\":\"white\",\"linecolor\":\"white\",\"minorgridcolor\":\"white\",\"startlinecolor\":\"rgb(36,36,36)\"},\"baxis\":{\"endlinecolor\":\"rgb(36,36,36)\",\"gridcolor\":\"white\",\"linecolor\":\"white\",\"minorgridcolor\":\"white\",\"startlinecolor\":\"rgb(36,36,36)\"},\"type\":\"carpet\"}],\"choropleth\":[{\"colorbar\":{\"outlinewidth\":1,\"tickcolor\":\"rgb(36,36,36)\",\"ticks\":\"outside\"},\"type\":\"choropleth\"}],\"contourcarpet\":[{\"colorbar\":{\"outlinewidth\":1,\"tickcolor\":\"rgb(36,36,36)\",\"ticks\":\"outside\"},\"type\":\"contourcarpet\"}],\"contour\":[{\"colorbar\":{\"outlinewidth\":1,\"tickcolor\":\"rgb(36,36,36)\",\"ticks\":\"outside\"},\"colorscale\":[[0.0,\"#440154\"],[0.1111111111111111,\"#482878\"],[0.2222222222222222,\"#3e4989\"],[0.3333333333333333,\"#31688e\"],[0.4444444444444444,\"#26828e\"],[0.5555555555555556,\"#1f9e89\"],[0.6666666666666666,\"#35b779\"],[0.7777777777777778,\"#6ece58\"],[0.8888888888888888,\"#b5de2b\"],[1.0,\"#fde725\"]],\"type\":\"contour\"}],\"heatmapgl\":[{\"colorbar\":{\"outlinewidth\":1,\"tickcolor\":\"rgb(36,36,36)\",\"ticks\":\"outside\"},\"colorscale\":[[0.0,\"#440154\"],[0.1111111111111111,\"#482878\"],[0.2222222222222222,\"#3e4989\"],[0.3333333333333333,\"#31688e\"],[0.4444444444444444,\"#26828e\"],[0.5555555555555556,\"#1f9e89\"],[0.6666666666666666,\"#35b779\"],[0.7777777777777778,\"#6ece58\"],[0.8888888888888888,\"#b5de2b\"],[1.0,\"#fde725\"]],\"type\":\"heatmapgl\"}],\"heatmap\":[{\"colorbar\":{\"outlinewidth\":1,\"tickcolor\":\"rgb(36,36,36)\",\"ticks\":\"outside\"},\"colorscale\":[[0.0,\"#440154\"],[0.1111111111111111,\"#482878\"],[0.2222222222222222,\"#3e4989\"],[0.3333333333333333,\"#31688e\"],[0.4444444444444444,\"#26828e\"],[0.5555555555555556,\"#1f9e89\"],[0.6666666666666666,\"#35b779\"],[0.7777777777777778,\"#6ece58\"],[0.8888888888888888,\"#b5de2b\"],[1.0,\"#fde725\"]],\"type\":\"heatmap\"}],\"histogram2dcontour\":[{\"colorbar\":{\"outlinewidth\":1,\"tickcolor\":\"rgb(36,36,36)\",\"ticks\":\"outside\"},\"colorscale\":[[0.0,\"#440154\"],[0.1111111111111111,\"#482878\"],[0.2222222222222222,\"#3e4989\"],[0.3333333333333333,\"#31688e\"],[0.4444444444444444,\"#26828e\"],[0.5555555555555556,\"#1f9e89\"],[0.6666666666666666,\"#35b779\"],[0.7777777777777778,\"#6ece58\"],[0.8888888888888888,\"#b5de2b\"],[1.0,\"#fde725\"]],\"type\":\"histogram2dcontour\"}],\"histogram2d\":[{\"colorbar\":{\"outlinewidth\":1,\"tickcolor\":\"rgb(36,36,36)\",\"ticks\":\"outside\"},\"colorscale\":[[0.0,\"#440154\"],[0.1111111111111111,\"#482878\"],[0.2222222222222222,\"#3e4989\"],[0.3333333333333333,\"#31688e\"],[0.4444444444444444,\"#26828e\"],[0.5555555555555556,\"#1f9e89\"],[0.6666666666666666,\"#35b779\"],[0.7777777777777778,\"#6ece58\"],[0.8888888888888888,\"#b5de2b\"],[1.0,\"#fde725\"]],\"type\":\"histogram2d\"}],\"histogram\":[{\"marker\":{\"line\":{\"color\":\"white\",\"width\":0.6}},\"type\":\"histogram\"}],\"mesh3d\":[{\"colorbar\":{\"outlinewidth\":1,\"tickcolor\":\"rgb(36,36,36)\",\"ticks\":\"outside\"},\"type\":\"mesh3d\"}],\"parcoords\":[{\"line\":{\"colorbar\":{\"outlinewidth\":1,\"tickcolor\":\"rgb(36,36,36)\",\"ticks\":\"outside\"}},\"type\":\"parcoords\"}],\"pie\":[{\"automargin\":true,\"type\":\"pie\"}],\"scatter3d\":[{\"line\":{\"colorbar\":{\"outlinewidth\":1,\"tickcolor\":\"rgb(36,36,36)\",\"ticks\":\"outside\"}},\"marker\":{\"colorbar\":{\"outlinewidth\":1,\"tickcolor\":\"rgb(36,36,36)\",\"ticks\":\"outside\"}},\"type\":\"scatter3d\"}],\"scattercarpet\":[{\"marker\":{\"colorbar\":{\"outlinewidth\":1,\"tickcolor\":\"rgb(36,36,36)\",\"ticks\":\"outside\"}},\"type\":\"scattercarpet\"}],\"scattergeo\":[{\"marker\":{\"colorbar\":{\"outlinewidth\":1,\"tickcolor\":\"rgb(36,36,36)\",\"ticks\":\"outside\"}},\"type\":\"scattergeo\"}],\"scattergl\":[{\"marker\":{\"colorbar\":{\"outlinewidth\":1,\"tickcolor\":\"rgb(36,36,36)\",\"ticks\":\"outside\"}},\"type\":\"scattergl\"}],\"scattermapbox\":[{\"marker\":{\"colorbar\":{\"outlinewidth\":1,\"tickcolor\":\"rgb(36,36,36)\",\"ticks\":\"outside\"}},\"type\":\"scattermapbox\"}],\"scatterpolargl\":[{\"marker\":{\"colorbar\":{\"outlinewidth\":1,\"tickcolor\":\"rgb(36,36,36)\",\"ticks\":\"outside\"}},\"type\":\"scatterpolargl\"}],\"scatterpolar\":[{\"marker\":{\"colorbar\":{\"outlinewidth\":1,\"tickcolor\":\"rgb(36,36,36)\",\"ticks\":\"outside\"}},\"type\":\"scatterpolar\"}],\"scatter\":[{\"fillpattern\":{\"fillmode\":\"overlay\",\"size\":10,\"solidity\":0.2},\"type\":\"scatter\"}],\"scatterternary\":[{\"marker\":{\"colorbar\":{\"outlinewidth\":1,\"tickcolor\":\"rgb(36,36,36)\",\"ticks\":\"outside\"}},\"type\":\"scatterternary\"}],\"surface\":[{\"colorbar\":{\"outlinewidth\":1,\"tickcolor\":\"rgb(36,36,36)\",\"ticks\":\"outside\"},\"colorscale\":[[0.0,\"#440154\"],[0.1111111111111111,\"#482878\"],[0.2222222222222222,\"#3e4989\"],[0.3333333333333333,\"#31688e\"],[0.4444444444444444,\"#26828e\"],[0.5555555555555556,\"#1f9e89\"],[0.6666666666666666,\"#35b779\"],[0.7777777777777778,\"#6ece58\"],[0.8888888888888888,\"#b5de2b\"],[1.0,\"#fde725\"]],\"type\":\"surface\"}],\"table\":[{\"cells\":{\"fill\":{\"color\":\"rgb(237,237,237)\"},\"line\":{\"color\":\"white\"}},\"header\":{\"fill\":{\"color\":\"rgb(217,217,217)\"},\"line\":{\"color\":\"white\"}},\"type\":\"table\"}]},\"layout\":{\"annotationdefaults\":{\"arrowhead\":0,\"arrowwidth\":1},\"autotypenumbers\":\"strict\",\"coloraxis\":{\"colorbar\":{\"outlinewidth\":1,\"tickcolor\":\"rgb(36,36,36)\",\"ticks\":\"outside\"}},\"colorscale\":{\"diverging\":[[0.0,\"rgb(103,0,31)\"],[0.1,\"rgb(178,24,43)\"],[0.2,\"rgb(214,96,77)\"],[0.3,\"rgb(244,165,130)\"],[0.4,\"rgb(253,219,199)\"],[0.5,\"rgb(247,247,247)\"],[0.6,\"rgb(209,229,240)\"],[0.7,\"rgb(146,197,222)\"],[0.8,\"rgb(67,147,195)\"],[0.9,\"rgb(33,102,172)\"],[1.0,\"rgb(5,48,97)\"]],\"sequential\":[[0.0,\"#440154\"],[0.1111111111111111,\"#482878\"],[0.2222222222222222,\"#3e4989\"],[0.3333333333333333,\"#31688e\"],[0.4444444444444444,\"#26828e\"],[0.5555555555555556,\"#1f9e89\"],[0.6666666666666666,\"#35b779\"],[0.7777777777777778,\"#6ece58\"],[0.8888888888888888,\"#b5de2b\"],[1.0,\"#fde725\"]],\"sequentialminus\":[[0.0,\"#440154\"],[0.1111111111111111,\"#482878\"],[0.2222222222222222,\"#3e4989\"],[0.3333333333333333,\"#31688e\"],[0.4444444444444444,\"#26828e\"],[0.5555555555555556,\"#1f9e89\"],[0.6666666666666666,\"#35b779\"],[0.7777777777777778,\"#6ece58\"],[0.8888888888888888,\"#b5de2b\"],[1.0,\"#fde725\"]]},\"colorway\":[\"#1F77B4\",\"#FF7F0E\",\"#2CA02C\",\"#D62728\",\"#9467BD\",\"#8C564B\",\"#E377C2\",\"#7F7F7F\",\"#BCBD22\",\"#17BECF\"],\"font\":{\"color\":\"rgb(36,36,36)\"},\"geo\":{\"bgcolor\":\"white\",\"lakecolor\":\"white\",\"landcolor\":\"white\",\"showlakes\":true,\"showland\":true,\"subunitcolor\":\"white\"},\"hoverlabel\":{\"align\":\"left\"},\"hovermode\":\"closest\",\"mapbox\":{\"style\":\"light\"},\"paper_bgcolor\":\"white\",\"plot_bgcolor\":\"white\",\"polar\":{\"angularaxis\":{\"gridcolor\":\"rgb(232,232,232)\",\"linecolor\":\"rgb(36,36,36)\",\"showgrid\":false,\"showline\":true,\"ticks\":\"outside\"},\"bgcolor\":\"white\",\"radialaxis\":{\"gridcolor\":\"rgb(232,232,232)\",\"linecolor\":\"rgb(36,36,36)\",\"showgrid\":false,\"showline\":true,\"ticks\":\"outside\"}},\"scene\":{\"xaxis\":{\"backgroundcolor\":\"white\",\"gridcolor\":\"rgb(232,232,232)\",\"gridwidth\":2,\"linecolor\":\"rgb(36,36,36)\",\"showbackground\":true,\"showgrid\":false,\"showline\":true,\"ticks\":\"outside\",\"zeroline\":false,\"zerolinecolor\":\"rgb(36,36,36)\"},\"yaxis\":{\"backgroundcolor\":\"white\",\"gridcolor\":\"rgb(232,232,232)\",\"gridwidth\":2,\"linecolor\":\"rgb(36,36,36)\",\"showbackground\":true,\"showgrid\":false,\"showline\":true,\"ticks\":\"outside\",\"zeroline\":false,\"zerolinecolor\":\"rgb(36,36,36)\"},\"zaxis\":{\"backgroundcolor\":\"white\",\"gridcolor\":\"rgb(232,232,232)\",\"gridwidth\":2,\"linecolor\":\"rgb(36,36,36)\",\"showbackground\":true,\"showgrid\":false,\"showline\":true,\"ticks\":\"outside\",\"zeroline\":false,\"zerolinecolor\":\"rgb(36,36,36)\"}},\"shapedefaults\":{\"fillcolor\":\"black\",\"line\":{\"width\":0},\"opacity\":0.3},\"ternary\":{\"aaxis\":{\"gridcolor\":\"rgb(232,232,232)\",\"linecolor\":\"rgb(36,36,36)\",\"showgrid\":false,\"showline\":true,\"ticks\":\"outside\"},\"baxis\":{\"gridcolor\":\"rgb(232,232,232)\",\"linecolor\":\"rgb(36,36,36)\",\"showgrid\":false,\"showline\":true,\"ticks\":\"outside\"},\"bgcolor\":\"white\",\"caxis\":{\"gridcolor\":\"rgb(232,232,232)\",\"linecolor\":\"rgb(36,36,36)\",\"showgrid\":false,\"showline\":true,\"ticks\":\"outside\"}},\"title\":{\"x\":0.05},\"xaxis\":{\"automargin\":true,\"gridcolor\":\"rgb(232,232,232)\",\"linecolor\":\"rgb(36,36,36)\",\"showgrid\":false,\"showline\":true,\"ticks\":\"outside\",\"title\":{\"standoff\":15},\"zeroline\":false,\"zerolinecolor\":\"rgb(36,36,36)\"},\"yaxis\":{\"automargin\":true,\"gridcolor\":\"rgb(232,232,232)\",\"linecolor\":\"rgb(36,36,36)\",\"showgrid\":false,\"showline\":true,\"ticks\":\"outside\",\"title\":{\"standoff\":15},\"zeroline\":false,\"zerolinecolor\":\"rgb(36,36,36)\"}}},\"title\":{\"text\":\"Precision Comparison Across Classifiers\"},\"xaxis\":{\"title\":{\"text\":\"Car Evaluation Classes\"}},\"yaxis\":{\"title\":{\"text\":\"Precision\"}}},                        {\"responsive\": true}                    ).then(function(){\n",
       "                            \n",
       "var gd = document.getElementById('a1b78076-17fe-4373-849a-a5c78412d491');\n",
       "var x = new MutationObserver(function (mutations, observer) {{\n",
       "        var display = window.getComputedStyle(gd).display;\n",
       "        if (!display || display === 'none') {{\n",
       "            console.log([gd, 'removed!']);\n",
       "            Plotly.purge(gd);\n",
       "            observer.disconnect();\n",
       "        }}\n",
       "}});\n",
       "\n",
       "// Listen for the removal of the full notebook cells\n",
       "var notebookContainer = gd.closest('#notebook-container');\n",
       "if (notebookContainer) {{\n",
       "    x.observe(notebookContainer, {childList: true});\n",
       "}}\n",
       "\n",
       "// Listen for the clearing of the current output cell\n",
       "var outputEl = gd.closest('.output');\n",
       "if (outputEl) {{\n",
       "    x.observe(outputEl, {childList: true});\n",
       "}}\n",
       "\n",
       "                        })                };                });            </script>        </div>"
      ]
     },
     "metadata": {},
     "output_type": "display_data"
    }
   ],
   "source": [
    "# Precision values from your tables (replace these with your actual values)\n",
    "precision_decision_tree_GainRatio = precisionTable.loc[[True]*4+[False]*3, 'DTreeGRPrecision']\n",
    "precision_decision_tree_GiniIndex = precisionTable.loc[[True]*4+[False]*3, 'DTreeGiniPrecision']\n",
    "precision_naive_bayes = precisionTable.loc[[True]*4+[False]*3, 'NBPrecision']\n",
    "precision_ann = precisionTable.loc[[True]*4+[False]*3, 'ANNPrecision']\n",
    "\n",
    "# Classes for the x-axis\n",
    "classes = ['unacc', 'acc', 'good', 'vgood']\n",
    "\n",
    "# Create traces for each classifier\n",
    "trace_dt1 = go.Bar(x=classes, y=precision_decision_tree_GainRatio, name='Decision Tree using Gain Ratio',\n",
    "                   marker = dict(\n",
    "    color  = 'white', pattern_shape = 'x', line = dict(color = 'black', width = 2)\n",
    "))\n",
    "trace_dt2 = go.Bar(x=classes, y=precision_decision_tree_GiniIndex, name='Decision Tree using Gini Index',\n",
    "                   marker = dict(\n",
    "                       color  = 'white', pattern_shape = '/', line = dict(color = 'black', width = 2)\n",
    "                   ))\n",
    "trace_nb = go.Bar(x=classes, y=precision_naive_bayes, name='Naive Bayes', marker = dict(\n",
    "    color  = 'white', pattern_shape = '|', line = dict(color = 'black', width = 2)\n",
    "))\n",
    "trace_ann = go.Bar(x=classes, y=precision_ann, name='ANN',marker = dict(\n",
    "    color  = 'white', pattern_shape = '+', line = dict(color = 'black', width = 2)\n",
    "))\n",
    "\n",
    "# Layout settings\n",
    "layout = go.Layout(title='Precision Comparison Across Classifiers',\n",
    "                   xaxis=dict(title='Car Evaluation Classes'),\n",
    "                   yaxis=dict(title='Precision'),\n",
    "                   template = 'simple_white')\n",
    "\n",
    "# Combine traces into a data list\n",
    "data = [trace_dt1,trace_dt2, trace_nb, trace_ann]\n",
    "\n",
    "# Create and show the figure\n",
    "fig = go.Figure(data=data, layout=layout)\n",
    "fig.show()"
   ]
  },
  {
   "cell_type": "code",
   "execution_count": null,
   "metadata": {},
   "outputs": [],
   "source": []
  },
  {
   "cell_type": "code",
   "execution_count": null,
   "metadata": {
    "executionInfo": {
     "elapsed": 13,
     "status": "ok",
     "timestamp": 1702914449989,
     "user": {
      "displayName": "Hitesh Kayastha",
      "userId": "08602966089512209356"
     },
     "user_tz": -345
    },
    "id": "CTjXaJZe-Gye"
   },
   "outputs": [],
   "source": []
  },
  {
   "cell_type": "code",
   "execution_count": null,
   "metadata": {},
   "outputs": [],
   "source": []
  },
  {
   "cell_type": "code",
   "execution_count": null,
   "metadata": {},
   "outputs": [],
   "source": []
  },
  {
   "cell_type": "code",
   "execution_count": null,
   "metadata": {},
   "outputs": [],
   "source": []
  },
  {
   "cell_type": "code",
   "execution_count": null,
   "metadata": {},
   "outputs": [],
   "source": []
  }
 ],
 "metadata": {
  "colab": {
   "provenance": []
  },
  "kernelspec": {
   "display_name": "Python 3 (ipykernel)",
   "language": "python",
   "name": "python3"
  },
  "language_info": {
   "codemirror_mode": {
    "name": "ipython",
    "version": 3
   },
   "file_extension": ".py",
   "mimetype": "text/x-python",
   "name": "python",
   "nbconvert_exporter": "python",
   "pygments_lexer": "ipython3",
   "version": "3.7.12"
  }
 },
 "nbformat": 4,
 "nbformat_minor": 4
}
